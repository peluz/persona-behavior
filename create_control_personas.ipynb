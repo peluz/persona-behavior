{
 "cells": [
  {
   "cell_type": "code",
   "execution_count": null,
   "id": "c2a4ca10-3399-438b-8c1f-c613bbf7df73",
   "metadata": {},
   "outputs": [],
   "source": [
    "%load_ext autoreload\n",
    "%autoreload 2\n",
    "\n",
    "import config\n",
    "from openai import OpenAI\n",
    "import json\n",
    "import random\n",
    "import time"
   ]
  },
  {
   "cell_type": "code",
   "execution_count": null,
   "id": "64290673-e131-43d2-aace-4a54ee0c487e",
   "metadata": {},
   "outputs": [],
   "source": [
    "input = [\n",
    "        {\"role\": \"user\", \"content\": 'Create 29 paraphrases of \"helpful assistant\"'},\n",
    "        ]"
   ]
  },
  {
   "cell_type": "code",
   "execution_count": null,
   "id": "5a366cb2-d259-4fd9-a7f6-3c0926d9b99b",
   "metadata": {},
   "outputs": [],
   "source": [
    "api_token = config.open_ai_token"
   ]
  },
  {
   "cell_type": "code",
   "execution_count": null,
   "id": "534e40fa-83ff-4902-86f0-481ff11870ce",
   "metadata": {},
   "outputs": [],
   "source": [
    "org = config.org"
   ]
  },
  {
   "cell_type": "code",
   "execution_count": null,
   "id": "6bdfa1d3-3867-4b1d-9613-1a0d5b7dd918",
   "metadata": {},
   "outputs": [],
   "source": [
    "client = OpenAI(organization=org, api_key=api_token)"
   ]
  },
  {
   "cell_type": "code",
   "execution_count": null,
   "id": "1a42c597-866e-4405-8f3e-a45435cd96e2",
   "metadata": {},
   "outputs": [],
   "source": [
    "while True:\n",
    "    num_retries = 0\n",
    "    delay = 1.\n",
    "    try:\n",
    "        response = client.chat.completions.create(\n",
    "        model=\"gpt-4-1106-preview\",\n",
    "        messages=input,\n",
    "        max_tokens=1000,\n",
    "        temperature=1.0,\n",
    "        seed=42,\n",
    "        top_p=.95\n",
    "        )\n",
    "        break\n",
    "    except Exception as e:\n",
    "        num_retries += 1\n",
    "        print(e)\n",
    "\n",
    "        # Check if max retries has been reached\n",
    "        if num_retries > 10:\n",
    "            raise Exception(\n",
    "                f\"Maximum number of retries (10) exceeded.\"\n",
    "            )\n",
    "\n",
    "        # Increment the delay\n",
    "        delay *= 2 * (1 + random.random())\n",
    "        print(f\"Retrying with delay {delay}\")\n",
    "\n",
    "        # Sleep for the delay\n",
    "        time.sleep(delay)"
   ]
  },
  {
   "cell_type": "code",
   "execution_count": null,
   "id": "ce7a41f1-7029-499c-80d9-fafa6e6b6b6a",
   "metadata": {},
   "outputs": [],
   "source": [
    "response"
   ]
  },
  {
   "cell_type": "code",
   "execution_count": null,
   "id": "33cc31f1-ec36-404e-aaa0-8550aa1c654f",
   "metadata": {},
   "outputs": [],
   "source": [
    "control_personas =   [x.message.content for x in response.choices]"
   ]
  },
  {
   "cell_type": "code",
   "execution_count": null,
   "id": "04b211b9-fd43-473f-9ddf-c89fe22c754c",
   "metadata": {},
   "outputs": [],
   "source": [
    "control_personas = control_personas[0].split(\"\\n\")"
   ]
  },
  {
   "cell_type": "code",
   "execution_count": null,
   "id": "0876fe99-fb53-4649-9d48-508622656e9d",
   "metadata": {},
   "outputs": [],
   "source": [
    "control_personas = [\"helpful assistant\"] + [\" \".join(x.split(\" \")[1:]).lower() for x in control_personas]"
   ]
  },
  {
   "cell_type": "code",
   "execution_count": null,
   "id": "3b44bff7-8eb9-409a-8395-b645942f5cd3",
   "metadata": {},
   "outputs": [],
   "source": [
    "control_personas = [\"an \" + x if x[0] in [\"a\", \"e\", \"i\", \"o\", \"u\"] else \"a \" + x for x in control_personas]"
   ]
  },
  {
   "cell_type": "code",
   "execution_count": null,
   "id": "d4309a54-3643-412d-986f-4853f9b32a5a",
   "metadata": {},
   "outputs": [],
   "source": [
    "control_personas"
   ]
  },
  {
   "cell_type": "code",
   "execution_count": null,
   "id": "493b6efb-a8b8-4f93-a7eb-38deb772bc3a",
   "metadata": {},
   "outputs": [],
   "source": [
    "control_personas[2] = \"a useful helper\""
   ]
  },
  {
   "cell_type": "code",
   "execution_count": null,
   "id": "0394e587-8364-4e13-91fc-54885ce39444",
   "metadata": {},
   "outputs": [],
   "source": [
    "control_personas"
   ]
  },
  {
   "cell_type": "code",
   "execution_count": null,
   "id": "c7f3255c-10f1-46bf-9fec-86ed5c1b6646",
   "metadata": {},
   "outputs": [],
   "source": [
    "personas = {\"personas\": control_personas}\n",
    "json.dump(personas, open(\"data/control_personas.json\", \"w\"))"
   ]
  },
  {
   "cell_type": "code",
   "execution_count": null,
   "id": "07e2438e-4502-4c16-ba95-69a082461ae3",
   "metadata": {},
   "outputs": [],
   "source": []
  }
 ],
 "metadata": {
  "kernelspec": {
   "display_name": "persona-biases",
   "language": "python",
   "name": "persona-biases"
  },
  "language_info": {
   "codemirror_mode": {
    "name": "ipython",
    "version": 3
   },
   "file_extension": ".py",
   "mimetype": "text/x-python",
   "name": "python",
   "nbconvert_exporter": "python",
   "pygments_lexer": "ipython3",
   "version": "3.11.7"
  }
 },
 "nbformat": 4,
 "nbformat_minor": 5
}
