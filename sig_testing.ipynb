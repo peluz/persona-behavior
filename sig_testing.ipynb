{
 "cells": [
  {
   "cell_type": "code",
   "execution_count": null,
   "id": "94154e22-f761-43b4-83b4-016742df1177",
   "metadata": {},
   "outputs": [],
   "source": [
    "%load_ext autoreload\n",
    "%autoreload 2\n",
    "%matplotlib inline\n",
    "\n",
    "from statsmodels.stats.contingency_tables import cochrans_q\n",
    "from scipy.stats import friedmanchisquare\n",
    "from utils.util import get_results_df\n",
    "import pandas as pd\n",
    "import json\n",
    "import numpy as np"
   ]
  },
  {
   "cell_type": "code",
   "execution_count": null,
   "id": "9f3c20ff-02ba-49b5-9b4e-2e332a01e146",
   "metadata": {},
   "outputs": [],
   "source": [
    "truthfulqa = get_results_df(\"truthfulqa_hits.csv\")"
   ]
  },
  {
   "cell_type": "code",
   "execution_count": null,
   "id": "c5600e95-11a7-41f5-8339-94e67099ff7e",
   "metadata": {},
   "outputs": [],
   "source": [
    "for col in truthfulqa.columns[:-1]:\n",
    "    print(print(cochrans_q(pd.DataFrame(truthfulqa[col].tolist()).T.to_numpy())))"
   ]
  },
  {
   "cell_type": "code",
   "execution_count": null,
   "id": "397bd819-c8cb-4fbe-a426-276d3bb41f85",
   "metadata": {},
   "outputs": [],
   "source": [
    "truthfulqa_refusals = get_results_df(\"truthfulqa_refusals.csv\")"
   ]
  },
  {
   "cell_type": "code",
   "execution_count": null,
   "id": "4f22f1e4-3401-4331-861f-fb1c4cf5ede5",
   "metadata": {},
   "outputs": [],
   "source": [
    "for col in truthfulqa_refusals.columns[:-1]:\n",
    "    print(print(cochrans_q(pd.DataFrame(truthfulqa_refusals[col].tolist()).T.to_numpy())))"
   ]
  },
  {
   "cell_type": "code",
   "execution_count": null,
   "id": "8aa4d232-e94f-4256-8192-4397cffc7c91",
   "metadata": {},
   "outputs": [],
   "source": [
    "mmlu = get_results_df(\"mmlu_hits.csv\")"
   ]
  },
  {
   "cell_type": "code",
   "execution_count": null,
   "id": "616a02b1-0236-4baa-8b07-c6b48119264a",
   "metadata": {},
   "outputs": [],
   "source": [
    "for col in mmlu.columns[:-1]:\n",
    "    print(print(cochrans_q(pd.DataFrame(mmlu[col].tolist()).T.to_numpy())))"
   ]
  },
  {
   "cell_type": "code",
   "execution_count": null,
   "id": "2fc50d0e-161b-4ec6-aa08-7b8e8e6de095",
   "metadata": {},
   "outputs": [],
   "source": [
    "mmlu_refusals = get_results_df(\"mmlu_refusals.csv\")"
   ]
  },
  {
   "cell_type": "code",
   "execution_count": null,
   "id": "0590e7f9-5824-426e-b1ac-40584df2663e",
   "metadata": {},
   "outputs": [],
   "source": [
    "for col in mmlu_refusals.columns[:-1]:\n",
    "    print(print(cochrans_q(pd.DataFrame(mmlu_refusals[col].tolist()).T.to_numpy())))"
   ]
  },
  {
   "cell_type": "code",
   "execution_count": null,
   "id": "defedebd-1ea2-4f7d-b51f-3eac625aa4b9",
   "metadata": {},
   "outputs": [],
   "source": [
    "bbq = get_results_df(\"bbq_hits.csv\")"
   ]
  },
  {
   "cell_type": "code",
   "execution_count": null,
   "id": "e98dceca-752a-4c2d-b499-3bc596852dac",
   "metadata": {},
   "outputs": [],
   "source": [
    "for col in bbq.columns[:-1]:\n",
    "    print(print(cochrans_q(pd.DataFrame(bbq[col].tolist()).T.to_numpy())))"
   ]
  },
  {
   "cell_type": "code",
   "execution_count": null,
   "id": "dcf44af1-69a3-4f0c-8f40-9948f4ce6ffc",
   "metadata": {},
   "outputs": [],
   "source": [
    "biased = get_results_df(\"bbq_biased.csv\")"
   ]
  },
  {
   "cell_type": "code",
   "execution_count": null,
   "id": "6f1eea20-438c-4aed-8fe0-83d216759acc",
   "metadata": {},
   "outputs": [],
   "source": [
    "for col in biased.columns[:-1]:\n",
    "    print(print(cochrans_q(pd.DataFrame(biased[col].tolist()).T.to_numpy())))"
   ]
  },
  {
   "cell_type": "code",
   "execution_count": null,
   "id": "75f3d812-364d-4ef1-a2fe-395eea941430",
   "metadata": {},
   "outputs": [],
   "source": [
    "unknown = get_results_df(\"bbq_unknown.csv\")"
   ]
  },
  {
   "cell_type": "code",
   "execution_count": null,
   "id": "08c8f86f-aa86-4469-a186-91ebd5a9a66f",
   "metadata": {},
   "outputs": [],
   "source": [
    "for col in unknown.columns[:-1]:\n",
    "    print(print(cochrans_q(pd.DataFrame(unknown[col].tolist()).T.to_numpy())))"
   ]
  },
  {
   "cell_type": "code",
   "execution_count": null,
   "id": "cbc6b620-9367-440f-b420-5158c0032328",
   "metadata": {},
   "outputs": [],
   "source": [
    "bbq_refusals = get_results_df(\"bbq_refusals.csv\")"
   ]
  },
  {
   "cell_type": "code",
   "execution_count": null,
   "id": "b419d038-a9fa-4421-ab08-a1c6f2dd4469",
   "metadata": {},
   "outputs": [],
   "source": [
    "for col in bbq_refusals.columns[:-1]:\n",
    "    print(print(cochrans_q(pd.DataFrame(bbq_refusals[col].tolist()).T.to_numpy())))"
   ]
  },
  {
   "cell_type": "code",
   "execution_count": null,
   "id": "6549a9c1-2b31-4ac5-a6f6-fb82eaf5020d",
   "metadata": {},
   "outputs": [],
   "source": [
    "attitudes = get_results_df(\"attitude_answers.csv\", by_attitude=True)"
   ]
  },
  {
   "cell_type": "code",
   "execution_count": null,
   "id": "89758d01-6c02-4d60-9de3-b78716ffb180",
   "metadata": {},
   "outputs": [],
   "source": [
    "no_control = attitudes[~attitudes.persona_cat.str.contains(\"control\")]\n",
    "control_only = attitudes[attitudes.persona_cat.str.contains(\"control\")]"
   ]
  },
  {
   "cell_type": "code",
   "execution_count": null,
   "id": "a71ed02f-f1f6-4e36-b147-b3f09872efb5",
   "metadata": {},
   "outputs": [],
   "source": [
    "for attitude in attitudes.iloc[0,0].keys():\n",
    "    print(attitude)\n",
    "    for col in attitudes.columns[:-1]:\n",
    "        answers = attitudes[col].apply(lambda x: x[attitude]).map(lambda x: np.mean(x, axis=1))\n",
    "        result = friedmanchisquare(*answers.tolist())\n",
    "        if result.pvalue > .05:\n",
    "            print(col, result.pvalue)\n",
    "    print(\"======================\")"
   ]
  },
  {
   "cell_type": "code",
   "execution_count": null,
   "id": "6dd3fcfa-90d0-4a41-bd19-c2463a9b0363",
   "metadata": {},
   "outputs": [],
   "source": [
    "pvalues = pd.DataFrame()"
   ]
  },
  {
   "cell_type": "code",
   "execution_count": null,
   "id": "bacdedce-63ab-441c-a25d-2419fa5348c1",
   "metadata": {},
   "outputs": [],
   "source": [
    "for attitude in attitudes.iloc[0,0].keys():\n",
    "    print(attitude)\n",
    "    for col in attitudes.columns[:-1]:\n",
    "        answers = no_control[col].apply(lambda x: x[attitude]).map(lambda x: np.mean(x, axis=1))\n",
    "        result = friedmanchisquare(*answers.tolist())\n",
    "        if result.pvalue > .05:\n",
    "            print(col, result.pvalue)\n",
    "        pvalues.loc[attitude, f\"{col} (personas)\"] = result.pvalue\n",
    "    print(\"======================\")"
   ]
  },
  {
   "cell_type": "code",
   "execution_count": null,
   "id": "89d6df28-4600-42f6-b4f7-abf7658e984e",
   "metadata": {},
   "outputs": [],
   "source": [
    "for attitude in attitudes.iloc[0,0].keys():\n",
    "    print(attitude)\n",
    "    for col in attitudes.columns[:-1]:\n",
    "        answers = control_only[col].apply(lambda x: x[attitude]).map(lambda x: np.mean(x, axis=1))\n",
    "        result = friedmanchisquare(*answers.tolist())\n",
    "        if result.pvalue > .05:\n",
    "            print(col, result.pvalue)\n",
    "        pvalues.loc[attitude, f\"{col} (control)\"] = result.pvalue\n",
    "    print(\"======================\")"
   ]
  },
  {
   "cell_type": "code",
   "execution_count": null,
   "id": "e1e9a7c9-a88e-4414-bbd1-3d96c80c1503",
   "metadata": {},
   "outputs": [],
   "source": [
    "pvalues = pvalues.round(3)"
   ]
  },
  {
   "cell_type": "code",
   "execution_count": null,
   "id": "95edee1e-79c9-4166-bf87-b576ca7eff27",
   "metadata": {},
   "outputs": [],
   "source": [
    "pvalues"
   ]
  },
  {
   "cell_type": "code",
   "execution_count": null,
   "id": "b4b1bce5-d851-472a-b14a-78f959a9aeef",
   "metadata": {},
   "outputs": [],
   "source": [
    "pvalues = pvalues[[\n",
    "    \"GPT-4 (personas)\",\n",
    "    \"GPT-3.5 (personas)\",\n",
    "    \"Mixtral (personas)\",\n",
    "    \"Zephyr (personas)\",\n",
    "    \"Mistral-inst (personas)\",\n",
    "    \"Gemma-7b-inst (personas)\",\n",
    "    \"Gemma-2b-inst (personas)\",\n",
    "    \"GPT-4 (control)\",\n",
    "    \"GPT-3.5 (control)\",\n",
    "     \"Mixtral (control)\",\n",
    "    \"Zephyr (control)\",\n",
    "    \"Mistral-inst (control)\",\n",
    "    \"Gemma-7b-inst (control)\",\n",
    "    \"Gemma-2b-inst (control)\",\n",
    "]]"
   ]
  },
  {
   "cell_type": "code",
   "execution_count": null,
   "id": "da30942c-5d05-4bf1-9bbe-b748214b3e1b",
   "metadata": {},
   "outputs": [],
   "source": [
    "table = pvalues.T.style.format(precision=3)"
   ]
  },
  {
   "cell_type": "code",
   "execution_count": null,
   "id": "74daa7c6-3535-4b7f-a3d7-4305257e2d18",
   "metadata": {},
   "outputs": [],
   "source": [
    "table.highlight_between(axis=0, left=.05, props=\"textbf:--rwrap;\")"
   ]
  },
  {
   "cell_type": "code",
   "execution_count": null,
   "id": "d39e3ee5-b592-4fc9-a745-53dd38bf4dad",
   "metadata": {},
   "outputs": [],
   "source": [
    "print(table.to_latex())"
   ]
  },
  {
   "cell_type": "code",
   "execution_count": null,
   "id": "7d42c4b5-3b2d-4810-84fd-6e46613efc18",
   "metadata": {},
   "outputs": [],
   "source": [
    "truthfulqa_refusals = get_results_df(\"truthfulqa_refusals.csv\")"
   ]
  },
  {
   "cell_type": "code",
   "execution_count": null,
   "id": "4db93634-3d3f-4ef8-bfaf-8f926e6d8d88",
   "metadata": {},
   "outputs": [],
   "source": [
    "for col in truthfulqa_refusals.columns[:-1]:\n",
    "    print(print(cochrans_q(pd.DataFrame(truthfulqa_refusals[col].tolist()).T.to_numpy())))"
   ]
  },
  {
   "cell_type": "code",
   "execution_count": null,
   "id": "dd2fe0ce-6bec-472a-a9e2-2253b89232ba",
   "metadata": {},
   "outputs": [],
   "source": [
    "attitude_refusals = get_results_df(\"attitude_refusals.csv\", aggregate=False)"
   ]
  },
  {
   "cell_type": "code",
   "execution_count": null,
   "id": "018b3eba-157e-469e-b8ce-5af6325ce13b",
   "metadata": {},
   "outputs": [],
   "source": [
    "for col in attitude_refusals.columns[:-1]:\n",
    "    print(print(cochrans_q(pd.DataFrame(attitude_refusals[col].tolist()).T.to_numpy())))"
   ]
  },
  {
   "cell_type": "code",
   "execution_count": null,
   "id": "8d283b40-ce5a-492b-befb-9dcc1b7ef3b0",
   "metadata": {},
   "outputs": [],
   "source": [
    "offensiveness = get_results_df(\"off_scores.csv\")"
   ]
  },
  {
   "cell_type": "code",
   "execution_count": null,
   "id": "8ef2cdd6-1b2c-4887-b660-e06c2cbcce49",
   "metadata": {},
   "outputs": [],
   "source": [
    "for col in offensiveness.columns[:-1]:\n",
    "    print(friedmanchisquare(*offensiveness[col].tolist()))"
   ]
  },
  {
   "cell_type": "code",
   "execution_count": null,
   "id": "4605d5ab-8f3f-4a4f-9a42-5debb4cc6b6c",
   "metadata": {},
   "outputs": [],
   "source": [
    "off_refusals = get_results_df(\"off_refusals.csv\")"
   ]
  },
  {
   "cell_type": "code",
   "execution_count": null,
   "id": "f2c95b55-f8ca-4644-bcea-302943b868c5",
   "metadata": {},
   "outputs": [],
   "source": [
    "for col in off_refusals.columns[:-1]:\n",
    "    print(print(cochrans_q(pd.DataFrame(off_refusals[col].tolist()).T.to_numpy())))"
   ]
  },
  {
   "cell_type": "code",
   "execution_count": null,
   "id": "aed1c0b3-c36e-4e9b-a5e8-edc146138419",
   "metadata": {},
   "outputs": [],
   "source": [
    "rac = get_results_df(\"rac_scores.csv\")"
   ]
  },
  {
   "cell_type": "code",
   "execution_count": null,
   "id": "609105c7-8117-4b46-ab38-b8dd9a276a0b",
   "metadata": {},
   "outputs": [],
   "source": [
    "for col in rac.columns[:-1]:\n",
    "    print(friedmanchisquare(*rac[col].tolist()))"
   ]
  },
  {
   "cell_type": "code",
   "execution_count": null,
   "id": "e7579602-cfbb-4bba-a4fc-d11ec109f42a",
   "metadata": {},
   "outputs": [],
   "source": [
    "rac_refusals = get_results_df(\"rac_refusals.csv\")"
   ]
  },
  {
   "cell_type": "code",
   "execution_count": null,
   "id": "09dc06eb-9dff-4b06-b538-dd3990578ce5",
   "metadata": {},
   "outputs": [],
   "source": [
    "off_refusals[\"Zephyr\"].map(np.sum).sort_values()"
   ]
  },
  {
   "cell_type": "code",
   "execution_count": null,
   "id": "6d758484-eb5a-492f-a8f5-f3a04e5f05d4",
   "metadata": {},
   "outputs": [],
   "source": [
    "rac_refusals[\"Zephyr\"].map(np.sum).sort_values()"
   ]
  },
  {
   "cell_type": "code",
   "execution_count": null,
   "id": "5fcfcb73-93dd-4697-8ce8-5855cd70f057",
   "metadata": {},
   "outputs": [],
   "source": [
    "def get_preds(dataset, model, persona, prompt_type):\n",
    "    return json.load(open(f\"./results/{prompt_type}/{model}/{dataset}/{persona}.json\", \"r\"))"
   ]
  },
  {
   "cell_type": "code",
   "execution_count": null,
   "id": "16474898-e37b-4fac-957f-1c03a690a0e5",
   "metadata": {},
   "outputs": [],
   "source": [
    "size = len(rac_refusals[\"Zephyr\"][\"a_person_with_conservatism_ideology\"])"
   ]
  },
  {
   "cell_type": "code",
   "execution_count": null,
   "id": "957f3e62-8d94-47e1-ba2f-9e95887a7fd2",
   "metadata": {},
   "outputs": [],
   "source": [
    "index = np.where(rac_refusals[\"Zephyr\"][\"a_person_with_conservatism_ideology\"] == 1)[0][0]"
   ]
  },
  {
   "cell_type": "code",
   "execution_count": null,
   "id": "f3fb2522-3b83-4254-8652-7c12bd186526",
   "metadata": {},
   "outputs": [],
   "source": [
    "get_preds(\"toxicity\", \"zephyr-7b-beta\", \"a_person_with_conservatism_ideology\", \"zero\")[size+index]"
   ]
  },
  {
   "cell_type": "code",
   "execution_count": null,
   "id": "5cca9cf8-71aa-4589-8fac-3ec5d56813c7",
   "metadata": {},
   "outputs": [],
   "source": [
    "for col in rac_refusals.columns[:-1]:\n",
    "    print(print(cochrans_q(pd.DataFrame(rac_refusals[col].tolist()).T.to_numpy())))"
   ]
  },
  {
   "cell_type": "code",
   "execution_count": null,
   "id": "43d7ef8f-a76d-4951-8148-6f4754bab602",
   "metadata": {},
   "outputs": [],
   "source": [
    "attitude_refusals.iloc[:,:-1].applymap(np.mean).mean().mean()"
   ]
  },
  {
   "cell_type": "code",
   "execution_count": null,
   "id": "4c6ab9b8-98e8-4f83-9081-3242897a4be5",
   "metadata": {},
   "outputs": [],
   "source": [
    "attitude_refusals.iloc[:,:-1].applymap(np.mean)"
   ]
  },
  {
   "cell_type": "code",
   "execution_count": null,
   "id": "6c7ad4db-1338-4881-8a08-afaf3e02d8d7",
   "metadata": {},
   "outputs": [],
   "source": [
    "off_refusals.iloc[:,:-1].applymap(np.mean).mean().mean()"
   ]
  },
  {
   "cell_type": "code",
   "execution_count": null,
   "id": "0c6f95f1-59fa-4412-9f67-7daa068caf19",
   "metadata": {},
   "outputs": [],
   "source": [
    "rac_refusals.iloc[:,:-1].applymap(np.mean).mean().mean()"
   ]
  },
  {
   "cell_type": "code",
   "execution_count": null,
   "id": "58922c82-6d6c-4f4f-a873-1ed1440565ea",
   "metadata": {},
   "outputs": [],
   "source": [
    "truthfulqa_refusals.iloc[:,:-1].applymap(np.mean).mean().mean()"
   ]
  },
  {
   "cell_type": "code",
   "execution_count": null,
   "id": "8f32ec10-da44-4195-85db-cbc03d82d390",
   "metadata": {},
   "outputs": [],
   "source": [
    "mmlu_refusals.iloc[:,:-1].applymap(np.mean).mean().mean()"
   ]
  },
  {
   "cell_type": "code",
   "execution_count": null,
   "id": "a9bc7cb3-c4d7-4359-851b-d8d5ea3b1cb3",
   "metadata": {},
   "outputs": [],
   "source": [
    "bbq_refusals.iloc[:,:-1].applymap(np.mean).mean().mean()"
   ]
  },
  {
   "cell_type": "code",
   "execution_count": null,
   "id": "9fa210eb-b18a-4c4d-86d8-ec5b15f0bd0e",
   "metadata": {},
   "outputs": [],
   "source": [
    "off_refusals.iloc[:,:-1].applymap(np.mean).mean()"
   ]
  },
  {
   "cell_type": "code",
   "execution_count": null,
   "id": "b2e4d7d0-91a5-43c0-a129-e6ef55eb7aab",
   "metadata": {},
   "outputs": [],
   "source": [
    "bbq_refusals.iloc[:,:-1].applymap(np.mean).mean()"
   ]
  },
  {
   "cell_type": "code",
   "execution_count": null,
   "id": "901b12aa-6469-4593-9d3e-69595d555ddb",
   "metadata": {},
   "outputs": [],
   "source": [
    "attitude_refusals.iloc[:,:-1].applymap(np.mean).loc[\"empty\"] "
   ]
  },
  {
   "cell_type": "code",
   "execution_count": null,
   "id": "181bd607-447f-4b2b-accd-a3752e4300ea",
   "metadata": {},
   "outputs": [],
   "source": [
    "attitude_refusals.iloc[:,:-1].applymap(np.mean).sort_values(\"GPT-4\").loc[attitude_refusals.persona_cat==\"political_figure\"]"
   ]
  },
  {
   "cell_type": "code",
   "execution_count": null,
   "id": "e960210b-9a35-468f-8745-a09e04c661f7",
   "metadata": {},
   "outputs": [],
   "source": [
    "off_refusals.iloc[:,:-1].applymap(np.mean).loc[\"empty\"] "
   ]
  },
  {
   "cell_type": "code",
   "execution_count": null,
   "id": "f09c2855-9f9b-4e91-b8d9-bf5a168cd89b",
   "metadata": {},
   "outputs": [],
   "source": [
    "rac_refusals.iloc[:,:-1].applymap(np.mean).loc[\"empty\"] "
   ]
  },
  {
   "cell_type": "code",
   "execution_count": null,
   "id": "08bbf97a-6dda-4e64-a926-6154f4a65dda",
   "metadata": {},
   "outputs": [],
   "source": [
    "truthfulqa_refusals.iloc[:,:-1].applymap(np.mean).loc[\"empty\"] "
   ]
  },
  {
   "cell_type": "code",
   "execution_count": null,
   "id": "a2e01ccf-464f-46c1-953a-70b7a2b3a045",
   "metadata": {},
   "outputs": [],
   "source": [
    "mmlu_refusals.iloc[:,:-1].applymap(np.mean).loc[\"empty\"] "
   ]
  },
  {
   "cell_type": "code",
   "execution_count": null,
   "id": "0e6eef9b-6ae6-4ae4-bd13-26a974e9086f",
   "metadata": {},
   "outputs": [],
   "source": [
    "bbq_refusals.iloc[:,:-1].applymap(np.mean).loc[\"empty\"] "
   ]
  },
  {
   "cell_type": "code",
   "execution_count": null,
   "id": "38bdaa12-7c5d-4558-a074-e35e14343e75",
   "metadata": {},
   "outputs": [],
   "source": []
  }
 ],
 "metadata": {
  "kernelspec": {
   "display_name": "specification-instruction",
   "language": "python",
   "name": "specification-instruction"
  },
  "language_info": {
   "codemirror_mode": {
    "name": "ipython",
    "version": 3
   },
   "file_extension": ".py",
   "mimetype": "text/x-python",
   "name": "python",
   "nbconvert_exporter": "python",
   "pygments_lexer": "ipython3",
   "version": "3.10.9"
  }
 },
 "nbformat": 4,
 "nbformat_minor": 5
}
