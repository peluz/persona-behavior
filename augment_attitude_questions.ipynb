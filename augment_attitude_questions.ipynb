{
 "cells": [
  {
   "cell_type": "code",
   "execution_count": null,
   "id": "6e6862d0-3a8a-4e12-9100-aa696ec723d0",
   "metadata": {},
   "outputs": [],
   "source": [
    "%load_ext autoreload\n",
    "%autoreload 2\n",
    "\n",
    "from dataloaders.loaders import generate_prompts\n",
    "import config\n",
    "from openai import OpenAI\n",
    "from tqdm.auto import tqdm\n",
    "from pathlib import Path\n",
    "import json\n",
    "import time\n",
    "import random"
   ]
  },
  {
   "cell_type": "code",
   "execution_count": null,
   "id": "88921ce5-5a70-40a8-9486-80392328458b",
   "metadata": {},
   "outputs": [],
   "source": [
    "prompts = generate_prompts(\"augment_attitudes\")"
   ]
  },
  {
   "cell_type": "code",
   "execution_count": null,
   "id": "04bfc213-9e46-4c85-97d0-53dcb46648eb",
   "metadata": {},
   "outputs": [],
   "source": [
    "prompts"
   ]
  },
  {
   "cell_type": "code",
   "execution_count": null,
   "id": "1fa780fc-2093-4a1a-9dd6-0ef52b0f4b02",
   "metadata": {},
   "outputs": [],
   "source": [
    "inputs = []\n",
    "for prompt in prompts:\n",
    "    input = [\n",
    "                {\"role\": \"user\", \"content\": prompt},\n",
    "            ]\n",
    "    inputs.append(input)"
   ]
  },
  {
   "cell_type": "code",
   "execution_count": null,
   "id": "c0e3664d-1f35-472f-8923-0ad9f72ad27d",
   "metadata": {},
   "outputs": [],
   "source": [
    "api_token = config.open_ai_token"
   ]
  },
  {
   "cell_type": "code",
   "execution_count": null,
   "id": "a6d23aae-0b4e-42c2-8676-a8eb08802324",
   "metadata": {},
   "outputs": [],
   "source": [
    "org = config.org"
   ]
  },
  {
   "cell_type": "code",
   "execution_count": null,
   "id": "c26a37d6-5887-4606-8fe3-97ab557899b9",
   "metadata": {},
   "outputs": [],
   "source": [
    "client = OpenAI(organization=org, api_key=api_token)"
   ]
  },
  {
   "cell_type": "code",
   "execution_count": null,
   "id": "ef73ef4d-697a-410b-8435-4735434ba77a",
   "metadata": {},
   "outputs": [],
   "source": [
    "inputs"
   ]
  },
  {
   "cell_type": "code",
   "execution_count": null,
   "id": "9bd279df-a520-40a9-9d4a-c04c354507c4",
   "metadata": {},
   "outputs": [],
   "source": [
    "responses = []\n",
    "for request in tqdm(inputs):\n",
    "    while True:\n",
    "        num_retries = 0\n",
    "        delay = 1.\n",
    "        try:\n",
    "            response = client.chat.completions.create(\n",
    "            model=\"gpt-4-1106-preview\",\n",
    "            messages=request,\n",
    "            max_tokens=1000,\n",
    "            temperature=1.0,\n",
    "            seed=42,\n",
    "            top_p=.95\n",
    "            )\n",
    "            responses.append(response)\n",
    "            break\n",
    "        except Exception as e:\n",
    "            num_retries += 1\n",
    "            print(e)\n",
    "\n",
    "            # Check if max retries has been reached\n",
    "            if num_retries > 10:\n",
    "                raise Exception(\n",
    "                    f\"Maximum number of retries (10) exceeded.\"\n",
    "                )\n",
    "\n",
    "            # Increment the delay\n",
    "            delay *= 2 * (1 + random.random())\n",
    "            print(f\"Retrying with delay {delay}\")\n",
    "\n",
    "            # Sleep for the delay\n",
    "            time.sleep(delay)"
   ]
  },
  {
   "cell_type": "code",
   "execution_count": null,
   "id": "b848905e-b856-4947-a6e3-f7ebeeeef3bf",
   "metadata": {},
   "outputs": [],
   "source": [
    "all_preds = [[{\"generated_text\": response.choices[0].message.content}] for response in responses]"
   ]
  },
  {
   "cell_type": "code",
   "execution_count": null,
   "id": "f240259c-5e32-4b3e-94ff-9173eb3ff1b2",
   "metadata": {},
   "outputs": [],
   "source": [
    "result_path = Path(\"./data/att_augment.json\")\n",
    "result_path.parent.mkdir(exist_ok=True, parents=True)\n",
    "with open(result_path, \"w\") as file:\n",
    "    json.dump(all_preds, file)"
   ]
  },
  {
   "cell_type": "code",
   "execution_count": null,
   "id": "ac83fab1-5089-47e4-abe2-586fdb4ce221",
   "metadata": {},
   "outputs": [],
   "source": [
    "responses_json = [response.model_dump_json() for response in responses]"
   ]
  },
  {
   "cell_type": "code",
   "execution_count": null,
   "id": "9f9f65c1-de7b-4aa4-83eb-d7b9c6931c72",
   "metadata": {},
   "outputs": [],
   "source": [
    "response_path = Path(\"./responses/att_augment.json\")\n",
    "response_path.parent.mkdir(exist_ok=True, parents=True)\n",
    "with open(response_path, \"w\") as file:\n",
    "    json.dump(responses_json, file)"
   ]
  },
  {
   "cell_type": "code",
   "execution_count": null,
   "id": "afdb1dea-3281-4a5d-947b-8d6cdd1f0628",
   "metadata": {},
   "outputs": [],
   "source": []
  }
 ],
 "metadata": {
  "kernelspec": {
   "display_name": "persona-biases",
   "language": "python",
   "name": "persona-biases"
  },
  "language_info": {
   "codemirror_mode": {
    "name": "ipython",
    "version": 3
   },
   "file_extension": ".py",
   "mimetype": "text/x-python",
   "name": "python",
   "nbconvert_exporter": "python",
   "pygments_lexer": "ipython3",
   "version": "3.11.7"
  }
 },
 "nbformat": 4,
 "nbformat_minor": 5
}
