{
 "cells": [
  {
   "cell_type": "code",
   "execution_count": null,
   "id": "0c523616-88bf-4197-9934-d7c853884c10",
   "metadata": {},
   "outputs": [],
   "source": [
    "%load_ext autoreload\n",
    "%autoreload 2\n",
    "%matplotlib inline\n",
    "import pandas as pd\n",
    "import matplotlib.pyplot as plt\n",
    "from matplotlib.lines import Line2D\n",
    "from datasets import load_dataset, concatenate_datasets\n",
    "import matplotlib.transforms as transforms\n",
    "from matplotlib import colormaps\n",
    "import numpy as np\n",
    "import os\n",
    "import krippendorff\n",
    "import seaborn as sns\n",
    "from pathlib import Path\n",
    "from ast import literal_eval\n",
    "from utils.util import radar_factory\n",
    "from scipy.stats import pearsonr\n",
    "from tqdm.auto import tqdm\n",
    "from sklearn.metrics.pairwise import cosine_similarity, euclidean_distances\n",
    "from sklearn.preprocessing import normalize\n",
    "from statsmodels.formula.api import mixedlm\n",
    "from utils.util import initialize_seeds\n",
    "import json"
   ]
  },
  {
   "cell_type": "code",
   "execution_count": null,
   "id": "df61adf0-60c3-4d10-89c8-bea125655ded",
   "metadata": {},
   "outputs": [],
   "source": [
    "persona_cat_dict = json.load(open(\"./data/persona_cat.json\", \"r\"))"
   ]
  },
  {
   "cell_type": "code",
   "execution_count": null,
   "id": "2f3c4ba7-4e23-404e-90bd-ab9fa83050a5",
   "metadata": {},
   "outputs": [],
   "source": [
    "n_cats = len(np.unique(list(persona_cat_dict.values())))"
   ]
  },
  {
   "cell_type": "code",
   "execution_count": null,
   "id": "9795c585-c5f1-4db4-9c0c-8daf3988a7a6",
   "metadata": {},
   "outputs": [],
   "source": [
    "markdict={cat: \"o\" if cat != \"control\" else \"x\" for cat in np.unique(list(persona_cat_dict.values()))}"
   ]
  },
  {
   "cell_type": "code",
   "execution_count": null,
   "id": "1d8602c4-81a9-4ddb-9fc2-f5f7fc453f9e",
   "metadata": {},
   "outputs": [],
   "source": [
    "markdict[\"control\"] = \"x\""
   ]
  },
  {
   "cell_type": "code",
   "execution_count": null,
   "id": "0a0165e9-77e8-4e3d-8fac-7fffbb536be5",
   "metadata": {},
   "outputs": [],
   "source": [
    "results_path= Path(\"./results/zero/\")\n",
    "control_results = Path(\"./results/control/zero/\")"
   ]
  },
  {
   "cell_type": "code",
   "execution_count": null,
   "id": "c6843ab3-81d5-4693-962e-fb5ec7e5e4b0",
   "metadata": {},
   "outputs": [],
   "source": [
    "models = os.listdir(results_path)\n",
    "results = {model: pd.read_csv(results_path/model/\"off_scores.csv\", index_col=0) for model in models}"
   ]
  },
  {
   "cell_type": "code",
   "execution_count": null,
   "id": "44b08d90-2b0f-46fe-8e7c-76ed9cab6cb3",
   "metadata": {},
   "outputs": [],
   "source": [
    "rename_model = {\n",
    "    \"gpt-4-0125-preview\": \"GPT-4\",\n",
    "    \"gpt-3.5-turbo-0125\": \"GPT-3.5\",\n",
    "    \"Mixtral-8x7B-Instruct-v0.1\": \"Mixtral\",\n",
    "    \"zephyr-7b-beta\": \"Zephyr\",\n",
    "    \"Mistral-7B-Instruct-v0.2\": \"Mistral-inst\",\n",
    "    \"gemma-7b-it\": \"Gemma-7b-inst\",\n",
    "    \"gemma-2b-it\": \"Gemma-2b-inst\"\n",
    "}"
   ]
  },
  {
   "cell_type": "code",
   "execution_count": null,
   "id": "a3e74533-a8a7-4de9-8708-60cec3bfc6c0",
   "metadata": {},
   "outputs": [],
   "source": [
    "def get_results_df(result_csv, aggregate=True):\n",
    "    models = os.listdir(results_path)\n",
    "    results = {model: pd.read_csv(results_path/model/result_csv, index_col=0) for model in models}\n",
    "\n",
    "    all_results_dic = {}\n",
    "    for model, df in results.items():\n",
    "        if \"attitude_scores\" in result_csv:\n",
    "            results[model] = results[model].iloc[:,:5]\n",
    "        elif \"attitude\" in result_csv:\n",
    "            for column in df.columns:\n",
    "                results[model][column] = results[model][column].str.replace(\" \", \",\")\n",
    "                results[model][column] = results[model][column].apply(literal_eval)\n",
    "        for persona in results[model].index.tolist():\n",
    "            if \"attitude\" in result_csv and \"scores\" not in result_csv:\n",
    "                all_results =  np.concatenate(results[model].loc[persona].values.tolist(),axis=0)\n",
    "                if aggregate: all_results = all_results.mean()\n",
    "                all_results_dic.setdefault(model, {})[persona] = all_results\n",
    "            else:\n",
    "                all_results =  np.array(results[model].loc[persona].values.tolist())\n",
    "                all_results_dic.setdefault(model, {})[persona] = all_results\n",
    "    \n",
    "    results_df = pd.DataFrame.from_dict(all_results_dic)\n",
    "    \n",
    "    results_df[\"persona_cat\"] =  [persona_cat_dict[persona] for persona in results_df.index]\n",
    "    \n",
    "    results = {model: pd.read_csv(control_results/model/result_csv, index_col=0) for model in models}\n",
    "    \n",
    "    all_results_dic = {}\n",
    "    for model, df in results.items():\n",
    "        if \"attitude_scores\" in result_csv:\n",
    "            results[model] = results[model].iloc[:,:5]\n",
    "        elif \"attitude\" in result_csv:\n",
    "            for column in df.columns:\n",
    "                results[model][column] = results[model][column].str.replace(\" \", \",\")\n",
    "                results[model][column] = results[model][column].apply(literal_eval)\n",
    "        for persona in results[model].index.tolist():\n",
    "            if \"attitude\" in result_csv and \"scores\" not in result_csv:\n",
    "                all_results =  np.concatenate(results[model].loc[persona].values.tolist(),axis=0)\n",
    "                if aggregate: all_results = all_results.mean()\n",
    "                all_results_dic.setdefault(model, {})[persona] = all_results\n",
    "            else:\n",
    "                all_results =  np.array(results[model].loc[persona].values.tolist())\n",
    "                all_results_dic.setdefault(model, {})[persona] = all_results\n",
    "    \n",
    "    results_df_control = pd.DataFrame.from_dict(all_results_dic); results_df\n",
    "    \n",
    "    results_df_control[\"persona_cat\"] = \"control\"\n",
    "\n",
    "    return pd.concat([results_df, results_df_control], axis=0).rename(columns=rename_model)"
   ]
  },
  {
   "cell_type": "code",
   "execution_count": null,
   "id": "ed847f51-5672-4386-87a0-52d0e3f74b6c",
   "metadata": {},
   "outputs": [],
   "source": [
    "def get_correlations(df):\n",
    "    rho = df.corr()\n",
    "    pval = df.corr(method=lambda x, y: pearsonr(x, y)[1]) - np.eye(*rho.shape)\n",
    "    p = pval.map(lambda x: ''.join(['*' for t in [.05, .01, .001] if x<=t]))\n",
    "    return (rho.round(2).astype(str) + p)"
   ]
  },
  {
   "cell_type": "code",
   "execution_count": null,
   "id": "70eb11d3-bdca-444b-b6d7-0248a7ae9b98",
   "metadata": {},
   "outputs": [],
   "source": [
    "def average_correlation(answers):\n",
    "    corrs = pd.DataFrame(answers).corr(method=\"kendall\").fillna(1).to_numpy()\n",
    "    return corrs[np.triu_indices(corrs.shape[0], k=1)].mean()"
   ]
  },
  {
   "cell_type": "code",
   "execution_count": null,
   "id": "bba0909f-cf28-4f62-9a8c-2c940c6041b8",
   "metadata": {},
   "outputs": [],
   "source": [
    "all_hits_stacked = []"
   ]
  },
  {
   "cell_type": "code",
   "execution_count": null,
   "id": "309657d9-572c-4e12-9d41-74e5427f9421",
   "metadata": {},
   "outputs": [],
   "source": [
    "all_refusals_stacked = []"
   ]
  },
  {
   "cell_type": "code",
   "execution_count": null,
   "id": "3473768d-544c-4c7c-a157-3dc459871626",
   "metadata": {},
   "outputs": [],
   "source": [
    "performance_std_dfs = []"
   ]
  },
  {
   "cell_type": "code",
   "execution_count": null,
   "id": "1ca765bc-4f7a-436b-b5f2-c8b73f5c5417",
   "metadata": {},
   "outputs": [],
   "source": [
    "refusal_std_dfs = []"
   ]
  },
  {
   "cell_type": "markdown",
   "id": "644d34e6-d538-4cc3-9f5e-6c2ae1e25c30",
   "metadata": {},
   "source": [
    "## Attitudes"
   ]
  },
  {
   "cell_type": "markdown",
   "id": "c3623491-8381-48b8-9130-bce5c4db3170",
   "metadata": {},
   "source": [
    "### Intra-persona consistency"
   ]
  },
  {
   "cell_type": "code",
   "execution_count": null,
   "id": "4c00c4e7-a617-40ab-8b87-1e5f770a3a33",
   "metadata": {},
   "outputs": [],
   "source": [
    "att_answers = {model: pd.read_csv(results_path/model/\"attitude_answers.csv\", index_col=0) for model in models}"
   ]
  },
  {
   "cell_type": "code",
   "execution_count": null,
   "id": "760a8e4a-3d65-499e-aca7-c03aa11f3e3b",
   "metadata": {},
   "outputs": [],
   "source": [
    "intra_alphas = {}\n",
    "all_answers_dic = {}\n",
    "for model, df in tqdm(att_answers.items()):\n",
    "    for column in df.columns:\n",
    "        att_answers[model][column] = att_answers[model][column].str.replace(\" \", \",\")\n",
    "        att_answers[model][column] = att_answers[model][column].apply(literal_eval)\n",
    "    for persona in tqdm(att_answers[model].index.tolist()):\n",
    "        all_answers =  np.concatenate(att_answers[model].loc[persona].values.tolist(),axis=0)\n",
    "        all_answers_dic.setdefault(model, {})[persona] = all_answers.mean(1)\n",
    "        # intra_alphas.setdefault(model, {})[persona] = krippendorff.alpha(reliability_data=all_answers.T, level_of_measurement=\"ordinal\", value_domain=list(range(1,6)))\n",
    "        intra_alphas.setdefault(model, {})[persona] = all_answers.T.std(0).mean()\n",
    "        # intra_alphas.setdefault(model, {})[persona] = average_correlation(all_answers)"
   ]
  },
  {
   "cell_type": "code",
   "execution_count": null,
   "id": "d4c306ad-b13d-4fae-ade2-4ecd6e168251",
   "metadata": {},
   "outputs": [],
   "source": [
    "intra_df = pd.DataFrame.from_dict(intra_alphas)"
   ]
  },
  {
   "cell_type": "code",
   "execution_count": null,
   "id": "be1ec1c4-18cb-41a7-8675-0bd2deaa52b6",
   "metadata": {},
   "outputs": [],
   "source": [
    "intra_df.corr(method=\"kendall\")"
   ]
  },
  {
   "cell_type": "code",
   "execution_count": null,
   "id": "19fc6e60-b7d7-4b7c-971d-ee5ccff46f71",
   "metadata": {},
   "outputs": [],
   "source": [
    "intra_df[\"avg\"] = intra_df.mean(1)"
   ]
  },
  {
   "cell_type": "code",
   "execution_count": null,
   "id": "0ecae61b-d816-4e72-9bc5-09e5f322a9b5",
   "metadata": {},
   "outputs": [],
   "source": [
    "intra_df.sort_values(\"avg\")"
   ]
  },
  {
   "cell_type": "code",
   "execution_count": null,
   "id": "ed78e0c1-de36-47f0-bc94-442f76c8990c",
   "metadata": {},
   "outputs": [],
   "source": [
    "intra_df[\"persona_cat\"] = [persona_cat_dict[persona] for persona in intra_df.index]"
   ]
  },
  {
   "cell_type": "code",
   "execution_count": null,
   "id": "36785315-7ee6-4133-ab91-537535f7f323",
   "metadata": {},
   "outputs": [],
   "source": [
    "att_answers = {model: pd.read_csv(control_results/model/\"attitude_answers.csv\", index_col=0) for model in models}"
   ]
  },
  {
   "cell_type": "code",
   "execution_count": null,
   "id": "b4c08ac4-0477-4fd6-b0fa-b39d8492d8d0",
   "metadata": {},
   "outputs": [],
   "source": [
    "intra_alphas = {}\n",
    "all_answers_control_dic = {}\n",
    "for model, df in att_answers.items():\n",
    "    for column in df.columns:\n",
    "        att_answers[model][column] = att_answers[model][column].str.replace(\" \", \",\")\n",
    "        att_answers[model][column] = att_answers[model][column].apply(literal_eval)\n",
    "    for persona in att_answers[model].index.tolist():\n",
    "        all_answers=  np.concatenate(att_answers[model].loc[persona].values.tolist(),axis=0)\n",
    "        all_answers_control_dic.setdefault(model, {})[persona] = all_answers.mean(1)\n",
    "        # intra_alphas.setdefault(model, {})[persona] = krippendorff.alpha(reliability_data=all_answers.T, level_of_measurement=\"ordinal\", value_domain=list(range(1,6)))\n",
    "        intra_alphas.setdefault(model, {})[persona] = all_answers.T.std(0).mean()\n",
    "        # intra_alphas.setdefault(model, {})[persona] = average_correlation(all_answers)\n"
   ]
  },
  {
   "cell_type": "code",
   "execution_count": null,
   "id": "525f0fa9-3a1b-46af-a4bb-dcf5abbc2281",
   "metadata": {},
   "outputs": [],
   "source": [
    "intra_df_control = pd.DataFrame.from_dict(intra_alphas)"
   ]
  },
  {
   "cell_type": "code",
   "execution_count": null,
   "id": "168f36d6-5638-4aaa-9af8-598cec3de3a7",
   "metadata": {},
   "outputs": [],
   "source": [
    "intra_df_control.corr(method=\"kendall\")"
   ]
  },
  {
   "cell_type": "code",
   "execution_count": null,
   "id": "0fddc911-e9e1-484d-8fc6-284ab5f3421b",
   "metadata": {},
   "outputs": [],
   "source": [
    "intra_df_control[\"avg\"] = intra_df_control.mean(1)"
   ]
  },
  {
   "cell_type": "code",
   "execution_count": null,
   "id": "58257b5f-b418-4d6a-a33e-b7f98c7701ff",
   "metadata": {
    "scrolled": true
   },
   "outputs": [],
   "source": [
    "intra_df_control.sort_values(\"avg\")"
   ]
  },
  {
   "cell_type": "code",
   "execution_count": null,
   "id": "c0e4c202-e4c4-410c-bc6d-c2e74f5a8c72",
   "metadata": {},
   "outputs": [],
   "source": [
    "intra_df_control[\"persona_cat\"] = \"control\""
   ]
  },
  {
   "cell_type": "code",
   "execution_count": null,
   "id": "24e61d13-c4b5-4b47-b514-43cc42644868",
   "metadata": {},
   "outputs": [],
   "source": [
    "intra_df = pd.concat([intra_df, intra_df_control], axis=0)"
   ]
  },
  {
   "cell_type": "code",
   "execution_count": null,
   "id": "3bcb4066-1775-4a20-9b04-afc5c39964a9",
   "metadata": {},
   "outputs": [],
   "source": [
    "intra_df = intra_df.rename(columns=rename_model)"
   ]
  },
  {
   "cell_type": "code",
   "execution_count": null,
   "id": "e973e051-f318-4bb8-991a-b93b27a1fd98",
   "metadata": {},
   "outputs": [],
   "source": [
    "intra_df = intra_df[list(rename_model.values()) + [\"persona_cat\"]]"
   ]
  },
  {
   "cell_type": "code",
   "execution_count": null,
   "id": "1600a23c-7fc3-40d0-8452-aab86c1bf8a0",
   "metadata": {},
   "outputs": [],
   "source": [
    "intra_df_stacked = intra_df[intra_df.columns[:-1]].stack().reset_index().rename(columns={'level_0':'index','level_1':'Model',0:'Avg. Std. Dev.'})"
   ]
  },
  {
   "cell_type": "code",
   "execution_count": null,
   "id": "466720dd-6ba9-4dbe-8a81-b3af4d789523",
   "metadata": {},
   "outputs": [],
   "source": [
    "intra_df_stacked[\"persona_cat\"] = [persona_cat_dict[persona]  if persona in persona_cat_dict.keys() else \"control\" for persona in intra_df_stacked[\"index\"]]"
   ]
  },
  {
   "cell_type": "code",
   "execution_count": null,
   "id": "69d27e00-c980-40ff-9bb6-f0a6545af711",
   "metadata": {},
   "outputs": [],
   "source": [
    "intra_df.sort_values(\"GPT-4\")"
   ]
  },
  {
   "cell_type": "code",
   "execution_count": null,
   "id": "8d650332-5383-42a7-83ce-99e16eb4d91f",
   "metadata": {},
   "outputs": [],
   "source": [
    "intra_df_stacked"
   ]
  },
  {
   "cell_type": "code",
   "execution_count": null,
   "id": "076572b8-8e6f-452c-8ef6-9a1e50f9cae5",
   "metadata": {},
   "outputs": [],
   "source": [
    "no_control = intra_df_stacked[~intra_df_stacked[\"persona_cat\"].isin([\"control\", \"empty\"])]\n",
    "only_control =  intra_df_stacked[intra_df_stacked[\"persona_cat\"] == \"control\"]\n",
    "only_empty = intra_df_stacked[intra_df_stacked[\"persona_cat\"] == \"empty\"]\n",
    "# ax, fix = plt.subplot(1, 1, figsize=(4,4))\n",
    "ax1 = sns.stripplot(data=no_control, x=\"Model\", y=\"Avg. Std. Dev.\", hue=\"persona_cat\", marker=\"o\", palette=sns.color_palette(\"Paired\"))\n",
    "offset = lambda p: transforms.ScaledTranslation(p/72.,0, plt.gcf().dpi_scale_trans)\n",
    "trans = plt.gca().transData\n",
    "ax2 = sns.stripplot(data=only_control, x=\"Model\", y=\"Avg. Std. Dev.\", color=\"black\", marker=\"X\", transform=trans+offset(15))\n",
    "ax3 = sns.stripplot(data=only_empty, x=\"Model\", y=\"Avg. Std. Dev.\", color=\"red\", marker=\"*\", size=10, transform=trans+offset(-15))\n",
    "plt.xticks(rotation=45)\n",
    "control_handle = Line2D([], [], color=\"black\", marker=\"X\", label=\"control\", linestyle=\"None\")\n",
    "control_label = \"control\"\n",
    "empty_handle = Line2D([], [], color=\"red\", marker=\"*\", label=\"empty\", linestyle=\"None\")\n",
    "empty_label = \"empty\"\n",
    "handles, labels = ax1.get_legend_handles_labels()\n",
    "ax1.legend(handles + [control_handle, empty_handle], labels + [control_label, empty_label], title=\"Persona category\")\n",
    "ax1.set_xlabel(\"\")\n",
    "sns.move_legend(ax1, \"upper left\", bbox_to_anchor=(1, 1))"
   ]
  },
  {
   "cell_type": "code",
   "execution_count": null,
   "id": "b85babb5-55fd-4cdf-a0c1-8b3797c14942",
   "metadata": {},
   "outputs": [],
   "source": [
    "ax1.get_figure().savefig(\"../persona-biases-paper/media/paraphrase_variation.pdf\", bbox_inches=\"tight\")"
   ]
  },
  {
   "cell_type": "code",
   "execution_count": null,
   "id": "e3ed4896-e86a-4575-9c8b-81603490e9b5",
   "metadata": {},
   "outputs": [],
   "source": [
    "intra_df.boxplot(by=\"persona_cat\", rot=90, figsize=(15,15))"
   ]
  },
  {
   "cell_type": "code",
   "execution_count": null,
   "id": "92549922-2afa-4060-8dc5-9a7de7869021",
   "metadata": {},
   "outputs": [],
   "source": [
    "intra_df.mean(0, numeric_only=True).sort_values()"
   ]
  },
  {
   "cell_type": "markdown",
   "id": "37dc6acb-5d30-4874-ad72-4a2b5c8936f4",
   "metadata": {},
   "source": [
    "LLM leaderboard: \n",
    "\n",
    "gemma-2b-it                   42.75\n",
    "\n",
    "gemma-7b-it                   53.56\n",
    "\n",
    "zephyr-7b-beta                61.95\n",
    "\n",
    "Mistral-7B-Instruct-v0.2      65.71\n",
    "\n",
    "Mixtral-8x7B-Instruct-v0.1    72.62"
   ]
  },
  {
   "cell_type": "code",
   "execution_count": null,
   "id": "625e35ef-ceff-41f4-bb49-f35fa729463a",
   "metadata": {},
   "outputs": [],
   "source": [
    "intra_df.corr(numeric_only=True, method=\"kendall\")"
   ]
  },
  {
   "cell_type": "code",
   "execution_count": null,
   "id": "0ce2ac6a-0373-4f07-8da1-430ced067d7c",
   "metadata": {},
   "outputs": [],
   "source": [
    "intra_df[\"avg\"] = intra_df.mean(1, numeric_only=True)"
   ]
  },
  {
   "cell_type": "code",
   "execution_count": null,
   "id": "516200a1-7b4d-42d2-93f1-19c9fe1ec40d",
   "metadata": {},
   "outputs": [],
   "source": [
    "intra_df.sort_values(\"avg\")"
   ]
  },
  {
   "cell_type": "code",
   "execution_count": null,
   "id": "515f8a2b-1a84-463b-95f2-bda74f52be42",
   "metadata": {},
   "outputs": [],
   "source": [
    "intra_df.idxmax()"
   ]
  },
  {
   "cell_type": "code",
   "execution_count": null,
   "id": "12086b5e-bae9-4e7d-b65c-5150bf0b0a2d",
   "metadata": {},
   "outputs": [],
   "source": [
    "intra_df.idxmin()"
   ]
  },
  {
   "cell_type": "code",
   "execution_count": null,
   "id": "25b47af3-8f80-4cc3-8528-9e47512b1af3",
   "metadata": {},
   "outputs": [],
   "source": [
    "pos_df = pd.DataFrame(index=intra_df.index)\n",
    "for col in intra_df.columns[:-2]:\n",
    "    temp_df = pd.DataFrame()\n",
    "    sorted = intra_df.sort_values(col, ascending=False).index\n",
    "    temp_df = temp_df.reindex(index=sorted)\n",
    "    temp_df[col] = list(range(1, len(intra_df)+1))\n",
    "    pos_df = pos_df.merge(temp_df, left_index=True, right_index=True)"
   ]
  },
  {
   "cell_type": "code",
   "execution_count": null,
   "id": "6a25eac6-bdb6-4068-9df3-403f1a82c494",
   "metadata": {},
   "outputs": [],
   "source": [
    "pos_df[\"avg\"] = pos_df.mean(1)"
   ]
  },
  {
   "cell_type": "code",
   "execution_count": null,
   "id": "e9ded177-b1db-48ab-b867-7f2a269d3ab6",
   "metadata": {},
   "outputs": [],
   "source": [
    "pos_df.sort_values(\"avg\")"
   ]
  },
  {
   "cell_type": "markdown",
   "id": "4fd5f107-fbdf-4262-b0cf-069d9e04c980",
   "metadata": {},
   "source": [
    "### Intra-persona score consistency"
   ]
  },
  {
   "cell_type": "code",
   "execution_count": null,
   "id": "67e24291-2d82-4b6e-b2bf-1f6805cf80f9",
   "metadata": {},
   "outputs": [],
   "source": [
    "data = json.load(open(\"./data/attitude_questions.json\", \"r\"))"
   ]
  },
  {
   "cell_type": "code",
   "execution_count": null,
   "id": "34333fda-18a9-4e64-889b-8384e081607d",
   "metadata": {},
   "outputs": [],
   "source": [
    "all_answer_paraphrases = get_results_df(\"attitude_answers.csv\", aggregate=False)"
   ]
  },
  {
   "cell_type": "code",
   "execution_count": null,
   "id": "895b037e-38e7-4cce-b1fd-54212c6377f7",
   "metadata": {},
   "outputs": [],
   "source": [
    "def answers_to_scores(answers):\n",
    "    answers = answers.T\n",
    "    answer_sets = {}\n",
    "    for answer_set in answers:\n",
    "        idx = 0\n",
    "        for attitudes in data:\n",
    "            ss = answer_set[idx:idx + len(attitudes[\"statements\"])]\n",
    "            idx += len(attitudes[\"statements\"])\n",
    "            for rev in attitudes[\"reverse\"]:\n",
    "                ss[rev] = 6 - ss[rev]\n",
    "            answer_sets.setdefault(attitudes[\"attitude\"], []).append(ss.mean())\n",
    "    for attitude, scores in answer_sets.items():\n",
    "        # answer_sets[attitude] = np.max(scores) - np.min(scores)\n",
    "        answer_sets[attitude] = np.std(scores)\n",
    "    return answer_sets"
   ]
  },
  {
   "cell_type": "code",
   "execution_count": null,
   "id": "c27d01da-4ac9-4e95-922a-efc68015c9c9",
   "metadata": {},
   "outputs": [],
   "source": [
    "all_answer_paraphrases = all_answer_paraphrases.iloc[:,:-1].map(answers_to_scores)"
   ]
  },
  {
   "cell_type": "code",
   "execution_count": null,
   "id": "6c5d9199-ca46-467a-abcf-5c29fd205501",
   "metadata": {},
   "outputs": [],
   "source": [
    "all_answer_paraphrases = all_answer_paraphrases[[model for model in rename_model.values()]]"
   ]
  },
  {
   "cell_type": "code",
   "execution_count": null,
   "id": "b213bc3d-6ea7-4c50-8e31-03ab7032a24c",
   "metadata": {},
   "outputs": [],
   "source": [
    "score_std_by_model = {}\n",
    "for att in all_answer_paraphrases.iloc[0,0].keys():\n",
    "    for col in all_answer_paraphrases.columns:\n",
    "        score_std_by_model.setdefault(col, {})[att] = all_answer_paraphrases[col].map(lambda x: x[att])"
   ]
  },
  {
   "cell_type": "code",
   "execution_count": null,
   "id": "01e0a1e7-a491-4ab6-b022-ca5e98a1e9e6",
   "metadata": {},
   "outputs": [],
   "source": [
    "df = pd.DataFrame()\n",
    "for model, dic in score_std_by_model.items():\n",
    "    temp_df = pd.DataFrame.from_dict(dic)\n",
    "    temp_df[\"model\"] = model\n",
    "    temp_df[\"persona_cat\"] = [persona_cat_dict[x] if x in persona_cat_dict else \"control\" for x in temp_df.index]\n",
    "    df = pd.concat([df, temp_df], axis=0)"
   ]
  },
  {
   "cell_type": "code",
   "execution_count": null,
   "id": "ced86370-0207-4a94-808b-da554a3db9e6",
   "metadata": {},
   "outputs": [],
   "source": [
    "sns.violinplot(df,x=\"model\", y=\"freedom of speech\")"
   ]
  },
  {
   "cell_type": "code",
   "execution_count": null,
   "id": "6c3c09c3-7021-4899-9e30-b5e6beabe9a1",
   "metadata": {},
   "outputs": [],
   "source": [
    "sns.violinplot(df,x=\"model\", y=\"harm of hate speech\")"
   ]
  },
  {
   "cell_type": "code",
   "execution_count": null,
   "id": "bdc2cd11-5bfd-4dd4-89ba-8b2990f259f1",
   "metadata": {},
   "outputs": [],
   "source": [
    "sns.violinplot(df,x=\"model\", y=\"racist beliefs\")"
   ]
  },
  {
   "cell_type": "code",
   "execution_count": null,
   "id": "f187fee1-ddcb-4f37-a9b9-4a3c5b6f5c82",
   "metadata": {},
   "outputs": [],
   "source": [
    "sns.violinplot(df,x=\"model\", y=\"traditionalism\")"
   ]
  },
  {
   "cell_type": "code",
   "execution_count": null,
   "id": "79157c49-8f1f-43cd-b6f8-8f7ed3d0fb29",
   "metadata": {},
   "outputs": [],
   "source": [
    "sns.violinplot(df,x=\"model\", y=\"language purism\")"
   ]
  },
  {
   "cell_type": "code",
   "execution_count": null,
   "id": "5c23a60a-1569-44b4-bf39-2d727c9817c7",
   "metadata": {},
   "outputs": [],
   "source": [
    "sns.violinplot(df,x=\"model\", y=\"empathy\")"
   ]
  },
  {
   "cell_type": "code",
   "execution_count": null,
   "id": "755c0824-0b08-4b36-b40b-53ce10dcec17",
   "metadata": {},
   "outputs": [],
   "source": [
    "sns.violinplot(df,x=\"model\", y=\"altruism\")"
   ]
  },
  {
   "cell_type": "code",
   "execution_count": null,
   "id": "078cf9a7-871d-454e-9722-b5004018e159",
   "metadata": {},
   "outputs": [],
   "source": [
    "df"
   ]
  },
  {
   "cell_type": "code",
   "execution_count": null,
   "id": "f515c11f-0f09-4ba0-b668-722b276f48a9",
   "metadata": {},
   "outputs": [],
   "source": [
    "avg_std = df.groupby(\"model\").mean(numeric_only=True); avg_std"
   ]
  },
  {
   "cell_type": "code",
   "execution_count": null,
   "id": "f0741dc5-7918-4143-a833-6bc158eb6491",
   "metadata": {},
   "outputs": [],
   "source": [
    "# personas_range = pd.DataFrame.from_dict({x: df.max(0, numeric_only=True) - df.min(0, numeric_only=True) for x, df in att_scores.items()}).T.rename(index=rename_model)"
   ]
  },
  {
   "cell_type": "code",
   "execution_count": null,
   "id": "af25981e-f98d-4054-a104-bf1148f3695e",
   "metadata": {},
   "outputs": [],
   "source": [
    "att_scores =  {model: pd.read_csv(results_path/model/\"attitude_scores.csv\", index_col=0) for model in models}\n",
    "att_scores_control = {model: pd.read_csv(control_results/model/\"attitude_scores.csv\", index_col=0) for model in models}\n",
    "att_scores = {model: pd.concat([att_scores[model], att_scores_control[model]], axis=0) for model in models}"
   ]
  },
  {
   "cell_type": "code",
   "execution_count": null,
   "id": "2ed316da-dc74-45b6-ab26-06cff8fe3c7a",
   "metadata": {},
   "outputs": [],
   "source": [
    "personas_std = pd.DataFrame.from_dict({x: df.std(0, numeric_only=True) for x, df in att_scores.items()}).T.rename(index=rename_model).loc[avg_std.index]"
   ]
  },
  {
   "cell_type": "code",
   "execution_count": null,
   "id": "003face3-5f84-4c6c-b8ee-b150eaa142b3",
   "metadata": {},
   "outputs": [],
   "source": [
    "personas_std"
   ]
  },
  {
   "cell_type": "code",
   "execution_count": null,
   "id": "64dce709-f69a-455d-8428-87dfa52e03c4",
   "metadata": {},
   "outputs": [],
   "source": [
    "std_ratio = personas_std / avg_std"
   ]
  },
  {
   "cell_type": "code",
   "execution_count": null,
   "id": "83fabb35-145e-4f20-b522-7715a4cf6a7a",
   "metadata": {},
   "outputs": [],
   "source": [
    "std_ratio[\"avg\"] = std_ratio.mean(1)"
   ]
  },
  {
   "cell_type": "code",
   "execution_count": null,
   "id": "38c465eb-9b03-4fad-aed9-ba4821a34cc1",
   "metadata": {},
   "outputs": [],
   "source": [
    "std_ratio.loc[\"avg\"] = std_ratio.mean(0)"
   ]
  },
  {
   "cell_type": "code",
   "execution_count": null,
   "id": "02b10171-8ba0-459a-9d53-23f41420d91d",
   "metadata": {},
   "outputs": [],
   "source": [
    "std_ratio"
   ]
  },
  {
   "cell_type": "markdown",
   "id": "700d210d-15f0-4e5b-8639-27c99da7353e",
   "metadata": {},
   "source": [
    "### Inter-persona consistency"
   ]
  },
  {
   "cell_type": "code",
   "execution_count": null,
   "id": "a2c46e84-2e69-4624-a680-46fabe8c4a3c",
   "metadata": {},
   "outputs": [],
   "source": [
    "all_answers_df = pd.DataFrame.from_dict(all_answers_dic)"
   ]
  },
  {
   "cell_type": "code",
   "execution_count": null,
   "id": "2062f3e9-954b-413a-b9a9-2e272a44f52c",
   "metadata": {},
   "outputs": [],
   "source": [
    "all_answers_df[\"persona_cat\"] = [persona_cat_dict[persona] for persona in all_answers_df.index]"
   ]
  },
  {
   "cell_type": "code",
   "execution_count": null,
   "id": "fb9caf5f-eb7e-49e7-9f8d-7aac2d47c4df",
   "metadata": {},
   "outputs": [],
   "source": [
    "all_answers_df_control = pd.DataFrame.from_dict(all_answers_control_dic)"
   ]
  },
  {
   "cell_type": "code",
   "execution_count": null,
   "id": "09522c12-582a-47c3-bb5f-d6c2137b3f32",
   "metadata": {},
   "outputs": [],
   "source": [
    "all_answers_df_control[\"persona_cat\"] = \"control\""
   ]
  },
  {
   "cell_type": "code",
   "execution_count": null,
   "id": "78628395-8a7c-4487-b9af-11dd3832f735",
   "metadata": {},
   "outputs": [],
   "source": [
    "all_answers_df = pd.concat([all_answers_df, all_answers_df_control], axis=0)"
   ]
  },
  {
   "cell_type": "code",
   "execution_count": null,
   "id": "02221820-b6c8-41eb-aebf-0cbd12a01633",
   "metadata": {},
   "outputs": [],
   "source": [
    "inter_alphas = {}\n",
    "for model in all_answers_df.columns[:-1]:\n",
    "    # inter_alphas[model] = krippendorff.alpha(reliability_data=np.vstack(all_answers_df[model].to_numpy()), level_of_measurement=\"interval\")\n",
    "    # inter_alphas[model] = average_correlation(np.vstack(all_answers_df[model].to_numpy()).T)\n",
    "    inter_alphas[model] = np.vstack(all_answers_df[model].to_numpy()).std(0).mean()"
   ]
  },
  {
   "cell_type": "code",
   "execution_count": null,
   "id": "4f91869e-4d17-4c0c-86ef-0c960ce2dc01",
   "metadata": {},
   "outputs": [],
   "source": [
    "pd.Series(inter_alphas).sort_values()"
   ]
  },
  {
   "cell_type": "code",
   "execution_count": null,
   "id": "12be35e1-9bdc-428f-879a-79473f717bf5",
   "metadata": {},
   "outputs": [],
   "source": [
    "att_scores =  {model: pd.read_csv(results_path/model/\"attitude_scores.csv\", index_col=0) for model in models}"
   ]
  },
  {
   "cell_type": "code",
   "execution_count": null,
   "id": "5ef69442-1ac4-4417-8147-72dca9782d48",
   "metadata": {},
   "outputs": [],
   "source": [
    "att_scores_control = {model: pd.read_csv(control_results/model/\"attitude_scores.csv\", index_col=0) for model in models}"
   ]
  },
  {
   "cell_type": "code",
   "execution_count": null,
   "id": "314dbc54-463a-4da6-a24b-5b4f32d8f862",
   "metadata": {},
   "outputs": [],
   "source": [
    "for model in att_scores.keys():\n",
    "    print(att_scores[model].iloc[:,:-1].std()  /att_scores_control[model].std())"
   ]
  },
  {
   "cell_type": "code",
   "execution_count": null,
   "id": "190d5226-3f70-493f-924a-8646ad28e741",
   "metadata": {},
   "outputs": [],
   "source": [
    "inter_score_alphas = {}\n",
    "for model, df in att_scores.items():\n",
    "    personas_scores = df.iloc[:,:-1].to_numpy()\n",
    "    control_scores = att_scores_control[model].to_numpy()\n",
    "    scores = np.vstack([personas_scores, control_scores])\n",
    "    # inter_score_alphas[model] = krippendorff.alpha(reliability_data=scores, level_of_measurement=\"ordinal\")\n",
    "    # inter_score_alphas[model] = average_correlation(scores.T)\n",
    "    inter_score_alphas[model] = np.vstack(all_answers_df[model].to_numpy()).std(0).mean()"
   ]
  },
  {
   "cell_type": "code",
   "execution_count": null,
   "id": "b67681c8-8e9a-4298-b653-b0757d01ad81",
   "metadata": {},
   "outputs": [],
   "source": [
    "pd.Series(inter_score_alphas).sort_values()"
   ]
  },
  {
   "cell_type": "code",
   "execution_count": null,
   "id": "cd61fabb-23a4-496a-8fd8-40b4a8a10a82",
   "metadata": {
    "scrolled": true
   },
   "outputs": [],
   "source": [
    "mean_and_std = {}\n",
    "means = {}\n",
    "stds = {}\n",
    "for model, df in att_scores.items():\n",
    "    personas_scores = df.iloc[:,:-1].to_numpy()\n",
    "    control_scores = att_scores_control[model].to_numpy()\n",
    "    scores = np.vstack([personas_scores, control_scores])\n",
    "    mean = scores.mean(0).round(2)\n",
    "    std = scores.std(0).round(2)\n",
    "    means[model] = mean\n",
    "    stds[model] = std\n",
    "    mean_and_std[model] = [f\"{m} ({s})\"for m, s in zip(mean,std)]"
   ]
  },
  {
   "cell_type": "code",
   "execution_count": null,
   "id": "4103082c-02cb-4ca3-bbd7-5ff28d1ca937",
   "metadata": {},
   "outputs": [],
   "source": [
    "means_df = pd.DataFrame.from_dict(means, orient=\"index\", columns=att_scores_control[\"gpt-3.5-turbo-0125\"].columns)"
   ]
  },
  {
   "cell_type": "code",
   "execution_count": null,
   "id": "498262c7-351e-4292-874d-3fa534d08c37",
   "metadata": {},
   "outputs": [],
   "source": [
    "means_df"
   ]
  },
  {
   "cell_type": "code",
   "execution_count": null,
   "id": "5daf0106-c992-4048-ae19-76d156125a92",
   "metadata": {},
   "outputs": [],
   "source": [
    "stds_df = pd.DataFrame.from_dict(stds, orient=\"index\", columns=att_scores_control[\"gpt-3.5-turbo-0125\"].columns)"
   ]
  },
  {
   "cell_type": "code",
   "execution_count": null,
   "id": "10ba35b8-332e-40f6-8211-9a9d897bc373",
   "metadata": {},
   "outputs": [],
   "source": [
    "stds_df"
   ]
  },
  {
   "cell_type": "code",
   "execution_count": null,
   "id": "7ac3e944-e09e-431b-a636-610d7f60e5ac",
   "metadata": {},
   "outputs": [],
   "source": [
    "pd.DataFrame.from_dict(mean_and_std, orient=\"index\", columns=att_scores_control[\"gpt-3.5-turbo-0125\"].columns)"
   ]
  },
  {
   "cell_type": "code",
   "execution_count": null,
   "id": "66b607bc-bd15-436f-859a-43df762541cf",
   "metadata": {},
   "outputs": [],
   "source": [
    "### star chart here"
   ]
  },
  {
   "cell_type": "code",
   "execution_count": null,
   "id": "10740d3f-4a1b-4adf-8d45-5d4844d48ee3",
   "metadata": {},
   "outputs": [],
   "source": [
    "cmap = colormaps.get_cmap(\"Paired\")"
   ]
  },
  {
   "cell_type": "code",
   "execution_count": null,
   "id": "b97d1539-9e73-4ecf-9292-111ad3890ef2",
   "metadata": {},
   "outputs": [],
   "source": [
    "att_scores = {model: att_scores[model] for model in rename_model.keys()}"
   ]
  },
  {
   "cell_type": "code",
   "execution_count": null,
   "id": "42422f45-b323-4b9f-98fe-380fa2bc658e",
   "metadata": {},
   "outputs": [],
   "source": [
    "N = 7\n",
    "theta = radar_factory(N, frame='polygon')\n",
    "\n",
    "fig, axs = plt.subplots(figsize=(8, 16), nrows=4, ncols=2,\n",
    "                        subplot_kw=dict(projection='radar'))\n",
    "theta = radar_factory(7)\n",
    "fig.subplots_adjust(wspace=0.50, hspace=0.05)\n",
    "\n",
    "\n",
    "for idx, model in enumerate(att_scores.keys()):\n",
    " \n",
    "    scores = att_scores[model].iloc[:,:-1]\n",
    "    scores_control = att_scores_control[model]\n",
    "    scores[\"control\"] = False\n",
    "    scores_control[\"control\"] = True\n",
    "    scores = pd.concat([scores, scores_control], axis=0)\n",
    "    \n",
    "    data = scores\n",
    "    ax = axs[idx//2, idx%2]\n",
    "    \n",
    "    # Plot the four cases from the example data on separate axes\n",
    "    ax.set_rgrids([1, 2, 3, 4, 5])\n",
    "    ax.set_title(rename_model[model], weight='bold', size='medium', position=(0.5, 1.1),\n",
    "                 horizontalalignment='center', verticalalignment='center')\n",
    "    for t, col in zip(theta, data.columns[:-1]):\n",
    "        points = data[~data.control]\n",
    "        control_points = data[data.control]\n",
    "        ax.plot([t]*len(points), points[col], \"o\", ms=4, color=\"b\")\n",
    "        ax.plot([t]*len(control_points), control_points[col], \"x\", ms=4, color=\"r\")\n",
    "    ax.plot(theta, data.iloc[:,:-1].loc[\"empty\"], color=\"orange\")\n",
    "    ax.fill(theta, data.iloc[:,:-1].loc[\"empty\"], alpha=0.25, label='_nolegend_', color=\"orange\")\n",
    "    # ax.plot(theta, data.iloc[:,:-1].min(), color=\"green\")\n",
    "    # ax.fill(theta, data.iloc[:,:-1].min(), alpha=0.25, label='_nolegend_', color=\"green\")\n",
    "    # ax.plot(theta, data.iloc[:,:-1].max(), color=\"red\")\n",
    "    # ax.fill(theta, data.iloc[:,:-1].max(), alpha=0.25, label='_nolegend_', color=\"red\")\n",
    "    ax.set_varlabels(data.columns[:-1])\n",
    "    ax.set_ylim(0, 5)\n",
    "    \n",
    "    # add legend relative to top-left plot\n",
    "    legend = None\n",
    "    ax.spines['polar'].set_visible(False)\n",
    "axs[3,1].axis(\"off\")\n",
    "labels = (\"Personas\", \"Control personas\")\n",
    "fig.legend(labels,  loc='lower right', bbox_to_anchor=(0.8, 0.25))\n",
    "# legend = axs[1,3].legend(labels, loc=(0.9, .95),\n",
    "                      # labelspacing=0.1, fontsize='small')\n",
    "plt.show()"
   ]
  },
  {
   "cell_type": "code",
   "execution_count": null,
   "id": "2eea5095-8990-4aba-9e5d-872810fea223",
   "metadata": {},
   "outputs": [],
   "source": [
    "fig.savefig(f\"../persona-biases-paper/media/attitudes.pdf\", bbox_inches = \"tight\")"
   ]
  },
  {
   "cell_type": "code",
   "execution_count": null,
   "id": "66e24f48-04a0-4952-9217-f5ac1169273d",
   "metadata": {},
   "outputs": [],
   "source": [
    "att_dfs = {}\n",
    "for model in att_scores.keys():\n",
    "    temp_df = att_scores[model].copy()\n",
    "    for column in temp_df.columns[:-1]:\n",
    "        partial_df = pd.concat([temp_df[column], att_scores_control[model][column]], axis=0)\n",
    "        if column in att_dfs:\n",
    "            att_dfs[column][model] = partial_df\n",
    "        else:\n",
    "            att_dfs[column] = pd.DataFrame(partial_df).rename(columns={column:model})"
   ]
  },
  {
   "cell_type": "code",
   "execution_count": null,
   "id": "97e3fa0c-2809-4b0d-9481-f027ee56d13a",
   "metadata": {},
   "outputs": [],
   "source": [
    "att_dfs[\"freedom of speech\"].corr(numeric_only=True, method=\"kendall\")"
   ]
  },
  {
   "cell_type": "code",
   "execution_count": null,
   "id": "61eb638c-7bd6-4850-8f0a-0e4b841224e9",
   "metadata": {},
   "outputs": [],
   "source": [
    "for att, df in att_dfs.items():\n",
    "    att_dfs[att][\"persona_cat\"] = [persona_cat_dict[persona] if persona in persona_cat_dict else \"control\" for persona in df.index]"
   ]
  },
  {
   "cell_type": "code",
   "execution_count": null,
   "id": "5c2859d1-8413-4d41-b159-d84304d8dbb0",
   "metadata": {},
   "outputs": [],
   "source": [
    "for group, df in att_dfs[\"freedom of speech\"].groupby(\"persona_cat\"):\n",
    "    corrs = df.corr(method=\"kendall\", numeric_only=True)\n",
    "    if corrs.to_numpy()[np.triu_indices(len(corrs), k = 1)].mean()>.5:\n",
    "        print(group)\n",
    "        df[\"avg\"] = df.mean(1, numeric_only=True)\n",
    "        print(df.sort_values(\"avg\"))\n",
    "        print(\"=========================\")"
   ]
  },
  {
   "cell_type": "code",
   "execution_count": null,
   "id": "118c6db6-e285-40a4-9da2-88f328829eb3",
   "metadata": {},
   "outputs": [],
   "source": [
    "cat_means = att_dfs[\"freedom of speech\"].groupby(\"persona_cat\").mean()\n",
    "corrs = cat_means.corr(method=\"kendall\", numeric_only=True)\n",
    "if corrs.to_numpy()[np.triu_indices(len(corrs), k = 1)].mean()>.5:\n",
    "        cat_means[\"avg\"] = cat_means.mean(1, numeric_only=True)\n",
    "        print(cat_means.sort_values(\"avg\"))\n",
    "        print(\"=========================\")"
   ]
  },
  {
   "cell_type": "code",
   "execution_count": null,
   "id": "f1a6c771-e7db-4deb-a83f-6d7e1c1f4e36",
   "metadata": {},
   "outputs": [],
   "source": [
    "df = att_dfs[\"freedom of speech\"]\n",
    "df_stacked =df[df.columns[:-1]].stack().reset_index().rename(columns={'level_0':'index','level_1':'Model',0:'Value'})\n",
    "df_stacked[\"persona_cat\"] = [persona_cat_dict[persona] if persona in persona_cat_dict else \"control\" for persona in df_stacked[\"index\"]]"
   ]
  },
  {
   "cell_type": "code",
   "execution_count": null,
   "id": "8feab75a-eccd-4c0f-a8a9-867bed59ce05",
   "metadata": {},
   "outputs": [],
   "source": [
    "att_dfs[\"freedom of speech\"][\"avg\"] = att_dfs[\"freedom of speech\"].mean(1, numeric_only=True)"
   ]
  },
  {
   "cell_type": "code",
   "execution_count": null,
   "id": "4723f4ec-3998-42cf-a5a4-5c2a3d34d6bd",
   "metadata": {},
   "outputs": [],
   "source": [
    "att_dfs[\"freedom of speech\"].sort_values(\"avg\")"
   ]
  },
  {
   "cell_type": "code",
   "execution_count": null,
   "id": "8250c65c-9238-48a5-99fa-8c3cf413c34f",
   "metadata": {},
   "outputs": [],
   "source": [
    "att_dfs[\"altruism\"].corr(numeric_only=True, method=\"kendall\")"
   ]
  },
  {
   "cell_type": "code",
   "execution_count": null,
   "id": "fc80ae28-3191-4756-a894-8eaab83ee2f9",
   "metadata": {},
   "outputs": [],
   "source": [
    "for group, df in att_dfs[\"altruism\"].groupby(\"persona_cat\"):\n",
    "    corrs = df.corr(method=\"kendall\", numeric_only=True)\n",
    "    if corrs.to_numpy()[np.triu_indices(len(corrs), k = 1)].mean()>.5:\n",
    "        print(group)\n",
    "        df[\"avg\"] = df.mean(1, numeric_only=True)\n",
    "        print(df.sort_values(\"avg\"))\n",
    "        print(\"=========================\")"
   ]
  },
  {
   "cell_type": "code",
   "execution_count": null,
   "id": "73b6a2ef-fd59-484d-92aa-e043ba6772bc",
   "metadata": {},
   "outputs": [],
   "source": [
    "cat_means = att_dfs[\"altruism\"].groupby(\"persona_cat\").mean()\n",
    "corrs = cat_means.corr(method=\"kendall\", numeric_only=True)\n",
    "if corrs.to_numpy()[np.triu_indices(len(corrs), k = 1)].mean()>.5:\n",
    "        cat_means[\"avg\"] = cat_means.mean(1, numeric_only=True)\n",
    "        print(cat_means.sort_values(\"avg\"))\n",
    "        print(\"=========================\")"
   ]
  },
  {
   "cell_type": "code",
   "execution_count": null,
   "id": "40b0db23-df45-4f24-9862-5e0aa3ce00d8",
   "metadata": {},
   "outputs": [],
   "source": [
    "df = att_dfs[\"altruism\"]\n",
    "df_stacked =df[df.columns[:-1]].stack().reset_index().rename(columns={'level_0':'index','level_1':'Model',0:'Value'})\n",
    "df_stacked[\"persona_cat\"] = [persona_cat_dict[persona] if persona in persona_cat_dict else \"control\" for persona in df_stacked[\"index\"]]"
   ]
  },
  {
   "cell_type": "code",
   "execution_count": null,
   "id": "155b2fc9-f2ff-4b59-a311-c713a65d973d",
   "metadata": {},
   "outputs": [],
   "source": [
    "att_dfs[\"altruism\"][\"avg\"] = att_dfs[\"altruism\"].mean(1, numeric_only=True)"
   ]
  },
  {
   "cell_type": "code",
   "execution_count": null,
   "id": "bda09900-4519-4924-b87d-4a121a389fa7",
   "metadata": {},
   "outputs": [],
   "source": [
    "att_dfs[\"altruism\"].sort_values(\"avg\")"
   ]
  },
  {
   "cell_type": "code",
   "execution_count": null,
   "id": "01b85d60-33e3-4221-a518-3fc46fbf76bc",
   "metadata": {},
   "outputs": [],
   "source": [
    "att_dfs[\"empathy\"].corr(numeric_only=True, method=\"kendall\")"
   ]
  },
  {
   "cell_type": "code",
   "execution_count": null,
   "id": "06c7882c-cd2e-4e6a-829e-ed954618352d",
   "metadata": {
    "scrolled": true
   },
   "outputs": [],
   "source": [
    "for group, df in att_dfs[\"empathy\"].groupby(\"persona_cat\"):\n",
    "    corrs = df.corr(method=\"kendall\", numeric_only=True)\n",
    "    if corrs.to_numpy()[np.triu_indices(len(corrs), k = 1)].mean()>.5:\n",
    "        print(group)\n",
    "        df[\"avg\"] = df.mean(1, numeric_only=True)\n",
    "        print(df.sort_values(\"avg\"))\n",
    "        print(\"=========================\")"
   ]
  },
  {
   "cell_type": "code",
   "execution_count": null,
   "id": "8e40c5ec-5b95-4ced-a3d5-413dbf94a7b5",
   "metadata": {},
   "outputs": [],
   "source": [
    "cat_means = att_dfs[\"empathy\"].groupby(\"persona_cat\").mean()\n",
    "corrs = cat_means.corr(method=\"kendall\", numeric_only=True)\n",
    "if corrs.to_numpy()[np.triu_indices(len(corrs), k = 1)].mean()>.5:\n",
    "        cat_means[\"avg\"] = cat_means.mean(1, numeric_only=True)\n",
    "        print(cat_means.sort_values(\"avg\"))\n",
    "        print(\"=========================\")"
   ]
  },
  {
   "cell_type": "code",
   "execution_count": null,
   "id": "2677f376-8843-4eb8-b137-8fd76c2307ec",
   "metadata": {},
   "outputs": [],
   "source": [
    "df = att_dfs[\"empathy\"]\n",
    "df_stacked =df[df.columns[:-1]].stack().reset_index().rename(columns={'level_0':'index','level_1':'Model',0:'Value'})\n",
    "df_stacked[\"persona_cat\"] = [persona_cat_dict[persona] if persona in persona_cat_dict else \"control\" for persona in df_stacked[\"index\"]]"
   ]
  },
  {
   "cell_type": "code",
   "execution_count": null,
   "id": "b9e55f63-dfb8-45cf-8945-e5550d43fda5",
   "metadata": {},
   "outputs": [],
   "source": [
    "att_dfs[\"empathy\"][\"avg\"] = att_dfs[\"empathy\"].mean(1, numeric_only=True)"
   ]
  },
  {
   "cell_type": "code",
   "execution_count": null,
   "id": "82bb44d2-954e-488b-843f-13e1612283a3",
   "metadata": {},
   "outputs": [],
   "source": [
    "att_dfs[\"empathy\"].sort_values(\"avg\")"
   ]
  },
  {
   "cell_type": "code",
   "execution_count": null,
   "id": "69a2d76c-9c32-4478-9c71-81c391cf11c2",
   "metadata": {},
   "outputs": [],
   "source": [
    "att_dfs[\"language purism\"].corr(numeric_only=True, method=\"kendall\")"
   ]
  },
  {
   "cell_type": "code",
   "execution_count": null,
   "id": "bd22a980-ad1d-4907-84d4-f8ba728e4d3c",
   "metadata": {},
   "outputs": [],
   "source": [
    "for group, df in att_dfs[\"language purism\"].groupby(\"persona_cat\"):\n",
    "    corrs = df.corr(method=\"kendall\", numeric_only=True)\n",
    "    if corrs.to_numpy()[np.triu_indices(len(corrs), k = 1)].mean()>.5:\n",
    "        print(group)\n",
    "        df[\"avg\"] = df.mean(1, numeric_only=True)\n",
    "        print(df.sort_values(\"avg\"))\n",
    "        print(\"=========================\")"
   ]
  },
  {
   "cell_type": "code",
   "execution_count": null,
   "id": "8d2bf496-630e-40fa-ab6f-b4294ff296f7",
   "metadata": {},
   "outputs": [],
   "source": [
    "cat_means = att_dfs[\"language purism\"].groupby(\"persona_cat\").mean()\n",
    "corrs = cat_means.corr(method=\"kendall\", numeric_only=True)\n",
    "if corrs.to_numpy()[np.triu_indices(len(corrs), k = 1)].mean()>.5:\n",
    "        cat_means[\"avg\"] = cat_means.mean(1, numeric_only=True)\n",
    "        print(cat_means.sort_values(\"avg\"))\n",
    "        print(\"=========================\")"
   ]
  },
  {
   "cell_type": "code",
   "execution_count": null,
   "id": "0e1f3d9a-a89d-414b-ad03-50a05f0b6652",
   "metadata": {},
   "outputs": [],
   "source": [
    "df = att_dfs[\"language purism\"]\n",
    "df_stacked =df[df.columns[:-1]].stack().reset_index().rename(columns={'level_0':'index','level_1':'Model',0:'Value'})\n",
    "df_stacked[\"persona_cat\"] = [persona_cat_dict[persona] if persona in persona_cat_dict else \"control\" for persona in df_stacked[\"index\"]]"
   ]
  },
  {
   "cell_type": "code",
   "execution_count": null,
   "id": "0d5d361c-b6ef-48f7-a975-af54237523be",
   "metadata": {},
   "outputs": [],
   "source": [
    "att_dfs[\"language purism\"][\"avg\"] = att_dfs[\"language purism\"].mean(1, numeric_only=True)"
   ]
  },
  {
   "cell_type": "code",
   "execution_count": null,
   "id": "d9708817-e635-48a9-b9ef-25a7c5e2556f",
   "metadata": {},
   "outputs": [],
   "source": [
    "att_dfs[\"language purism\"].sort_values(\"avg\")"
   ]
  },
  {
   "cell_type": "code",
   "execution_count": null,
   "id": "eab0463c-4b1b-4913-90f0-ae39278be6d8",
   "metadata": {},
   "outputs": [],
   "source": [
    "att_dfs[\"traditionalism\"].corr(numeric_only=True, method=\"kendall\")"
   ]
  },
  {
   "cell_type": "code",
   "execution_count": null,
   "id": "dfef54a4-aa91-491a-adf1-532b4182d072",
   "metadata": {},
   "outputs": [],
   "source": [
    "for group, df in att_dfs[\"traditionalism\"].groupby(\"persona_cat\"):\n",
    "    corrs = df.corr(method=\"kendall\", numeric_only=True)\n",
    "    if corrs.to_numpy()[np.triu_indices(len(corrs), k = 1)].mean()>.5:\n",
    "        print(group)\n",
    "        df[\"avg\"] = df.mean(1, numeric_only=True)\n",
    "        print(df.sort_values(\"avg\"))\n",
    "        print(\"=========================\")"
   ]
  },
  {
   "cell_type": "code",
   "execution_count": null,
   "id": "ec902387-abb2-49f1-a1eb-5912ff58269e",
   "metadata": {},
   "outputs": [],
   "source": [
    "cat_means = att_dfs[\"traditionalism\"].groupby(\"persona_cat\").mean()\n",
    "corrs = cat_means.corr(method=\"kendall\", numeric_only=True)\n",
    "if corrs.to_numpy()[np.triu_indices(len(corrs), k = 1)].mean()>.5:\n",
    "        cat_means[\"avg\"] = cat_means.mean(1, numeric_only=True)\n",
    "        print(cat_means.sort_values(\"avg\"))\n",
    "        print(\"=========================\")"
   ]
  },
  {
   "cell_type": "code",
   "execution_count": null,
   "id": "0469099f-87c1-4888-971f-4926421e305c",
   "metadata": {},
   "outputs": [],
   "source": [
    "df = att_dfs[\"traditionalism\"]\n",
    "df_stacked =df[df.columns[:-1]].stack().reset_index().rename(columns={'level_0':'index','level_1':'Model',0:'Value'})\n",
    "df_stacked[\"persona_cat\"] = [persona_cat_dict[persona] if persona in persona_cat_dict else \"control\" for persona in df_stacked[\"index\"]]"
   ]
  },
  {
   "cell_type": "code",
   "execution_count": null,
   "id": "b793d31b-9715-49e4-89b3-0859cfa48b12",
   "metadata": {},
   "outputs": [],
   "source": [
    "lm = mixedlm(\"Value ~ persona_cat\",  groups='Model', data=df_stacked)\n",
    "fit = lm.fit()"
   ]
  },
  {
   "cell_type": "code",
   "execution_count": null,
   "id": "8d37f35b-31b5-40bb-b75f-d609a5366092",
   "metadata": {},
   "outputs": [],
   "source": [
    "table = fit.summary().tables[1]\n",
    "table = table.iloc[:-2].astype(\"float\")\n",
    "significant = table[table[\"P>|z|\"]<.05]\n",
    "significant.sort_values(\"Coef.\")"
   ]
  },
  {
   "cell_type": "code",
   "execution_count": null,
   "id": "5f278c0a-35ae-4b17-a0f0-35f8049382dd",
   "metadata": {},
   "outputs": [],
   "source": [
    "lm = mixedlm(\"Value ~ index\", groups='Model', data=df_stacked)\n",
    "fit = lm.fit()"
   ]
  },
  {
   "cell_type": "code",
   "execution_count": null,
   "id": "4ea5cff0-d8f8-4e83-914a-e987e15bd548",
   "metadata": {},
   "outputs": [],
   "source": [
    "table = fit.summary().tables[1]\n",
    "table = table.iloc[:-1].astype(\"float\")\n",
    "significant = table[table[\"P>|z|\"]<.05]\n",
    "significant.sort_values(\"Coef.\")"
   ]
  },
  {
   "cell_type": "code",
   "execution_count": null,
   "id": "f8e3b88c-c4c4-48d1-854b-8f042b139ffc",
   "metadata": {},
   "outputs": [],
   "source": [
    "att_dfs[\"traditionalism\"][\"avg\"] = att_dfs[\"traditionalism\"].mean(1, numeric_only=True)"
   ]
  },
  {
   "cell_type": "code",
   "execution_count": null,
   "id": "bbfa16c9-8052-461e-b3cc-0932f613004a",
   "metadata": {},
   "outputs": [],
   "source": [
    "att_dfs[\"traditionalism\"].sort_values(\"avg\")"
   ]
  },
  {
   "cell_type": "code",
   "execution_count": null,
   "id": "994c0c24-98ad-4f0d-9d76-aad3079b7f58",
   "metadata": {},
   "outputs": [],
   "source": [
    "att_dfs[\"racist beliefs\"].corr(numeric_only=True, method=\"kendall\")"
   ]
  },
  {
   "cell_type": "code",
   "execution_count": null,
   "id": "1e5296be-7ef8-464d-bb2d-8b6952845240",
   "metadata": {},
   "outputs": [],
   "source": [
    "for group, df in att_dfs[\"racist beliefs\"].groupby(\"persona_cat\"):\n",
    "    corrs = df.corr(method=\"kendall\", numeric_only=True)\n",
    "    if corrs.to_numpy()[np.triu_indices(len(corrs), k = 1)].mean()>.5:\n",
    "        print(group)\n",
    "        df[\"avg\"] = df.mean(1, numeric_only=True)\n",
    "        print(df.sort_values(\"avg\"))\n",
    "        print(\"=========================\")"
   ]
  },
  {
   "cell_type": "code",
   "execution_count": null,
   "id": "f978a12b-7bd1-45c1-9015-170851ca0f18",
   "metadata": {},
   "outputs": [],
   "source": [
    "cat_means = att_dfs[\"racist beliefs\"].groupby(\"persona_cat\").mean()\n",
    "corrs = cat_means.corr(method=\"kendall\", numeric_only=True)\n",
    "if corrs.to_numpy()[np.triu_indices(len(corrs), k = 1)].mean()>.5:\n",
    "        cat_means[\"avg\"] = cat_means.mean(1, numeric_only=True)\n",
    "        print(cat_means.sort_values(\"avg\"))\n",
    "        print(\"=========================\")"
   ]
  },
  {
   "cell_type": "code",
   "execution_count": null,
   "id": "18dae27f-6431-42b1-8dcd-5a30bb093528",
   "metadata": {},
   "outputs": [],
   "source": [
    "df = att_dfs[\"racist beliefs\"]\n",
    "df_stacked =df[df.columns[:-1]].stack().reset_index().rename(columns={'level_0':'index','level_1':'Model',0:'Value'})\n",
    "df_stacked[\"persona_cat\"] = [persona_cat_dict[persona] if persona in persona_cat_dict else \"control\" for persona in df_stacked[\"index\"]]"
   ]
  },
  {
   "cell_type": "code",
   "execution_count": null,
   "id": "7459ffa8-c9fa-4237-8b02-032d4181b002",
   "metadata": {},
   "outputs": [],
   "source": [
    "lm = mixedlm(\"Value ~ persona_cat\",  groups='Model', data=df_stacked)\n",
    "fit = lm.fit()"
   ]
  },
  {
   "cell_type": "code",
   "execution_count": null,
   "id": "752812a1-affc-40b2-a264-f25261e03c9f",
   "metadata": {},
   "outputs": [],
   "source": [
    "table = fit.summary().tables[1]\n",
    "table = table.iloc[:-2].astype(\"float\")\n",
    "significant = table[table[\"P>|z|\"]<.05]\n",
    "significant.sort_values(\"Coef.\")"
   ]
  },
  {
   "cell_type": "code",
   "execution_count": null,
   "id": "0cb8a862-92e3-4995-8f8d-7afaea0f3daf",
   "metadata": {},
   "outputs": [],
   "source": [
    "lm = mixedlm(\"Value ~ index\", groups='Model', data=df_stacked)\n",
    "fit = lm.fit()"
   ]
  },
  {
   "cell_type": "code",
   "execution_count": null,
   "id": "4995abbc-dd12-4a46-9291-afc2fae19b15",
   "metadata": {},
   "outputs": [],
   "source": [
    "df.mean(0, numeric_only=True)"
   ]
  },
  {
   "cell_type": "code",
   "execution_count": null,
   "id": "541809cb-ad4d-4e54-b7bf-a5b8d383df00",
   "metadata": {},
   "outputs": [],
   "source": [
    "fit.summary()"
   ]
  },
  {
   "cell_type": "code",
   "execution_count": null,
   "id": "8c25ab30-25bf-4683-8620-f6f96b081153",
   "metadata": {},
   "outputs": [],
   "source": [
    "table = fit.summary().tables[1]\n",
    "table = table.iloc[:-1].astype(\"float\")\n",
    "significant = table[table[\"P>|z|\"]<.05]\n",
    "significant.sort_values(\"Coef.\")"
   ]
  },
  {
   "cell_type": "code",
   "execution_count": null,
   "id": "34a901e4-c0b6-453c-b9f6-f845ca08f0d7",
   "metadata": {},
   "outputs": [],
   "source": [
    "att_dfs[\"racist beliefs\"][\"avg\"] = att_dfs[\"racist beliefs\"].mean(1, numeric_only=True)"
   ]
  },
  {
   "cell_type": "code",
   "execution_count": null,
   "id": "52b2554c-80fe-4c2c-b5f5-f32828a9e3c2",
   "metadata": {},
   "outputs": [],
   "source": [
    "att_dfs[\"racist beliefs\"].sort_values(\"avg\")"
   ]
  },
  {
   "cell_type": "code",
   "execution_count": null,
   "id": "8fa8df3b-46cb-46d2-97b2-cca6fc7487cc",
   "metadata": {},
   "outputs": [],
   "source": [
    "att_dfs[\"harm of hate speech\"].corr(numeric_only=True, method=\"kendall\")"
   ]
  },
  {
   "cell_type": "code",
   "execution_count": null,
   "id": "9d4d38a3-4625-4e38-adc8-22792446d8a7",
   "metadata": {},
   "outputs": [],
   "source": [
    "for group, df in att_dfs[\"harm of hate speech\"].groupby(\"persona_cat\"):\n",
    "    corrs = df.corr(method=\"kendall\", numeric_only=True)\n",
    "    if corrs.to_numpy()[np.triu_indices(len(corrs), k = 1)].mean()>.5:\n",
    "        print(group)\n",
    "        df[\"avg\"] = df.mean(1, numeric_only=True)\n",
    "        print(df.sort_values(\"avg\"))\n",
    "        print(\"=========================\")"
   ]
  },
  {
   "cell_type": "code",
   "execution_count": null,
   "id": "4ae2a3de-ef71-449f-9eec-90cf6d939e35",
   "metadata": {},
   "outputs": [],
   "source": [
    "cat_means = att_dfs[\"harm of hate speech\"].groupby(\"persona_cat\").mean()\n",
    "corrs = cat_means.corr(method=\"kendall\", numeric_only=True)\n",
    "if corrs.to_numpy()[np.triu_indices(len(corrs), k = 1)].mean()>.5:\n",
    "        cat_means[\"avg\"] = cat_means.mean(1, numeric_only=True)\n",
    "        print(cat_means.sort_values(\"avg\"))\n",
    "        print(\"=========================\")"
   ]
  },
  {
   "cell_type": "code",
   "execution_count": null,
   "id": "f5b746ee-9711-42fc-9103-04f47cd1060d",
   "metadata": {},
   "outputs": [],
   "source": [
    "df = att_dfs[\"harm of hate speech\"]\n",
    "df_stacked =df[df.columns[:-1]].stack().reset_index().rename(columns={'level_0':'index','level_1':'Model',0:'Value'})\n",
    "df_stacked[\"persona_cat\"] = [persona_cat_dict[persona] if persona in persona_cat_dict else \"control\" for persona in df_stacked[\"index\"]]"
   ]
  },
  {
   "cell_type": "code",
   "execution_count": null,
   "id": "74a4a84f-e956-4590-80b1-73d1dffe2736",
   "metadata": {},
   "outputs": [],
   "source": [
    "att_dfs[\"harm of hate speech\"][\"avg\"] = att_dfs[\"freedom of speech\"].mean(1, numeric_only=True)"
   ]
  },
  {
   "cell_type": "code",
   "execution_count": null,
   "id": "59a3f957-0632-489f-9d60-3550af07835c",
   "metadata": {},
   "outputs": [],
   "source": [
    "att_dfs[\"harm of hate speech\"].sort_values(\"avg\")"
   ]
  },
  {
   "cell_type": "markdown",
   "id": "cb9e973e-2919-44b7-a595-80ef36da68f3",
   "metadata": {},
   "source": [
    "### Persona categories vs Control personas"
   ]
  },
  {
   "cell_type": "code",
   "execution_count": null,
   "id": "fe91a005-1f7e-4825-8dc9-fabd629b19b8",
   "metadata": {},
   "outputs": [],
   "source": [
    "for att, df in att_dfs.items():\n",
    "    att_dfs[att][\"persona_cat\"] = [persona_cat_dict[persona] if persona in persona_cat_dict else \"control\" for persona in att_dfs[att].index]"
   ]
  },
  {
   "cell_type": "code",
   "execution_count": null,
   "id": "8a43aa74-be4e-4c25-9b3d-c62a0d5194e0",
   "metadata": {},
   "outputs": [],
   "source": [
    "ratios_dfs = {}"
   ]
  },
  {
   "cell_type": "code",
   "execution_count": null,
   "id": "62d511cf-9e0e-4a2d-b557-75c908bca557",
   "metadata": {},
   "outputs": [],
   "source": [
    "std_dfs = []"
   ]
  },
  {
   "cell_type": "code",
   "execution_count": null,
   "id": "43a73910-57f8-40db-93af-2dc8912a3e45",
   "metadata": {},
   "outputs": [],
   "source": [
    "std_df =  att_dfs[\"freedom of speech\"].groupby(\"persona_cat\").std().iloc[:,:-1]\n",
    "std_df_ratios = std_df.iloc[1:]/std_df.iloc[0]\n",
    "std_df_ratios[\"avg\"] = std_df_ratios.mean(1)\n",
    "std_df_ratios.loc[\"avg\"] = std_df_ratios.mean(0)\n",
    "ratios_dfs[\"freedom of speech\"] = std_df_ratios\n",
    "std_df_ratios"
   ]
  },
  {
   "cell_type": "code",
   "execution_count": null,
   "id": "cc1fa136-3abc-4059-b604-853c2ee80fdb",
   "metadata": {},
   "outputs": [],
   "source": [
    "std_dfs.append(std_df)"
   ]
  },
  {
   "cell_type": "code",
   "execution_count": null,
   "id": "ca5832ac-8717-43e2-947d-08e79d738171",
   "metadata": {},
   "outputs": [],
   "source": [
    "std_df =  att_dfs[\"altruism\"].groupby(\"persona_cat\").std().iloc[:,:-1]\n",
    "std_df_ratios = std_df.iloc[1:]/std_df.iloc[0]\n",
    "std_df_ratios[\"avg\"] = std_df_ratios.mean(1)\n",
    "std_df_ratios.loc[\"avg\"] = std_df_ratios.mean(0)\n",
    "ratios_dfs[\"altruism\"] = std_df_ratios\n",
    "std_df_ratios"
   ]
  },
  {
   "cell_type": "code",
   "execution_count": null,
   "id": "a38f1626-8ed2-4281-9907-3dfb87724a90",
   "metadata": {},
   "outputs": [],
   "source": [
    "std_dfs.append(std_df)"
   ]
  },
  {
   "cell_type": "code",
   "execution_count": null,
   "id": "7863ecd7-61c9-4793-81b5-472394ad5598",
   "metadata": {},
   "outputs": [],
   "source": [
    "std_df =  att_dfs[\"empathy\"].groupby(\"persona_cat\").std().iloc[:,:-1]\n",
    "std_df_ratios = std_df.iloc[1:]/std_df.iloc[0]\n",
    "std_df_ratios[\"avg\"] = std_df_ratios.mean(1)\n",
    "std_df_ratios.loc[\"avg\"] = std_df_ratios.mean(0)\n",
    "ratios_dfs[\"empathy\"] = std_df_ratios\n",
    "std_df_ratios"
   ]
  },
  {
   "cell_type": "code",
   "execution_count": null,
   "id": "e73c1233-3d4d-40fe-a4f7-e004ca5640e5",
   "metadata": {},
   "outputs": [],
   "source": [
    "std_dfs.append(std_df)"
   ]
  },
  {
   "cell_type": "code",
   "execution_count": null,
   "id": "f13de74b-ecf9-4d87-84b7-213a2a2163b4",
   "metadata": {},
   "outputs": [],
   "source": [
    "std_df =  att_dfs[\"language purism\"].groupby(\"persona_cat\").std().iloc[:,:-1]\n",
    "std_df_ratios = std_df.iloc[1:]/std_df.iloc[0]\n",
    "std_df_ratios[\"avg\"] = std_df_ratios.mean(1)\n",
    "std_df_ratios.loc[\"avg\"] = std_df_ratios.mean(0)\n",
    "ratios_dfs[\"language purism\"] = std_df_ratios\n",
    "std_df_ratios"
   ]
  },
  {
   "cell_type": "code",
   "execution_count": null,
   "id": "46d04170-8125-4280-848f-636d540395b2",
   "metadata": {},
   "outputs": [],
   "source": [
    "std_dfs.append(std_df)"
   ]
  },
  {
   "cell_type": "code",
   "execution_count": null,
   "id": "43e9c4ca-122f-47c4-84b7-36a14468448d",
   "metadata": {},
   "outputs": [],
   "source": [
    "std_df =  att_dfs[\"traditionalism\"].groupby(\"persona_cat\").std().iloc[:,:-1]\n",
    "std_df_ratios = std_df.iloc[1:]/std_df.iloc[0]\n",
    "std_df_ratios[\"avg\"] = std_df_ratios.mean(1)\n",
    "std_df_ratios.loc[\"avg\"] = std_df_ratios.mean(0)\n",
    "ratios_dfs[\"traditionalism\"] = std_df_ratios\n",
    "std_df_ratios"
   ]
  },
  {
   "cell_type": "code",
   "execution_count": null,
   "id": "252e7fa8-fca9-45ba-9a0c-44e90fb28199",
   "metadata": {},
   "outputs": [],
   "source": [
    "std_dfs.append(std_df)"
   ]
  },
  {
   "cell_type": "code",
   "execution_count": null,
   "id": "cc0afa75-9740-4637-817b-00d56b44d186",
   "metadata": {},
   "outputs": [],
   "source": [
    "std_df =  att_dfs[\"racist beliefs\"].groupby(\"persona_cat\").std().iloc[:,:-1]\n",
    "std_df_ratios = std_df.iloc[1:]/std_df.iloc[0]\n",
    "std_df_ratios[\"avg\"] = std_df_ratios.mean(1)\n",
    "std_df_ratios.loc[\"avg\"] = std_df_ratios.mean(0)\n",
    "ratios_dfs[\"racist beliefs\"] = std_df_ratios\n",
    "std_df_ratios"
   ]
  },
  {
   "cell_type": "code",
   "execution_count": null,
   "id": "2d79b092-a165-4008-b0fa-1c765c7db773",
   "metadata": {},
   "outputs": [],
   "source": [
    "std_dfs.append(std_df)"
   ]
  },
  {
   "cell_type": "code",
   "execution_count": null,
   "id": "7e5e8222-0574-4434-ab26-1acfde6d2de7",
   "metadata": {},
   "outputs": [],
   "source": [
    "std_df =  att_dfs[\"harm of hate speech\"].groupby(\"persona_cat\").std().iloc[:,:-1]\n",
    "std_df_ratios = std_df.iloc[1:]/std_df.iloc[0]\n",
    "std_df_ratios[\"avg\"] = std_df_ratios.mean(1)\n",
    "std_df_ratios.loc[\"avg\"] = std_df_ratios.mean(0)\n",
    "ratios_dfs[\"harm of hate speech\"] = std_df_ratios\n",
    "std_df_ratios"
   ]
  },
  {
   "cell_type": "code",
   "execution_count": null,
   "id": "874ca0a7-9224-4182-9502-78ba189c2238",
   "metadata": {},
   "outputs": [],
   "source": [
    "std_dfs.append(std_df)"
   ]
  },
  {
   "cell_type": "code",
   "execution_count": null,
   "id": "4904e2b9-032e-40ad-9545-cbe69d6434ac",
   "metadata": {},
   "outputs": [],
   "source": [
    "att_stds =  pd.concat(std_dfs, axis=0).groupby(\"persona_cat\").mean().rename(columns=rename_model)"
   ]
  },
  {
   "cell_type": "code",
   "execution_count": null,
   "id": "1949323b-5c5a-480e-8d55-26328e73f3fe",
   "metadata": {},
   "outputs": [],
   "source": [
    "fig, axs = plt.subplots(figsize=(16, 8), nrows=2, ncols=4,sharex=True, sharey=True)\n",
    "\n",
    "for idx, att in enumerate(ratios_dfs.keys()):\n",
    "    ax = axs[idx//4, idx%4]\n",
    "    ax.set_title(att, weight='bold', size='medium', position=(0.5, 1.1),\n",
    "                 horizontalalignment='center', verticalalignment='center')\n",
    "    data = ratios_dfs[att].iloc[:-1,:-1].rename(columns=rename_model).stack().reset_index().rename(columns={'level_0':'index','level_1':'Model',0:'Std. Dev. Ratio'})\n",
    "    ax1 = sns.stripplot(data=data, x=\"Model\", y=\"Std. Dev. Ratio\", hue=\"persona_cat\", marker=\"o\", palette=sns.color_palette(\"Paired\"), ax=ax, log_scale=True)\n",
    "    # ax.plot(theta, data.iloc[:,:-1].min(), color=\"green\")\n",
    "    # ax.fill(theta, data.iloc[:,:-1].min(), alpha=0.25, label='_nolegend_', color=\"green\")\n",
    "    # ax.plot(theta, data.iloc[:,:-1].max(), color=\"red\")\n",
    "    # ax.fill(theta, data.iloc[:,:-1].max(), alpha=0.25, label='_nolegend_', color=\"red\")\n",
    "    # add legend relative to top-left plot\n",
    "    ax.get_legend().set_visible(False)\n",
    "    ax.axhline(1, linestyle='--')\n",
    "    ax.set_yscale('symlog')\n",
    "    ax.set_xlabel(\"\")\n",
    "    ax.tick_params(labelrotation=45)\n",
    "axs[1,3].axis(\"off\")\n",
    "handles, labels = ax1.get_legend_handles_labels()\n",
    "fig.legend(handles, labels,  loc='upper left', bbox_to_anchor=(0.75, 0.45))\n",
    "# axs[1,3].legend(handles, labels, loc=(0.9, .95),\n",
    "#                       labelspacing=0.1, fontsize='small')\n",
    "plt.show()"
   ]
  },
  {
   "cell_type": "code",
   "execution_count": null,
   "id": "649bb53e-8cac-4c49-b9d2-63143d8cea7f",
   "metadata": {},
   "outputs": [],
   "source": [
    "fig.savefig(\"../persona-biases-paper/media/attitude_std.pdf\", bbox_inches=\"tight\")"
   ]
  },
  {
   "cell_type": "markdown",
   "id": "96a8d389-7545-41c5-8ecd-ccc1cb68960d",
   "metadata": {},
   "source": [
    "### Refusal rates"
   ]
  },
  {
   "cell_type": "code",
   "execution_count": null,
   "id": "762631d7-6e93-4e48-9bc5-594020c9fa08",
   "metadata": {},
   "outputs": [],
   "source": [
    "all_att_refusals = get_results_df(\"attitude_refusals.csv\")"
   ]
  },
  {
   "cell_type": "code",
   "execution_count": null,
   "id": "b987f03d-a226-49db-8bc0-8a89113bd674",
   "metadata": {},
   "outputs": [],
   "source": [
    "all_att_refusals = all_att_refusals.rename(columns=rename_model)"
   ]
  },
  {
   "cell_type": "code",
   "execution_count": null,
   "id": "a4136311-65be-4573-b0f8-9c7c6858daa0",
   "metadata": {},
   "outputs": [],
   "source": [
    "all_att_refusals = all_att_refusals[list(rename_model.values()) + [\"persona_cat\"]]"
   ]
  },
  {
   "cell_type": "code",
   "execution_count": null,
   "id": "d37222e6-b06f-48fa-8c47-e7d67a950364",
   "metadata": {},
   "outputs": [],
   "source": [
    "all_att_refusals"
   ]
  },
  {
   "cell_type": "code",
   "execution_count": null,
   "id": "52eb551d-8f6f-4c04-8e90-258fc50a1751",
   "metadata": {},
   "outputs": [],
   "source": [
    "all_att_refusals.loc[\"a_black_person\"].iloc[:-1] / all_att_refusals.loc[\"an_african_american_person\"].iloc[:-1] "
   ]
  },
  {
   "cell_type": "code",
   "execution_count": null,
   "id": "5a8a66e4-42f8-48a4-baa4-2e3613d13fcb",
   "metadata": {},
   "outputs": [],
   "source": [
    "all_att_refusals.loc[[\"a_gay_person\", \"a_homosexual_person\"]]"
   ]
  },
  {
   "cell_type": "code",
   "execution_count": null,
   "id": "49b9c4d7-9cb9-4ca3-8fbf-9445e60a6341",
   "metadata": {},
   "outputs": [],
   "source": [
    "all_att_refusals.loc[\"a_homosexual_person\"].iloc[:-1] / all_att_refusals.loc[\"a_gay_person\"].iloc[:-1] "
   ]
  },
  {
   "cell_type": "code",
   "execution_count": null,
   "id": "fdb452b1-ccd9-44ba-bd57-46f3e980c15f",
   "metadata": {},
   "outputs": [],
   "source": [
    "all_att_refusals.sort_values(\"Mixtral\")"
   ]
  },
  {
   "cell_type": "code",
   "execution_count": null,
   "id": "2a27d6d1-d095-4192-bb35-47ed4a17141d",
   "metadata": {},
   "outputs": [],
   "source": [
    "all_att_refusals_stacked = all_att_refusals.iloc[:,:-1].stack().reset_index().rename(columns={'level_0':'index','level_1':'Model',0:'Refused Fraction'})"
   ]
  },
  {
   "cell_type": "code",
   "execution_count": null,
   "id": "c3cd31e0-e6ff-4f52-b036-43113e804bb9",
   "metadata": {},
   "outputs": [],
   "source": [
    "all_att_refusals_stacked[\"persona_cat\"] = [persona_cat_dict[persona]  if persona in persona_cat_dict.keys() else \"control\" for persona in all_att_refusals_stacked[\"index\"]]"
   ]
  },
  {
   "cell_type": "code",
   "execution_count": null,
   "id": "7c753cda-a3f3-486d-98d0-7e4c937fd3bb",
   "metadata": {},
   "outputs": [],
   "source": [
    "all_refusals_stacked.append(all_att_refusals_stacked)"
   ]
  },
  {
   "cell_type": "code",
   "execution_count": null,
   "id": "7b38e5a8-9525-432e-b37f-041aafe88a69",
   "metadata": {},
   "outputs": [],
   "source": [
    "no_control = all_att_refusals_stacked[~all_att_refusals_stacked[\"persona_cat\"].isin([\"control\", \"empty\"])]\n",
    "only_control =  all_att_refusals_stacked[all_att_refusals_stacked[\"persona_cat\"] == \"control\"]\n",
    "only_empty = all_att_refusals_stacked[all_att_refusals_stacked[\"persona_cat\"] == \"empty\"]\n",
    "# ax, fix = plt.subplot(1, 1, figsize=(4,4))\n",
    "ax1 = sns.stripplot(data=no_control, x=\"Model\", y=\"Refused Fraction\", hue=\"persona_cat\", marker=\"o\", palette=sns.color_palette(\"Paired\"))\n",
    "offset = lambda p: transforms.ScaledTranslation(p/72.,0, plt.gcf().dpi_scale_trans)\n",
    "trans = plt.gca().transData\n",
    "ax2 = sns.stripplot(data=only_control, x=\"Model\", y=\"Refused Fraction\", color=\"black\", marker=\"X\", transform=trans+offset(15))\n",
    "ax3 = sns.stripplot(data=only_empty, x=\"Model\", y=\"Refused Fraction\", color=\"red\", marker=\"*\", size=10, transform=trans+offset(-15))\n",
    "plt.xticks(rotation=45)\n",
    "control_handle = Line2D([], [], color=\"black\", marker=\"X\", label=\"control\", linestyle=\"None\")\n",
    "control_label = \"control\"\n",
    "empty_handle = Line2D([], [], color=\"red\", marker=\"*\", label=\"empty\", linestyle=\"None\")\n",
    "empty_label = \"empty\"\n",
    "handles, labels = ax1.get_legend_handles_labels()\n",
    "ax1.legend(handles + [control_handle, empty_handle], labels + [control_label, empty_label], title=\"Persona category\")\n",
    "sns.move_legend(ax1, \"upper left\", bbox_to_anchor=(1, 1))"
   ]
  },
  {
   "cell_type": "code",
   "execution_count": null,
   "id": "70a9656a-dddf-4d63-8be1-7d034e360c01",
   "metadata": {},
   "outputs": [],
   "source": [
    "all_att_refusals.corr(numeric_only=True, method=\"kendall\")"
   ]
  },
  {
   "cell_type": "code",
   "execution_count": null,
   "id": "9c07e385-9d4a-4b94-a38c-4a984fcc423c",
   "metadata": {},
   "outputs": [],
   "source": [
    "all_att_refusals[\"avg\"] = all_att_refusals.mean(1, numeric_only=True)"
   ]
  },
  {
   "cell_type": "code",
   "execution_count": null,
   "id": "983c4a24-6e99-4229-83bb-e4623c7c33ec",
   "metadata": {},
   "outputs": [],
   "source": [
    "all_att_refusals.sort_values(\"avg\")"
   ]
  },
  {
   "cell_type": "code",
   "execution_count": null,
   "id": "623926e4-fa38-4a6a-aabc-42574243d2df",
   "metadata": {},
   "outputs": [],
   "source": [
    "all_att_refusals.idxmax()"
   ]
  },
  {
   "cell_type": "code",
   "execution_count": null,
   "id": "9fa34fb8-239b-41c6-9c75-3144887732b3",
   "metadata": {},
   "outputs": [],
   "source": [
    "all_att_refusals.idxmin()"
   ]
  },
  {
   "cell_type": "code",
   "execution_count": null,
   "id": "14c1cf54-04e3-4a00-8b84-7bd6197b4ec5",
   "metadata": {},
   "outputs": [],
   "source": [
    "pos_df = pd.DataFrame(index=all_att_refusals.index)\n",
    "for col in all_att_refusals.columns[:-2]:\n",
    "    temp_df = pd.DataFrame()\n",
    "    sorted = all_att_refusals.sort_values(col, ascending=False).index\n",
    "    temp_df = temp_df.reindex(index=sorted)\n",
    "    temp_df[col] = list(range(1, len(all_att_refusals)+1))\n",
    "    pos_df = pos_df.merge(temp_df, left_index=True, right_index=True)"
   ]
  },
  {
   "cell_type": "code",
   "execution_count": null,
   "id": "ebf3ee11-7293-4779-a191-ffb69002d789",
   "metadata": {},
   "outputs": [],
   "source": [
    "pos_df[\"avg\"] = pos_df.mean(1)"
   ]
  },
  {
   "cell_type": "code",
   "execution_count": null,
   "id": "df63d6ae-0f66-496b-a585-08b9f368e86e",
   "metadata": {},
   "outputs": [],
   "source": [
    "pos_df.sort_values(\"avg\")"
   ]
  },
  {
   "cell_type": "markdown",
   "id": "68dbef27-94e7-4a2a-a6a5-85c371b37a6a",
   "metadata": {},
   "source": [
    "### Persona categories vs control personas"
   ]
  },
  {
   "cell_type": "code",
   "execution_count": null,
   "id": "218d2ce9-51b9-4f0e-9e92-55ffc38aa70e",
   "metadata": {},
   "outputs": [],
   "source": [
    "std_df =  all_att_refusals.groupby(\"persona_cat\").std().iloc[:,:-1]\n",
    "std_df_ratios = std_df.iloc[1:]/std_df.iloc[0]\n",
    "std_df_ratios[\"avg\"] = std_df_ratios.mean(1)\n",
    "std_df_ratios.loc[\"avg\"] = std_df_ratios.mean(0)\n",
    "std_df_ratios"
   ]
  },
  {
   "cell_type": "code",
   "execution_count": null,
   "id": "35e11e9a-04f0-4be9-ac49-8e8ad7e62041",
   "metadata": {},
   "outputs": [],
   "source": [
    "std_df"
   ]
  },
  {
   "cell_type": "code",
   "execution_count": null,
   "id": "7d743662-328a-4363-9840-65db670ffbdb",
   "metadata": {},
   "outputs": [],
   "source": [
    "data = std_df_ratios.iloc[:-1,:-1].rename(columns=rename_model).stack().reset_index().rename(columns={'level_0':'index','level_1':'Model',0:'Std. Dev. Ratio'})\n",
    "a = sns.stripplot(data=data, x=\"Model\", y=\"Std. Dev. Ratio\", hue=\"persona_cat\", marker=\"o\", palette=sns.color_palette(\"Paired\"))\n",
    "a.axhline(1, linestyle='--')\n",
    "a.set_yscale('symlog')\n",
    "# ax.plot(theta, data.iloc[:,:-1].min(), color=\"green\")\n",
    "# ax.fill(theta, data.iloc[:,:-1].min(), alpha=0.25, label='_nolegend_', color=\"green\")\n",
    "# ax.plot(theta, data.iloc[:,:-1].max(), color=\"red\")\n",
    "# ax.fill(theta, data.iloc[:,:-1].max(), alpha=0.25, label='_nolegend_', color=\"red\")\n",
    "# add legend relative to top-left plot\n",
    "plt.xticks(rotation=45)\n",
    "sns.move_legend(a, \"upper left\", bbox_to_anchor=(1, 1))"
   ]
  },
  {
   "cell_type": "code",
   "execution_count": null,
   "id": "0bdf7f3c-b0cf-4b84-abe1-6fd75722ff6c",
   "metadata": {},
   "outputs": [],
   "source": [
    "refusal_std_dfs.append(std_df)"
   ]
  },
  {
   "cell_type": "markdown",
   "id": "771b0b87-698c-4c21-811b-936f1d4b1738",
   "metadata": {},
   "source": [
    "## Toxicity"
   ]
  },
  {
   "cell_type": "markdown",
   "id": "f13ec8a1-ca84-4543-b936-28dcc103d7d9",
   "metadata": {},
   "source": [
    "### Offensiveness"
   ]
  },
  {
   "cell_type": "markdown",
   "id": "34c74368-ba37-4853-ada2-fe4d6dbcf0a0",
   "metadata": {},
   "source": [
    "#### Inter-persona variability"
   ]
  },
  {
   "cell_type": "code",
   "execution_count": null,
   "id": "8c36a904-462e-4fa7-ae3a-5f0b3b2fc181",
   "metadata": {},
   "outputs": [],
   "source": [
    "all_off = get_results_df(\"off_scores.csv\")"
   ]
  },
  {
   "cell_type": "code",
   "execution_count": null,
   "id": "7968c8e5-5e09-4ff3-9bc7-599ae411a853",
   "metadata": {},
   "outputs": [],
   "source": [
    "data = pd.read_csv(\"./data/annWithAttitudes/largeScale.csv\")"
   ]
  },
  {
   "cell_type": "code",
   "execution_count": null,
   "id": "696e3410-09d3-4ea0-9c38-fd61b19e4892",
   "metadata": {},
   "outputs": [],
   "source": [
    "data[~(data.isAAE | data.targetsBlackPeople | data.vulgar)]"
   ]
  },
  {
   "cell_type": "code",
   "execution_count": null,
   "id": "8cae9836-712c-4101-a2e5-af0c4cc4b9d9",
   "metadata": {},
   "outputs": [],
   "source": [
    "len(np.unique(data.annId))"
   ]
  },
  {
   "cell_type": "code",
   "execution_count": null,
   "id": "e0f96d42-aa49-49b7-b481-94c2dc9fd2dd",
   "metadata": {},
   "outputs": [],
   "source": [
    "krippendorff.alpha(value_counts=data.groupby([\"tweet\", \"off_avg\"]).size().unstack(fill_value=0).to_numpy(), level_of_measurement=\"interval\")"
   ]
  },
  {
   "cell_type": "code",
   "execution_count": null,
   "id": "fceef054-da98-49e6-9007-e5a82ba52b8b",
   "metadata": {},
   "outputs": [],
   "source": [
    "inter_alphas = {}\n",
    "for model in all_off.columns[:-1]:\n",
    "    inter_alphas[model] = krippendorff.alpha(reliability_data=np.stack(all_off[model].to_numpy()), level_of_measurement=\"interval\")"
   ]
  },
  {
   "cell_type": "code",
   "execution_count": null,
   "id": "5156ad21-6643-4dbb-92aa-75403ca78088",
   "metadata": {},
   "outputs": [],
   "source": [
    "pd.Series(inter_alphas).sort_values()"
   ]
  },
  {
   "cell_type": "code",
   "execution_count": null,
   "id": "30210462-ac83-4210-b86f-5eb3a92d8c82",
   "metadata": {},
   "outputs": [],
   "source": [
    "inter_alphas_no_control = {}\n",
    "all_off_no_control = all_off[all_off.persona_cat != \"control\"]\n",
    "for model in all_off_no_control.columns[:-1]:\n",
    "    inter_alphas_no_control[model] = krippendorff.alpha(reliability_data=np.stack(all_off_no_control[model].to_numpy()), level_of_measurement=\"interval\")"
   ]
  },
  {
   "cell_type": "code",
   "execution_count": null,
   "id": "24671853-76a6-4db2-b217-ea95791bee2f",
   "metadata": {},
   "outputs": [],
   "source": [
    "pd.Series(inter_alphas_no_control).sort_values()"
   ]
  },
  {
   "cell_type": "code",
   "execution_count": null,
   "id": "e95f40c7-3dda-4550-bfef-62eb008119e4",
   "metadata": {},
   "outputs": [],
   "source": [
    "all_off_means = all_off.iloc[:,:-1].map(np.mean)"
   ]
  },
  {
   "cell_type": "code",
   "execution_count": null,
   "id": "c59a8084-39e9-42cc-8fab-b7c3ba60ca11",
   "metadata": {},
   "outputs": [],
   "source": [
    "all_off_means = all_off_means[[x for x in rename_model.values()]].copy()"
   ]
  },
  {
   "cell_type": "code",
   "execution_count": null,
   "id": "8cd8ef65-bd1f-4d12-9df8-c7a9cfc2c6de",
   "metadata": {},
   "outputs": [],
   "source": [
    "all_off_means[\"persona_cat\"] = all_off[\"persona_cat\"]"
   ]
  },
  {
   "cell_type": "code",
   "execution_count": null,
   "id": "899339a4-ccec-431a-b522-cb3478c9c5cc",
   "metadata": {},
   "outputs": [],
   "source": [
    "all_off_means_stacked = all_off_means[all_off_means.columns[:-1]].stack().reset_index().rename(columns={'level_0':'index','level_1':'Model',0:'Avg. Off.'})"
   ]
  },
  {
   "cell_type": "code",
   "execution_count": null,
   "id": "871c3cef-8c93-4a19-86b0-35a65290d40a",
   "metadata": {},
   "outputs": [],
   "source": [
    "all_off_means_stacked[\"persona_cat\"] = [persona_cat_dict[persona]  if persona in persona_cat_dict.keys() else \"control\" for persona in all_off_means_stacked[\"index\"]]"
   ]
  },
  {
   "cell_type": "code",
   "execution_count": null,
   "id": "eb932f20-d6b8-469f-ab15-1897760607b2",
   "metadata": {},
   "outputs": [],
   "source": [
    "no_control = all_off_means_stacked[~all_off_means_stacked[\"persona_cat\"].isin([\"control\", \"empty\"])]\n",
    "only_control =  all_off_means_stacked[all_off_means_stacked[\"persona_cat\"] == \"control\"]\n",
    "only_empty = all_off_means_stacked[all_off_means_stacked[\"persona_cat\"] == \"empty\"]\n",
    "# ax, fix = plt.subplot(1, 1, figsize=(4,4))\n",
    "ax1 = sns.stripplot(data=no_control, x=\"Model\", y=\"Avg. Off.\", hue=\"persona_cat\", marker=\"o\", palette=sns.color_palette(\"Paired\"))\n",
    "offset = lambda p: transforms.ScaledTranslation(p/72.,0, plt.gcf().dpi_scale_trans)\n",
    "trans = plt.gca().transData\n",
    "ax2 = sns.stripplot(data=only_control, x=\"Model\", y=\"Avg. Off.\", color=\"black\", marker=\"X\", transform=trans+offset(15))\n",
    "ax3 = sns.stripplot(data=only_empty, x=\"Model\", y=\"Avg. Off.\", color=\"red\", marker=\"*\", size=10, transform=trans+offset(-15))\n",
    "plt.xticks(rotation=45)\n",
    "control_handle = Line2D([], [], color=\"black\", marker=\"X\", label=\"control\", linestyle=\"None\")\n",
    "control_label = \"control\"\n",
    "empty_handle = Line2D([], [], color=\"red\", marker=\"*\", label=\"empty\", linestyle=\"None\")\n",
    "empty_label = \"empty\"\n",
    "handles, labels = ax1.get_legend_handles_labels()\n",
    "ax1.legend(handles + [control_handle, empty_handle], labels + [control_label, empty_label], title=\"Persona category\")\n",
    "sns.move_legend(ax1, \"upper left\", bbox_to_anchor=(1, 1))"
   ]
  },
  {
   "cell_type": "code",
   "execution_count": null,
   "id": "7f834c77-7ced-4324-be8a-be6977b516ca",
   "metadata": {},
   "outputs": [],
   "source": [
    "all_off_means.boxplot(by=\"persona_cat\", rot=90, figsize=(15,15))"
   ]
  },
  {
   "cell_type": "code",
   "execution_count": null,
   "id": "56442318-b9ba-43a2-a3fa-8eda3f274bd1",
   "metadata": {},
   "outputs": [],
   "source": [
    "inter_std = {}\n",
    "for col in all_off.columns[:-1]:\n",
    "    inter_std[col] = np.stack(all_off[col].to_numpy()).std(0).mean()\n",
    "    "
   ]
  },
  {
   "cell_type": "code",
   "execution_count": null,
   "id": "52cebd00-3467-4f2d-9dcb-bbcd6d3e9575",
   "metadata": {},
   "outputs": [],
   "source": [
    "pd.Series(inter_std).sort_values()"
   ]
  },
  {
   "cell_type": "code",
   "execution_count": null,
   "id": "1e7b7246-da82-4651-b62b-6100261d345c",
   "metadata": {},
   "outputs": [],
   "source": [
    "all_off_means.corr(numeric_only=True, method=\"kendall\")"
   ]
  },
  {
   "cell_type": "code",
   "execution_count": null,
   "id": "28e5c865-5544-4fb5-9485-74fb6256a41c",
   "metadata": {},
   "outputs": [],
   "source": [
    "all_off_means[\"avg\"] = all_off_means.mean(1, numeric_only=True)"
   ]
  },
  {
   "cell_type": "code",
   "execution_count": null,
   "id": "e7695bc2-4b2c-42c0-9e3d-a9e19b6db1d8",
   "metadata": {},
   "outputs": [],
   "source": [
    "all_off_means.sort_values(\"avg\")"
   ]
  },
  {
   "cell_type": "code",
   "execution_count": null,
   "id": "9a847563-aacf-4e3d-9637-46a886ca39ce",
   "metadata": {},
   "outputs": [],
   "source": [
    "all_off_means.idxmax()"
   ]
  },
  {
   "cell_type": "code",
   "execution_count": null,
   "id": "3f26a606-f38d-4a3a-b0f9-def777b6efbb",
   "metadata": {},
   "outputs": [],
   "source": [
    "all_off_means.idxmin()"
   ]
  },
  {
   "cell_type": "code",
   "execution_count": null,
   "id": "0cffd466-09b1-4263-b4c3-8b1de15c4706",
   "metadata": {},
   "outputs": [],
   "source": [
    "pos_df = pd.DataFrame(index=all_off_means.index)\n",
    "for col in all_off_means.columns[:-2]:\n",
    "    temp_df = pd.DataFrame()\n",
    "    sorted = all_off_means.sort_values(col, ascending=False).index\n",
    "    temp_df = temp_df.reindex(index=sorted)\n",
    "    temp_df[col] = list(range(1, len(all_off_means)+1))\n",
    "    pos_df = pos_df.merge(temp_df, left_index=True, right_index=True)"
   ]
  },
  {
   "cell_type": "code",
   "execution_count": null,
   "id": "b33381e8-76e8-4ebd-acd3-2568a68f64c4",
   "metadata": {},
   "outputs": [],
   "source": [
    "pos_df[\"avg\"] = pos_df.mean(1)"
   ]
  },
  {
   "cell_type": "code",
   "execution_count": null,
   "id": "9f0c195e-cdd5-4de1-9bdf-70588a14b22e",
   "metadata": {},
   "outputs": [],
   "source": [
    "pos_df.sort_values(\"avg\")"
   ]
  },
  {
   "cell_type": "markdown",
   "id": "e8dfabe2-a188-431e-bbd9-cba4452c9204",
   "metadata": {},
   "source": [
    "### Persona categories vs control personas"
   ]
  },
  {
   "cell_type": "code",
   "execution_count": null,
   "id": "7b44990a-d28a-43ea-b49f-afca3914bde0",
   "metadata": {},
   "outputs": [],
   "source": [
    "std_df =  all_off_means.groupby(\"persona_cat\").std().iloc[:,:-1]\n",
    "std_df_ratios = std_df.iloc[1:]/std_df.iloc[0]\n",
    "std_df_ratios[\"avg\"] = std_df_ratios.mean(1)\n",
    "std_df_ratios.loc[\"avg\"] = std_df_ratios.mean(0)\n",
    "std_df_ratios"
   ]
  },
  {
   "cell_type": "code",
   "execution_count": null,
   "id": "016816e9-ce18-440c-ac35-5e169fac3ccf",
   "metadata": {},
   "outputs": [],
   "source": [
    "df = std_df_ratios.iloc[:-1,:-1].rename(columns=rename_model).stack().reset_index().rename(columns={'level_0':'index','level_1':'Model',0:'Std. Dev. Ratio'})\n",
    "a = sns.stripplot(data=df, x=\"Model\", y=\"Std. Dev. Ratio\", hue=\"persona_cat\", marker=\"o\", palette=sns.color_palette(\"Paired\"))\n",
    "a.axhline(1, linestyle='--')\n",
    "a.set_yscale('symlog')\n",
    "# ax.plot(theta, data.iloc[:,:-1].min(), color=\"green\")\n",
    "# ax.fill(theta, data.iloc[:,:-1].min(), alpha=0.25, label='_nolegend_', color=\"green\")\n",
    "# ax.plot(theta, data.iloc[:,:-1].max(), color=\"red\")\n",
    "# ax.fill(theta, data.iloc[:,:-1].max(), alpha=0.25, label='_nolegend_', color=\"red\")\n",
    "# add legend relative to top-left plot\n",
    "plt.xticks(rotation=45)\n",
    "sns.move_legend(a, \"upper left\", bbox_to_anchor=(1, 1))"
   ]
  },
  {
   "cell_type": "code",
   "execution_count": null,
   "id": "b6199d89-6797-47bf-b67c-31b35713d69c",
   "metadata": {},
   "outputs": [],
   "source": [
    "off_means_std = df"
   ]
  },
  {
   "cell_type": "markdown",
   "id": "615ee2fc-57bc-46e6-bb2e-86844f0f4506",
   "metadata": {},
   "source": [
    "#### Agreement with human judgements"
   ]
  },
  {
   "cell_type": "code",
   "execution_count": null,
   "id": "a09f0d50-148d-4b5b-8bd4-8b6a17c47286",
   "metadata": {},
   "outputs": [],
   "source": [
    "human_agg = data.drop_duplicates(\"tweet\").copy()\n",
    "ratings = []\n",
    "for _, row in human_agg.iterrows():\n",
    "    ratings.append(data[data.tweet == row[\"tweet\"]][\"off_avg\"].mean())\n",
    "human_agg.loc[:, \"off_avg\"] = ratings\n",
    "ratings = []\n",
    "for _, row in human_agg.iterrows():\n",
    "    ratings.append(data[data.tweet == row[\"tweet\"]][\"racist\"].mean())\n",
    "human_agg.loc[:, \"racist\"] = ratings"
   ]
  },
  {
   "cell_type": "code",
   "execution_count": null,
   "id": "1647d105-696b-4d92-9fd5-dafd2dc1ee9d",
   "metadata": {},
   "outputs": [],
   "source": [
    "off_aggs = {}\n",
    "for model in all_off.columns[:-1]:\n",
    "    off_aggs[model]= all_off[model].apply(lambda x: krippendorff.alpha(reliability_data=[x, human_agg[\"off_avg\"]], level_of_measurement=\"interval\"))"
   ]
  },
  {
   "cell_type": "code",
   "execution_count": null,
   "id": "921415f6-19e4-4c8b-bcd7-8b2ac467c76e",
   "metadata": {},
   "outputs": [],
   "source": [
    "aggs_df = pd.DataFrame.from_dict(off_aggs)"
   ]
  },
  {
   "cell_type": "code",
   "execution_count": null,
   "id": "eee02a19-7780-4b2e-aebf-47e346afd6d1",
   "metadata": {},
   "outputs": [],
   "source": [
    "aggs_df[\"persona_cat\"] = all_off[\"persona_cat\"]"
   ]
  },
  {
   "cell_type": "code",
   "execution_count": null,
   "id": "4c16156f-a8a5-4ceb-b6ef-16765a8df11c",
   "metadata": {},
   "outputs": [],
   "source": [
    "aggs_df = aggs_df[list(rename_model.values())+[\"persona_cat\"]]"
   ]
  },
  {
   "cell_type": "code",
   "execution_count": null,
   "id": "907c9b10-0451-4484-a020-b2acbf5fc18c",
   "metadata": {},
   "outputs": [],
   "source": [
    "off_aggs = aggs_df"
   ]
  },
  {
   "cell_type": "code",
   "execution_count": null,
   "id": "b79be8c8-d1ed-4451-8b21-18197667382b",
   "metadata": {},
   "outputs": [],
   "source": [
    "aggs_df.sort_values(\"GPT-4\")"
   ]
  },
  {
   "cell_type": "code",
   "execution_count": null,
   "id": "4bd9c48d-4f4f-426d-9ec3-a7fc03d0e4a3",
   "metadata": {},
   "outputs": [],
   "source": [
    "off_aggs_stacked = aggs_df.iloc[:,:-1].stack().reset_index().rename(columns={'level_0':'index','level_1':'Model',0:'Agreement with humans'})"
   ]
  },
  {
   "cell_type": "code",
   "execution_count": null,
   "id": "a128dc94-a96b-458c-9b0a-8137b8ab0b0e",
   "metadata": {},
   "outputs": [],
   "source": [
    "off_aggs_stacked[\"persona_cat\"] = [persona_cat_dict[persona]  if persona in persona_cat_dict.keys() else \"control\" for persona in off_aggs_stacked[\"index\"]]"
   ]
  },
  {
   "cell_type": "code",
   "execution_count": null,
   "id": "66aa2be1-01c0-480c-a2c2-24a31e66e800",
   "metadata": {},
   "outputs": [],
   "source": [
    "no_control = off_aggs_stacked[~off_aggs_stacked[\"persona_cat\"].isin([\"control\", \"empty\"])]\n",
    "only_control =  off_aggs_stacked[off_aggs_stacked[\"persona_cat\"] == \"control\"]\n",
    "only_empty = off_aggs_stacked[off_aggs_stacked[\"persona_cat\"] == \"empty\"]\n",
    "# ax, fix = plt.subplot(1, 1, figsize=(4,4))\n",
    "ax1 = sns.stripplot(data=no_control, x=\"Model\", y=\"Agreement with humans\", hue=\"persona_cat\", marker=\"o\", palette=sns.color_palette(\"Paired\"))\n",
    "offset = lambda p: transforms.ScaledTranslation(p/72.,0, plt.gcf().dpi_scale_trans)\n",
    "trans = plt.gca().transData\n",
    "ax2 = sns.stripplot(data=only_control, x=\"Model\", y=\"Agreement with humans\", color=\"black\", marker=\"X\", transform=trans+offset(15))\n",
    "ax3 = sns.stripplot(data=only_empty, x=\"Model\", y=\"Agreement with humans\", color=\"red\", marker=\"*\", size=10, transform=trans+offset(-15))\n",
    "plt.xticks(rotation=45)\n",
    "control_handle = Line2D([], [], color=\"black\", marker=\"X\", label=\"control\", linestyle=\"None\")\n",
    "control_label = \"control\"\n",
    "empty_handle = Line2D([], [], color=\"red\", marker=\"*\", label=\"empty\", linestyle=\"None\")\n",
    "empty_label = \"empty\"\n",
    "handles, labels = ax1.get_legend_handles_labels()\n",
    "ax1.legend(handles + [control_handle, empty_handle], labels + [control_label, empty_label], title=\"Persona category\")\n",
    "sns.move_legend(ax1, \"upper left\", bbox_to_anchor=(1, 1))"
   ]
  },
  {
   "cell_type": "code",
   "execution_count": null,
   "id": "ef3f37d5-7163-4ad5-bf8b-df46af52c415",
   "metadata": {},
   "outputs": [],
   "source": [
    "aggs_df.corr(numeric_only=True, method=\"kendall\")"
   ]
  },
  {
   "cell_type": "code",
   "execution_count": null,
   "id": "e103017c-c552-4cbf-8abe-2c9c85eb3cf6",
   "metadata": {},
   "outputs": [],
   "source": [
    "aggs_df[\"avg\"] = aggs_df.mean(1, numeric_only=True)"
   ]
  },
  {
   "cell_type": "code",
   "execution_count": null,
   "id": "ec3d844f-356a-457a-8647-0a154c9db418",
   "metadata": {},
   "outputs": [],
   "source": [
    "aggs_df.sort_values(\"avg\")"
   ]
  },
  {
   "cell_type": "code",
   "execution_count": null,
   "id": "66255e13-f3cd-4f08-b22a-4e7b9fbd3a22",
   "metadata": {},
   "outputs": [],
   "source": [
    "aggs_df.idxmax()"
   ]
  },
  {
   "cell_type": "code",
   "execution_count": null,
   "id": "c68dd287-bf33-4c39-8c32-e9256f50d8a5",
   "metadata": {},
   "outputs": [],
   "source": [
    "aggs_df.idxmin()"
   ]
  },
  {
   "cell_type": "code",
   "execution_count": null,
   "id": "0c65d1af-3bbd-424b-aad6-30d173e7ab18",
   "metadata": {},
   "outputs": [],
   "source": [
    "pos_df = pd.DataFrame(index=aggs_df.index)\n",
    "for col in aggs_df.columns[:-2]:\n",
    "    temp_df = pd.DataFrame()\n",
    "    sorted = aggs_df.sort_values(col, ascending=False).index\n",
    "    temp_df = temp_df.reindex(index=sorted)\n",
    "    temp_df[col] = list(range(1, len(aggs_df)+1))\n",
    "    pos_df = pos_df.merge(temp_df, left_index=True, right_index=True)"
   ]
  },
  {
   "cell_type": "code",
   "execution_count": null,
   "id": "bee71e44-34b3-4b42-8210-4866a90d4645",
   "metadata": {},
   "outputs": [],
   "source": [
    "pos_df[\"avg\"] = pos_df.mean(1)"
   ]
  },
  {
   "cell_type": "code",
   "execution_count": null,
   "id": "27ba5ea8-81f8-40b6-bb69-4885f4694833",
   "metadata": {
    "scrolled": true
   },
   "outputs": [],
   "source": [
    "pos_df.sort_values(\"avg\")"
   ]
  },
  {
   "cell_type": "markdown",
   "id": "ffcf9ea2-c35a-4a66-a6c9-c50b5d8db2d3",
   "metadata": {},
   "source": [
    "### Persona categories vs control personas"
   ]
  },
  {
   "cell_type": "code",
   "execution_count": null,
   "id": "51e5baaf-b99e-4100-a4c1-6d157bab6cab",
   "metadata": {},
   "outputs": [],
   "source": [
    "std_df =  aggs_df.groupby(\"persona_cat\").std().iloc[:,:-1]\n",
    "std_df_ratios = std_df.iloc[1:]/std_df.iloc[0]\n",
    "std_df_ratios[\"avg\"] = std_df_ratios.mean(1)\n",
    "std_df_ratios.loc[\"avg\"] = std_df_ratios.mean(0)\n",
    "std_df_ratios"
   ]
  },
  {
   "cell_type": "code",
   "execution_count": null,
   "id": "44f46e03-0655-4d7e-b3d7-a3913cabfda4",
   "metadata": {},
   "outputs": [],
   "source": [
    "df = std_df_ratios.iloc[:-1,:-1].rename(columns=rename_model).stack().reset_index().rename(columns={'level_0':'index','level_1':'Model',0:'Std. Dev. Ratio'})\n",
    "a = sns.stripplot(data=df, x=\"Model\", y=\"Std. Dev. Ratio\", hue=\"persona_cat\", marker=\"o\", palette=sns.color_palette(\"Paired\"), log_scale=True)\n",
    "a.axhline(1, linestyle='--')\n",
    "a.set_yscale('symlog')\n",
    "# ax.plot(theta, data.iloc[:,:-1].min(), color=\"green\")\n",
    "# ax.fill(theta, data.iloc[:,:-1].min(), alpha=0.25, label='_nolegend_', color=\"green\")\n",
    "# ax.plot(theta, data.iloc[:,:-1].max(), color=\"red\")\n",
    "# ax.fill(theta, data.iloc[:,:-1].max(), alpha=0.25, label='_nolegend_', color=\"red\")\n",
    "# add legend relative to top-left plot\n",
    "plt.xticks(rotation=45)\n",
    "sns.move_legend(a, \"upper left\", bbox_to_anchor=(1, 1))"
   ]
  },
  {
   "cell_type": "code",
   "execution_count": null,
   "id": "475be932-582b-4674-8d60-370bcba0e50f",
   "metadata": {},
   "outputs": [],
   "source": [
    "off_aggs_stds = std_df"
   ]
  },
  {
   "cell_type": "code",
   "execution_count": null,
   "id": "41b2cc97-324e-4b18-850b-b63158da83eb",
   "metadata": {},
   "outputs": [],
   "source": [
    "off_aggs_std = df"
   ]
  },
  {
   "cell_type": "markdown",
   "id": "c11e330a-3f73-49dd-ac57-bdb5aebee407",
   "metadata": {},
   "source": [
    "#### Refusal rates"
   ]
  },
  {
   "cell_type": "code",
   "execution_count": null,
   "id": "6e958c76-7660-43e1-acd1-677a8d000344",
   "metadata": {},
   "outputs": [],
   "source": [
    "all_off_refusals = get_results_df(\"off_refusals.csv\")"
   ]
  },
  {
   "cell_type": "code",
   "execution_count": null,
   "id": "6cd661a0-d8c3-407d-8331-1c030903fc74",
   "metadata": {},
   "outputs": [],
   "source": [
    "all_off_refusals = all_off_refusals.rename(columns=rename_model)"
   ]
  },
  {
   "cell_type": "code",
   "execution_count": null,
   "id": "d2db598a-281f-4f4e-ae72-cdd5cced1233",
   "metadata": {},
   "outputs": [],
   "source": [
    "all_off_refusals = all_off_refusals[list(rename_model.values()) + [\"persona_cat\"]]"
   ]
  },
  {
   "cell_type": "code",
   "execution_count": null,
   "id": "5bf2e8ad-bed6-4c46-9ff0-e2c21759a7d3",
   "metadata": {},
   "outputs": [],
   "source": [
    "all_off_refusals_mean = all_off_refusals.iloc[:,:-1].map(np.mean)"
   ]
  },
  {
   "cell_type": "code",
   "execution_count": null,
   "id": "fd781e52-3944-47b2-a8a2-c545c69bce76",
   "metadata": {},
   "outputs": [],
   "source": [
    "all_off_refusals_mean.sort_values(\"GPT-4\")"
   ]
  },
  {
   "cell_type": "code",
   "execution_count": null,
   "id": "c4093e32-e250-4da5-8159-1bb01f9805d7",
   "metadata": {},
   "outputs": [],
   "source": [
    "all_off_refusals_stacked = all_off_refusals_mean.iloc[:,:-1].stack().reset_index().rename(columns={'level_0':'index','level_1':'Model',0:'Refused Fraction'})"
   ]
  },
  {
   "cell_type": "code",
   "execution_count": null,
   "id": "58368345-5a00-4599-84e5-0a632dbf1852",
   "metadata": {},
   "outputs": [],
   "source": [
    "all_off_refusals_stacked[\"persona_cat\"] = [persona_cat_dict[persona]  if persona in persona_cat_dict.keys() else \"control\" for persona in all_off_refusals_stacked[\"index\"]]"
   ]
  },
  {
   "cell_type": "code",
   "execution_count": null,
   "id": "2d521047-3506-45bb-9636-9de24623f516",
   "metadata": {},
   "outputs": [],
   "source": [
    "all_refusals_stacked.append(all_off_refusals_stacked)"
   ]
  },
  {
   "cell_type": "code",
   "execution_count": null,
   "id": "65c870ab-d752-4ba0-a586-74d825226933",
   "metadata": {},
   "outputs": [],
   "source": [
    "no_control = all_off_refusals_stacked[~all_off_refusals_stacked[\"persona_cat\"].isin([\"control\", \"empty\"])]\n",
    "only_control =  all_off_refusals_stacked[all_off_refusals_stacked[\"persona_cat\"] == \"control\"]\n",
    "only_empty = all_off_refusals_stacked[all_off_refusals_stacked[\"persona_cat\"] == \"empty\"]\n",
    "# ax, fix = plt.subplot(1, 1, figsize=(4,4))\n",
    "ax1 = sns.stripplot(data=no_control, x=\"Model\", y=\"Refused Fraction\", hue=\"persona_cat\", marker=\"o\", palette=sns.color_palette(\"Paired\"))\n",
    "offset = lambda p: transforms.ScaledTranslation(p/72.,0, plt.gcf().dpi_scale_trans)\n",
    "trans = plt.gca().transData\n",
    "ax2 = sns.stripplot(data=only_control, x=\"Model\", y=\"Refused Fraction\", color=\"black\", marker=\"X\", transform=trans+offset(15))\n",
    "ax3 = sns.stripplot(data=only_empty, x=\"Model\", y=\"Refused Fraction\", color=\"red\", marker=\"*\", size=10, transform=trans+offset(-15))\n",
    "plt.xticks(rotation=45)\n",
    "control_handle = Line2D([], [], color=\"black\", marker=\"X\", label=\"control\", linestyle=\"None\")\n",
    "control_label = \"control\"\n",
    "empty_handle = Line2D([], [], color=\"red\", marker=\"*\", label=\"empty\", linestyle=\"None\")\n",
    "empty_label = \"empty\"\n",
    "handles, labels = ax1.get_legend_handles_labels()\n",
    "ax1.legend(handles + [control_handle, empty_handle], labels + [control_label, empty_label], title=\"Persona category\")\n",
    "sns.move_legend(ax1, \"upper left\", bbox_to_anchor=(1, 1))"
   ]
  },
  {
   "cell_type": "code",
   "execution_count": null,
   "id": "bbaa87d3-1b08-419a-8070-2f075f3baaa5",
   "metadata": {},
   "outputs": [],
   "source": [
    "all_off_refusals_mean.corr(numeric_only=True, method=\"kendall\")"
   ]
  },
  {
   "cell_type": "code",
   "execution_count": null,
   "id": "3fa8574c-3b25-41a0-86b5-1d27ac9f5755",
   "metadata": {},
   "outputs": [],
   "source": [
    "all_off_refusals_mean[\"avg\"] = all_off_refusals_mean.mean(1, numeric_only=True)"
   ]
  },
  {
   "cell_type": "code",
   "execution_count": null,
   "id": "88d14ba1-7839-4a65-9044-d9335bbbbfb8",
   "metadata": {},
   "outputs": [],
   "source": [
    "all_off_refusals_mean.sort_values(\"avg\")"
   ]
  },
  {
   "cell_type": "code",
   "execution_count": null,
   "id": "ff80f80a-067f-41de-bb88-1d09f64cce13",
   "metadata": {},
   "outputs": [],
   "source": [
    "all_off_refusals_mean.idxmax()"
   ]
  },
  {
   "cell_type": "code",
   "execution_count": null,
   "id": "214027c2-3db3-46ca-93fd-d5d519a311b5",
   "metadata": {},
   "outputs": [],
   "source": [
    "all_off_refusals_mean.idxmin()"
   ]
  },
  {
   "cell_type": "code",
   "execution_count": null,
   "id": "c82d11db-6369-495c-b326-3dc50803284b",
   "metadata": {},
   "outputs": [],
   "source": [
    "pos_df = pd.DataFrame(index=all_off_refusals_mean.index)\n",
    "for col in all_off_refusals_mean.columns[:-2]:\n",
    "    temp_df = pd.DataFrame()\n",
    "    sorted = all_off_refusals_mean.sort_values(col, ascending=False).index\n",
    "    temp_df = temp_df.reindex(index=sorted)\n",
    "    temp_df[col] = list(range(1, len(all_off_refusals_mean)+1))\n",
    "    pos_df = pos_df.merge(temp_df, left_index=True, right_index=True)"
   ]
  },
  {
   "cell_type": "code",
   "execution_count": null,
   "id": "a76b1c3e-9cf6-42c7-8baa-bbc223d39623",
   "metadata": {},
   "outputs": [],
   "source": [
    "pos_df[\"avg\"] = pos_df.mean(1)"
   ]
  },
  {
   "cell_type": "code",
   "execution_count": null,
   "id": "ad8cccb3-9ddd-45ac-9db8-1a14492ac371",
   "metadata": {},
   "outputs": [],
   "source": [
    "pos_df"
   ]
  },
  {
   "cell_type": "markdown",
   "id": "36c50c6d-3431-4648-a9ca-0e4759a44246",
   "metadata": {},
   "source": [
    "### Persona categories vs control personas"
   ]
  },
  {
   "cell_type": "code",
   "execution_count": null,
   "id": "a908d6d4-c45b-42b5-90c9-0b6b5c4217ac",
   "metadata": {},
   "outputs": [],
   "source": [
    "all_off_refusals_mean[\"persona_cat\"] = [persona_cat_dict[persona] if persona in persona_cat_dict else \"control\" for persona in all_off_refusals_mean.index]"
   ]
  },
  {
   "cell_type": "code",
   "execution_count": null,
   "id": "91d6d856-5ea4-4152-9fa0-7b366a662a1c",
   "metadata": {},
   "outputs": [],
   "source": [
    "std_df"
   ]
  },
  {
   "cell_type": "code",
   "execution_count": null,
   "id": "c6fd0ccf-9d51-47c2-965d-a696e51f6df0",
   "metadata": {},
   "outputs": [],
   "source": [
    "std_df =  all_off_refusals_mean.groupby(\"persona_cat\").std().iloc[:,:-1]\n",
    "std_df_ratios = std_df.iloc[1:]/std_df.iloc[0]\n",
    "std_df_ratios[\"avg\"] = std_df_ratios.mean(1)\n",
    "std_df_ratios.loc[\"avg\"] = std_df_ratios.mean(0)\n",
    "std_df_ratios"
   ]
  },
  {
   "cell_type": "code",
   "execution_count": null,
   "id": "d34284ad-c254-4c11-b70d-4db3f3013d1d",
   "metadata": {},
   "outputs": [],
   "source": [
    "df = std_df_ratios.iloc[:-1,:-1].rename(columns=rename_model).stack().reset_index().rename(columns={'level_0':'index','level_1':'Model',0:'Std. Dev. Ratio'})\n",
    "a = sns.stripplot(data=df, x=\"Model\", y=\"Std. Dev. Ratio\", hue=\"persona_cat\", marker=\"o\", palette=sns.color_palette(\"Paired\"))\n",
    "a.axhline(1, linestyle='--')\n",
    "a.set_yscale('symlog')\n",
    "# ax.plot(theta, data.iloc[:,:-1].min(), color=\"green\")\n",
    "# ax.fill(theta, data.iloc[:,:-1].min(), alpha=0.25, label='_nolegend_', color=\"green\")\n",
    "# ax.plot(theta, data.iloc[:,:-1].max(), color=\"red\")\n",
    "# ax.fill(theta, data.iloc[:,:-1].max(), alpha=0.25, label='_nolegend_', color=\"red\")\n",
    "# add legend relative to top-left plot\n",
    "plt.xticks(rotation=45)\n",
    "sns.move_legend(a, \"upper left\", bbox_to_anchor=(1, 1))"
   ]
  },
  {
   "cell_type": "code",
   "execution_count": null,
   "id": "1e95686d-e67e-4a2a-8fd4-760bc1dec7de",
   "metadata": {},
   "outputs": [],
   "source": [
    "refusal_std_dfs.append(std_df)"
   ]
  },
  {
   "cell_type": "markdown",
   "id": "843fe5a0-e689-481b-8d9e-29b8532a3e09",
   "metadata": {},
   "source": [
    "### Racism"
   ]
  },
  {
   "cell_type": "markdown",
   "id": "998b720f-0e2b-4c89-af74-902cb1b9a081",
   "metadata": {},
   "source": [
    "#### Inter-persona variability"
   ]
  },
  {
   "cell_type": "code",
   "execution_count": null,
   "id": "f25a49f1-a59b-462c-911a-530018ef09c2",
   "metadata": {},
   "outputs": [],
   "source": [
    "all_rac = get_results_df(\"rac_scores.csv\")"
   ]
  },
  {
   "cell_type": "code",
   "execution_count": null,
   "id": "6f47f539-d40c-4bd2-bbcf-721e4f2d6f32",
   "metadata": {},
   "outputs": [],
   "source": [
    "data = pd.read_csv(\"./data/annWithAttitudes/largeScale.csv\")"
   ]
  },
  {
   "cell_type": "code",
   "execution_count": null,
   "id": "cdd20437-e97e-4e38-aeba-4cd080fbb6d6",
   "metadata": {},
   "outputs": [],
   "source": [
    "krippendorff.alpha(value_counts=data.groupby([\"tweet\", \"racist\"]).size().unstack(fill_value=0).to_numpy(), level_of_measurement=\"interval\")"
   ]
  },
  {
   "cell_type": "code",
   "execution_count": null,
   "id": "6f5cc28c-4019-4966-a7bf-ad47a071d793",
   "metadata": {},
   "outputs": [],
   "source": [
    "inter_alphas = {}\n",
    "for model in all_rac.columns[:-1]:\n",
    "    inter_alphas[model] = krippendorff.alpha(reliability_data=np.stack(all_rac[model].to_numpy()), level_of_measurement=\"interval\")"
   ]
  },
  {
   "cell_type": "code",
   "execution_count": null,
   "id": "56d6be6d-6e14-4b2f-9a6e-90cda1134ad8",
   "metadata": {},
   "outputs": [],
   "source": [
    "pd.Series(inter_alphas).sort_values()"
   ]
  },
  {
   "cell_type": "code",
   "execution_count": null,
   "id": "809c9928-e2b6-4ff2-b19c-05ce32f7ee1a",
   "metadata": {},
   "outputs": [],
   "source": [
    "inter_alphas_no_control = {}\n",
    "all_rac_no_control = all_rac[all_rac.persona_cat != \"control\"]\n",
    "for model in all_rac_no_control.columns[:-1]:\n",
    "    inter_alphas_no_control[model] = krippendorff.alpha(reliability_data=np.stack(all_rac_no_control[model].to_numpy()), level_of_measurement=\"interval\")"
   ]
  },
  {
   "cell_type": "code",
   "execution_count": null,
   "id": "07671f8f-0415-4f71-a066-e39b8ed1cb58",
   "metadata": {},
   "outputs": [],
   "source": [
    "pd.Series(inter_alphas_no_control).sort_values()"
   ]
  },
  {
   "cell_type": "code",
   "execution_count": null,
   "id": "2f12ab4d-f39b-471e-abbb-2ec200603d20",
   "metadata": {},
   "outputs": [],
   "source": [
    "all_rac_means = all_rac.iloc[:,:-1].map(np.mean)"
   ]
  },
  {
   "cell_type": "code",
   "execution_count": null,
   "id": "1d53dc4d-cb68-4544-be0f-9a96ed12f87c",
   "metadata": {},
   "outputs": [],
   "source": [
    "all_rac_means = all_rac_means[[x for x in rename_model.values()]].copy()"
   ]
  },
  {
   "cell_type": "code",
   "execution_count": null,
   "id": "95e37748-b198-4b3d-8d11-467b61be1d17",
   "metadata": {},
   "outputs": [],
   "source": [
    "all_rac_means[\"persona_cat\"] = all_rac[\"persona_cat\"]"
   ]
  },
  {
   "cell_type": "code",
   "execution_count": null,
   "id": "256965b0-176c-43ee-b1fc-39804939d959",
   "metadata": {},
   "outputs": [],
   "source": [
    "all_rac_means_stacked = all_rac_means[all_rac_means.columns[:-1]].stack().reset_index().rename(columns={'level_0':'index','level_1':'Model',0:'Avg. rac.'})"
   ]
  },
  {
   "cell_type": "code",
   "execution_count": null,
   "id": "c033200f-9d50-451d-bcf3-bf7311e834a5",
   "metadata": {},
   "outputs": [],
   "source": [
    "all_rac_means_stacked[\"persona_cat\"] = [persona_cat_dict[persona]  if persona in persona_cat_dict.keys() else \"control\" for persona in all_rac_means_stacked[\"index\"]]"
   ]
  },
  {
   "cell_type": "code",
   "execution_count": null,
   "id": "a3ceacf6-34cf-48ad-878e-f84bac55137e",
   "metadata": {},
   "outputs": [],
   "source": [
    "no_control = all_rac_means_stacked[~all_rac_means_stacked[\"persona_cat\"].isin([\"control\", \"empty\"])]\n",
    "only_control =  all_rac_means_stacked[all_rac_means_stacked[\"persona_cat\"] == \"control\"]\n",
    "only_empty = all_rac_means_stacked[all_rac_means_stacked[\"persona_cat\"] == \"empty\"]\n",
    "# ax, fix = plt.subplot(1, 1, figsize=(4,4))\n",
    "ax1 = sns.stripplot(data=no_control, x=\"Model\", y=\"Avg. rac.\", hue=\"persona_cat\", marker=\"o\", palette=sns.color_palette(\"Paired\"))\n",
    "racset = lambda p: transforms.ScaledTranslation(p/72.,0, plt.gcf().dpi_scale_trans)\n",
    "trans = plt.gca().transData\n",
    "ax2 = sns.stripplot(data=only_control, x=\"Model\", y=\"Avg. rac.\", color=\"black\", marker=\"X\", transform=trans+racset(15))\n",
    "ax3 = sns.stripplot(data=only_empty, x=\"Model\", y=\"Avg. rac.\", color=\"red\", marker=\"*\", size=10, transform=trans+offset(-15))\n",
    "plt.xticks(rotation=45)\n",
    "control_handle = Line2D([], [], color=\"black\", marker=\"X\", label=\"control\", linestyle=\"None\")\n",
    "control_label = \"control\"\n",
    "empty_handle = Line2D([], [], color=\"red\", marker=\"*\", label=\"empty\", linestyle=\"None\")\n",
    "empty_label = \"empty\"\n",
    "handles, labels = ax1.get_legend_handles_labels()\n",
    "ax1.legend(handles + [control_handle, empty_handle], labels + [control_label, empty_label], title=\"Persona category\")\n",
    "sns.move_legend(ax1, \"upper left\", bbox_to_anchor=(1, 1))"
   ]
  },
  {
   "cell_type": "code",
   "execution_count": null,
   "id": "390deeef-da41-4480-a33e-3bdb4ca60338",
   "metadata": {},
   "outputs": [],
   "source": [
    "all_rac_means.boxplot(by=\"persona_cat\", rot=90, figsize=(15,15))"
   ]
  },
  {
   "cell_type": "code",
   "execution_count": null,
   "id": "732cb011-7996-437c-ab17-fb0107cbed4a",
   "metadata": {},
   "outputs": [],
   "source": [
    "inter_std = {}\n",
    "for col in all_rac.columns[:-1]:\n",
    "    inter_std[col] = np.stack(all_rac[col].to_numpy()).std(0).mean()\n",
    "    "
   ]
  },
  {
   "cell_type": "code",
   "execution_count": null,
   "id": "9546ff69-81c0-4ea8-a6c4-f0488e0463d1",
   "metadata": {},
   "outputs": [],
   "source": [
    "pd.Series(inter_std).sort_values()"
   ]
  },
  {
   "cell_type": "code",
   "execution_count": null,
   "id": "aa27985a-c697-40ca-a9ad-f5f286a0e72d",
   "metadata": {},
   "outputs": [],
   "source": [
    "all_rac_means.corr(numeric_only=True, method=\"kendall\")"
   ]
  },
  {
   "cell_type": "code",
   "execution_count": null,
   "id": "37651263-ade6-4263-bfa0-ee0c1a34d0c9",
   "metadata": {},
   "outputs": [],
   "source": [
    "all_rac_means[\"avg\"] = all_rac_means.mean(1, numeric_only=True)"
   ]
  },
  {
   "cell_type": "code",
   "execution_count": null,
   "id": "42fc164b-2a75-42b7-a3d1-111de9f26239",
   "metadata": {},
   "outputs": [],
   "source": [
    "all_rac_means.sort_values(\"avg\")"
   ]
  },
  {
   "cell_type": "code",
   "execution_count": null,
   "id": "1b0fa0d4-3bf9-472e-b15d-4ff7231f826f",
   "metadata": {},
   "outputs": [],
   "source": [
    "all_rac_means.idxmax()"
   ]
  },
  {
   "cell_type": "code",
   "execution_count": null,
   "id": "105b9d6c-400d-4dc6-9e16-4c2a22bc2a46",
   "metadata": {},
   "outputs": [],
   "source": [
    "all_rac_means.idxmin()"
   ]
  },
  {
   "cell_type": "code",
   "execution_count": null,
   "id": "02a8225a-8892-4c6c-ada5-812fa1535a25",
   "metadata": {},
   "outputs": [],
   "source": [
    "pos_df = pd.DataFrame(index=all_rac_means.index)\n",
    "for col in all_rac_means.columns[:-2]:\n",
    "    temp_df = pd.DataFrame()\n",
    "    sorted = all_rac_means.sort_values(col, ascending=False).index\n",
    "    temp_df = temp_df.reindex(index=sorted)\n",
    "    temp_df[col] = list(range(1, len(all_rac_means)+1))\n",
    "    pos_df = pos_df.merge(temp_df, left_index=True, right_index=True)"
   ]
  },
  {
   "cell_type": "code",
   "execution_count": null,
   "id": "acacec68-3f06-49a1-83c6-1742ee4be42a",
   "metadata": {},
   "outputs": [],
   "source": [
    "pos_df[\"avg\"] = pos_df.mean(1)"
   ]
  },
  {
   "cell_type": "code",
   "execution_count": null,
   "id": "20b9d8a4-e6c6-4c1a-9a11-aefc249d81c9",
   "metadata": {},
   "outputs": [],
   "source": [
    "pos_df.sort_values(\"avg\")"
   ]
  },
  {
   "cell_type": "markdown",
   "id": "e7ced660-4166-4794-8833-01e858e9af97",
   "metadata": {},
   "source": [
    "#### Persona cat vs control"
   ]
  },
  {
   "cell_type": "code",
   "execution_count": null,
   "id": "4fe194d8-59f6-4539-b2a6-d90c612e13f4",
   "metadata": {},
   "outputs": [],
   "source": [
    "std_df =  all_rac_means.groupby(\"persona_cat\").std().iloc[:,:-1]\n",
    "std_df_ratios = std_df.iloc[1:]/std_df.iloc[0]\n",
    "std_df_ratios[\"avg\"] = std_df_ratios.mean(1)\n",
    "std_df_ratios.loc[\"avg\"] = std_df_ratios.mean(0)\n",
    "std_df_ratios"
   ]
  },
  {
   "cell_type": "code",
   "execution_count": null,
   "id": "9e6cc8cd-0baa-4310-9e03-1aeca7bc068c",
   "metadata": {},
   "outputs": [],
   "source": [
    "df = std_df_ratios.iloc[:-1,:-1].rename(columns=rename_model).stack().reset_index().rename(columns={'level_0':'index','level_1':'Model',0:'Std. Dev. Ratio'})\n",
    "a = sns.stripplot(data=df, x=\"Model\", y=\"Std. Dev. Ratio\", hue=\"persona_cat\", marker=\"o\", palette=sns.color_palette(\"Paired\"))\n",
    "a.axhline(1, linestyle='--')\n",
    "a.set_yscale('symlog')\n",
    "# ax.plot(theta, data.iloc[:,:-1].min(), color=\"green\")\n",
    "# ax.fill(theta, data.iloc[:,:-1].min(), alpha=0.25, label='_nolegend_', color=\"green\")\n",
    "# ax.plot(theta, data.iloc[:,:-1].max(), color=\"red\")\n",
    "# ax.fill(theta, data.iloc[:,:-1].max(), alpha=0.25, label='_nolegend_', color=\"red\")\n",
    "# add legend relative to top-left plot\n",
    "plt.xticks(rotation=45)\n",
    "sns.move_legend(a, \"upper left\", bbox_to_anchor=(1, 1))"
   ]
  },
  {
   "cell_type": "code",
   "execution_count": null,
   "id": "4272dac8-dbc2-4c51-a88f-27113705e893",
   "metadata": {},
   "outputs": [],
   "source": [
    "rac_means_std = df"
   ]
  },
  {
   "cell_type": "markdown",
   "id": "12b5df38-5699-49b4-a591-47cc4f1daff3",
   "metadata": {},
   "source": [
    "#### Agreement with human judgements"
   ]
  },
  {
   "cell_type": "code",
   "execution_count": null,
   "id": "97538a06-7829-4cd3-a985-74ce1f2eedbc",
   "metadata": {},
   "outputs": [],
   "source": [
    "rac_aggs = {}\n",
    "for model in all_rac.columns[:-1]:\n",
    "    rac_aggs[model]= all_rac[model].apply(lambda x: krippendorff.alpha(reliability_data=[x, human_agg[\"racist\"]], level_of_measurement=\"interval\"))"
   ]
  },
  {
   "cell_type": "code",
   "execution_count": null,
   "id": "a3cdb3cc-a635-42b6-9235-a50f82f14c38",
   "metadata": {},
   "outputs": [],
   "source": [
    "aggs_df = pd.DataFrame.from_dict(rac_aggs)"
   ]
  },
  {
   "cell_type": "code",
   "execution_count": null,
   "id": "ca3aec1c-ef75-401c-8a2f-1f6db844cd9b",
   "metadata": {},
   "outputs": [],
   "source": [
    "aggs_df[\"persona_cat\"] = all_rac[\"persona_cat\"]"
   ]
  },
  {
   "cell_type": "code",
   "execution_count": null,
   "id": "794520e9-0e61-44e3-90ce-4d90693c2c61",
   "metadata": {},
   "outputs": [],
   "source": [
    "aggs_df = aggs_df[list(rename_model.values())+[\"persona_cat\"]]"
   ]
  },
  {
   "cell_type": "code",
   "execution_count": null,
   "id": "dc52cb7e-c445-49ff-bb25-d3ff323dc5a6",
   "metadata": {},
   "outputs": [],
   "source": [
    "rac_aggs = aggs_df"
   ]
  },
  {
   "cell_type": "code",
   "execution_count": null,
   "id": "5ba16a34-587f-4dad-9b25-93fe7ce1a421",
   "metadata": {},
   "outputs": [],
   "source": [
    "aggs_df.sort_values(\"Gemma-2b-inst\")"
   ]
  },
  {
   "cell_type": "code",
   "execution_count": null,
   "id": "c6295eec-b596-47ef-82aa-7aff01ba8400",
   "metadata": {},
   "outputs": [],
   "source": [
    "rac_aggs_stacked = aggs_df.iloc[:,:-1].stack().reset_index().rename(columns={'level_0':'index','level_1':'Model',0:'Agreement with humans'})"
   ]
  },
  {
   "cell_type": "code",
   "execution_count": null,
   "id": "fbb67b4d-3148-4596-9442-2e36e91d3df4",
   "metadata": {},
   "outputs": [],
   "source": [
    "rac_aggs_stacked[\"persona_cat\"] = [persona_cat_dict[persona]  if persona in persona_cat_dict.keys() else \"control\" for persona in rac_aggs_stacked[\"index\"]]"
   ]
  },
  {
   "cell_type": "code",
   "execution_count": null,
   "id": "6a066814-10d1-4bde-998c-cb2cc2f3b88d",
   "metadata": {},
   "outputs": [],
   "source": [
    "no_control = rac_aggs_stacked[~rac_aggs_stacked[\"persona_cat\"].isin([\"control\", \"empty\"])]\n",
    "only_control =  rac_aggs_stacked[rac_aggs_stacked[\"persona_cat\"] == \"control\"]\n",
    "only_empty = rac_aggs_stacked[rac_aggs_stacked[\"persona_cat\"] == \"empty\"]\n",
    "# ax, fix = plt.subplot(1, 1, figsize=(4,4))\n",
    "ax1 = sns.stripplot(data=no_control, x=\"Model\", y=\"Agreement with humans\", hue=\"persona_cat\", marker=\"o\", palette=sns.color_palette(\"Paired\"))\n",
    "offset = lambda p: transforms.ScaledTranslation(p/72.,0, plt.gcf().dpi_scale_trans)\n",
    "trans = plt.gca().transData\n",
    "ax2 = sns.stripplot(data=only_control, x=\"Model\", y=\"Agreement with humans\", color=\"black\", marker=\"X\", transform=trans+offset(15))\n",
    "ax3 = sns.stripplot(data=only_empty, x=\"Model\", y=\"Agreement with humans\", color=\"red\", marker=\"*\", size=10, transform=trans+offset(-15))\n",
    "plt.xticks(rotation=45)\n",
    "control_handle = Line2D([], [], color=\"black\", marker=\"X\", label=\"control\", linestyle=\"None\")\n",
    "control_label = \"control\"\n",
    "empty_handle = Line2D([], [], color=\"red\", marker=\"*\", label=\"empty\", linestyle=\"None\")\n",
    "empty_label = \"empty\"\n",
    "handles, labels = ax1.get_legend_handles_labels()\n",
    "ax1.legend(handles + [control_handle, empty_handle], labels + [control_label, empty_label], title=\"Persona category\")\n",
    "sns.move_legend(ax1, \"upper left\", bbox_to_anchor=(1, 1))"
   ]
  },
  {
   "cell_type": "code",
   "execution_count": null,
   "id": "15db131f-f8d2-4271-8851-e9f8e040d73d",
   "metadata": {},
   "outputs": [],
   "source": [
    "aggs_df.corr(numeric_only=True, method=\"kendall\")"
   ]
  },
  {
   "cell_type": "code",
   "execution_count": null,
   "id": "5c8f1e13-1d5f-4695-9929-5e5a2b07499f",
   "metadata": {},
   "outputs": [],
   "source": [
    "aggs_df[\"avg\"] = aggs_df.mean(1, numeric_only=True)"
   ]
  },
  {
   "cell_type": "code",
   "execution_count": null,
   "id": "62629525-e5c6-49d4-9a35-ad84300529b4",
   "metadata": {},
   "outputs": [],
   "source": [
    "aggs_df.sort_values(\"avg\")"
   ]
  },
  {
   "cell_type": "code",
   "execution_count": null,
   "id": "89b75108-3fe9-49c4-a4bf-b7a7681ef7e1",
   "metadata": {},
   "outputs": [],
   "source": [
    "aggs_df.idxmax()"
   ]
  },
  {
   "cell_type": "code",
   "execution_count": null,
   "id": "c7309b89-1721-47b2-a54b-e558012d43ad",
   "metadata": {},
   "outputs": [],
   "source": [
    "aggs_df.idxmin()"
   ]
  },
  {
   "cell_type": "code",
   "execution_count": null,
   "id": "55de4ec5-1f84-4ca2-b215-aa1b335717e9",
   "metadata": {},
   "outputs": [],
   "source": [
    "pos_df = pd.DataFrame(index=aggs_df.index)\n",
    "for col in aggs_df.columns[:-2]:\n",
    "    temp_df = pd.DataFrame()\n",
    "    sorted = aggs_df.sort_values(col, ascending=False).index\n",
    "    temp_df = temp_df.reindex(index=sorted)\n",
    "    temp_df[col] = list(range(1, len(aggs_df)+1))\n",
    "    pos_df = pos_df.merge(temp_df, left_index=True, right_index=True)"
   ]
  },
  {
   "cell_type": "code",
   "execution_count": null,
   "id": "efc4d4ab-f1d8-4146-bb4b-95dbc71723d6",
   "metadata": {},
   "outputs": [],
   "source": [
    "pos_df[\"avg\"] = pos_df.mean(1)"
   ]
  },
  {
   "cell_type": "code",
   "execution_count": null,
   "id": "bbe1a39b-429e-4f33-877e-8c490c1aaf40",
   "metadata": {
    "scrolled": true
   },
   "outputs": [],
   "source": [
    "pos_df.sort_values(\"avg\")"
   ]
  },
  {
   "cell_type": "markdown",
   "id": "50785d2a-b118-4967-a9d9-306a517c0ed6",
   "metadata": {},
   "source": [
    "#### Persona cat vs control"
   ]
  },
  {
   "cell_type": "code",
   "execution_count": null,
   "id": "dcf3bcfe-ad85-4b05-a30d-e857680bdeaa",
   "metadata": {},
   "outputs": [],
   "source": [
    "std_df =  aggs_df.groupby(\"persona_cat\").std().iloc[:,:-1]\n",
    "std_df_ratios = std_df.iloc[1:]/std_df.iloc[0]\n",
    "std_df_ratios[\"avg\"] = std_df_ratios.mean(1)\n",
    "std_df_ratios.loc[\"avg\"] = std_df_ratios.mean(0)\n",
    "std_df_ratios"
   ]
  },
  {
   "cell_type": "code",
   "execution_count": null,
   "id": "672897e1-276c-4a41-9aac-b9b9c243293c",
   "metadata": {},
   "outputs": [],
   "source": [
    "df = std_df_ratios.iloc[:-1,:-1].rename(columns=rename_model).stack().reset_index().rename(columns={'level_0':'index','level_1':'Model',0:'Std. Dev. Ratio'})\n",
    "a = sns.stripplot(data=df, x=\"Model\", y=\"Std. Dev. Ratio\", hue=\"persona_cat\", marker=\"o\", palette=sns.color_palette(\"Paired\"))\n",
    "a.axhline(1, linestyle='--')\n",
    "a.set_yscale('symlog')\n",
    "# ax.plot(theta, data.iloc[:,:-1].min(), color=\"green\")\n",
    "# ax.fill(theta, data.iloc[:,:-1].min(), alpha=0.25, label='_nolegend_', color=\"green\")\n",
    "# ax.plot(theta, data.iloc[:,:-1].max(), color=\"red\")\n",
    "# ax.fill(theta, data.iloc[:,:-1].max(), alpha=0.25, label='_nolegend_', color=\"red\")\n",
    "# add legend relative to top-left plot\n",
    "plt.xticks(rotation=45)\n",
    "sns.move_legend(a, \"upper left\", bbox_to_anchor=(1, 1))"
   ]
  },
  {
   "cell_type": "code",
   "execution_count": null,
   "id": "eede23fd-0636-420e-8681-226762f68c97",
   "metadata": {},
   "outputs": [],
   "source": [
    "rac_aggs_std = df"
   ]
  },
  {
   "cell_type": "code",
   "execution_count": null,
   "id": "184c285d-ae0c-45ba-a7a2-4d39f4c2bfec",
   "metadata": {},
   "outputs": [],
   "source": [
    "rac_aggs_stds = std_df"
   ]
  },
  {
   "cell_type": "markdown",
   "id": "11fbd8ae-b08f-40a2-9fd1-917c75dedd3c",
   "metadata": {},
   "source": [
    "#### Refusal rates"
   ]
  },
  {
   "cell_type": "code",
   "execution_count": null,
   "id": "5bcd1de7-9e03-489d-81ca-7a891a27ffaa",
   "metadata": {},
   "outputs": [],
   "source": [
    "all_rac_refusals = get_results_df(\"rac_refusals.csv\")"
   ]
  },
  {
   "cell_type": "code",
   "execution_count": null,
   "id": "8dd30c02-04d7-44c3-8e79-14f5979d3115",
   "metadata": {},
   "outputs": [],
   "source": [
    "all_rac_refusals = all_rac_refusals.rename(columns=rename_model)"
   ]
  },
  {
   "cell_type": "code",
   "execution_count": null,
   "id": "0444c850-dc84-4bc0-90fc-a90fe2a75fb9",
   "metadata": {},
   "outputs": [],
   "source": [
    "all_rac_refusals = all_rac_refusals[list(rename_model.values()) + [\"persona_cat\"]]"
   ]
  },
  {
   "cell_type": "code",
   "execution_count": null,
   "id": "7b81f708-9ef7-405a-9fd2-4064f66171d0",
   "metadata": {},
   "outputs": [],
   "source": [
    "all_rac_refusals_mean = all_rac_refusals.iloc[:,:-1].map(np.mean)"
   ]
  },
  {
   "cell_type": "code",
   "execution_count": null,
   "id": "adf22ae6-b8a1-4370-8f36-e048532b408d",
   "metadata": {},
   "outputs": [],
   "source": [
    "all_rac_refusals_mean.sort_values(\"GPT-4\")"
   ]
  },
  {
   "cell_type": "code",
   "execution_count": null,
   "id": "2d464dea-57e5-49fb-acd6-9baf2f89fe8f",
   "metadata": {},
   "outputs": [],
   "source": [
    "all_rac_refusals_stacked = all_rac_refusals_mean.iloc[:,:-1].stack().reset_index().rename(columns={'level_0':'index','level_1':'Model',0:'Refused Fraction'})"
   ]
  },
  {
   "cell_type": "code",
   "execution_count": null,
   "id": "b86e6997-3256-4d2b-8c1c-626b2a5242da",
   "metadata": {},
   "outputs": [],
   "source": [
    "all_rac_refusals_stacked[\"persona_cat\"] = [persona_cat_dict[persona]  if persona in persona_cat_dict.keys() else \"control\" for persona in all_rac_refusals_stacked[\"index\"]]"
   ]
  },
  {
   "cell_type": "code",
   "execution_count": null,
   "id": "64d55e22-2c1d-4628-b6d0-c708830bf4e8",
   "metadata": {},
   "outputs": [],
   "source": [
    "all_refusals_stacked.append(all_rac_refusals_stacked)"
   ]
  },
  {
   "cell_type": "code",
   "execution_count": null,
   "id": "b7adc04e-4329-4b77-99f8-470689099923",
   "metadata": {},
   "outputs": [],
   "source": [
    "no_control = all_rac_refusals_stacked[~all_rac_refusals_stacked[\"persona_cat\"].isin([\"control\", \"empty\"])]\n",
    "only_control =  all_rac_refusals_stacked[all_rac_refusals_stacked[\"persona_cat\"] == \"control\"]\n",
    "only_empty = all_rac_refusals_stacked[all_rac_refusals_stacked[\"persona_cat\"] == \"empty\"]\n",
    "# ax, fix = plt.subplot(1, 1, figsize=(4,4))\n",
    "ax1 = sns.stripplot(data=no_control, x=\"Model\", y=\"Refused Fraction\", hue=\"persona_cat\", marker=\"o\", palette=sns.color_palette(\"Paired\"))\n",
    "offset = lambda p: transforms.ScaledTranslation(p/72.,0, plt.gcf().dpi_scale_trans)\n",
    "trans = plt.gca().transData\n",
    "ax2 = sns.stripplot(data=only_control, x=\"Model\", y=\"Refused Fraction\", color=\"black\", marker=\"X\", transform=trans+offset(15))\n",
    "ax3 = sns.stripplot(data=only_empty, x=\"Model\", y=\"Refused Fraction\", color=\"red\", marker=\"*\", size=10, transform=trans+offset(-15))\n",
    "plt.xticks(rotation=45)\n",
    "control_handle = Line2D([], [], color=\"black\", marker=\"X\", label=\"control\", linestyle=\"None\")\n",
    "control_label = \"control\"\n",
    "empty_handle = Line2D([], [], color=\"red\", marker=\"*\", label=\"empty\", linestyle=\"None\")\n",
    "empty_label = \"empty\"\n",
    "handles, labels = ax1.get_legend_handles_labels()\n",
    "ax1.legend(handles + [control_handle, empty_handle], labels + [control_label, empty_label], title=\"Persona category\")\n",
    "sns.move_legend(ax1, \"upper left\", bbox_to_anchor=(1, 1))"
   ]
  },
  {
   "cell_type": "code",
   "execution_count": null,
   "id": "202de40b-b4fd-4b13-8795-257bbf511d71",
   "metadata": {},
   "outputs": [],
   "source": [
    "all_rac_refusals_mean.corr(numeric_only=True, method=\"kendall\")"
   ]
  },
  {
   "cell_type": "code",
   "execution_count": null,
   "id": "e02b800e-63f5-4793-b419-00c7d46bc62f",
   "metadata": {},
   "outputs": [],
   "source": [
    "all_rac_refusals_mean[\"avg\"] = all_rac_refusals_mean.mean(1, numeric_only=True)"
   ]
  },
  {
   "cell_type": "code",
   "execution_count": null,
   "id": "7be3b1d8-7457-4ab1-bfbc-0ebeef7c7228",
   "metadata": {},
   "outputs": [],
   "source": [
    "all_rac_refusals_mean.sort_values(\"avg\")"
   ]
  },
  {
   "cell_type": "code",
   "execution_count": null,
   "id": "f420d79d-132b-4681-be9d-dd25d98bd31a",
   "metadata": {},
   "outputs": [],
   "source": [
    "all_rac_refusals_mean.idxmax()"
   ]
  },
  {
   "cell_type": "code",
   "execution_count": null,
   "id": "790fb350-d751-4c2b-9223-e8dbffe61ad3",
   "metadata": {},
   "outputs": [],
   "source": [
    "all_rac_refusals_mean.idxmin()"
   ]
  },
  {
   "cell_type": "code",
   "execution_count": null,
   "id": "e287821a-a4cb-4e4e-8ec2-93f013f56021",
   "metadata": {},
   "outputs": [],
   "source": [
    "pos_df = pd.DataFrame(index=all_rac_refusals_mean.index)\n",
    "for col in all_rac_refusals_mean.columns[:-2]:\n",
    "    temp_df = pd.DataFrame()\n",
    "    sorted = all_rac_refusals_mean.sort_values(col, ascending=False).index\n",
    "    temp_df = temp_df.reindex(index=sorted)\n",
    "    temp_df[col] = list(range(1, len(all_rac_refusals_mean)+1))\n",
    "    pos_df = pos_df.merge(temp_df, left_index=True, right_index=True)"
   ]
  },
  {
   "cell_type": "code",
   "execution_count": null,
   "id": "0540d62e-6f24-4107-b086-1d95059619eb",
   "metadata": {},
   "outputs": [],
   "source": [
    "pos_df[\"avg\"] = pos_df.mean(1)"
   ]
  },
  {
   "cell_type": "code",
   "execution_count": null,
   "id": "b9fbfcdf-9d37-44ab-9e2c-08f0e7f720f5",
   "metadata": {},
   "outputs": [],
   "source": [
    "pos_df.sort_values(\"avg\")"
   ]
  },
  {
   "cell_type": "markdown",
   "id": "3940a154-54fa-4e96-817a-9a4bdb3fc8c5",
   "metadata": {},
   "source": [
    "#### Persona cat vs control"
   ]
  },
  {
   "cell_type": "code",
   "execution_count": null,
   "id": "37830f3e-e251-432d-864e-7e709ce37b85",
   "metadata": {},
   "outputs": [],
   "source": [
    "all_rac_refusals_mean[\"persona_cat\"] = [persona_cat_dict[persona] if persona in persona_cat_dict else \"control\" for persona in all_rac_refusals_mean.index]"
   ]
  },
  {
   "cell_type": "code",
   "execution_count": null,
   "id": "871e7843-88b2-4d09-81c6-878c84c6c3f5",
   "metadata": {},
   "outputs": [],
   "source": [
    "std_df =  all_rac_refusals_mean.groupby(\"persona_cat\").std().iloc[:,:-1]\n",
    "std_df_ratios = std_df.iloc[1:]/std_df.iloc[0]\n",
    "std_df_ratios[\"avg\"] = std_df_ratios.mean(1)\n",
    "std_df_ratios.loc[\"avg\"] = std_df_ratios.mean(0)\n",
    "std_df_ratios"
   ]
  },
  {
   "cell_type": "code",
   "execution_count": null,
   "id": "a9bf00c6-bc5a-4b2a-a9e4-3ae1edc44ecd",
   "metadata": {},
   "outputs": [],
   "source": [
    "std_df"
   ]
  },
  {
   "cell_type": "code",
   "execution_count": null,
   "id": "06747d4a-694e-449c-9d1d-d82982f848f8",
   "metadata": {},
   "outputs": [],
   "source": [
    "df = std_df_ratios.iloc[:-1,:-1].rename(columns=rename_model).stack().reset_index().rename(columns={'level_0':'index','level_1':'Model',0:'Std. Dev. Ratio'})\n",
    "a = sns.stripplot(data=df, x=\"Model\", y=\"Std. Dev. Ratio\", hue=\"persona_cat\", marker=\"o\", palette=sns.color_palette(\"Paired\"))\n",
    "a.axhline(1, linestyle='--')\n",
    "a.set_yscale('symlog')\n",
    "# ax.plot(theta, data.iloc[:,:-1].min(), color=\"green\")\n",
    "# ax.fill(theta, data.iloc[:,:-1].min(), alpha=0.25, label='_nolegend_', color=\"green\")\n",
    "# ax.plot(theta, data.iloc[:,:-1].max(), color=\"red\")\n",
    "# ax.fill(theta, data.iloc[:,:-1].max(), alpha=0.25, label='_nolegend_', color=\"red\")\n",
    "# add legend relative to top-left plot\n",
    "plt.xticks(rotation=45)\n",
    "sns.move_legend(a, \"upper left\", bbox_to_anchor=(1, 1))"
   ]
  },
  {
   "cell_type": "code",
   "execution_count": null,
   "id": "c2172b7a-d43b-48a9-8d4d-5d3eb89d519a",
   "metadata": {},
   "outputs": [],
   "source": [
    "refusal_std_dfs.append(std_df)"
   ]
  },
  {
   "cell_type": "markdown",
   "id": "46cadef4-0137-4521-97f2-d02120f2e964",
   "metadata": {},
   "source": [
    "### Offensive and racism figures"
   ]
  },
  {
   "cell_type": "code",
   "execution_count": null,
   "id": "931608de-d14f-4130-86f6-48be72325a90",
   "metadata": {},
   "outputs": [],
   "source": [
    "dfs = [all_off_means_stacked, all_rac_means_stacked, off_aggs_stacked, rac_aggs_stacked]"
   ]
  },
  {
   "cell_type": "code",
   "execution_count": null,
   "id": "32fef3cb-7280-4c7e-b01f-2f227d3edbcf",
   "metadata": {},
   "outputs": [],
   "source": [
    "y_titles=[df.columns[2] for df in dfs]\n",
    "x_titles = [\"Avg. offensiveness\", \"Avg. racism\", \"Agreement with human (off.)\", \"Agreement with human (rac.)\"]"
   ]
  },
  {
   "cell_type": "code",
   "execution_count": null,
   "id": "5f2bb28b-cced-40c0-801b-2365c81b5845",
   "metadata": {},
   "outputs": [],
   "source": [
    "plot_x_titles = [\"Offensiveness\", \"Racism\"]\n",
    "plot_y_titles = [\"Avg. rating\", \"Aggreement with humans\"]"
   ]
  },
  {
   "cell_type": "code",
   "execution_count": null,
   "id": "2fbd82ea-6a33-4ed4-b372-db42e9d5e92a",
   "metadata": {},
   "outputs": [],
   "source": [
    "fig, axes = plt.subplots(2, 2, figsize=(8, 8), sharex=True, sharey=\"row\")\n",
    "plt.subplots_adjust(wspace=.05, hspace=.05)\n",
    "for idx, df in enumerate(dfs):\n",
    "    no_control = df[~df[\"persona_cat\"].isin([\"control\", \"empty\"])]\n",
    "    only_control =  df[df[\"persona_cat\"] == \"control\"]\n",
    "    only_empty = df[df[\"persona_cat\"] == \"empty\"]\n",
    "    ax = axes[idx//2,idx%2]\n",
    "    # ax, fix = plt.subplot(1, 1, figsize=(4,4))\n",
    "    ax1 = sns.stripplot(data=no_control, x=\"Model\", y=y_titles[idx], hue=\"persona_cat\", marker=\"o\", palette=sns.color_palette(\"Paired\"), ax=ax)\n",
    "    offset = lambda p: transforms.ScaledTranslation(p/72.,0, plt.gcf().dpi_scale_trans)\n",
    "    trans = ax.transData\n",
    "    ax2 = sns.stripplot(data=only_control, x=\"Model\", y=y_titles[idx], color=\"black\", marker=\"X\", transform=trans+offset(10), ax=ax)\n",
    "    ax3 = sns.stripplot(data=only_empty, x=\"Model\", y=y_titles[idx], color=\"red\", marker=\"*\", size=10, transform=trans+offset(-10), ax=ax)\n",
    "    control_handle = Line2D([], [], color=\"black\", marker=\"X\", label=\"control\", linestyle=\"None\")\n",
    "    control_label = \"control\"\n",
    "    empty_handle = Line2D([], [], color=\"red\", marker=\"*\", label=\"empty\", linestyle=\"None\")\n",
    "    empty_label = \"empty\"\n",
    "    ax.get_legend().set_visible(False)\n",
    "    if idx//2 == 1: ax.set_xlabel(plot_x_titles[idx%2])\n",
    "    ax.set_ylabel(plot_y_titles[idx//2]) if idx %2 == 0 else ax.set_ylabel(\"\")\n",
    "    # ax.set_ylabel(\"\")\n",
    "    ax.tick_params(axis='x', labelrotation=45)\n",
    "handles, labels = ax1.get_legend_handles_labels()\n",
    "handles = handles + [control_handle, empty_handle]\n",
    "labels = labels + [control_label, empty_label]\n",
    "fig.legend(handles, labels, loc='upper center', bbox_to_anchor=(0.5, +1.01),\n",
    "          fancybox=True, shadow=True, ncol=4)"
   ]
  },
  {
   "cell_type": "code",
   "execution_count": null,
   "id": "592da496-ac3b-4b57-9b5e-84f70c8bfc56",
   "metadata": {},
   "outputs": [],
   "source": [
    "fig.savefig(\"../persona-biases-paper/media/toxicity.pdf\",bbox_inches=\"tight\")"
   ]
  },
  {
   "cell_type": "code",
   "execution_count": null,
   "id": "95e3d812-3779-4a45-8ee1-93116a07b5fe",
   "metadata": {},
   "outputs": [],
   "source": [
    "dfs = [off_means_std, rac_means_std, off_aggs_std, rac_aggs_std]"
   ]
  },
  {
   "cell_type": "code",
   "execution_count": null,
   "id": "f1f5efe1-da9f-42eb-9bd1-706d995b34c8",
   "metadata": {},
   "outputs": [],
   "source": [
    "y_titles=[df.columns[2] for df in dfs]"
   ]
  },
  {
   "cell_type": "code",
   "execution_count": null,
   "id": "c9b14e77-849d-4fd0-a323-cb1a11132961",
   "metadata": {},
   "outputs": [],
   "source": [
    "x_titles = [\"Avg. offensiveness\", \"Avg. racism\", \"Agreement with human (off.)\", \"Agreement with human (rac.)\"]"
   ]
  },
  {
   "cell_type": "code",
   "execution_count": null,
   "id": "65751e57-249e-476f-8c43-0fbc8040bed5",
   "metadata": {},
   "outputs": [],
   "source": [
    "fig, axes = plt.subplots(1, 4, figsize=(16, 4), sharex=True, sharey=True)\n",
    "plt.subplots_adjust(wspace=.15, hspace=.1)\n",
    "for idx, df in enumerate(dfs):\n",
    "    ax = axes[idx]\n",
    "    # ax, fix = plt.subplot(1, 1, figsize=(4,4))\n",
    "    ax1 = sns.stripplot(data=df, x=\"Model\", y=\"Std. Dev. Ratio\", hue=\"persona_cat\", marker=\"o\", palette=sns.color_palette(\"Paired\"), ax=ax, log_scale=True)\n",
    "    ax.get_legend().set_visible(False)\n",
    "    ax.set_xlabel(x_titles[idx])\n",
    "    ax.axhline(1, linestyle='--')\n",
    "    ax.set_yscale('symlog')\n",
    "    ax.tick_params(axis='x', labelrotation=45)\n",
    "handles, labels = ax1.get_legend_handles_labels()\n",
    "fig.legend(handles, labels, loc='upper center', bbox_to_anchor=(0.5, +1.05),\n",
    "          fancybox=True, shadow=True, ncol=7)"
   ]
  },
  {
   "cell_type": "code",
   "execution_count": null,
   "id": "c3588c7c-c837-41b3-b6bb-a30450f9849b",
   "metadata": {},
   "outputs": [],
   "source": [
    "fig.savefig(\"../persona-biases-paper/media/toxicity_stds.pdf\",bbox_inches=\"tight\")"
   ]
  },
  {
   "cell_type": "markdown",
   "id": "5155d6f0-debc-4800-8d89-6fbc8338914d",
   "metadata": {},
   "source": [
    "### Annotators with attitudes replication"
   ]
  },
  {
   "cell_type": "markdown",
   "id": "99256618-5bdc-426b-bf70-66accb7b449d",
   "metadata": {},
   "source": [
    "#### Correlation between attitudes (humans vs personas)"
   ]
  },
  {
   "cell_type": "code",
   "execution_count": null,
   "id": "358014b6-6680-4991-a926-7078f2ca20b0",
   "metadata": {},
   "outputs": [],
   "source": [
    "annotators = data.drop_duplicates(\"annId\")"
   ]
  },
  {
   "cell_type": "code",
   "execution_count": null,
   "id": "1492ac10-e221-4c97-b640-cfb28640edb0",
   "metadata": {},
   "outputs": [],
   "source": [
    "annotators"
   ]
  },
  {
   "cell_type": "code",
   "execution_count": null,
   "id": "fa80563e-a645-4576-b8a8-5895d85146f0",
   "metadata": {},
   "outputs": [],
   "source": [
    "rename_attitudes = {\n",
    "    \"freeSpeech\": \"freedom of speech\",\n",
    "    \"harmHateSpeech\": \"harm of hate speech\",\n",
    "    \"racism\": \"racist beliefs\",\n",
    "    \"traditionalism\": \"traditionalism\",\n",
    "    \"lingPurism\": \"language purism\",\n",
    "    \"empathy\": \"empathy\",\n",
    "    \"altruism\": \"altruism\"\n",
    "}"
   ]
  },
  {
   "cell_type": "code",
   "execution_count": null,
   "id": "f536b429-2a01-4f74-9983-92d6219ae315",
   "metadata": {},
   "outputs": [],
   "source": [
    "annotators_attitudes = annotators[list(rename_attitudes.keys())].rename(columns=rename_attitudes)"
   ]
  },
  {
   "cell_type": "code",
   "execution_count": null,
   "id": "1f855a35-461d-4fab-9a71-03540c61b3e9",
   "metadata": {},
   "outputs": [],
   "source": [
    "human_corr = get_correlations(annotators_attitudes); human_corr"
   ]
  },
  {
   "cell_type": "code",
   "execution_count": null,
   "id": "d2210903-2ade-4868-a5f2-8486e8268600",
   "metadata": {},
   "outputs": [],
   "source": [
    "att_scores =  {model: pd.read_csv(results_path/model/\"attitude_scores.csv\", index_col=0) for model in models}\n",
    "att_scores_control = {model: pd.read_csv(control_results/model/\"attitude_scores.csv\", index_col=0) for model in models}\n",
    "att_scores = {model: pd.concat([att_scores[model], att_scores_control[model]], axis=0) for model in models}"
   ]
  },
  {
   "cell_type": "code",
   "execution_count": null,
   "id": "ac2cafd4-037b-41e4-9e83-05f881d2020b",
   "metadata": {},
   "outputs": [],
   "source": [
    "corrs = {}\n",
    "for model in att_scores.keys():\n",
    "    corrs[model] = get_correlations(att_scores[model].iloc[:,:-1])"
   ]
  },
  {
   "cell_type": "code",
   "execution_count": null,
   "id": "268da385-3834-43c0-b562-5ff91d752dbf",
   "metadata": {},
   "outputs": [],
   "source": [
    "corrs[\"gpt-4-0125-preview\"]"
   ]
  },
  {
   "cell_type": "code",
   "execution_count": null,
   "id": "efdfe8fa-e7ff-4d93-a871-ae061a897425",
   "metadata": {},
   "outputs": [],
   "source": [
    "corrs[\"gpt-3.5-turbo-0125\"]"
   ]
  },
  {
   "cell_type": "code",
   "execution_count": null,
   "id": "fe4d01c3-78b2-44ac-8b52-747771c81677",
   "metadata": {},
   "outputs": [],
   "source": [
    "corrs[\"Mixtral-8x7B-Instruct-v0.1\"]"
   ]
  },
  {
   "cell_type": "code",
   "execution_count": null,
   "id": "a064abbd-9ace-42fa-a23f-de6b0061d2ca",
   "metadata": {},
   "outputs": [],
   "source": [
    "corrs[\"zephyr-7b-beta\"]"
   ]
  },
  {
   "cell_type": "code",
   "execution_count": null,
   "id": "7775432d-768e-4056-a53d-c54f68ae958f",
   "metadata": {},
   "outputs": [],
   "source": [
    "corrs[\"gemma-7b-it\"]"
   ]
  },
  {
   "cell_type": "code",
   "execution_count": null,
   "id": "26465bca-cfc6-47e7-a30f-9b9513c3a74c",
   "metadata": {},
   "outputs": [],
   "source": [
    "corrs[\"gemma-2b-it\"]"
   ]
  },
  {
   "cell_type": "code",
   "execution_count": null,
   "id": "3534dcaf-c662-4515-8dcd-3ad46998ee3e",
   "metadata": {},
   "outputs": [],
   "source": [
    "corrs.keys()"
   ]
  },
  {
   "cell_type": "code",
   "execution_count": null,
   "id": "fdef5187-5aa5-413c-9e4f-3b3b2463692a",
   "metadata": {},
   "outputs": [],
   "source": [
    "dfs = [human_corr] + [corrs[model] for model in rename_model.keys()]"
   ]
  },
  {
   "cell_type": "code",
   "execution_count": null,
   "id": "5461cb64-a269-4066-a911-8562c28bcfd4",
   "metadata": {},
   "outputs": [],
   "source": [
    "dfs = [x.map(lambda y: float(y.replace(\"*\", \"\"))) for x in dfs]"
   ]
  },
  {
   "cell_type": "code",
   "execution_count": null,
   "id": "fffd64cf-a5da-4595-807b-b8cfa1e8c45e",
   "metadata": {},
   "outputs": [],
   "source": [
    "x_titles = [\"Human\"] + list(rename_model.values())"
   ]
  },
  {
   "cell_type": "code",
   "execution_count": null,
   "id": "ea006cf2-17ef-4eb8-9cc2-0b2fffbb967d",
   "metadata": {},
   "outputs": [],
   "source": [
    "shape = att_scores[\"Mistral-7B-Instruct-v0.2\"].iloc[:,:-1].to_numpy().shape"
   ]
  },
  {
   "cell_type": "code",
   "execution_count": null,
   "id": "7699e6ad-7353-489e-a826-47bee01d69d9",
   "metadata": {},
   "outputs": [],
   "source": [
    "initialize_seeds()\n",
    "random_atts = np.random.uniform(1, 5, size=shape, )"
   ]
  },
  {
   "cell_type": "code",
   "execution_count": null,
   "id": "66e86db7-45f3-4c7d-8d64-f92c226f6775",
   "metadata": {},
   "outputs": [],
   "source": [
    "fig, axes = plt.subplots(2, 4, figsize=(16, 8), sharex=True, sharey=True)\n",
    "plt.subplots_adjust(wspace=.1, hspace=.13)\n",
    "cbar_ax = fig.add_axes([.91, .11, .01, .8])\n",
    "for idx, df in enumerate(dfs):\n",
    "    ax = axes[idx//4,idx%4]\n",
    "    mask = np.triu(np.ones_like(df, dtype=bool))\n",
    "    np.fill_diagonal(mask, False)\n",
    "    sns.heatmap(df, vmin=-1, vmax=1, center=0, annot=True, ax = ax, mask=mask, cbar_ax=cbar_ax, cmap=\"vlag\")\n",
    "    ax.set_title(x_titles[idx])\n",
    "    ax.set_ylabel(\"\")\n",
    "    ax.tick_params(axis='x', labelrotation=45)"
   ]
  },
  {
   "cell_type": "code",
   "execution_count": null,
   "id": "fda87575-638e-4319-8000-e9fe2bd94f7d",
   "metadata": {},
   "outputs": [],
   "source": [
    "fig.savefig(\"../persona-biases-paper/media/attitude_correlations.pdf\",bbox_inches=\"tight\")"
   ]
  },
  {
   "cell_type": "code",
   "execution_count": null,
   "id": "44248f67-b26e-4a2a-8d40-a0fd5c5012fd",
   "metadata": {},
   "outputs": [],
   "source": [
    "def upper_triangular_to_vector(df, ternary=False):\n",
    "    if ternary:\n",
    "        df = df.map(lambda x: \"0\" if \"*\" not in x else x)\n",
    "    df = df.map(lambda x: float(x.rstrip(\"*\")))\n",
    "    if ternary:\n",
    "        df = df.map(lambda x: 1 if x >0 else (-1 if x < 0 else float(x)))\n",
    "        return df.to_numpy()[np.triu_indices(len(df), k = 1)].reshape((-1))\n",
    "    else:\n",
    "        return df.to_numpy()[np.triu_indices(len(df), k = 1)].reshape((1,-1))"
   ]
  },
  {
   "cell_type": "code",
   "execution_count": null,
   "id": "3a997eba-fe49-4fa0-a77e-a10bee286e69",
   "metadata": {},
   "outputs": [],
   "source": [
    "similarities = {}\n",
    "for model, corr in corrs.items():\n",
    "    similarities[model] = cosine_similarity(upper_triangular_to_vector(human_corr), upper_triangular_to_vector(corr))[0]"
   ]
  },
  {
   "cell_type": "code",
   "execution_count": null,
   "id": "a8e48ae9-b121-4227-bf9d-dfa8d618d28e",
   "metadata": {},
   "outputs": [],
   "source": [
    "similarities = pd.DataFrame.from_dict(similarities).rename(columns=rename_model)"
   ]
  },
  {
   "cell_type": "code",
   "execution_count": null,
   "id": "2b6d2404-4c4f-4f4b-8f11-75f00036d6f7",
   "metadata": {},
   "outputs": [],
   "source": [
    "similarities = similarities[[x for x in rename_model.values()]]"
   ]
  },
  {
   "cell_type": "code",
   "execution_count": null,
   "id": "d8353b4c-3461-466d-abaf-750072bf7001",
   "metadata": {},
   "outputs": [],
   "source": [
    "random_corr = get_correlations(pd.DataFrame(random_atts))"
   ]
  },
  {
   "cell_type": "code",
   "execution_count": null,
   "id": "419fca44-43d1-43e1-af02-a86e79c4416e",
   "metadata": {},
   "outputs": [],
   "source": [
    "random_sim =cosine_similarity(upper_triangular_to_vector(human_corr), upper_triangular_to_vector(random_corr))[0]"
   ]
  },
  {
   "cell_type": "code",
   "execution_count": null,
   "id": "efd79ed2-a785-4f3d-a0fd-7ddacc8ed2cb",
   "metadata": {},
   "outputs": [],
   "source": [
    "similarities"
   ]
  },
  {
   "cell_type": "code",
   "execution_count": null,
   "id": "1c06669c-91d5-41c5-8fb0-4b1458f34915",
   "metadata": {},
   "outputs": [],
   "source": [
    "random_sim"
   ]
  },
  {
   "cell_type": "code",
   "execution_count": null,
   "id": "1f3a8648-098a-485c-8002-27876db98d7c",
   "metadata": {},
   "outputs": [],
   "source": [
    "sns.barplot(similarities)\n",
    "plt.axhline(random_sim)\n",
    "plt.xticks(rotation=45)"
   ]
  },
  {
   "cell_type": "code",
   "execution_count": null,
   "id": "3dd71589-8f8f-484e-8855-1e3a77517bd4",
   "metadata": {},
   "outputs": [],
   "source": [
    "similarity_attitudes = similarities"
   ]
  },
  {
   "cell_type": "code",
   "execution_count": null,
   "id": "284965c5-5b69-4dae-8e7a-ea73f93c64b4",
   "metadata": {},
   "outputs": [],
   "source": [
    "random_attitudes = random_sim"
   ]
  },
  {
   "cell_type": "code",
   "execution_count": null,
   "id": "e34271eb-8db7-4ce0-8935-233e5ae94db8",
   "metadata": {},
   "outputs": [],
   "source": [
    "# correlations = {}\n",
    "# for model, corr in corrs.items():\n",
    "#     correlations[model] = pearsonr(upper_triangular_to_vector(human_corr).reshape((-1)), upper_triangular_to_vector(corr).reshape((-1))).statistic"
   ]
  },
  {
   "cell_type": "code",
   "execution_count": null,
   "id": "7ed35fe9-b4f7-450a-8a78-40685b2c433f",
   "metadata": {},
   "outputs": [],
   "source": [
    "# correlations = pd.DataFrame.from_dict(correlations, orient=\"index\").T.rename(columns=rename_model)"
   ]
  },
  {
   "cell_type": "code",
   "execution_count": null,
   "id": "a9e8c3d7-241f-4bc6-ad1f-13736ddfd16b",
   "metadata": {},
   "outputs": [],
   "source": [
    "# sns.barplot(correlations)\n",
    "# plt.xticks(rotation=45)"
   ]
  },
  {
   "cell_type": "code",
   "execution_count": null,
   "id": "39787dde-be95-4988-bbe9-f267a34f61c4",
   "metadata": {},
   "outputs": [],
   "source": [
    "# similarities_ternary = {}\n",
    "# for model, corr in corrs.items():\n",
    "#     similarities_ternary[model] = accuracy_score(upper_triangular_to_vector(human_corr, ternary=True), upper_triangular_to_vector(corr, ternary=True))"
   ]
  },
  {
   "cell_type": "code",
   "execution_count": null,
   "id": "0c1379af-d662-4af0-89b4-b2a3b56f76dd",
   "metadata": {},
   "outputs": [],
   "source": [
    "# similarities_ternary = pd.DataFrame.from_dict(similarities_ternary, orient=\"index\").T.rename(columns=rename_model)"
   ]
  },
  {
   "cell_type": "code",
   "execution_count": null,
   "id": "7ed78c44-ae0d-412f-85c4-70ba31ee9ee6",
   "metadata": {},
   "outputs": [],
   "source": [
    "# sns.barplot(similarities_ternary)\n",
    "# plt.xticks(rotation=45)"
   ]
  },
  {
   "cell_type": "markdown",
   "id": "9094ca20-b5f1-48b1-81af-5a22dfabf351",
   "metadata": {},
   "source": [
    "#### Correlation between attitudes and annotations (humans vs personas)"
   ]
  },
  {
   "cell_type": "code",
   "execution_count": null,
   "id": "a8652d86-3456-4846-a2eb-dc63a556c35b",
   "metadata": {},
   "outputs": [],
   "source": [
    "data = data.rename(columns=rename_attitudes)"
   ]
  },
  {
   "cell_type": "code",
   "execution_count": null,
   "id": "24d30833-80cb-4914-b15e-b706530b7102",
   "metadata": {},
   "outputs": [],
   "source": [
    "human_attitudeXannotation = pd.DataFrame(index=annotators[\"annId\"])"
   ]
  },
  {
   "cell_type": "code",
   "execution_count": null,
   "id": "51fc76e8-cab7-4748-90c9-5fcec7a45252",
   "metadata": {},
   "outputs": [],
   "source": [
    "human_attitudeXannotation[\"off_antiBlack\"] =  data[data.targetsBlackPeople].groupby(\"annId\")[\"off_avg\"].mean()"
   ]
  },
  {
   "cell_type": "code",
   "execution_count": null,
   "id": "75ee64f4-2a6c-4fd4-b574-007809a678f1",
   "metadata": {},
   "outputs": [],
   "source": [
    "human_attitudeXannotation[\"rac_antiBlack\"] = data[data.targetsBlackPeople].groupby(\"annId\")[\"racist\"].mean()"
   ]
  },
  {
   "cell_type": "code",
   "execution_count": null,
   "id": "2046a1a5-03c7-4627-8b9c-8f837837bec8",
   "metadata": {},
   "outputs": [],
   "source": [
    "human_attitudeXannotation[\"off_aae\"] =  data[data.isAAE].groupby(\"annId\")[\"off_avg\"].mean()"
   ]
  },
  {
   "cell_type": "code",
   "execution_count": null,
   "id": "dd8cac6d-a4d8-4b83-94ad-ef47ff29e2c8",
   "metadata": {},
   "outputs": [],
   "source": [
    "human_attitudeXannotation[\"rac_aae\"] = data[data.isAAE].groupby(\"annId\")[\"racist\"].mean()"
   ]
  },
  {
   "cell_type": "code",
   "execution_count": null,
   "id": "e4e17fe0-fd28-4b66-9d3d-4372f4c7ac82",
   "metadata": {},
   "outputs": [],
   "source": [
    "human_attitudeXannotation[\"off_vulgar\"] =  data[data.vulgar].groupby(\"annId\")[\"off_avg\"].mean()"
   ]
  },
  {
   "cell_type": "code",
   "execution_count": null,
   "id": "dfe7ed13-35d2-4825-9c16-e76235bb923c",
   "metadata": {},
   "outputs": [],
   "source": [
    "human_attitudeXannotation[\"rac_vulgar\"] = data[data.vulgar].groupby(\"annId\")[\"racist\"].mean()"
   ]
  },
  {
   "cell_type": "code",
   "execution_count": null,
   "id": "0742663b-28f6-4239-999a-143c6f6e0769",
   "metadata": {},
   "outputs": [],
   "source": [
    "human_attitudeXannotation = human_attitudeXannotation.merge(data.drop_duplicates(\"annId\")[[x for x in rename_attitudes.values()] + [\"annId\"]], on=\"annId\")"
   ]
  },
  {
   "cell_type": "code",
   "execution_count": null,
   "id": "b0106704-92a2-4505-8986-be28c83d7ec7",
   "metadata": {},
   "outputs": [],
   "source": [
    "human_corrs = get_correlations(human_attitudeXannotation).iloc[7:,1:7]"
   ]
  },
  {
   "cell_type": "code",
   "execution_count": null,
   "id": "576d8119-ba9c-4ad1-9c26-88a293d1fe31",
   "metadata": {},
   "outputs": [],
   "source": [
    "human_corrs"
   ]
  },
  {
   "cell_type": "code",
   "execution_count": null,
   "id": "7523e06b-b96c-4fd2-856d-fdb9af4554f2",
   "metadata": {},
   "outputs": [],
   "source": [
    "merged_df = pd.concat([att_scores[\"gpt-4-0125-preview\"], all_off[\"GPT-4\"]], axis=1)"
   ]
  },
  {
   "cell_type": "code",
   "execution_count": null,
   "id": "5d0810e9-103c-4f8e-9a2b-47ff3f27516d",
   "metadata": {},
   "outputs": [],
   "source": [
    "corrs = {}\n",
    "for model in att_scores.keys():\n",
    "    off_preds = np.vstack(all_off[rename_model[model]].to_numpy())\n",
    "    rac_preds = np.vstack(all_rac[rename_model[model]].to_numpy())\n",
    "    attitudes = att_scores[model].copy()\n",
    "    del attitudes[\"persona_cat\"]\n",
    "    attitudes[\"off_antiBlack\"] =  off_preds[:,data.drop_duplicates(\"tweet\").targetsBlackPeople].mean(1)\n",
    "    attitudes[\"off_aae\"] =  off_preds[:,data.drop_duplicates(\"tweet\").isAAE].mean(1)\n",
    "    attitudes[\"off_vulgar\"] =  off_preds[:,data.drop_duplicates(\"tweet\").vulgar].mean(1)\n",
    "    attitudes[\"rac_antiBlack\"] =  rac_preds[:,data.drop_duplicates(\"tweet\").targetsBlackPeople].mean(1)\n",
    "    attitudes[\"rac_aae\"] =  rac_preds[:,data.drop_duplicates(\"tweet\").isAAE].mean(1)\n",
    "    attitudes[\"rac_vulgar\"] =  rac_preds[:,data.drop_duplicates(\"tweet\").vulgar].mean(1)\n",
    "    corrs[model] = get_correlations(attitudes).T.loc[human_corrs.index][human_corrs.columns]"
   ]
  },
  {
   "cell_type": "code",
   "execution_count": null,
   "id": "cae6c380-4b84-4349-902e-e4b99f60d87b",
   "metadata": {},
   "outputs": [],
   "source": [
    "random_atts = pd.DataFrame(random_atts, index=attitudes.index, columns=attitudes.columns[:7])"
   ]
  },
  {
   "cell_type": "code",
   "execution_count": null,
   "id": "9ff5b747-b317-4d42-8fba-b1fb04f9d65f",
   "metadata": {},
   "outputs": [],
   "source": [
    "shape = rac_preds[:,data.drop_duplicates(\"tweet\").isAAE].mean(1).shape"
   ]
  },
  {
   "cell_type": "code",
   "execution_count": null,
   "id": "5e89a7c9-6531-4a0e-a447-888173811536",
   "metadata": {},
   "outputs": [],
   "source": [
    "initialize_seeds()\n",
    "random_atts[\"off_antiBlack\"] =  np.random.uniform(1, 5, size=shape, )\n",
    "random_atts[\"off_aae\"] = np.random.uniform(1, 5, size=shape, )\n",
    "random_atts[\"off_vulgar\"] =  np.random.uniform(1, 5, size=shape, )\n",
    "random_atts[\"rac_antiBlack\"] = np.random.uniform(1, 5, size=shape, )\n",
    "random_atts[\"rac_aae\"] = np.random.uniform(1, 5, size=shape, )\n",
    "random_atts[\"rac_vulgar\"] =  np.random.uniform(1, 5, size=shape, )"
   ]
  },
  {
   "cell_type": "code",
   "execution_count": null,
   "id": "f2be2454-c0b2-421b-a06d-f0e386da49fd",
   "metadata": {},
   "outputs": [],
   "source": [
    "corrs[\"gpt-4-0125-preview\"]"
   ]
  },
  {
   "cell_type": "code",
   "execution_count": null,
   "id": "df8611ac-04eb-4a8d-a511-42f78f4ecdf2",
   "metadata": {},
   "outputs": [],
   "source": [
    "corrs[\"gpt-3.5-turbo-0125\"]"
   ]
  },
  {
   "cell_type": "code",
   "execution_count": null,
   "id": "a5f4d70c-921b-4759-a416-c6931fbb5f39",
   "metadata": {},
   "outputs": [],
   "source": [
    "corrs[\"Mixtral-8x7B-Instruct-v0.1\"]"
   ]
  },
  {
   "cell_type": "code",
   "execution_count": null,
   "id": "4d4b1df8-f789-4e5a-9958-236f7ea95e6f",
   "metadata": {},
   "outputs": [],
   "source": [
    "corrs[\"zephyr-7b-beta\"]"
   ]
  },
  {
   "cell_type": "code",
   "execution_count": null,
   "id": "124cf007-ce36-4e19-a33a-02876f9e49e4",
   "metadata": {},
   "outputs": [],
   "source": [
    "corrs[\"gemma-7b-it\"]"
   ]
  },
  {
   "cell_type": "code",
   "execution_count": null,
   "id": "5b6fc104-c78b-46c8-b1cf-23ea5ffedaa9",
   "metadata": {},
   "outputs": [],
   "source": [
    "corrs[\"gemma-2b-it\"]"
   ]
  },
  {
   "cell_type": "code",
   "execution_count": null,
   "id": "adf23a2e-a6bc-4f43-b22f-608262106429",
   "metadata": {},
   "outputs": [],
   "source": [
    "dfs = [human_corrs] + [corrs[model] for model in rename_model.keys()]"
   ]
  },
  {
   "cell_type": "code",
   "execution_count": null,
   "id": "46ef956d-173a-47ce-a3c5-cc5deee4c521",
   "metadata": {},
   "outputs": [],
   "source": [
    "dfs = [x.map(lambda y: float(y.replace(\"*\", \"\"))) for x in dfs]"
   ]
  },
  {
   "cell_type": "code",
   "execution_count": null,
   "id": "8ea733ca-4ae5-4f18-84fa-bdf4a7f13523",
   "metadata": {},
   "outputs": [],
   "source": [
    "x_titles = [\"Human\"] + list(rename_model.values())"
   ]
  },
  {
   "cell_type": "code",
   "execution_count": null,
   "id": "89d06a37-f92a-4e92-a118-8ce9786a1fcf",
   "metadata": {},
   "outputs": [],
   "source": [
    "fig, axes = plt.subplots(2, 4, figsize=(16, 8), sharex=True, sharey=True)\n",
    "plt.subplots_adjust(wspace=.1, hspace=.13)\n",
    "cbar_ax = fig.add_axes([.91, .11, .01, .8])\n",
    "for idx, df in enumerate(dfs):\n",
    "    ax = axes[idx//4,idx%4]\n",
    "    sns.heatmap(df, vmin=-1, vmax=1, center=0, annot=True, ax = ax, cbar_ax=cbar_ax, cmap=\"vlag\")\n",
    "    ax.set_title(x_titles[idx])\n",
    "    ax.set_ylabel(\"\")\n",
    "    ax.tick_params(axis='x', labelrotation=45)"
   ]
  },
  {
   "cell_type": "code",
   "execution_count": null,
   "id": "e160d8d3-593d-4a01-90f1-58ad924e7060",
   "metadata": {},
   "outputs": [],
   "source": [
    "fig.savefig(\"../persona-biases-paper/media/attitudeXannotation_correlations.pdf\",bbox_inches=\"tight\")"
   ]
  },
  {
   "cell_type": "code",
   "execution_count": null,
   "id": "3de82af5-d02e-4080-bfd4-59670d187934",
   "metadata": {},
   "outputs": [],
   "source": [
    "def matrix_to_vector(df, ternary=False):\n",
    "    if ternary:\n",
    "        df = df.map(lambda x: \"0\" if \"*\" not in x else x)\n",
    "    df = df.map(lambda x: float(x.rstrip(\"*\")))\n",
    "    if ternary:\n",
    "        df = df.map(lambda x: 1 if x >0 else (-1 if x < 0 else float(x)))\n",
    "        return df.to_numpy().flatten()\n",
    "    else:\n",
    "        return df.to_numpy().flatten()"
   ]
  },
  {
   "cell_type": "code",
   "execution_count": null,
   "id": "c7526fda-8585-424f-b406-1debcf1d0da1",
   "metadata": {},
   "outputs": [],
   "source": [
    "similarities = {}\n",
    "for model, corr in corrs.items():\n",
    "    similarities[model] = cosine_similarity([matrix_to_vector(human_corrs)], [matrix_to_vector(corr)])[0]"
   ]
  },
  {
   "cell_type": "code",
   "execution_count": null,
   "id": "a1d9b435-5e22-4feb-8652-6c798cdb7489",
   "metadata": {},
   "outputs": [],
   "source": [
    "similarities = pd.DataFrame.from_dict(similarities).rename(columns=rename_model)"
   ]
  },
  {
   "cell_type": "code",
   "execution_count": null,
   "id": "bafa72d8-c17a-4b4e-b967-aa69d0b92e52",
   "metadata": {},
   "outputs": [],
   "source": [
    "similarities = similarities[[x for x in rename_model.values()]]"
   ]
  },
  {
   "cell_type": "code",
   "execution_count": null,
   "id": "00279141-a0fc-488f-8a43-ac6cd7e1959e",
   "metadata": {},
   "outputs": [],
   "source": [
    "random_corr = get_correlations(random_atts).T.loc[human_corrs.index][human_corrs.columns]"
   ]
  },
  {
   "cell_type": "code",
   "execution_count": null,
   "id": "7a181c6c-01d0-4af1-9b60-e8eec4890755",
   "metadata": {},
   "outputs": [],
   "source": [
    "random_sim = cosine_similarity([matrix_to_vector(human_corrs)], [matrix_to_vector(random_corr)])[0]"
   ]
  },
  {
   "cell_type": "code",
   "execution_count": null,
   "id": "2b99d969-c883-467b-9b95-a91ca49e7c8a",
   "metadata": {},
   "outputs": [],
   "source": [
    "similarities"
   ]
  },
  {
   "cell_type": "code",
   "execution_count": null,
   "id": "cc13fcfa-d17e-4b6c-a5c7-e5aa1db2fabf",
   "metadata": {},
   "outputs": [],
   "source": [
    "sns.barplot(similarities)\n",
    "plt.axhline(random_sim)\n",
    "plt.xticks(rotation=45)"
   ]
  },
  {
   "cell_type": "code",
   "execution_count": null,
   "id": "33447a8d-a6d2-4a8a-9f45-cfc43772b6bf",
   "metadata": {},
   "outputs": [],
   "source": [
    "similarity_attitudesXannotation = similarities"
   ]
  },
  {
   "cell_type": "code",
   "execution_count": null,
   "id": "4c7396e4-e327-4541-b2a8-2915c0f3ab1b",
   "metadata": {},
   "outputs": [],
   "source": [
    "random_attitudesXannotation = random_sim"
   ]
  },
  {
   "cell_type": "code",
   "execution_count": null,
   "id": "bff88006-bba8-4d72-b8b2-c9af1af2c3c9",
   "metadata": {},
   "outputs": [],
   "source": [
    "dfs = [similarity_attitudes, similarity_attitudesXannotation]"
   ]
  },
  {
   "cell_type": "code",
   "execution_count": null,
   "id": "b9301c44-e98a-43e9-8717-a36b85dd8da2",
   "metadata": {},
   "outputs": [],
   "source": [
    "randoms = [random_attitudes, random_attitudesXannotation]"
   ]
  },
  {
   "cell_type": "code",
   "execution_count": null,
   "id": "c7184259-db76-4aa3-8b59-71db32c38fcf",
   "metadata": {},
   "outputs": [],
   "source": [
    "x_titles = [\"Corr. between attitudes\", \"Corr. between attitudes and annotations\"]"
   ]
  },
  {
   "cell_type": "code",
   "execution_count": null,
   "id": "5df36be4-2175-4a60-9f4c-c5c3dc3f61a1",
   "metadata": {},
   "outputs": [],
   "source": [
    "fig, axes = plt.subplots(1, 2, figsize=(8, 4), sharex=True, sharey=True)\n",
    "plt.subplots_adjust(wspace=.1, hspace=.13)\n",
    "for idx, df in enumerate(dfs):\n",
    "    ax = axes[idx]\n",
    "    sns.barplot(df, ax=ax)\n",
    "    ax.axhline(randoms[idx], color=\"black\")\n",
    "    ax.set_title(x_titles[idx])\n",
    "    ax.set_ylabel(\"\")\n",
    "    ax.tick_params(axis='x', labelrotation=45)"
   ]
  },
  {
   "cell_type": "code",
   "execution_count": null,
   "id": "47368c93-31fc-48c2-a5eb-abc85e9a2dff",
   "metadata": {},
   "outputs": [],
   "source": [
    "fig.savefig(\"../persona-biases-paper/media/modelHumanSimilarity.pdf\",bbox_inches=\"tight\")"
   ]
  },
  {
   "cell_type": "code",
   "execution_count": null,
   "id": "1c1b153a-6302-4e31-a63b-d6c4d6768217",
   "metadata": {},
   "outputs": [],
   "source": [
    "# correlations = {}\n",
    "# for model, corr in corrs.items():\n",
    "#     correlations[model] = pearsonr(matrix_to_vector(human_corrs), matrix_to_vector(corr)).statistic"
   ]
  },
  {
   "cell_type": "code",
   "execution_count": null,
   "id": "88557b6a-dd18-4ef9-b595-50e65902bf57",
   "metadata": {},
   "outputs": [],
   "source": [
    "# correlations = pd.DataFrame.from_dict(correlations, orient=\"index\").T.rename(columns=rename_model)"
   ]
  },
  {
   "cell_type": "code",
   "execution_count": null,
   "id": "91dbe527-43f9-4178-a93b-6ffff13800cd",
   "metadata": {},
   "outputs": [],
   "source": [
    "# sns.barplot(correlations)\n",
    "# plt.xticks(rotation=45)"
   ]
  },
  {
   "cell_type": "code",
   "execution_count": null,
   "id": "ff2e2ef1-3f3f-4aad-8a27-1b0c3f9e6622",
   "metadata": {},
   "outputs": [],
   "source": [
    "# similarities_ternary = {}\n",
    "# for model, corr in corrs.items():\n",
    "#     similarities_ternary[model] = accuracy_score(matrix_to_vector(human_corrs, ternary=True), matrix_to_vector(corr, ternary=True))"
   ]
  },
  {
   "cell_type": "code",
   "execution_count": null,
   "id": "b0a1a107-7de3-4bd2-b5c4-99b2279cff59",
   "metadata": {},
   "outputs": [],
   "source": [
    "# similarities_ternary = pd.DataFrame.from_dict(similarities_ternary, orient=\"index\").T.rename(columns=rename_model)"
   ]
  },
  {
   "cell_type": "code",
   "execution_count": null,
   "id": "954e35a3-d1c3-4ef7-85b3-40efad4bdd67",
   "metadata": {},
   "outputs": [],
   "source": [
    "# sns.barplot(similarities_ternary)\n",
    "# plt.xticks(rotation=45)"
   ]
  },
  {
   "cell_type": "markdown",
   "id": "ef8bb901-2106-41d6-976c-63355d366544",
   "metadata": {},
   "source": [
    "# TruthfulQA"
   ]
  },
  {
   "cell_type": "markdown",
   "id": "0820cddb-75fe-49b4-be36-bcfb2f764318",
   "metadata": {},
   "source": [
    "## Persona variability"
   ]
  },
  {
   "cell_type": "code",
   "execution_count": null,
   "id": "64ef7dff-6ea0-4fe3-81bd-a774967dcdc0",
   "metadata": {},
   "outputs": [],
   "source": [
    "hits = get_results_df(\"truthfulqa_hits.csv\")"
   ]
  },
  {
   "cell_type": "code",
   "execution_count": null,
   "id": "a5950c12-2910-4f58-9f52-fd497c5dac78",
   "metadata": {},
   "outputs": [],
   "source": [
    "hits_means = hits.iloc[:,:-1].map(np.mean)"
   ]
  },
  {
   "cell_type": "code",
   "execution_count": null,
   "id": "e11e1a4c-1060-4ff8-9e3d-7f9eb92def09",
   "metadata": {},
   "outputs": [],
   "source": [
    "hits_means = hits_means[[x for x in rename_model.values()]].copy()"
   ]
  },
  {
   "cell_type": "code",
   "execution_count": null,
   "id": "e35cee13-6e31-4592-bcfe-6dff78ba3a1b",
   "metadata": {},
   "outputs": [],
   "source": [
    "hits_means[\"persona_cat\"] = hits[\"persona_cat\"]"
   ]
  },
  {
   "cell_type": "code",
   "execution_count": null,
   "id": "7652d6f0-eaeb-4bda-af14-cc9b7a8fddd4",
   "metadata": {},
   "outputs": [],
   "source": [
    "hits_means_stacked = hits_means[hits_means.columns[:-1]].stack().reset_index().rename(columns={'level_0':'index','level_1':'Model',0:'Accuracy'})"
   ]
  },
  {
   "cell_type": "code",
   "execution_count": null,
   "id": "1936922a-d310-409d-884e-9cc60390545f",
   "metadata": {},
   "outputs": [],
   "source": [
    "hits_means_stacked[\"persona_cat\"] = [persona_cat_dict[persona]  if persona in persona_cat_dict.keys() else \"control\" for persona in hits_means_stacked[\"index\"]]"
   ]
  },
  {
   "cell_type": "code",
   "execution_count": null,
   "id": "48cdbbff-d31b-4d1a-a86e-47a5280ee3e7",
   "metadata": {},
   "outputs": [],
   "source": [
    "all_hits_stacked.append(hits_means_stacked)"
   ]
  },
  {
   "cell_type": "code",
   "execution_count": null,
   "id": "abbc73db-2718-46e6-bd0b-0a29b3c7681c",
   "metadata": {},
   "outputs": [],
   "source": [
    "no_control = hits_means_stacked[~hits_means_stacked[\"persona_cat\"].isin([\"control\", \"empty\"])]\n",
    "only_control =  hits_means_stacked[hits_means_stacked[\"persona_cat\"] == \"control\"]\n",
    "only_empty = hits_means_stacked[hits_means_stacked[\"persona_cat\"] == \"empty\"]\n",
    "# ax, fix = plt.subplot(1, 1, figsize=(4,4))\n",
    "ax1 = sns.stripplot(data=no_control, x=\"Model\", y=\"Accuracy\", hue=\"persona_cat\", marker=\"o\", palette=sns.color_palette(\"Paired\"))\n",
    "racset = lambda p: transforms.ScaledTranslation(p/72.,0, plt.gcf().dpi_scale_trans)\n",
    "trans = plt.gca().transData\n",
    "ax2 = sns.stripplot(data=only_control, x=\"Model\", y=\"Accuracy\", color=\"black\", marker=\"X\", transform=trans+racset(15))\n",
    "ax3 = sns.stripplot(data=only_empty, x=\"Model\", y=\"Accuracy\", color=\"red\", marker=\"*\", size=10, transform=trans+racset(-15))\n",
    "plt.xticks(rotation=45)\n",
    "control_handle = Line2D([], [], color=\"black\", marker=\"X\", label=\"control\", linestyle=\"None\")\n",
    "control_label = \"control\"\n",
    "empty_handle = Line2D([], [], color=\"red\", marker=\"*\", label=\"empty\", linestyle=\"None\")\n",
    "empty_label = \"empty\"\n",
    "handles, labels = ax1.get_legend_handles_labels()\n",
    "ax1.legend(handles + [control_handle, empty_handle], labels + [control_label, empty_label], title=\"Persona category\")\n",
    "sns.move_legend(ax1, \"upper left\", bbox_to_anchor=(1, 1))"
   ]
  },
  {
   "cell_type": "code",
   "execution_count": null,
   "id": "515bf9bd-70e2-4b48-9557-3df8cce4c518",
   "metadata": {},
   "outputs": [],
   "source": [
    "hits_means.boxplot(by=\"persona_cat\", rot=90, figsize=(15,15))"
   ]
  },
  {
   "cell_type": "code",
   "execution_count": null,
   "id": "8a8e4389-8657-4263-85af-3a8c7acf8cc4",
   "metadata": {},
   "outputs": [],
   "source": [
    "inter_std = {}\n",
    "for col in hits.columns[:-1]:\n",
    "    inter_std[col] = np.stack(hits[col].to_numpy()).std(0).mean()\n",
    "    "
   ]
  },
  {
   "cell_type": "code",
   "execution_count": null,
   "id": "3d1c8153-50e8-47d4-9a22-f0bf7b8806a2",
   "metadata": {},
   "outputs": [],
   "source": [
    "pd.Series(inter_std).sort_values()"
   ]
  },
  {
   "cell_type": "code",
   "execution_count": null,
   "id": "d0e83d79-ca52-4340-8059-7a29aba7aad2",
   "metadata": {},
   "outputs": [],
   "source": [
    "hits_means.corr(numeric_only=True, method=\"kendall\")"
   ]
  },
  {
   "cell_type": "code",
   "execution_count": null,
   "id": "3cfb9d06-25b6-4ac6-939c-9278cb0b9e3d",
   "metadata": {},
   "outputs": [],
   "source": [
    "hits_means[\"avg\"] = hits_means.mean(1, numeric_only=True)"
   ]
  },
  {
   "cell_type": "code",
   "execution_count": null,
   "id": "a59b0592-3d84-4a2e-99e3-63f87cef05f5",
   "metadata": {},
   "outputs": [],
   "source": [
    "hits_means.sort_values(\"avg\")"
   ]
  },
  {
   "cell_type": "code",
   "execution_count": null,
   "id": "af572734-6881-4bc1-9415-23610c18d8e3",
   "metadata": {},
   "outputs": [],
   "source": [
    "hits_means.idxmax()"
   ]
  },
  {
   "cell_type": "code",
   "execution_count": null,
   "id": "10c9993b-64d2-4b7c-a367-bd543aaf0bb6",
   "metadata": {},
   "outputs": [],
   "source": [
    "hits_means.idxmin()"
   ]
  },
  {
   "cell_type": "code",
   "execution_count": null,
   "id": "045c2f6d-b426-40d5-9202-5818bc5ad728",
   "metadata": {},
   "outputs": [],
   "source": [
    "pos_df = pd.DataFrame(index=hits_means.index)\n",
    "for col in hits_means.columns[:-2]:\n",
    "    temp_df = pd.DataFrame()\n",
    "    sorted = hits_means.sort_values(col, ascending=False).index\n",
    "    temp_df = temp_df.reindex(index=sorted)\n",
    "    temp_df[col] = list(range(1, len(hits_means)+1))\n",
    "    pos_df = pos_df.merge(temp_df, left_index=True, right_index=True)"
   ]
  },
  {
   "cell_type": "code",
   "execution_count": null,
   "id": "948b13fd-6575-4a8a-a1d7-60d127bc43b7",
   "metadata": {},
   "outputs": [],
   "source": [
    "pos_df.loc[\"a_person_of_atheism_belief\"]"
   ]
  },
  {
   "cell_type": "code",
   "execution_count": null,
   "id": "d8e32642-fe1b-48a5-a0a7-10a6514f09e7",
   "metadata": {},
   "outputs": [],
   "source": [
    "pos_df.loc[\"a_asexual_person\"]"
   ]
  },
  {
   "cell_type": "code",
   "execution_count": null,
   "id": "0f605ff2-6edb-45a7-b9d0-9718dbcd974a",
   "metadata": {},
   "outputs": [],
   "source": [
    "pos_df.loc[\"a_statistician\"]"
   ]
  },
  {
   "cell_type": "code",
   "execution_count": null,
   "id": "d43bdcb6-0f3e-4fae-9cc2-83aabb5e7f18",
   "metadata": {},
   "outputs": [],
   "source": [
    "pos_df.loc[\"Adolf_Hitler\"]"
   ]
  },
  {
   "cell_type": "code",
   "execution_count": null,
   "id": "294a0dc2-9c72-461b-97f9-30ad6b6fc5ec",
   "metadata": {},
   "outputs": [],
   "source": [
    "pos_df.loc[\"Jorg_Haider\"]"
   ]
  },
  {
   "cell_type": "code",
   "execution_count": null,
   "id": "49b72e09-f11e-4981-a08f-4fd599a1c4cc",
   "metadata": {},
   "outputs": [],
   "source": [
    "pos_df.loc[\"a_person_with_fascism_ideology\"]"
   ]
  },
  {
   "cell_type": "markdown",
   "id": "978b2bb5-d2d7-4937-b989-29519e2c5c4a",
   "metadata": {},
   "source": [
    "#### Persona cat vs control"
   ]
  },
  {
   "cell_type": "code",
   "execution_count": null,
   "id": "1303d70a-e192-4cb9-8284-b49dcc80ca2d",
   "metadata": {},
   "outputs": [],
   "source": [
    "std_df =  hits_means.groupby(\"persona_cat\").std().iloc[:,:-1]\n",
    "std_df_ratios = std_df.iloc[1:]/std_df.iloc[0]\n",
    "std_df_ratios[\"avg\"] = std_df_ratios.mean(1)\n",
    "std_df_ratios.loc[\"avg\"] = std_df_ratios.mean(0)\n",
    "std_df_ratios"
   ]
  },
  {
   "cell_type": "code",
   "execution_count": null,
   "id": "7969ab6b-7b4e-454f-8e52-9752944b7393",
   "metadata": {},
   "outputs": [],
   "source": [
    "df = std_df_ratios.iloc[:-1,:-1].rename(columns=rename_model).stack().reset_index().rename(columns={'level_0':'index','level_1':'Model',0:'Std. Dev. Ratio'})\n",
    "a = sns.stripplot(data=df, x=\"Model\", y=\"Std. Dev. Ratio\", hue=\"persona_cat\", marker=\"o\", palette=sns.color_palette(\"Paired\"))\n",
    "a.axhline(1, linestyle='--')\n",
    "a.set_yscale('symlog')\n",
    "# ax.plot(theta, data.iloc[:,:-1].min(), color=\"green\")\n",
    "# ax.fill(theta, data.iloc[:,:-1].min(), alpha=0.25, label='_nolegend_', color=\"green\")\n",
    "# ax.plot(theta, data.iloc[:,:-1].max(), color=\"red\")\n",
    "# ax.fill(theta, data.iloc[:,:-1].max(), alpha=0.25, label='_nolegend_', color=\"red\")\n",
    "# add legend relative to top-left plot\n",
    "plt.xticks(rotation=45)\n",
    "sns.move_legend(a, \"upper left\", bbox_to_anchor=(1, 1))"
   ]
  },
  {
   "cell_type": "code",
   "execution_count": null,
   "id": "39c6a033-4501-4570-b13c-24570eb59d2f",
   "metadata": {},
   "outputs": [],
   "source": [
    "performance_std_dfs.append(std_df)"
   ]
  },
  {
   "cell_type": "markdown",
   "id": "c509eeec-71fc-4fac-aef1-f03e562d33c5",
   "metadata": {},
   "source": [
    "## Refusal"
   ]
  },
  {
   "cell_type": "code",
   "execution_count": null,
   "id": "be5670e8-49e3-44e0-89e9-2bd0bcd224e0",
   "metadata": {},
   "outputs": [],
   "source": [
    "truthfulqa_refusals = get_results_df(\"truthfulqa_refusals.csv\")"
   ]
  },
  {
   "cell_type": "code",
   "execution_count": null,
   "id": "b00e407f-fb70-44ff-a0c0-fbae8319e732",
   "metadata": {},
   "outputs": [],
   "source": [
    "truthfulqa_refusals = truthfulqa_refusals.rename(columns=rename_model)"
   ]
  },
  {
   "cell_type": "code",
   "execution_count": null,
   "id": "3a87106d-561f-4e9b-b374-e11bcaa05e08",
   "metadata": {},
   "outputs": [],
   "source": [
    "truthfulqa_refusals = truthfulqa_refusals[list(rename_model.values()) + [\"persona_cat\"]]"
   ]
  },
  {
   "cell_type": "code",
   "execution_count": null,
   "id": "2bf780f2-7fb8-4976-bab6-c1a19bfd4c88",
   "metadata": {},
   "outputs": [],
   "source": [
    "truthfulqa_refusals_mean = truthfulqa_refusals.iloc[:,:-1].map(np.mean)"
   ]
  },
  {
   "cell_type": "code",
   "execution_count": null,
   "id": "68953359-417a-4ccc-b543-f287e91b7026",
   "metadata": {},
   "outputs": [],
   "source": [
    "truthfulqa_refusals_mean.sort_values(\"Gemma-2b-inst\")"
   ]
  },
  {
   "cell_type": "code",
   "execution_count": null,
   "id": "acc6edf1-9c00-4f55-a20e-6241e375afa0",
   "metadata": {},
   "outputs": [],
   "source": [
    "truthfulqa_refusals_stacked = truthfulqa_refusals_mean.stack().reset_index().rename(columns={'level_0':'index','level_1':'Model',0:'Refused Fraction'})"
   ]
  },
  {
   "cell_type": "code",
   "execution_count": null,
   "id": "5457ace0-d767-4251-ad12-7dfc613c8f2f",
   "metadata": {},
   "outputs": [],
   "source": [
    "truthfulqa_refusals_stacked[\"persona_cat\"] = [persona_cat_dict[persona]  if persona in persona_cat_dict.keys() else \"control\" for persona in truthfulqa_refusals_stacked[\"index\"]]"
   ]
  },
  {
   "cell_type": "code",
   "execution_count": null,
   "id": "7c336d69-6300-4731-916b-201f92c5765d",
   "metadata": {},
   "outputs": [],
   "source": [
    "all_refusals_stacked.append(truthfulqa_refusals_stacked)"
   ]
  },
  {
   "cell_type": "code",
   "execution_count": null,
   "id": "6e6f278b-5533-44c2-bc5e-158fa8933854",
   "metadata": {},
   "outputs": [],
   "source": [
    "no_control = truthfulqa_refusals_stacked[~truthfulqa_refusals_stacked[\"persona_cat\"].isin([\"control\", \"empty\"])]\n",
    "only_control =  truthfulqa_refusals_stacked[truthfulqa_refusals_stacked[\"persona_cat\"] == \"control\"]\n",
    "only_empty = truthfulqa_refusals_stacked[truthfulqa_refusals_stacked[\"persona_cat\"] == \"empty\"]\n",
    "# ax, fix = plt.subplot(1, 1, figsize=(4,4))\n",
    "ax1 = sns.stripplot(data=no_control, x=\"Model\", y=\"Refused Fraction\", hue=\"persona_cat\", marker=\"o\", palette=sns.color_palette(\"Paired\"))\n",
    "offset = lambda p: transforms.ScaledTranslation(p/72.,0, plt.gcf().dpi_scale_trans)\n",
    "trans = plt.gca().transData\n",
    "ax2 = sns.stripplot(data=only_control, x=\"Model\", y=\"Refused Fraction\", color=\"black\", marker=\"X\", transform=trans+offset(15))\n",
    "ax3 = sns.stripplot(data=only_empty, x=\"Model\", y=\"Refused Fraction\", color=\"red\", marker=\"*\", size=10, transform=trans+offset(-15))\n",
    "plt.xticks(rotation=45)\n",
    "control_handle = Line2D([], [], color=\"black\", marker=\"X\", label=\"control\", linestyle=\"None\")\n",
    "control_label = \"control\"\n",
    "empty_handle = Line2D([], [], color=\"red\", marker=\"*\", label=\"empty\", linestyle=\"None\")\n",
    "empty_label = \"empty\"\n",
    "handles, labels = ax1.get_legend_handles_labels()\n",
    "ax1.legend(handles + [control_handle, empty_handle], labels + [control_label, empty_label], title=\"Persona category\")\n",
    "sns.move_legend(ax1, \"upper left\", bbox_to_anchor=(1, 1))"
   ]
  },
  {
   "cell_type": "code",
   "execution_count": null,
   "id": "8d9428f1-86ec-41bc-afe9-ded4ad61b230",
   "metadata": {},
   "outputs": [],
   "source": [
    "truthfulqa_refusals_mean.corr(numeric_only=True, method=\"kendall\")"
   ]
  },
  {
   "cell_type": "code",
   "execution_count": null,
   "id": "d0d3cca2-dbaa-4a9b-abc7-e51c15bf9eba",
   "metadata": {},
   "outputs": [],
   "source": [
    "truthfulqa_refusals_mean[\"avg\"] = truthfulqa_refusals_mean.mean(1, numeric_only=True)"
   ]
  },
  {
   "cell_type": "code",
   "execution_count": null,
   "id": "162a4ab5-2135-4e54-86a3-fbcbcf606f74",
   "metadata": {},
   "outputs": [],
   "source": [
    "truthfulqa_refusals_mean.sort_values(\"avg\")"
   ]
  },
  {
   "cell_type": "code",
   "execution_count": null,
   "id": "392ef07b-5ecd-4cb5-8e95-9cd189745743",
   "metadata": {},
   "outputs": [],
   "source": [
    "truthfulqa_refusals_mean.idxmax()"
   ]
  },
  {
   "cell_type": "code",
   "execution_count": null,
   "id": "6e5ae319-a173-4e9c-8340-70c38802b729",
   "metadata": {},
   "outputs": [],
   "source": [
    "truthfulqa_refusals_mean.idxmin()"
   ]
  },
  {
   "cell_type": "code",
   "execution_count": null,
   "id": "b5bd6351-7e1e-41a9-8298-2aa945427155",
   "metadata": {},
   "outputs": [],
   "source": [
    "pos_df = pd.DataFrame(index=truthfulqa_refusals_mean.index)\n",
    "for col in truthfulqa_refusals_mean.columns[:-2]:\n",
    "    temp_df = pd.DataFrame()\n",
    "    sorted = truthfulqa_refusals_mean.sort_values(col, ascending=False).index\n",
    "    temp_df = temp_df.reindex(index=sorted)\n",
    "    temp_df[col] = list(range(1, len(truthfulqa_refusals_mean)+1))\n",
    "    pos_df = pos_df.merge(temp_df, left_index=True, right_index=True)"
   ]
  },
  {
   "cell_type": "code",
   "execution_count": null,
   "id": "bb11b7ad-0a21-40a5-bbe4-8460b2867eff",
   "metadata": {},
   "outputs": [],
   "source": [
    "pos_df[\"avg\"] = pos_df.mean(1)"
   ]
  },
  {
   "cell_type": "code",
   "execution_count": null,
   "id": "36f80788-1f7e-498c-b969-f5b71809f53d",
   "metadata": {},
   "outputs": [],
   "source": [
    "pos_df.sort_values(\"avg\")"
   ]
  },
  {
   "cell_type": "markdown",
   "id": "b6191652-8d0a-4222-ba4a-6a23cd3870cc",
   "metadata": {},
   "source": [
    "#### Persona cat vs control"
   ]
  },
  {
   "cell_type": "code",
   "execution_count": null,
   "id": "63e0a6b2-cec9-48d9-9e3a-2d5204f1f796",
   "metadata": {},
   "outputs": [],
   "source": [
    "truthfulqa_refusals_mean[\"persona_cat\"] = [persona_cat_dict[persona] if persona in persona_cat_dict else \"control\" for persona in truthfulqa_refusals_mean.index]"
   ]
  },
  {
   "cell_type": "code",
   "execution_count": null,
   "id": "9cb9d418-00a7-42cf-a0a6-bf135188efab",
   "metadata": {},
   "outputs": [],
   "source": [
    "std_df =  truthfulqa_refusals_mean.groupby(\"persona_cat\").std().iloc[:,:-1]\n",
    "std_df_ratios = std_df.iloc[1:]/std_df.iloc[0]\n",
    "std_df_ratios[\"avg\"] = std_df_ratios.mean(1)\n",
    "std_df_ratios.loc[\"avg\"] = std_df_ratios.mean(0)\n",
    "std_df_ratios"
   ]
  },
  {
   "cell_type": "code",
   "execution_count": null,
   "id": "d4084216-53c8-41ec-a7cd-ede4812a9904",
   "metadata": {},
   "outputs": [],
   "source": [
    "std_df"
   ]
  },
  {
   "cell_type": "code",
   "execution_count": null,
   "id": "38c8fc3b-0d00-4ed4-9b2c-9cd70fc32c39",
   "metadata": {},
   "outputs": [],
   "source": [
    "df = std_df_ratios.iloc[:-1,:-1].rename(columns=rename_model).stack().reset_index().rename(columns={'level_0':'index','level_1':'Model',0:'Std. Dev. Ratio'})\n",
    "a = sns.stripplot(data=df, x=\"Model\", y=\"Std. Dev. Ratio\", hue=\"persona_cat\", marker=\"o\", palette=sns.color_palette(\"Paired\"), log_scale=True)\n",
    "a.axhline(1, linestyle='--')\n",
    "a.set_yscale('symlog')\n",
    "# ax.plot(theta, data.iloc[:,:-1].min(), color=\"green\")\n",
    "# ax.fill(theta, data.iloc[:,:-1].min(), alpha=0.25, label='_nolegend_', color=\"green\")\n",
    "# ax.plot(theta, data.iloc[:,:-1].max(), color=\"red\")\n",
    "# ax.fill(theta, data.iloc[:,:-1].max(), alpha=0.25, label='_nolegend_', color=\"red\")\n",
    "# add legend relative to top-left plot\n",
    "plt.xticks(rotation=45)\n",
    "sns.move_legend(a, \"upper left\", bbox_to_anchor=(1, 1))"
   ]
  },
  {
   "cell_type": "code",
   "execution_count": null,
   "id": "749f65f1-17b3-4979-b095-c910a6e40b49",
   "metadata": {},
   "outputs": [],
   "source": [
    "refusal_std_dfs.append(std_df)"
   ]
  },
  {
   "cell_type": "markdown",
   "id": "336090cc-ee67-4128-8910-6e13a1b9d420",
   "metadata": {},
   "source": [
    "# MMLU"
   ]
  },
  {
   "cell_type": "markdown",
   "id": "fe32348b-e73a-408c-a341-d2a5cdf473f1",
   "metadata": {},
   "source": [
    "## Persona variability"
   ]
  },
  {
   "cell_type": "code",
   "execution_count": null,
   "id": "8ee2181e-36ab-4eac-80e9-bd96f6457307",
   "metadata": {},
   "outputs": [],
   "source": [
    "hits = get_results_df(\"mmlu_hits.csv\")"
   ]
  },
  {
   "cell_type": "code",
   "execution_count": null,
   "id": "e93912b5-fe97-49f6-a17b-1f75c564d59d",
   "metadata": {},
   "outputs": [],
   "source": [
    "full_data =  load_dataset(\"cais/mmlu\", \"all\")[\"test\"]"
   ]
  },
  {
   "cell_type": "code",
   "execution_count": null,
   "id": "6f861828-a0b2-4602-a2f1-a4fdedb20c69",
   "metadata": {},
   "outputs": [],
   "source": [
    "sampled_ids = json.load(open(\"./data/mmlu/sampled_ids.json\", \"r\"))\n",
    "sampled_data = full_data.select(sampled_ids) "
   ]
  },
  {
   "cell_type": "code",
   "execution_count": null,
   "id": "d2745915-b3f8-4d25-a036-098955b53c62",
   "metadata": {},
   "outputs": [],
   "source": [
    "def mmlu_score(hits):\n",
    "    data = full_data if len(hits) == len(full_data) else sampled_data\n",
    "    temp_df = pd.DataFrame.from_dict({\"hits\": hits, \"subject\": data[\"subject\"]})\n",
    "    return temp_df.groupby(\"subject\")[\"hits\"].mean().mean()"
   ]
  },
  {
   "cell_type": "code",
   "execution_count": null,
   "id": "20888f99-bde4-4bd6-b812-1765316f29ab",
   "metadata": {},
   "outputs": [],
   "source": [
    "def mmlu_diff(hits):\n",
    "    data = full_data if len(hits) == len(full_data) else sampled_data\n",
    "    temp_df = pd.DataFrame.from_dict({\"hits\": hits, \"subject\": data[\"subject\"]})\n",
    "    return temp_df.groupby(\"subject\")[\"hits\"].mean().max() - temp_df.groupby(\"subject\")[\"hits\"].mean().min()"
   ]
  },
  {
   "cell_type": "code",
   "execution_count": null,
   "id": "f6d08bd2-6512-48ec-9f11-a3e26986c224",
   "metadata": {},
   "outputs": [],
   "source": [
    "def mmlu_oracle(hits):\n",
    "    data = full_data if len(hits) == len(full_data) else sampled_data\n",
    "    temp_df = pd.DataFrame.from_dict({\"hits\": hits, \"subject\": data[\"subject\"]})\n",
    "    return temp_df.groupby(\"subject\")[\"hits\"].mean().max() - temp_df.groupby(\"subject\")[\"hits\"].mean().min()"
   ]
  },
  {
   "cell_type": "markdown",
   "id": "2f6a517d-10b5-441e-b8ba-c2a6f59e9c1a",
   "metadata": {},
   "source": [
    "### Performance"
   ]
  },
  {
   "cell_type": "code",
   "execution_count": null,
   "id": "cee81cb8-869d-4c6a-b312-9e3ed7c80ec8",
   "metadata": {},
   "outputs": [],
   "source": [
    "hits_means = hits.iloc[:,:-1].map(mmlu_score)"
   ]
  },
  {
   "cell_type": "code",
   "execution_count": null,
   "id": "524182e3-4afc-4d64-b039-29462ee80450",
   "metadata": {},
   "outputs": [],
   "source": [
    "hits_means = hits_means[[x for x in rename_model.values()]].copy()"
   ]
  },
  {
   "cell_type": "code",
   "execution_count": null,
   "id": "a9d8f27b-f7e7-4b23-831f-ec5795feb1c6",
   "metadata": {},
   "outputs": [],
   "source": [
    "hits_means[\"persona_cat\"] = hits[\"persona_cat\"]"
   ]
  },
  {
   "cell_type": "code",
   "execution_count": null,
   "id": "f4bdc292-ef63-4d32-bcef-7128042072e3",
   "metadata": {},
   "outputs": [],
   "source": [
    "hits_means_stacked = hits_means[hits_means.columns[:-1]].stack().reset_index().rename(columns={'level_0':'index','level_1':'Model',0:'Accuracy'})"
   ]
  },
  {
   "cell_type": "code",
   "execution_count": null,
   "id": "1796a0ef-955e-4a26-91e7-dd1f4afd2517",
   "metadata": {},
   "outputs": [],
   "source": [
    "hits_means_stacked[\"persona_cat\"] = [persona_cat_dict[persona]  if persona in persona_cat_dict.keys() else \"control\" for persona in hits_means_stacked[\"index\"]]"
   ]
  },
  {
   "cell_type": "code",
   "execution_count": null,
   "id": "9b465f50-f7cc-430a-8250-8db1ed98fc8f",
   "metadata": {},
   "outputs": [],
   "source": [
    "all_hits_stacked.append(hits_means_stacked)"
   ]
  },
  {
   "cell_type": "code",
   "execution_count": null,
   "id": "bcdfa6e3-f3e2-4f84-baa2-22145fd002d6",
   "metadata": {},
   "outputs": [],
   "source": [
    "no_control = hits_means_stacked[~hits_means_stacked[\"persona_cat\"].isin([\"control\", \"empty\"])]\n",
    "only_control =  hits_means_stacked[hits_means_stacked[\"persona_cat\"] == \"control\"]\n",
    "only_empty = hits_means_stacked[hits_means_stacked[\"persona_cat\"] == \"empty\"]\n",
    "# ax, fix = plt.subplot(1, 1, figsize=(4,4))\n",
    "ax1 = sns.stripplot(data=no_control, x=\"Model\", y=\"Accuracy\", hue=\"persona_cat\", marker=\"o\", palette=sns.color_palette(\"Paired\"))\n",
    "racset = lambda p: transforms.ScaledTranslation(p/72.,0, plt.gcf().dpi_scale_trans)\n",
    "trans = plt.gca().transData\n",
    "ax2 = sns.stripplot(data=only_control, x=\"Model\", y=\"Accuracy\", color=\"black\", marker=\"X\", transform=trans+racset(15))\n",
    "ax3 = sns.stripplot(data=only_empty, x=\"Model\", y=\"Accuracy\", color=\"red\", marker=\"*\", size=10, transform=trans+racset(-15))\n",
    "plt.xticks(rotation=45)\n",
    "control_handle = Line2D([], [], color=\"black\", marker=\"X\", label=\"control\", linestyle=\"None\")\n",
    "control_label = \"control\"\n",
    "empty_handle = Line2D([], [], color=\"red\", marker=\"*\", label=\"empty\", linestyle=\"None\")\n",
    "empty_label = \"empty\"\n",
    "handles, labels = ax1.get_legend_handles_labels()\n",
    "ax1.legend(handles + [control_handle, empty_handle], labels + [control_label, empty_label], title=\"Persona category\")\n",
    "sns.move_legend(ax1, \"upper left\", bbox_to_anchor=(1, 1))"
   ]
  },
  {
   "cell_type": "code",
   "execution_count": null,
   "id": "7ed63d48-e0a3-495a-9a61-accc537e5803",
   "metadata": {},
   "outputs": [],
   "source": [
    "hits_means.boxplot(by=\"persona_cat\", rot=90, figsize=(15,15))"
   ]
  },
  {
   "cell_type": "code",
   "execution_count": null,
   "id": "93d6828b-ae79-4f26-aec5-57d860623990",
   "metadata": {},
   "outputs": [],
   "source": [
    "inter_std = {}\n",
    "for col in hits.columns[:-1]:\n",
    "    inter_std[col] = np.stack(hits[col].to_numpy()).std(0).mean()\n",
    "    "
   ]
  },
  {
   "cell_type": "code",
   "execution_count": null,
   "id": "a6db3976-1d7a-4088-9c23-b6dba27000df",
   "metadata": {},
   "outputs": [],
   "source": [
    "pd.Series(inter_std).sort_values()"
   ]
  },
  {
   "cell_type": "code",
   "execution_count": null,
   "id": "2ed2e52b-a411-4e14-9ba7-66cdced818d8",
   "metadata": {},
   "outputs": [],
   "source": [
    "hits_means.corr(numeric_only=True, method=\"kendall\")"
   ]
  },
  {
   "cell_type": "code",
   "execution_count": null,
   "id": "bd7676ef-41dc-4184-92c9-982cac8d3ff7",
   "metadata": {},
   "outputs": [],
   "source": [
    "hits_means[\"avg\"] = hits_means.mean(1, numeric_only=True)"
   ]
  },
  {
   "cell_type": "code",
   "execution_count": null,
   "id": "2aab93aa-acf8-4f1d-a0a4-69b78371687a",
   "metadata": {},
   "outputs": [],
   "source": [
    "hits_means.sort_values(\"avg\")"
   ]
  },
  {
   "cell_type": "code",
   "execution_count": null,
   "id": "5a66f4a2-1742-4fb7-8a7e-884201de20df",
   "metadata": {},
   "outputs": [],
   "source": [
    "hits_means.idxmax()"
   ]
  },
  {
   "cell_type": "code",
   "execution_count": null,
   "id": "d5fc619f-6e5a-43de-a40c-611889a0db06",
   "metadata": {},
   "outputs": [],
   "source": [
    "hits_means.idxmin()"
   ]
  },
  {
   "cell_type": "code",
   "execution_count": null,
   "id": "df0b3c2f-796d-45b1-9b0f-7f1046a97c8a",
   "metadata": {},
   "outputs": [],
   "source": [
    "pos_df = pd.DataFrame(index=hits_means.index)\n",
    "for col in hits_means.columns[:-2]:\n",
    "    temp_df = pd.DataFrame()\n",
    "    sorted = hits_means.sort_values(col, ascending=False).index\n",
    "    temp_df = temp_df.reindex(index=sorted)\n",
    "    temp_df[col] = list(range(1, len(hits_means)+1))\n",
    "    pos_df = pos_df.merge(temp_df, left_index=True, right_index=True)"
   ]
  },
  {
   "cell_type": "code",
   "execution_count": null,
   "id": "4e2f0233-4ba9-40d6-be35-82e088726387",
   "metadata": {},
   "outputs": [],
   "source": [
    "pos_df.loc[\"empty\"]"
   ]
  },
  {
   "cell_type": "code",
   "execution_count": null,
   "id": "73555bd3-36d8-43e2-9fac-006d5459e558",
   "metadata": {},
   "outputs": [],
   "source": [
    "pos_df.loc[\"a_person_with_fascism_ideology\"]"
   ]
  },
  {
   "cell_type": "markdown",
   "id": "975222e2-fc67-4ce3-9d00-f64e1b9f20c8",
   "metadata": {},
   "source": [
    "#### Persona cat vs control"
   ]
  },
  {
   "cell_type": "code",
   "execution_count": null,
   "id": "897daa07-a5a9-4d82-b5de-07d6c487e4c6",
   "metadata": {},
   "outputs": [],
   "source": [
    "std_df =  hits_means.groupby(\"persona_cat\").std().iloc[:,:-1]\n",
    "std_df_ratios = std_df.iloc[1:]/std_df.iloc[0]\n",
    "std_df_ratios[\"avg\"] = std_df_ratios.mean(1)\n",
    "std_df_ratios.loc[\"avg\"] = std_df_ratios.mean(0)\n",
    "std_df_ratios"
   ]
  },
  {
   "cell_type": "code",
   "execution_count": null,
   "id": "3e33fd67-6f59-49dc-920c-44f14f144c53",
   "metadata": {},
   "outputs": [],
   "source": [
    "df = std_df_ratios.iloc[:-1,:-1].rename(columns=rename_model).stack().reset_index().rename(columns={'level_0':'index','level_1':'Model',0:'Std. Dev. Ratio'})\n",
    "a = sns.stripplot(data=df, x=\"Model\", y=\"Std. Dev. Ratio\", hue=\"persona_cat\", marker=\"o\", palette=sns.color_palette(\"Paired\"))\n",
    "a.axhline(1, linestyle='--')\n",
    "a.set_yscale('symlog')\n",
    "# ax.plot(theta, data.iloc[:,:-1].min(), color=\"green\")\n",
    "# ax.fill(theta, data.iloc[:,:-1].min(), alpha=0.25, label='_nolegend_', color=\"green\")\n",
    "# ax.plot(theta, data.iloc[:,:-1].max(), color=\"red\")\n",
    "# ax.fill(theta, data.iloc[:,:-1].max(), alpha=0.25, label='_nolegend_', color=\"red\")\n",
    "# add legend relative to top-left plot\n",
    "plt.xticks(rotation=45)\n",
    "sns.move_legend(a, \"upper left\", bbox_to_anchor=(1, 1))"
   ]
  },
  {
   "cell_type": "code",
   "execution_count": null,
   "id": "1a113daa-45d0-4486-9e2a-f2ac69c899aa",
   "metadata": {},
   "outputs": [],
   "source": [
    "performance_std_dfs.append(std_df)"
   ]
  },
  {
   "cell_type": "markdown",
   "id": "abe259d5-4057-4ba7-8ff8-6c5bcb660e89",
   "metadata": {},
   "source": [
    "### Performance discrepancy (inter-subject)"
   ]
  },
  {
   "cell_type": "code",
   "execution_count": null,
   "id": "0dc06136-2ef9-4e61-98b1-dd4e6dc42017",
   "metadata": {},
   "outputs": [],
   "source": [
    "hits_diffs = hits.iloc[:,:-1].map(mmlu_diff)"
   ]
  },
  {
   "cell_type": "code",
   "execution_count": null,
   "id": "5e4a974d-5606-493a-bb5a-ab66efe03005",
   "metadata": {},
   "outputs": [],
   "source": [
    "hits_diffs = hits_diffs[[x for x in rename_model.values()]].copy()"
   ]
  },
  {
   "cell_type": "code",
   "execution_count": null,
   "id": "163a4232-6db0-4251-a4e9-4aba04583207",
   "metadata": {},
   "outputs": [],
   "source": [
    "hits_diffs[\"persona_cat\"] = hits[\"persona_cat\"]"
   ]
  },
  {
   "cell_type": "code",
   "execution_count": null,
   "id": "e2b84965-7236-48e8-9928-6fcf1271ac80",
   "metadata": {},
   "outputs": [],
   "source": [
    "hits_diffs.sort_values(\"GPT-3.5\")"
   ]
  },
  {
   "cell_type": "code",
   "execution_count": null,
   "id": "097c0149-a63e-4843-978f-a9645952f38d",
   "metadata": {},
   "outputs": [],
   "source": [
    "hits_diffs_stacked = hits_diffs[hits_diffs.columns[:-1]].stack().reset_index().rename(columns={'level_0':'index','level_1':'Model',0:'Diff. in Accuracy'})"
   ]
  },
  {
   "cell_type": "code",
   "execution_count": null,
   "id": "d6d9ca32-9f1a-43d0-862c-a6da26e9c3d0",
   "metadata": {},
   "outputs": [],
   "source": [
    "hits_diffs_stacked[\"persona_cat\"] = [persona_cat_dict[persona]  if persona in persona_cat_dict.keys() else \"control\" for persona in hits_diffs_stacked[\"index\"]]"
   ]
  },
  {
   "cell_type": "code",
   "execution_count": null,
   "id": "b0546169-9425-4631-8845-04a0c10e3ad3",
   "metadata": {},
   "outputs": [],
   "source": [
    "no_control = hits_diffs_stacked[~hits_diffs_stacked[\"persona_cat\"].isin([\"control\", \"empty\"])]\n",
    "only_control =  hits_diffs_stacked[hits_diffs_stacked[\"persona_cat\"] == \"control\"]\n",
    "only_empty = hits_diffs_stacked[hits_diffs_stacked[\"persona_cat\"] == \"empty\"]\n",
    "# ax, fix = plt.subplot(1, 1, figsize=(4,4))\n",
    "ax1 = sns.stripplot(data=no_control, x=\"Model\", y=\"Diff. in Accuracy\", hue=\"persona_cat\", marker=\"o\", palette=sns.color_palette(\"Paired\"))\n",
    "racset = lambda p: transforms.ScaledTranslation(p/72.,0, plt.gcf().dpi_scale_trans)\n",
    "trans = plt.gca().transData\n",
    "ax2 = sns.stripplot(data=only_control, x=\"Model\", y=\"Diff. in Accuracy\", color=\"black\", marker=\"X\", transform=trans+racset(15))\n",
    "ax3 = sns.stripplot(data=only_empty, x=\"Model\", y=\"Diff. in Accuracy\", color=\"red\", marker=\"*\", size=10, transform=trans+racset(-15))\n",
    "plt.xticks(rotation=45)\n",
    "control_handle = Line2D([], [], color=\"black\", marker=\"X\", label=\"control\", linestyle=\"None\")\n",
    "control_label = \"control\"\n",
    "empty_handle = Line2D([], [], color=\"red\", marker=\"*\", label=\"empty\", linestyle=\"None\")\n",
    "empty_label = \"empty\"\n",
    "handles, labels = ax1.get_legend_handles_labels()\n",
    "ax1.legend(handles + [control_handle, empty_handle], labels + [control_label, empty_label], title=\"Persona category\")\n",
    "sns.move_legend(ax1, \"upper left\", bbox_to_anchor=(1, 1))"
   ]
  },
  {
   "cell_type": "code",
   "execution_count": null,
   "id": "27dbf136-1466-496a-b621-2a37d518ea8e",
   "metadata": {},
   "outputs": [],
   "source": [
    "hits_diffs.boxplot(by=\"persona_cat\", rot=90, figsize=(15,15))"
   ]
  },
  {
   "cell_type": "code",
   "execution_count": null,
   "id": "4b64d662-7843-4aca-a4df-f7fe1aaf100b",
   "metadata": {},
   "outputs": [],
   "source": [
    "hits_diffs.corr(numeric_only=True, method=\"kendall\")"
   ]
  },
  {
   "cell_type": "markdown",
   "id": "bc366886-f893-4893-9d1f-de2af17d6879",
   "metadata": {},
   "source": [
    "#### Persona cat vs control"
   ]
  },
  {
   "cell_type": "code",
   "execution_count": null,
   "id": "e2531073-bfd8-45c9-9e19-6386b4dd2e95",
   "metadata": {},
   "outputs": [],
   "source": [
    "std_df =  hits_diffs.groupby(\"persona_cat\").std().iloc[:,:-1]\n",
    "std_df_ratios = std_df.iloc[1:]/std_df.iloc[0]\n",
    "std_df_ratios[\"avg\"] = std_df_ratios.mean(1)\n",
    "std_df_ratios.loc[\"avg\"] = std_df_ratios.mean(0)\n",
    "std_df_ratios"
   ]
  },
  {
   "cell_type": "code",
   "execution_count": null,
   "id": "394d3bd7-1c69-4366-bf93-ae2c9a38aff1",
   "metadata": {},
   "outputs": [],
   "source": [
    "df = std_df_ratios.iloc[:-1,:-1].rename(columns=rename_model).stack().reset_index().rename(columns={'level_0':'index','level_1':'Model',0:'Std. Dev. Ratio'})\n",
    "a = sns.stripplot(data=df, x=\"Model\", y=\"Std. Dev. Ratio\", hue=\"persona_cat\", marker=\"o\", palette=sns.color_palette(\"Paired\"))\n",
    "a.axhline(1, linestyle='--')\n",
    "a.set_yscale('symlog')\n",
    "# ax.plot(theta, data.iloc[:,:-1].min(), color=\"green\")\n",
    "# ax.fill(theta, data.iloc[:,:-1].min(), alpha=0.25, label='_nolegend_', color=\"green\")\n",
    "# ax.plot(theta, data.iloc[:,:-1].max(), color=\"red\")\n",
    "# ax.fill(theta, data.iloc[:,:-1].max(), alpha=0.25, label='_nolegend_', color=\"red\")\n",
    "# add legend relative to top-left plot\n",
    "plt.xticks(rotation=45)\n",
    "sns.move_legend(a, \"upper left\", bbox_to_anchor=(1, 1))"
   ]
  },
  {
   "cell_type": "markdown",
   "id": "bb6c4427-4d7d-49ac-8e6e-29423e574370",
   "metadata": {},
   "source": [
    "## Refusal"
   ]
  },
  {
   "cell_type": "code",
   "execution_count": null,
   "id": "996f6cc3-4825-487d-b46f-cb70d3bb4227",
   "metadata": {},
   "outputs": [],
   "source": [
    "mmlu_refusals = get_results_df(\"mmlu_refusals.csv\")"
   ]
  },
  {
   "cell_type": "code",
   "execution_count": null,
   "id": "511c83cb-fedd-420f-a0f1-ee12d0f21a4b",
   "metadata": {},
   "outputs": [],
   "source": [
    "mmlu_refusals = mmlu_refusals.rename(columns=rename_model)"
   ]
  },
  {
   "cell_type": "code",
   "execution_count": null,
   "id": "7b3553dc-7629-4412-8716-f778f64fc6f1",
   "metadata": {},
   "outputs": [],
   "source": [
    "mmlu_refusals = mmlu_refusals[list(rename_model.values()) + [\"persona_cat\"]]"
   ]
  },
  {
   "cell_type": "code",
   "execution_count": null,
   "id": "d1ee5973-3226-4d7c-a32a-44d473339fde",
   "metadata": {},
   "outputs": [],
   "source": [
    "mmlu_refusals_mean = mmlu_refusals.iloc[:,:-1].map(np.mean)"
   ]
  },
  {
   "cell_type": "code",
   "execution_count": null,
   "id": "cedc6b25-c47a-4560-b544-537424109c76",
   "metadata": {},
   "outputs": [],
   "source": [
    "mmlu_refusals_mean.sort_values(\"Gemma-7b-inst\")"
   ]
  },
  {
   "cell_type": "code",
   "execution_count": null,
   "id": "7a0ecd86-6501-4da4-b4be-5ecb1fc5f7ad",
   "metadata": {},
   "outputs": [],
   "source": [
    "mmlu_refusals_stacked = mmlu_refusals_mean.stack().reset_index().rename(columns={'level_0':'index','level_1':'Model',0:'Refused Fraction'})"
   ]
  },
  {
   "cell_type": "code",
   "execution_count": null,
   "id": "d8777e6b-978f-427e-a459-523adceb305d",
   "metadata": {},
   "outputs": [],
   "source": [
    "mmlu_refusals_stacked[\"persona_cat\"] = [persona_cat_dict[persona]  if persona in persona_cat_dict.keys() else \"control\" for persona in mmlu_refusals_stacked[\"index\"]]"
   ]
  },
  {
   "cell_type": "code",
   "execution_count": null,
   "id": "f031fca5-ae1f-41a7-848c-18528fd25307",
   "metadata": {},
   "outputs": [],
   "source": [
    "all_refusals_stacked.append(mmlu_refusals_stacked)"
   ]
  },
  {
   "cell_type": "code",
   "execution_count": null,
   "id": "98d98468-35ed-4dcc-bafb-8893903ba6ab",
   "metadata": {},
   "outputs": [],
   "source": [
    "no_control = mmlu_refusals_stacked[~mmlu_refusals_stacked[\"persona_cat\"].isin([\"control\", \"empty\"])]\n",
    "only_control =  mmlu_refusals_stacked[mmlu_refusals_stacked[\"persona_cat\"] == \"control\"]\n",
    "only_empty = mmlu_refusals_stacked[mmlu_refusals_stacked[\"persona_cat\"] == \"empty\"]\n",
    "# ax, fix = plt.subplot(1, 1, figsize=(4,4))\n",
    "ax1 = sns.stripplot(data=no_control, x=\"Model\", y=\"Refused Fraction\", hue=\"persona_cat\", marker=\"o\", palette=sns.color_palette(\"Paired\"))\n",
    "offset = lambda p: transforms.ScaledTranslation(p/72.,0, plt.gcf().dpi_scale_trans)\n",
    "trans = plt.gca().transData\n",
    "ax2 = sns.stripplot(data=only_control, x=\"Model\", y=\"Refused Fraction\", color=\"black\", marker=\"X\", transform=trans+offset(15))\n",
    "ax3 = sns.stripplot(data=only_empty, x=\"Model\", y=\"Refused Fraction\", color=\"red\", marker=\"*\", size=10, transform=trans+offset(-15))\n",
    "plt.xticks(rotation=45)\n",
    "control_handle = Line2D([], [], color=\"black\", marker=\"X\", label=\"control\", linestyle=\"None\")\n",
    "control_label = \"control\"\n",
    "empty_handle = Line2D([], [], color=\"red\", marker=\"*\", label=\"empty\", linestyle=\"None\")\n",
    "empty_label = \"empty\"\n",
    "handles, labels = ax1.get_legend_handles_labels()\n",
    "ax1.legend(handles + [control_handle, empty_handle], labels + [control_label, empty_label], title=\"Persona category\")\n",
    "sns.move_legend(ax1, \"upper left\", bbox_to_anchor=(1, 1))"
   ]
  },
  {
   "cell_type": "code",
   "execution_count": null,
   "id": "78810762-94af-4357-b75c-534b9e5c25d0",
   "metadata": {},
   "outputs": [],
   "source": [
    "mmlu_refusals_mean.corr(numeric_only=True, method=\"kendall\")"
   ]
  },
  {
   "cell_type": "code",
   "execution_count": null,
   "id": "e6621a06-2128-47de-8c59-469ec4d3d0f1",
   "metadata": {},
   "outputs": [],
   "source": [
    "mmlu_refusals_mean[\"avg\"] = mmlu_refusals_mean.mean(1, numeric_only=True)"
   ]
  },
  {
   "cell_type": "code",
   "execution_count": null,
   "id": "3f0015ef-4df5-4ecb-a985-ec0cdc4031a8",
   "metadata": {},
   "outputs": [],
   "source": [
    "mmlu_refusals_mean.sort_values(\"avg\")"
   ]
  },
  {
   "cell_type": "code",
   "execution_count": null,
   "id": "8ab378b2-fd89-45cb-8f16-d77189a7d365",
   "metadata": {},
   "outputs": [],
   "source": [
    "mmlu_refusals_mean.idxmax()"
   ]
  },
  {
   "cell_type": "code",
   "execution_count": null,
   "id": "0399dd60-24cc-4305-8268-f1bc8668d2d1",
   "metadata": {},
   "outputs": [],
   "source": [
    "mmlu_refusals_mean.idxmin()"
   ]
  },
  {
   "cell_type": "code",
   "execution_count": null,
   "id": "73645c2b-2b01-4dbd-8c5f-ee78bdee9365",
   "metadata": {},
   "outputs": [],
   "source": [
    "pos_df = pd.DataFrame(index=mmlu_refusals_mean.index)\n",
    "for col in mmlu_refusals_mean.columns[:-2]:\n",
    "    temp_df = pd.DataFrame()\n",
    "    sorted = mmlu_refusals_mean.sort_values(col, ascending=False).index\n",
    "    temp_df = temp_df.reindex(index=sorted)\n",
    "    temp_df[col] = list(range(1, len(mmlu_refusals_mean)+1))\n",
    "    pos_df = pos_df.merge(temp_df, left_index=True, right_index=True)"
   ]
  },
  {
   "cell_type": "code",
   "execution_count": null,
   "id": "946751c2-0276-4c0b-b95a-953c6f60878b",
   "metadata": {},
   "outputs": [],
   "source": [
    "pos_df[\"avg\"] = pos_df.mean(1)"
   ]
  },
  {
   "cell_type": "code",
   "execution_count": null,
   "id": "8baaa2dd-3351-4f7e-ba94-cc82468d2dd0",
   "metadata": {
    "scrolled": true
   },
   "outputs": [],
   "source": [
    "pos_df.sort_values(\"avg\")"
   ]
  },
  {
   "cell_type": "markdown",
   "id": "6a5d184c-aa8e-4b85-aeaf-c8e45209d762",
   "metadata": {},
   "source": [
    "#### Persona cat vs control"
   ]
  },
  {
   "cell_type": "code",
   "execution_count": null,
   "id": "63ca21aa-7765-44a8-8aad-4678c9077c38",
   "metadata": {},
   "outputs": [],
   "source": [
    "mmlu_refusals_mean[\"persona_cat\"] = [persona_cat_dict[persona] if persona in persona_cat_dict else \"control\" for persona in mmlu_refusals_mean.index]"
   ]
  },
  {
   "cell_type": "code",
   "execution_count": null,
   "id": "57dae683-7fae-4a24-8caa-76da01d1eb1b",
   "metadata": {},
   "outputs": [],
   "source": [
    "std_df =  mmlu_refusals_mean.groupby(\"persona_cat\").std().iloc[:,:-1]\n",
    "std_df_ratios = std_df.iloc[1:]/std_df.iloc[0]\n",
    "std_df_ratios[\"avg\"] = std_df_ratios.mean(1)\n",
    "std_df_ratios.loc[\"avg\"] = std_df_ratios.mean(0)\n",
    "std_df_ratios"
   ]
  },
  {
   "cell_type": "code",
   "execution_count": null,
   "id": "6cb79b53-cf61-431b-885d-983b98cbf075",
   "metadata": {},
   "outputs": [],
   "source": [
    "df = std_df_ratios.iloc[:-1,:-1].rename(columns=rename_model).stack().reset_index().rename(columns={'level_0':'index','level_1':'Model',0:'Std. Dev. Ratio'})\n",
    "a = sns.stripplot(data=df, x=\"Model\", y=\"Std. Dev. Ratio\", hue=\"persona_cat\", marker=\"o\", palette=sns.color_palette(\"Paired\"), log_scale=True)\n",
    "a.axhline(1, linestyle='--')\n",
    "a.set_yscale('symlog')\n",
    "# ax.plot(theta, data.iloc[:,:-1].min(), color=\"green\")\n",
    "# ax.fill(theta, data.iloc[:,:-1].min(), alpha=0.25, label='_nolegend_', color=\"green\")\n",
    "# ax.plot(theta, data.iloc[:,:-1].max(), color=\"red\")\n",
    "# ax.fill(theta, data.iloc[:,:-1].max(), alpha=0.25, label='_nolegend_', color=\"red\")\n",
    "# add legend relative to top-left plot\n",
    "plt.xticks(rotation=45)\n",
    "sns.move_legend(a, \"upper left\", bbox_to_anchor=(1, 1))"
   ]
  },
  {
   "cell_type": "code",
   "execution_count": null,
   "id": "b02d5e7a-57c5-46c1-8eb1-1a6c68b2eb33",
   "metadata": {},
   "outputs": [],
   "source": [
    "refusal_std_dfs.append(std_df)"
   ]
  },
  {
   "cell_type": "markdown",
   "id": "cb659c1d-d881-4947-863e-7bafffff86db",
   "metadata": {},
   "source": [
    "# BBQ"
   ]
  },
  {
   "cell_type": "markdown",
   "id": "3e34554c-1e4d-49f3-b3dd-aa127e267972",
   "metadata": {},
   "source": [
    "## Persona variability"
   ]
  },
  {
   "cell_type": "code",
   "execution_count": null,
   "id": "314d5610-b7d3-4246-a651-779e98299a87",
   "metadata": {},
   "outputs": [],
   "source": [
    "hits = get_results_df(\"bbq_hits.csv\")"
   ]
  },
  {
   "cell_type": "code",
   "execution_count": null,
   "id": "4a2f659f-0b54-4fe9-bbfb-7aa4747b61da",
   "metadata": {},
   "outputs": [],
   "source": [
    "biased = get_results_df(\"bbq_biased.csv\")"
   ]
  },
  {
   "cell_type": "code",
   "execution_count": null,
   "id": "153dc401-ee85-45a6-ad87-01c8481d139d",
   "metadata": {},
   "outputs": [],
   "source": [
    "unknown = get_results_df(\"bbq_unknown.csv\")"
   ]
  },
  {
   "cell_type": "code",
   "execution_count": null,
   "id": "e604af0f-24f0-447b-af5e-6b1cb11e8617",
   "metadata": {},
   "outputs": [],
   "source": [
    "subsets = [\n",
    "        \"Age\",\n",
    "        \"Disability_status\",\n",
    "        \"Gender_identity\",\n",
    "        \"Nationality\",\n",
    "        \"Physical_appearance\",\n",
    "        \"Race_ethnicity\",\n",
    "        \"Race_x_gender\",\n",
    "        \"Race_x_SES\",\n",
    "        \"Religion\",\n",
    "        \"SES\",\n",
    "        \"Sexual_orientation\",\n",
    "    ]\n",
    "BBQ  = {subset: load_dataset(\"heegyu/bbq\", subset)[\"test\"] for subset in subsets}"
   ]
  },
  {
   "cell_type": "code",
   "execution_count": null,
   "id": "e9ba8c8f-faa1-419d-8076-b7d1970b4e73",
   "metadata": {},
   "outputs": [],
   "source": [
    "sampled_ids = json.load(open(\"./data/bbq/sampled_ids.json\", \"r\"))\n",
    "sampled_data = [data.select(sampled_ids[subset]) for subset, data in BBQ.items()]\n",
    "full_data = [data for data in BBQ.values()]"
   ]
  },
  {
   "cell_type": "code",
   "execution_count": null,
   "id": "cc4df24a-3399-4414-a5e9-9e3c86494b94",
   "metadata": {},
   "outputs": [],
   "source": [
    "full_data = concatenate_datasets(full_data)\n",
    "sampled_data = concatenate_datasets(sampled_data)"
   ]
  },
  {
   "cell_type": "code",
   "execution_count": null,
   "id": "141e4d22-f8c2-4715-977b-1e7ca23a03cc",
   "metadata": {},
   "outputs": [],
   "source": [
    "sampled_data[5577]"
   ]
  },
  {
   "cell_type": "code",
   "execution_count": null,
   "id": "c13f26ee-1ac6-41b7-95d8-a45c4f2222b9",
   "metadata": {},
   "outputs": [],
   "source": [
    "full_data = full_data.to_pandas()\n",
    "sampled_data = sampled_data.to_pandas()"
   ]
  },
  {
   "cell_type": "code",
   "execution_count": null,
   "id": "7ffe2470-6860-402d-b366-6868976be257",
   "metadata": {},
   "outputs": [],
   "source": [
    "bbq_suppl_df = pd.read_csv(\"./data/bbq/additional_metadata.csv\")"
   ]
  },
  {
   "cell_type": "code",
   "execution_count": null,
   "id": "a31c8de9-03bb-47b4-b6a4-13b2b0ad02fc",
   "metadata": {},
   "outputs": [],
   "source": [
    "full_data = pd.merge(left=full_data, right=bbq_suppl_df[[\"category\", \"example_id\", \"target_loc\", \"Relevant_social_values\"]].drop_duplicates(), on=[\"category\", \"example_id\"], how=\"inner\")\n",
    "sampled_data = pd.merge(left=sampled_data, right=bbq_suppl_df[[\"category\", \"example_id\", \"target_loc\", \"Relevant_social_values\"]].drop_duplicates(), on=[\"category\", \"example_id\"], how=\"inner\")"
   ]
  },
  {
   "cell_type": "code",
   "execution_count": null,
   "id": "b70c79f9-8e8c-4b96-aab0-946e39022083",
   "metadata": {},
   "outputs": [],
   "source": [
    "full_data[\"group\"] = [\", \".join(x[\"stereotyped_groups\"]) for x in full_data[\"additional_metadata\"].tolist()]\n",
    "sampled_data[\"group\"] = [\", \".join(x[\"stereotyped_groups\"]) for x in sampled_data[\"additional_metadata\"].tolist()]"
   ]
  },
  {
   "cell_type": "code",
   "execution_count": null,
   "id": "94818575-0390-4188-ab6e-95697e6fabcc",
   "metadata": {},
   "outputs": [],
   "source": [
    "hits = (hits.map(lambda x: [x]) + biased.map(lambda x: [x]) + unknown.map(lambda x: [x]))"
   ]
  },
  {
   "cell_type": "code",
   "execution_count": null,
   "id": "797cff90-8b7b-4bee-bee7-8844cc5746dc",
   "metadata": {},
   "outputs": [],
   "source": [
    "def bbq_score(hits, score=\"acc\", grouping=\"category\"):\n",
    "    hits, biased, unknown = [np.array(x) for x in hits]\n",
    "    data = full_data if len(hits) == len(full_data) else sampled_data\n",
    "    temp_df = pd.DataFrame.from_dict({\"hits\": hits, \"category\": data[\"category\"], grouping: data[grouping], \"context_condition\": data[\"context_condition\"]})\n",
    "    biases = {}\n",
    "    if score == \"acc\":\n",
    "        return temp_df.groupby(grouping)[\"hits\"].mean().mean()\n",
    "    if score == \"bias\":\n",
    "        temp_df_dropped = temp_df.loc[data.dropna(subset=\"target_loc\").index].reset_index()\n",
    "        del temp_df_dropped[\"context_condition\"]\n",
    "        for context, df in  data.dropna(subset=\"target_loc\").reset_index().groupby(\"context_condition\"):\n",
    "            biases_cat = []\n",
    "            accuracies = temp_df_dropped.loc[df.index].groupby(grouping)[\"hits\"].mean()\n",
    "            for category, cat_data in df.groupby(grouping):\n",
    "                bias = 2*(biased[cat_data.index.tolist()].sum() / (1 - unknown[cat_data.index.tolist()]).sum() ) -1\n",
    "                accuracy = accuracies.loc[category]\n",
    "                if context == \"disambig\":\n",
    "                    biases_cat.append(bias)\n",
    "                else:\n",
    "                    biases_cat.append(0 if accuracy == 1 else (1- accuracy) *bias)\n",
    "            biases[f\"bias_{context}\"] = pd.DataFrame(biases_cat).mean()\n",
    "    return np.mean([x.values for x in biases.values()])"
   ]
  },
  {
   "cell_type": "code",
   "execution_count": null,
   "id": "bad4a99b-d291-4558-8180-898ce311aedd",
   "metadata": {},
   "outputs": [],
   "source": [
    "def bbq_diff(hits, score=\"acc\", grouping=\"category\"):\n",
    "    hits, biased, unknown = [np.array(x) for x in hits]\n",
    "    data = full_data if len(hits) == len(full_data) else sampled_data\n",
    "    temp_df = pd.DataFrame.from_dict({\"hits\": hits, \"category\": data[\"category\"], grouping: data[grouping], \"context_condition\": data[\"context_condition\"]})\n",
    "    biases = {}\n",
    "    if score == \"acc\":\n",
    "        return temp_df.groupby(grouping)[\"hits\"].mean().max() - temp_df.groupby(grouping)[\"hits\"].mean().min()\n",
    "    if score == \"bias\":\n",
    "        temp_df_dropped = temp_df.loc[data.dropna(subset=\"target_loc\").index].reset_index()\n",
    "        del temp_df_dropped[\"context_condition\"]\n",
    "        for context, df in  data.dropna(subset=\"target_loc\").reset_index().groupby(\"context_condition\"):\n",
    "            biases_cat = []\n",
    "            accuracies = temp_df_dropped.loc[df.index].groupby(grouping)[\"hits\"].mean()\n",
    "            for category, cat_data in df.groupby(grouping):\n",
    "                bias = 2*(biased[cat_data.index.tolist()].sum() / (1 - unknown[cat_data.index.tolist()]).sum() ) -1\n",
    "                accuracy = accuracies.loc[category]\n",
    "                if context == \"disambig\":\n",
    "                    biases_cat.append(bias)\n",
    "                else:\n",
    "                    biases_cat.append(0 if accuracy == 1 else (1- accuracy) *bias)\n",
    "            biases[f\"bias_{context}\"] = biases_cat\n",
    "\n",
    "    biases = np.vstack([x for x in biases.values()]).mean(0)\n",
    "    return biases.max() -  biases.min()"
   ]
  },
  {
   "cell_type": "markdown",
   "id": "4ecc0794-c999-4c96-afff-37daa08a0011",
   "metadata": {},
   "source": [
    "### Performance"
   ]
  },
  {
   "cell_type": "markdown",
   "id": "3bb7bb86-7a27-484a-bb29-07430a68a579",
   "metadata": {},
   "source": [
    "#### Accuracies"
   ]
  },
  {
   "cell_type": "code",
   "execution_count": null,
   "id": "7cdd5e82-c03f-4741-8ad6-44fbd2d3097c",
   "metadata": {},
   "outputs": [],
   "source": [
    "hits_means = hits.iloc[:,:-1].map(bbq_score)"
   ]
  },
  {
   "cell_type": "code",
   "execution_count": null,
   "id": "b084b8e9-5d5a-45bc-8324-90427c707558",
   "metadata": {},
   "outputs": [],
   "source": [
    "hits_means = hits_means[[x for x in rename_model.values()]].copy()"
   ]
  },
  {
   "cell_type": "code",
   "execution_count": null,
   "id": "41275eac-1bba-4e81-9134-a7e0002d881f",
   "metadata": {},
   "outputs": [],
   "source": [
    "hits_means[\"persona_cat\"] = hits[\"persona_cat\"]"
   ]
  },
  {
   "cell_type": "code",
   "execution_count": null,
   "id": "92bde600-0460-42d6-87c1-6a4283ff22d1",
   "metadata": {},
   "outputs": [],
   "source": [
    "hits_means.sort_values(\"Gemma-7b-inst\")"
   ]
  },
  {
   "cell_type": "code",
   "execution_count": null,
   "id": "fe014a2f-d318-4c54-a2e1-145a67bc882f",
   "metadata": {},
   "outputs": [],
   "source": [
    "hits_means_stacked = hits_means[hits_means.columns[:-1]].stack().reset_index().rename(columns={'level_0':'index','level_1':'Model',0:'Accuracy'})"
   ]
  },
  {
   "cell_type": "code",
   "execution_count": null,
   "id": "f2ef23be-f6ae-47bf-89b5-c83ecafcf197",
   "metadata": {},
   "outputs": [],
   "source": [
    "hits_means_stacked[\"persona_cat\"] = [persona_cat_dict[persona]  if persona in persona_cat_dict.keys() else \"control\" for persona in hits_means_stacked[\"index\"]]"
   ]
  },
  {
   "cell_type": "code",
   "execution_count": null,
   "id": "e244752f-a615-409d-b7e5-26224ccb26c9",
   "metadata": {},
   "outputs": [],
   "source": [
    "all_hits_stacked.append(hits_means_stacked)"
   ]
  },
  {
   "cell_type": "code",
   "execution_count": null,
   "id": "82b4a483-343e-42fd-9672-0fff4743888b",
   "metadata": {},
   "outputs": [],
   "source": [
    "no_control = hits_means_stacked[~hits_means_stacked[\"persona_cat\"].isin([\"control\", \"empty\"])]\n",
    "only_control =  hits_means_stacked[hits_means_stacked[\"persona_cat\"] == \"control\"]\n",
    "only_empty = hits_means_stacked[hits_means_stacked[\"persona_cat\"] == \"empty\"]\n",
    "# ax, fix = plt.subplot(1, 1, figsize=(4,4))\n",
    "ax1 = sns.stripplot(data=no_control, x=\"Model\", y=\"Accuracy\", hue=\"persona_cat\", marker=\"o\", palette=sns.color_palette(\"Paired\"))\n",
    "racset = lambda p: transforms.ScaledTranslation(p/72.,0, plt.gcf().dpi_scale_trans)\n",
    "trans = plt.gca().transData\n",
    "ax2 = sns.stripplot(data=only_control, x=\"Model\", y=\"Accuracy\", color=\"black\", marker=\"X\", transform=trans+racset(15))\n",
    "ax3 = sns.stripplot(data=only_empty, x=\"Model\", y=\"Accuracy\", color=\"red\", marker=\"*\", size=10, transform=trans+racset(-15))\n",
    "plt.xticks(rotation=45)\n",
    "control_handle = Line2D([], [], color=\"black\", marker=\"X\", label=\"control\", linestyle=\"None\")\n",
    "control_label = \"control\"\n",
    "empty_handle = Line2D([], [], color=\"red\", marker=\"*\", label=\"empty\", linestyle=\"None\")\n",
    "empty_label = \"empty\"\n",
    "handles, labels = ax1.get_legend_handles_labels()\n",
    "ax1.legend(handles + [control_handle, empty_handle], labels + [control_label, empty_label], title=\"Persona category\")\n",
    "sns.move_legend(ax1, \"upper left\", bbox_to_anchor=(1, 1))"
   ]
  },
  {
   "cell_type": "code",
   "execution_count": null,
   "id": "5255824c-0338-49f0-92b9-ce1af8d71b5d",
   "metadata": {},
   "outputs": [],
   "source": [
    "hits_means[\"persona_cat\"] = hits_means[\"persona_cat\"].apply(lambda x: x[0])"
   ]
  },
  {
   "cell_type": "code",
   "execution_count": null,
   "id": "34c8c1c9-1900-435d-b1a2-b508c70dbffd",
   "metadata": {},
   "outputs": [],
   "source": [
    "hits_means.boxplot(by=\"persona_cat\", rot=90, figsize=(15,15))"
   ]
  },
  {
   "cell_type": "code",
   "execution_count": null,
   "id": "f5c5f3cd-d089-4342-82c0-a67a29e17e84",
   "metadata": {},
   "outputs": [],
   "source": [
    "hits_means.corr(numeric_only=True, method=\"kendall\")"
   ]
  },
  {
   "cell_type": "code",
   "execution_count": null,
   "id": "753130aa-9f2c-40ce-9f13-ec452ac4bcdc",
   "metadata": {},
   "outputs": [],
   "source": [
    "hits_means[\"avg\"] = hits_means.mean(1, numeric_only=True)"
   ]
  },
  {
   "cell_type": "code",
   "execution_count": null,
   "id": "3797aa4d-49c5-41c1-9683-a02f65966c61",
   "metadata": {},
   "outputs": [],
   "source": [
    "hits_means.sort_values(\"avg\")"
   ]
  },
  {
   "cell_type": "code",
   "execution_count": null,
   "id": "804abb2c-6895-425f-b131-3ac65c550356",
   "metadata": {},
   "outputs": [],
   "source": [
    "hits_means.idxmax()"
   ]
  },
  {
   "cell_type": "code",
   "execution_count": null,
   "id": "fe0e392c-af2d-4f9f-9090-255b3a72aa40",
   "metadata": {},
   "outputs": [],
   "source": [
    "hits_means.idxmin()"
   ]
  },
  {
   "cell_type": "code",
   "execution_count": null,
   "id": "aa48d1cb-b6e6-455f-a2cf-37a8716f8af4",
   "metadata": {},
   "outputs": [],
   "source": [
    "pos_df = pd.DataFrame(index=hits_means.index)\n",
    "for col in hits_means.columns[:-2]:\n",
    "    temp_df = pd.DataFrame()\n",
    "    sorted = hits_means.sort_values(col, ascending=False).index\n",
    "    temp_df = temp_df.reindex(index=sorted)\n",
    "    temp_df[col] = list(range(1, len(hits_means)+1))\n",
    "    pos_df = pos_df.merge(temp_df, left_index=True, right_index=True)"
   ]
  },
  {
   "cell_type": "code",
   "execution_count": null,
   "id": "42a44c54-b31e-476e-a412-b985104a6b8a",
   "metadata": {},
   "outputs": [],
   "source": [
    "pos_df.loc[\"a_nonbinary_person\"]"
   ]
  },
  {
   "cell_type": "code",
   "execution_count": null,
   "id": "817a9ef2-947f-4f6a-afdb-4bfd62082fc9",
   "metadata": {},
   "outputs": [],
   "source": [
    "pos_df.loc[\"a_person_with_fascism_ideology\"]"
   ]
  },
  {
   "cell_type": "markdown",
   "id": "c861ef19-f7fc-4dfd-a951-24f85b0c5d30",
   "metadata": {},
   "source": [
    "#### Persona cat vs control"
   ]
  },
  {
   "cell_type": "code",
   "execution_count": null,
   "id": "d03d6099-2ea4-451f-af61-c6525e7444d8",
   "metadata": {},
   "outputs": [],
   "source": [
    "hits_means"
   ]
  },
  {
   "cell_type": "code",
   "execution_count": null,
   "id": "aaa0e181-74a6-489b-b19a-56606abffa45",
   "metadata": {},
   "outputs": [],
   "source": [
    "std_df =  hits_means.groupby(\"persona_cat\").std().iloc[:,:-1]\n",
    "std_df_ratios = std_df.iloc[1:]/std_df.iloc[0]\n",
    "std_df_ratios[\"avg\"] = std_df_ratios.mean(1)\n",
    "std_df_ratios.loc[\"avg\"] = std_df_ratios.mean(0)\n",
    "std_df_ratios"
   ]
  },
  {
   "cell_type": "code",
   "execution_count": null,
   "id": "1124e76e-60b2-414e-9ad4-eca4d4e21629",
   "metadata": {},
   "outputs": [],
   "source": [
    "df = std_df_ratios.iloc[:-1,:-1].rename(columns=rename_model).stack().reset_index().rename(columns={'level_0':'index','level_1':'Model',0:'Std. Dev. Ratio'})\n",
    "a = sns.stripplot(data=df, x=\"Model\", y=\"Std. Dev. Ratio\", hue=\"persona_cat\", marker=\"o\", palette=sns.color_palette(\"Paired\"))\n",
    "a.axhline(1, linestyle='--')\n",
    "a.set_yscale('symlog')\n",
    "# ax.plot(theta, data.iloc[:,:-1].min(), color=\"green\")\n",
    "# ax.fill(theta, data.iloc[:,:-1].min(), alpha=0.25, label='_nolegend_', color=\"green\")\n",
    "# ax.plot(theta, data.iloc[:,:-1].max(), color=\"red\")\n",
    "# ax.fill(theta, data.iloc[:,:-1].max(), alpha=0.25, label='_nolegend_', color=\"red\")\n",
    "# add legend relative to top-left plot\n",
    "plt.xticks(rotation=45)\n",
    "sns.move_legend(a, \"upper left\", bbox_to_anchor=(1, 1))"
   ]
  },
  {
   "cell_type": "code",
   "execution_count": null,
   "id": "3dfda242-9519-4d3e-9d1c-4c09901ed2ad",
   "metadata": {},
   "outputs": [],
   "source": [
    "performance_std_dfs.append(std_df)"
   ]
  },
  {
   "cell_type": "markdown",
   "id": "dd2d3f4c-b809-4f1e-9593-f4582b0b5a16",
   "metadata": {},
   "source": [
    "#### Performance discrepancy (acc, inter-category)"
   ]
  },
  {
   "cell_type": "code",
   "execution_count": null,
   "id": "4245b0f2-2c77-412f-a53a-0ab9f544355f",
   "metadata": {},
   "outputs": [],
   "source": [
    "hits_diffs = hits.iloc[:,:-1].map(bbq_diff)"
   ]
  },
  {
   "cell_type": "code",
   "execution_count": null,
   "id": "61d50b80-710b-4778-ab0b-b157c8b50e09",
   "metadata": {},
   "outputs": [],
   "source": [
    "hits_diffs = hits_diffs[[x for x in rename_model.values()]].copy()"
   ]
  },
  {
   "cell_type": "code",
   "execution_count": null,
   "id": "8640332f-b417-44ba-82f6-b2fcd9d269b1",
   "metadata": {},
   "outputs": [],
   "source": [
    "hits_diffs[\"persona_cat\"] = hits[\"persona_cat\"]"
   ]
  },
  {
   "cell_type": "code",
   "execution_count": null,
   "id": "1d3fd602-040e-401e-b8b1-34c33312d23c",
   "metadata": {},
   "outputs": [],
   "source": [
    "hits_diffs.sort_values(\"GPT-3.5\")"
   ]
  },
  {
   "cell_type": "code",
   "execution_count": null,
   "id": "e091d643-e76d-4f5c-b478-9c3981838f5e",
   "metadata": {},
   "outputs": [],
   "source": [
    "hits_diffs_stacked = hits_diffs[hits_diffs.columns[:-1]].stack().reset_index().rename(columns={'level_0':'index','level_1':'Model',0:'Diff. in Accuracy'})"
   ]
  },
  {
   "cell_type": "code",
   "execution_count": null,
   "id": "a09812bd-a7bf-4cf1-bcf6-de037a25ce19",
   "metadata": {},
   "outputs": [],
   "source": [
    "hits_diffs_stacked[\"persona_cat\"] = [persona_cat_dict[persona]  if persona in persona_cat_dict.keys() else \"control\" for persona in hits_diffs_stacked[\"index\"]]"
   ]
  },
  {
   "cell_type": "code",
   "execution_count": null,
   "id": "c787ebcb-a8f7-4008-852a-78963a539a80",
   "metadata": {},
   "outputs": [],
   "source": [
    "no_control = hits_diffs_stacked[~hits_diffs_stacked[\"persona_cat\"].isin([\"control\", \"empty\"])]\n",
    "only_control =  hits_diffs_stacked[hits_diffs_stacked[\"persona_cat\"] == \"control\"]\n",
    "only_empty = hits_diffs_stacked[hits_diffs_stacked[\"persona_cat\"] == \"empty\"]\n",
    "# ax, fix = plt.subplot(1, 1, figsize=(4,4))\n",
    "ax1 = sns.stripplot(data=no_control, x=\"Model\", y=\"Diff. in Accuracy\", hue=\"persona_cat\", marker=\"o\", palette=sns.color_palette(\"Paired\"))\n",
    "racset = lambda p: transforms.ScaledTranslation(p/72.,0, plt.gcf().dpi_scale_trans)\n",
    "trans = plt.gca().transData\n",
    "ax2 = sns.stripplot(data=only_control, x=\"Model\", y=\"Diff. in Accuracy\", color=\"black\", marker=\"X\", transform=trans+racset(15))\n",
    "ax3 = sns.stripplot(data=only_empty, x=\"Model\", y=\"Diff. in Accuracy\", color=\"red\", marker=\"*\", size=10, transform=trans+racset(-15))\n",
    "plt.xticks(rotation=45)\n",
    "control_handle = Line2D([], [], color=\"black\", marker=\"X\", label=\"control\", linestyle=\"None\")\n",
    "control_label = \"control\"\n",
    "empty_handle = Line2D([], [], color=\"red\", marker=\"*\", label=\"empty\", linestyle=\"None\")\n",
    "empty_label = \"empty\"\n",
    "handles, labels = ax1.get_legend_handles_labels()\n",
    "ax1.legend(handles + [control_handle, empty_handle], labels + [control_label, empty_label], title=\"Persona category\")\n",
    "sns.move_legend(ax1, \"upper left\", bbox_to_anchor=(1, 1))"
   ]
  },
  {
   "cell_type": "code",
   "execution_count": null,
   "id": "6a8f12ae-54eb-4b17-9a08-e330cdd2f969",
   "metadata": {},
   "outputs": [],
   "source": [
    "hits_diffs.corr(numeric_only=True, method=\"kendall\")"
   ]
  },
  {
   "cell_type": "markdown",
   "id": "54814966-bd41-4c2d-8b3a-5db6ef320b75",
   "metadata": {},
   "source": [
    "#### Performance discrepancy (acc, inter-target_group)"
   ]
  },
  {
   "cell_type": "code",
   "execution_count": null,
   "id": "eaf5b7e0-5268-43ff-8223-bb1486741bc3",
   "metadata": {},
   "outputs": [],
   "source": [
    "hits_diffs = hits.iloc[:,:-1].map(lambda x: bbq_diff(x, grouping=\"group\"))"
   ]
  },
  {
   "cell_type": "code",
   "execution_count": null,
   "id": "fbe6a143-a80c-4356-95fc-3d6c5bae3d93",
   "metadata": {},
   "outputs": [],
   "source": [
    "hits_diffs = hits_diffs[[x for x in rename_model.values()]].copy()"
   ]
  },
  {
   "cell_type": "code",
   "execution_count": null,
   "id": "011efa1b-4baf-46fa-b0ac-c868195be3ba",
   "metadata": {},
   "outputs": [],
   "source": [
    "hits_diffs[\"persona_cat\"] = hits[\"persona_cat\"]"
   ]
  },
  {
   "cell_type": "code",
   "execution_count": null,
   "id": "a36b7fe9-4310-43fc-8296-92a19d2a4a56",
   "metadata": {},
   "outputs": [],
   "source": [
    "hits_diffs.sort_values(\"GPT-3.5\")"
   ]
  },
  {
   "cell_type": "code",
   "execution_count": null,
   "id": "2e64d682-0f11-478a-a31b-e6700a3d2654",
   "metadata": {},
   "outputs": [],
   "source": [
    "hits_diffs_stacked = hits_diffs[hits_diffs.columns[:-1]].stack().reset_index().rename(columns={'level_0':'index','level_1':'Model',0:'Diff. in Accuracy'})"
   ]
  },
  {
   "cell_type": "code",
   "execution_count": null,
   "id": "335a3340-89a8-4984-aa12-6a3eda2080b4",
   "metadata": {},
   "outputs": [],
   "source": [
    "hits_diffs_stacked[\"persona_cat\"] = [persona_cat_dict[persona]  if persona in persona_cat_dict.keys() else \"control\" for persona in hits_diffs_stacked[\"index\"]]"
   ]
  },
  {
   "cell_type": "code",
   "execution_count": null,
   "id": "315afb11-15b0-4081-b2be-d0d1f079211d",
   "metadata": {},
   "outputs": [],
   "source": [
    "no_control = hits_diffs_stacked[~hits_diffs_stacked[\"persona_cat\"].isin([\"control\", \"empty\"])]\n",
    "only_control =  hits_diffs_stacked[hits_diffs_stacked[\"persona_cat\"] == \"control\"]\n",
    "only_empty = hits_diffs_stacked[hits_diffs_stacked[\"persona_cat\"] == \"empty\"]\n",
    "# ax, fix = plt.subplot(1, 1, figsize=(4,4))\n",
    "ax1 = sns.stripplot(data=no_control, x=\"Model\", y=\"Diff. in Accuracy\", hue=\"persona_cat\", marker=\"o\", palette=sns.color_palette(\"Paired\"))\n",
    "racset = lambda p: transforms.ScaledTranslation(p/72.,0, plt.gcf().dpi_scale_trans)\n",
    "trans = plt.gca().transData\n",
    "ax2 = sns.stripplot(data=only_control, x=\"Model\", y=\"Diff. in Accuracy\", color=\"black\", marker=\"X\", transform=trans+racset(15))\n",
    "ax3 = sns.stripplot(data=only_empty, x=\"Model\", y=\"Diff. in Accuracy\", color=\"red\", marker=\"*\", size=10, transform=trans+racset(-15))\n",
    "plt.xticks(rotation=45)\n",
    "control_handle = Line2D([], [], color=\"black\", marker=\"X\", label=\"control\", linestyle=\"None\")\n",
    "control_label = \"control\"\n",
    "empty_handle = Line2D([], [], color=\"red\", marker=\"*\", label=\"empty\", linestyle=\"None\")\n",
    "empty_label = \"empty\"\n",
    "handles, labels = ax1.get_legend_handles_labels()\n",
    "ax1.legend(handles + [control_handle, empty_handle], labels + [control_label, empty_label], title=\"Persona category\")\n",
    "sns.move_legend(ax1, \"upper left\", bbox_to_anchor=(1, 1))"
   ]
  },
  {
   "cell_type": "code",
   "execution_count": null,
   "id": "d24b0d1f-f5ea-45a2-9edc-ecd6177dcb66",
   "metadata": {
    "scrolled": true
   },
   "outputs": [],
   "source": [
    "hits_diffs.corr(numeric_only=True, method=\"kendall\")"
   ]
  },
  {
   "cell_type": "markdown",
   "id": "756e1c74-1ed3-4f6d-8aba-e8bd971c5cfa",
   "metadata": {},
   "source": [
    "#### Bias"
   ]
  },
  {
   "cell_type": "code",
   "execution_count": null,
   "id": "e0f4c829-08cc-432b-985b-915b48d31df5",
   "metadata": {},
   "outputs": [],
   "source": [
    "tqdm.pandas()"
   ]
  },
  {
   "cell_type": "code",
   "execution_count": null,
   "id": "8a36f378-fa24-4118-9a2d-26b5161057d8",
   "metadata": {},
   "outputs": [],
   "source": [
    "bias_means = hits.iloc[:,:-1].progress_applymap(lambda x: bbq_score(x, score=\"bias\"))"
   ]
  },
  {
   "cell_type": "code",
   "execution_count": null,
   "id": "7acbad1a-5b5d-4ae7-852f-d3599bf0e1aa",
   "metadata": {},
   "outputs": [],
   "source": [
    "bias_means = bias_means[[x for x in rename_model.values()]].copy()"
   ]
  },
  {
   "cell_type": "code",
   "execution_count": null,
   "id": "17797477-0fcb-4f85-8e1a-ae073a34a5f1",
   "metadata": {},
   "outputs": [],
   "source": [
    "bias_means[\"persona_cat\"] = [x[0] for x in hits[\"persona_cat\"]]"
   ]
  },
  {
   "cell_type": "code",
   "execution_count": null,
   "id": "5fec2973-9763-43a9-b7f0-f167653e5feb",
   "metadata": {},
   "outputs": [],
   "source": [
    "bias_means.sort_values(\"GPT-4\")"
   ]
  },
  {
   "cell_type": "code",
   "execution_count": null,
   "id": "8515cc23-bc0b-4462-9a2e-f65620f28d98",
   "metadata": {},
   "outputs": [],
   "source": [
    "bias_means_stacked = bias_means[bias_means.columns[:-1]].stack().reset_index().rename(columns={'level_0':'index','level_1':'Model',0:'Bias'})"
   ]
  },
  {
   "cell_type": "code",
   "execution_count": null,
   "id": "c571c798-aea5-433b-a4a9-b415cedeae68",
   "metadata": {},
   "outputs": [],
   "source": [
    "bias_means_stacked[\"persona_cat\"] = [persona_cat_dict[persona]  if persona in persona_cat_dict.keys() else \"control\" for persona in bias_means_stacked[\"index\"]]"
   ]
  },
  {
   "cell_type": "code",
   "execution_count": null,
   "id": "6fa6398f-2d49-4390-9f02-f2bb2d9107b5",
   "metadata": {},
   "outputs": [],
   "source": [
    "no_control = bias_means_stacked[~bias_means_stacked[\"persona_cat\"].isin([\"control\", \"empty\"])]\n",
    "only_control =  bias_means_stacked[bias_means_stacked[\"persona_cat\"] == \"control\"]\n",
    "only_empty = bias_means_stacked[bias_means_stacked[\"persona_cat\"] == \"empty\"]\n",
    "# ax, fix = plt.subplot(1, 1, figsize=(4,4))\n",
    "ax1 = sns.stripplot(data=no_control, x=\"Model\", y=\"Bias\", hue=\"persona_cat\", marker=\"o\", palette=sns.color_palette(\"Paired\"))\n",
    "racset = lambda p: transforms.ScaledTranslation(p/72.,0, plt.gcf().dpi_scale_trans)\n",
    "trans = plt.gca().transData\n",
    "ax2 = sns.stripplot(data=only_control, x=\"Model\", y=\"Bias\", color=\"black\", marker=\"X\", transform=trans+racset(15))\n",
    "ax3 = sns.stripplot(data=only_empty, x=\"Model\", y=\"Bias\", color=\"red\", marker=\"*\", size=10, transform=trans+racset(-15))\n",
    "plt.xticks(rotation=45)\n",
    "control_handle = Line2D([], [], color=\"black\", marker=\"X\", label=\"control\", linestyle=\"None\")\n",
    "control_label = \"control\"\n",
    "empty_handle = Line2D([], [], color=\"red\", marker=\"*\", label=\"empty\", linestyle=\"None\")\n",
    "empty_label = \"empty\"\n",
    "handles, labels = ax1.get_legend_handles_labels()\n",
    "ax1.legend(handles + [control_handle, empty_handle], labels + [control_label, empty_label], title=\"Persona category\")\n",
    "sns.move_legend(ax1, \"upper left\", bbox_to_anchor=(1, 1))"
   ]
  },
  {
   "cell_type": "code",
   "execution_count": null,
   "id": "3c291dd8-5f13-4b41-a2c8-683270f3090f",
   "metadata": {},
   "outputs": [],
   "source": [
    "(bias_means.max(numeric_only=True) - bias_means.min(numeric_only=True)).sort_values()"
   ]
  },
  {
   "cell_type": "code",
   "execution_count": null,
   "id": "332663e7-887b-4734-81b2-83e7aadc1ad1",
   "metadata": {},
   "outputs": [],
   "source": [
    "bias_means.boxplot(by=\"persona_cat\", rot=90, figsize=(15,15))"
   ]
  },
  {
   "cell_type": "code",
   "execution_count": null,
   "id": "3d3d915c-a2ae-4d52-b156-62dc6374c77b",
   "metadata": {},
   "outputs": [],
   "source": [
    "bias_means.corr(numeric_only=True, method=\"kendall\")"
   ]
  },
  {
   "cell_type": "code",
   "execution_count": null,
   "id": "ef08c22f-0753-42e6-b9e4-99642557339a",
   "metadata": {},
   "outputs": [],
   "source": [
    "bias_means[\"avg\"] = bias_means.mean(1, numeric_only=True)"
   ]
  },
  {
   "cell_type": "code",
   "execution_count": null,
   "id": "8be00cfa-a973-4a7f-965a-c40d49ddd614",
   "metadata": {},
   "outputs": [],
   "source": [
    "bias_means.sort_values(\"avg\")"
   ]
  },
  {
   "cell_type": "code",
   "execution_count": null,
   "id": "13452a1d-88f6-4c29-8e6e-62881c9b72b4",
   "metadata": {},
   "outputs": [],
   "source": [
    "bias_means.idxmax()"
   ]
  },
  {
   "cell_type": "code",
   "execution_count": null,
   "id": "e4e493ae-36d0-40a0-8ee8-2fd43cb0046e",
   "metadata": {},
   "outputs": [],
   "source": [
    "bias_means.idxmin()"
   ]
  },
  {
   "cell_type": "code",
   "execution_count": null,
   "id": "d3d14d83-e265-49cc-8d05-23189d81f4fb",
   "metadata": {},
   "outputs": [],
   "source": [
    "pos_df = pd.DataFrame(index=bias_means.index)\n",
    "for col in bias_means.columns[:-2]:\n",
    "    temp_df = pd.DataFrame()\n",
    "    sorted = bias_means.sort_values(col, ascending=False).index\n",
    "    temp_df = temp_df.reindex(index=sorted)\n",
    "    temp_df[col] = list(range(1, len(bias_means)+1))\n",
    "    pos_df = pos_df.merge(temp_df, left_index=True, right_index=True)"
   ]
  },
  {
   "cell_type": "code",
   "execution_count": null,
   "id": "31486c13-04d6-4028-aa0b-a33577b5e65d",
   "metadata": {},
   "outputs": [],
   "source": [
    "pos_df.loc[\"a_nonbinary_person\"]"
   ]
  },
  {
   "cell_type": "code",
   "execution_count": null,
   "id": "18572f00-555d-4ae8-94f0-f823979d816a",
   "metadata": {},
   "outputs": [],
   "source": [
    "pos_df.loc[\"a_person_with_conservatism_ideology\"]"
   ]
  },
  {
   "cell_type": "markdown",
   "id": "9e06ffa4-0e72-49bd-950c-f195eb841ff3",
   "metadata": {},
   "source": [
    "#### Persona cat vs control"
   ]
  },
  {
   "cell_type": "code",
   "execution_count": null,
   "id": "5fa5f71d-b716-4169-bde7-274d3836cbfa",
   "metadata": {},
   "outputs": [],
   "source": [
    "std_df =  hits_means.groupby(\"persona_cat\").std().iloc[:,:-1]\n",
    "std_df_ratios = std_df.iloc[1:]/std_df.iloc[0]\n",
    "std_df_ratios[\"avg\"] = std_df_ratios.mean(1)\n",
    "std_df_ratios.loc[\"avg\"] = std_df_ratios.mean(0)\n",
    "std_df_ratios"
   ]
  },
  {
   "cell_type": "code",
   "execution_count": null,
   "id": "b252b4da-1a4d-4b79-bed1-95425e6682c5",
   "metadata": {},
   "outputs": [],
   "source": [
    "df = std_df_ratios.iloc[:-1,:-1].rename(columns=rename_model).stack().reset_index().rename(columns={'level_0':'index','level_1':'Model',0:'Std. Dev. Ratio'})\n",
    "a = sns.stripplot(data=df, x=\"Model\", y=\"Std. Dev. Ratio\", hue=\"persona_cat\", marker=\"o\", palette=sns.color_palette(\"Paired\"))\n",
    "a.axhline(1, linestyle='--')\n",
    "a.set_yscale('symlog')\n",
    "# ax.plot(theta, data.iloc[:,:-1].min(), color=\"green\")\n",
    "# ax.fill(theta, data.iloc[:,:-1].min(), alpha=0.25, label='_nolegend_', color=\"green\")\n",
    "# ax.plot(theta, data.iloc[:,:-1].max(), color=\"red\")\n",
    "# ax.fill(theta, data.iloc[:,:-1].max(), alpha=0.25, label='_nolegend_', color=\"red\")\n",
    "# add legend relative to top-left plot\n",
    "plt.xticks(rotation=45)\n",
    "sns.move_legend(a, \"upper left\", bbox_to_anchor=(1, 1))"
   ]
  },
  {
   "cell_type": "code",
   "execution_count": null,
   "id": "b376f1a0-7c96-4f7d-b3f9-6358c8efe0f0",
   "metadata": {},
   "outputs": [],
   "source": [
    "bias_std = df"
   ]
  },
  {
   "cell_type": "markdown",
   "id": "c961607b-b6cb-4964-876f-adfdb2ec0f10",
   "metadata": {},
   "source": [
    "#### Performance discrepancy (bias, inter-category)"
   ]
  },
  {
   "cell_type": "code",
   "execution_count": null,
   "id": "37f7738b-35f7-4abd-b7aa-36fb77051e1d",
   "metadata": {},
   "outputs": [],
   "source": [
    "hits_diffs = hits.iloc[:,:-1].progress_applymap(lambda x: bbq_diff(x, score=\"bias\"))"
   ]
  },
  {
   "cell_type": "code",
   "execution_count": null,
   "id": "19bba492-a0da-47ed-a75c-70868628fccf",
   "metadata": {},
   "outputs": [],
   "source": [
    "hits_diffs = hits_diffs[[x for x in rename_model.values()]].copy()"
   ]
  },
  {
   "cell_type": "code",
   "execution_count": null,
   "id": "2e565d35-9bd4-4a98-9ca1-aabc5947d072",
   "metadata": {},
   "outputs": [],
   "source": [
    "hits_diffs[\"persona_cat\"] = [x[0] for x in hits[\"persona_cat\"]]"
   ]
  },
  {
   "cell_type": "code",
   "execution_count": null,
   "id": "5fe068c5-4da7-4006-852e-3ce65d2697b9",
   "metadata": {},
   "outputs": [],
   "source": [
    "hits_diffs.sort_values(\"GPT-4\")"
   ]
  },
  {
   "cell_type": "code",
   "execution_count": null,
   "id": "46fed653-e0f4-49a5-ae12-23198ef39398",
   "metadata": {},
   "outputs": [],
   "source": [
    "hits_diffs_stacked = hits_diffs[hits_diffs.columns[:-1]].stack().reset_index().rename(columns={'level_0':'index','level_1':'Model',0:'Diff. in Bias'})"
   ]
  },
  {
   "cell_type": "code",
   "execution_count": null,
   "id": "83890a2d-f1aa-4414-997a-7619e3d9c04c",
   "metadata": {},
   "outputs": [],
   "source": [
    "hits_diffs_stacked[\"persona_cat\"] = [persona_cat_dict[persona]  if persona in persona_cat_dict.keys() else \"control\" for persona in hits_diffs_stacked[\"index\"]]"
   ]
  },
  {
   "cell_type": "code",
   "execution_count": null,
   "id": "5dab76db-b79a-48c4-a9ea-f05925b1fa7a",
   "metadata": {},
   "outputs": [],
   "source": [
    "no_control = hits_diffs_stacked[~hits_diffs_stacked[\"persona_cat\"].isin([\"control\", \"empty\"])]\n",
    "only_control =  hits_diffs_stacked[hits_diffs_stacked[\"persona_cat\"] == \"control\"]\n",
    "only_empty = hits_diffs_stacked[hits_diffs_stacked[\"persona_cat\"] == \"empty\"]\n",
    "# ax, fix = plt.subplot(1, 1, figsize=(4,4))\n",
    "ax1 = sns.stripplot(data=no_control, x=\"Model\", y=\"Diff. in Bias\", hue=\"persona_cat\", marker=\"o\", palette=sns.color_palette(\"Paired\"))\n",
    "racset = lambda p: transforms.ScaledTranslation(p/72.,0, plt.gcf().dpi_scale_trans)\n",
    "trans = plt.gca().transData\n",
    "ax2 = sns.stripplot(data=only_control, x=\"Model\", y=\"Diff. in Bias\", color=\"black\", marker=\"X\", transform=trans+racset(15))\n",
    "ax3 = sns.stripplot(data=only_empty, x=\"Model\", y=\"Diff. in Bias\", color=\"red\", marker=\"*\", size=10, transform=trans+racset(-15))\n",
    "plt.xticks(rotation=45)\n",
    "control_handle = Line2D([], [], color=\"black\", marker=\"X\", label=\"control\", linestyle=\"None\")\n",
    "control_label = \"control\"\n",
    "empty_handle = Line2D([], [], color=\"red\", marker=\"*\", label=\"empty\", linestyle=\"None\")\n",
    "empty_label = \"empty\"\n",
    "handles, labels = ax1.get_legend_handles_labels()\n",
    "ax1.legend(handles + [control_handle, empty_handle], labels + [control_label, empty_label], title=\"Persona category\")\n",
    "sns.move_legend(ax1, \"upper left\", bbox_to_anchor=(1, 1))"
   ]
  },
  {
   "cell_type": "code",
   "execution_count": null,
   "id": "2134d4d8-80ee-4673-9b3f-bd731bde4de2",
   "metadata": {},
   "outputs": [],
   "source": [
    "hits_diffs.boxplot(by=\"persona_cat\", rot=90, figsize=(15,15))"
   ]
  },
  {
   "cell_type": "code",
   "execution_count": null,
   "id": "ff24d498-1d8d-409a-8f83-b3182528112d",
   "metadata": {},
   "outputs": [],
   "source": [
    "hits_diffs.corr(numeric_only=True, method=\"kendall\")"
   ]
  },
  {
   "cell_type": "markdown",
   "id": "033de75d-4e45-4f7a-af40-98db139b754b",
   "metadata": {},
   "source": [
    "#### Performance discrepancy (bias, inter-target_group)"
   ]
  },
  {
   "cell_type": "code",
   "execution_count": null,
   "id": "273ca0c3-4dda-4afd-923c-7f74b45ccc77",
   "metadata": {},
   "outputs": [],
   "source": [
    "hits_diffs = hits.iloc[:,:-1].progress_applymap(lambda x: bbq_diff(x, score=\"bias\", grouping=\"group\"))"
   ]
  },
  {
   "cell_type": "code",
   "execution_count": null,
   "id": "a68fbb11-ef19-452f-b8f1-02ad77796394",
   "metadata": {},
   "outputs": [],
   "source": [
    "hits_diffs = hits_diffs[[x for x in rename_model.values()]].copy()"
   ]
  },
  {
   "cell_type": "code",
   "execution_count": null,
   "id": "eec19d70-f38e-4e62-87c4-67a183527561",
   "metadata": {},
   "outputs": [],
   "source": [
    "hits_diffs[\"persona_cat\"] = [x[0] for x in hits[\"persona_cat\"]]"
   ]
  },
  {
   "cell_type": "code",
   "execution_count": null,
   "id": "b2a88ad3-63f9-4a89-bd87-a29feb25fcf8",
   "metadata": {},
   "outputs": [],
   "source": [
    "pd.set_option('display.max_rows', 200)\n",
    "hits_diffs.sort_values(\"GPT-4\")"
   ]
  },
  {
   "cell_type": "code",
   "execution_count": null,
   "id": "4d512e4c-00f5-48c7-89f0-f0fc3db1144b",
   "metadata": {},
   "outputs": [],
   "source": [
    "hits_diffs_stacked = hits_diffs[hits_diffs.columns[:-1]].stack().reset_index().rename(columns={'level_0':'index','level_1':'Model',0:'Diff. in Bias'})"
   ]
  },
  {
   "cell_type": "code",
   "execution_count": null,
   "id": "2862ac84-a4b7-48bd-ac02-2e3e97403a5e",
   "metadata": {},
   "outputs": [],
   "source": [
    "hits_diffs_stacked[\"persona_cat\"] = [persona_cat_dict[persona]  if persona in persona_cat_dict.keys() else \"control\" for persona in hits_diffs_stacked[\"index\"]]"
   ]
  },
  {
   "cell_type": "code",
   "execution_count": null,
   "id": "7b6bfee6-c434-412c-a5a5-a4556344c0fd",
   "metadata": {},
   "outputs": [],
   "source": [
    "no_control = hits_diffs_stacked[~hits_diffs_stacked[\"persona_cat\"].isin([\"control\", \"empty\"])]\n",
    "only_control =  hits_diffs_stacked[hits_diffs_stacked[\"persona_cat\"] == \"control\"]\n",
    "only_empty = hits_diffs_stacked[hits_diffs_stacked[\"persona_cat\"] == \"empty\"]\n",
    "# ax, fix = plt.subplot(1, 1, figsize=(4,4))\n",
    "ax1 = sns.stripplot(data=no_control, x=\"Model\", y=\"Diff. in Bias\", hue=\"persona_cat\", marker=\"o\", palette=sns.color_palette(\"Paired\"))\n",
    "racset = lambda p: transforms.ScaledTranslation(p/72.,0, plt.gcf().dpi_scale_trans)\n",
    "trans = plt.gca().transData\n",
    "ax2 = sns.stripplot(data=only_control, x=\"Model\", y=\"Diff. in Bias\", color=\"black\", marker=\"X\", transform=trans+racset(15))\n",
    "ax3 = sns.stripplot(data=only_empty, x=\"Model\", y=\"Diff. in Bias\", color=\"red\", marker=\"*\", size=10, transform=trans+racset(-15))\n",
    "plt.xticks(rotation=45)\n",
    "control_handle = Line2D([], [], color=\"black\", marker=\"X\", label=\"control\", linestyle=\"None\")\n",
    "control_label = \"control\"\n",
    "empty_handle = Line2D([], [], color=\"red\", marker=\"*\", label=\"empty\", linestyle=\"None\")\n",
    "empty_label = \"empty\"\n",
    "handles, labels = ax1.get_legend_handles_labels()\n",
    "ax1.legend(handles + [control_handle, empty_handle], labels + [control_label, empty_label], title=\"Persona category\")\n",
    "sns.move_legend(ax1, \"upper left\", bbox_to_anchor=(1, 1))"
   ]
  },
  {
   "cell_type": "code",
   "execution_count": null,
   "id": "6d339bb3-9a3f-4a89-b241-2e4bbe8c05f1",
   "metadata": {},
   "outputs": [],
   "source": [
    "hits_diffs.boxplot(by=\"persona_cat\", rot=90, figsize=(15,15))"
   ]
  },
  {
   "cell_type": "code",
   "execution_count": null,
   "id": "cebf46b5-b0ec-422c-9280-8ff967395b4b",
   "metadata": {},
   "outputs": [],
   "source": [
    "hits_diffs.corr(numeric_only=True, method=\"kendall\")"
   ]
  },
  {
   "cell_type": "markdown",
   "id": "f3c0468d-62ff-44fb-972d-4bbf9ef8be12",
   "metadata": {},
   "source": [
    "## Refusal"
   ]
  },
  {
   "cell_type": "code",
   "execution_count": null,
   "id": "3c1bd8fa-90b1-4777-97e7-18555a952626",
   "metadata": {},
   "outputs": [],
   "source": [
    "bbq_refusals = get_results_df(\"bbq_refusals.csv\")"
   ]
  },
  {
   "cell_type": "code",
   "execution_count": null,
   "id": "11b86411-c3d7-4969-b98a-9ad0e13efa93",
   "metadata": {},
   "outputs": [],
   "source": [
    "bbq_refusals = bbq_refusals.rename(columns=rename_model)"
   ]
  },
  {
   "cell_type": "code",
   "execution_count": null,
   "id": "2140fb2d-1c5b-4c6d-a77e-d28abd5c5536",
   "metadata": {},
   "outputs": [],
   "source": [
    "bbq_refusals = bbq_refusals[list(rename_model.values()) + [\"persona_cat\"]]"
   ]
  },
  {
   "cell_type": "code",
   "execution_count": null,
   "id": "9c00d4c3-77e1-4fb7-b1e7-8a8b4853ec96",
   "metadata": {},
   "outputs": [],
   "source": [
    "bbq_refusals_mean = bbq_refusals.iloc[:,:-1].map(np.mean)"
   ]
  },
  {
   "cell_type": "code",
   "execution_count": null,
   "id": "2b37451b-a9ba-4166-9cef-e5ff673d03be",
   "metadata": {
    "scrolled": true
   },
   "outputs": [],
   "source": [
    "bbq_refusals_mean.sort_values(\"Gemma-7b-inst\")"
   ]
  },
  {
   "cell_type": "code",
   "execution_count": null,
   "id": "34259591-a24c-4b87-afad-b68d6fc73cdd",
   "metadata": {},
   "outputs": [],
   "source": [
    "bbq_refusals_stacked = bbq_refusals_mean.stack().reset_index().rename(columns={'level_0':'index','level_1':'Model',0:'Refused Fraction'})"
   ]
  },
  {
   "cell_type": "code",
   "execution_count": null,
   "id": "1c9a9fdf-932d-43d0-af77-d35a419f4bdd",
   "metadata": {},
   "outputs": [],
   "source": [
    "bbq_refusals_stacked[\"persona_cat\"] = [persona_cat_dict[persona]  if persona in persona_cat_dict.keys() else \"control\" for persona in bbq_refusals_stacked[\"index\"]]"
   ]
  },
  {
   "cell_type": "code",
   "execution_count": null,
   "id": "1aed54c2-eaef-4bf9-bd7a-3e766ecb89a6",
   "metadata": {},
   "outputs": [],
   "source": [
    "all_refusals_stacked.append(bbq_refusals_stacked)"
   ]
  },
  {
   "cell_type": "code",
   "execution_count": null,
   "id": "6ab11cd0-f06a-4561-b6e2-9fbd81d09e76",
   "metadata": {},
   "outputs": [],
   "source": [
    "no_control = bbq_refusals_stacked[~bbq_refusals_stacked[\"persona_cat\"].isin([\"control\", \"empty\"])]\n",
    "only_control =  bbq_refusals_stacked[bbq_refusals_stacked[\"persona_cat\"] == \"control\"]\n",
    "only_empty = bbq_refusals_stacked[bbq_refusals_stacked[\"persona_cat\"] == \"empty\"]\n",
    "# ax, fix = plt.subplot(1, 1, figsize=(4,4))\n",
    "ax1 = sns.stripplot(data=no_control, x=\"Model\", y=\"Refused Fraction\", hue=\"persona_cat\", marker=\"o\", palette=sns.color_palette(\"Paired\"))\n",
    "offset = lambda p: transforms.ScaledTranslation(p/72.,0, plt.gcf().dpi_scale_trans)\n",
    "trans = plt.gca().transData\n",
    "ax2 = sns.stripplot(data=only_control, x=\"Model\", y=\"Refused Fraction\", color=\"black\", marker=\"X\", transform=trans+offset(15))\n",
    "ax3 = sns.stripplot(data=only_empty, x=\"Model\", y=\"Refused Fraction\", color=\"red\", marker=\"*\", size=10, transform=trans+offset(-15))\n",
    "plt.xticks(rotation=45)\n",
    "control_handle = Line2D([], [], color=\"black\", marker=\"X\", label=\"control\", linestyle=\"None\")\n",
    "control_label = \"control\"\n",
    "empty_handle = Line2D([], [], color=\"red\", marker=\"*\", label=\"empty\", linestyle=\"None\")\n",
    "empty_label = \"empty\"\n",
    "handles, labels = ax1.get_legend_handles_labels()\n",
    "ax1.legend(handles + [control_handle, empty_handle], labels + [control_label, empty_label], title=\"Persona category\")\n",
    "sns.move_legend(ax1, \"upper left\", bbox_to_anchor=(1, 1))"
   ]
  },
  {
   "cell_type": "code",
   "execution_count": null,
   "id": "32a5e5bb-9466-486b-bf62-51768bb97e45",
   "metadata": {},
   "outputs": [],
   "source": [
    "bbq_refusals_mean.corr(numeric_only=True, method=\"kendall\")"
   ]
  },
  {
   "cell_type": "code",
   "execution_count": null,
   "id": "260b158b-9102-47d7-b93c-12a81123fe43",
   "metadata": {},
   "outputs": [],
   "source": [
    "bbq_refusals_mean[\"avg\"] = bbq_refusals_mean.mean(1, numeric_only=True)"
   ]
  },
  {
   "cell_type": "code",
   "execution_count": null,
   "id": "2fb9b45b-a7e8-443a-ada3-0520b25d9d8c",
   "metadata": {
    "scrolled": true
   },
   "outputs": [],
   "source": [
    "bbq_refusals_mean.sort_values(\"avg\")"
   ]
  },
  {
   "cell_type": "code",
   "execution_count": null,
   "id": "2b87da29-1154-4842-b34b-aca020835092",
   "metadata": {},
   "outputs": [],
   "source": [
    "bbq_refusals_mean.idxmax()"
   ]
  },
  {
   "cell_type": "code",
   "execution_count": null,
   "id": "356d900a-25ab-4078-980c-d51684d83585",
   "metadata": {},
   "outputs": [],
   "source": [
    "bbq_refusals_mean.idxmin()"
   ]
  },
  {
   "cell_type": "code",
   "execution_count": null,
   "id": "b3131801-7c11-42bb-9377-26993120687c",
   "metadata": {},
   "outputs": [],
   "source": [
    "pos_df = pd.DataFrame(index=bbq_refusals_mean.index)\n",
    "for col in bbq_refusals_mean.columns[:-2]:\n",
    "    temp_df = pd.DataFrame()\n",
    "    sorted = bbq_refusals_mean.sort_values(col, ascending=False).index\n",
    "    temp_df = temp_df.reindex(index=sorted)\n",
    "    temp_df[col] = list(range(1, len(bbq_refusals_mean)+1))\n",
    "    pos_df = pos_df.merge(temp_df, left_index=True, right_index=True)"
   ]
  },
  {
   "cell_type": "code",
   "execution_count": null,
   "id": "47c4d4ae-78f9-4676-bf6e-19acc3917b5f",
   "metadata": {},
   "outputs": [],
   "source": [
    "pos_df[\"avg\"] = pos_df.mean(1)"
   ]
  },
  {
   "cell_type": "code",
   "execution_count": null,
   "id": "c379286f-2c61-43bb-94fb-83340e05a25e",
   "metadata": {
    "scrolled": true
   },
   "outputs": [],
   "source": [
    "pos_df.sort_values(\"avg\")"
   ]
  },
  {
   "cell_type": "markdown",
   "id": "c7478606-52bf-4a4f-8c9f-bb8d0c011079",
   "metadata": {},
   "source": [
    "#### Persona cat vs control"
   ]
  },
  {
   "cell_type": "code",
   "execution_count": null,
   "id": "aec38850-d89c-4beb-a7b9-432e3fe1fc68",
   "metadata": {},
   "outputs": [],
   "source": [
    "bbq_refusals_mean[\"persona_cat\"] = [persona_cat_dict[persona] if persona in persona_cat_dict else \"control\" for persona in bbq_refusals_mean.index]"
   ]
  },
  {
   "cell_type": "code",
   "execution_count": null,
   "id": "39809cf3-34e5-49b2-b8a7-2fdaa92c1982",
   "metadata": {},
   "outputs": [],
   "source": [
    "std_df =  bbq_refusals_mean.groupby(\"persona_cat\").std().iloc[:,:-1]\n",
    "std_df_ratios = std_df.iloc[1:]/std_df.iloc[0]\n",
    "std_df_ratios[\"avg\"] = std_df_ratios.mean(1)\n",
    "std_df_ratios.loc[\"avg\"] = std_df_ratios.mean(0)\n",
    "std_df_ratios"
   ]
  },
  {
   "cell_type": "code",
   "execution_count": null,
   "id": "e9df73db-ea2b-4391-a71c-7335a4e99de3",
   "metadata": {},
   "outputs": [],
   "source": [
    "std_df"
   ]
  },
  {
   "cell_type": "code",
   "execution_count": null,
   "id": "4addfe5d-eb7f-45ac-bc21-685ef8ec9e6e",
   "metadata": {
    "scrolled": true
   },
   "outputs": [],
   "source": [
    "df = std_df_ratios.iloc[:-1,:-1].rename(columns=rename_model).stack().reset_index().rename(columns={'level_0':'index','level_1':'Model',0:'Std. Dev. Ratio'})\n",
    "a = sns.stripplot(data=df, x=\"Model\", y=\"Std. Dev. Ratio\", hue=\"persona_cat\", marker=\"o\", palette=sns.color_palette(\"Paired\"))\n",
    "a.axhline(1, linestyle='--')\n",
    "a.set_yscale('symlog')\n",
    "# ax.plot(theta, data.iloc[:,:-1].min(), color=\"green\")\n",
    "# ax.fill(theta, data.iloc[:,:-1].min(), alpha=0.25, label='_nolegend_', color=\"green\")\n",
    "# ax.plot(theta, data.iloc[:,:-1].max(), color=\"red\")\n",
    "# ax.fill(theta, data.iloc[:,:-1].max(), alpha=0.25, label='_nolegend_', color=\"red\")\n",
    "# add legend relative to top-left plot\n",
    "plt.xticks(rotation=45)\n",
    "sns.move_legend(a, \"upper left\", bbox_to_anchor=(1, 1))"
   ]
  },
  {
   "cell_type": "code",
   "execution_count": null,
   "id": "8aa38dbd-d9ef-4532-9bdd-a25b1301223d",
   "metadata": {},
   "outputs": [],
   "source": [
    "refusal_std_dfs.append(std_df)"
   ]
  },
  {
   "cell_type": "markdown",
   "id": "ea00d5e1-6241-410a-97cf-80a4f8658134",
   "metadata": {},
   "source": [
    "## Unknown rates"
   ]
  },
  {
   "cell_type": "code",
   "execution_count": null,
   "id": "04f39fcf-3e3b-401b-8d0e-25510a5a4e60",
   "metadata": {},
   "outputs": [],
   "source": [
    "unknown = unknown.rename(columns=rename_model)"
   ]
  },
  {
   "cell_type": "code",
   "execution_count": null,
   "id": "e155d21c-5b61-4226-88a9-8d2d2766beac",
   "metadata": {},
   "outputs": [],
   "source": [
    "unknown = unknown[list(rename_model.values()) + [\"persona_cat\"]]"
   ]
  },
  {
   "cell_type": "code",
   "execution_count": null,
   "id": "9715a48b-8288-4584-b705-9f81c118f11a",
   "metadata": {},
   "outputs": [],
   "source": [
    "unknown_mean = unknown.iloc[:,:-1].map(np.mean)"
   ]
  },
  {
   "cell_type": "code",
   "execution_count": null,
   "id": "7163f291-19ef-4017-a837-eb035c2509da",
   "metadata": {},
   "outputs": [],
   "source": [
    "unknown_mean.sort_values(\"GPT-3.5\")"
   ]
  },
  {
   "cell_type": "code",
   "execution_count": null,
   "id": "407d91bc-eec4-46b3-8538-f746e733ee09",
   "metadata": {},
   "outputs": [],
   "source": [
    "unknown_stacked = unknown_mean.stack().reset_index().rename(columns={'level_0':'index','level_1':'Model',0:'Unknown Fraction'})"
   ]
  },
  {
   "cell_type": "code",
   "execution_count": null,
   "id": "2b4e4851-e180-45b1-a5fd-6e65430a6878",
   "metadata": {},
   "outputs": [],
   "source": [
    "unknown_stacked[\"persona_cat\"] = [persona_cat_dict[persona]  if persona in persona_cat_dict.keys() else \"control\" for persona in unknown_stacked[\"index\"]]"
   ]
  },
  {
   "cell_type": "code",
   "execution_count": null,
   "id": "74483068-d038-49d7-83ab-5096ed184f91",
   "metadata": {},
   "outputs": [],
   "source": [
    "no_control = unknown_stacked[~unknown_stacked[\"persona_cat\"].isin([\"control\", \"empty\"])]\n",
    "only_control =  unknown_stacked[unknown_stacked[\"persona_cat\"] == \"control\"]\n",
    "only_empty = unknown_stacked[unknown_stacked[\"persona_cat\"] == \"empty\"]\n",
    "# ax, fix = plt.subplot(1, 1, figsize=(4,4))\n",
    "ax1 = sns.stripplot(data=no_control, x=\"Model\", y=\"Unknown Fraction\", hue=\"persona_cat\", marker=\"o\", palette=sns.color_palette(\"Paired\"))\n",
    "offset = lambda p: transforms.ScaledTranslation(p/72.,0, plt.gcf().dpi_scale_trans)\n",
    "trans = plt.gca().transData\n",
    "ax2 = sns.stripplot(data=only_control, x=\"Model\", y=\"Unknown Fraction\", color=\"black\", marker=\"X\", transform=trans+offset(15))\n",
    "ax3 = sns.stripplot(data=only_empty, x=\"Model\", y=\"Unknown Fraction\", color=\"red\", marker=\"*\", size=10, transform=trans+racset(-15))\n",
    "plt.xticks(rotation=45)\n",
    "control_handle = Line2D([], [], color=\"black\", marker=\"X\", label=\"control\", linestyle=\"None\")\n",
    "control_label = \"control\"\n",
    "empty_handle = Line2D([], [], color=\"red\", marker=\"*\", label=\"empty\", linestyle=\"None\")\n",
    "empty_label = \"empty\"\n",
    "handles, labels = ax1.get_legend_handles_labels()\n",
    "ax1.legend(handles + [control_handle, empty_handle], labels + [control_label, empty_label], title=\"Persona category\")\n",
    "sns.move_legend(ax1, \"upper left\", bbox_to_anchor=(1, 1))"
   ]
  },
  {
   "cell_type": "code",
   "execution_count": null,
   "id": "72e369a3-2deb-4348-bc9f-954603ee3f65",
   "metadata": {},
   "outputs": [],
   "source": [
    "unknown_mean.corr(numeric_only=True, method=\"kendall\")"
   ]
  },
  {
   "cell_type": "code",
   "execution_count": null,
   "id": "4a86bb2d-a460-4ee3-a0ad-90efe2522e55",
   "metadata": {},
   "outputs": [],
   "source": [
    "(unknown_mean.max(numeric_only=True) - unknown_mean.min(numeric_only=True)).sort_values()"
   ]
  },
  {
   "cell_type": "code",
   "execution_count": null,
   "id": "f4aad50b-d353-4006-94ef-eaf8f94c0f24",
   "metadata": {},
   "outputs": [],
   "source": [
    "unknown_mean[\"avg\"] = unknown_mean.mean(1, numeric_only=True)"
   ]
  },
  {
   "cell_type": "code",
   "execution_count": null,
   "id": "ee076f2a-55bc-4914-b6e7-4a299655e857",
   "metadata": {},
   "outputs": [],
   "source": [
    "unknown_mean.sort_values(\"avg\")"
   ]
  },
  {
   "cell_type": "code",
   "execution_count": null,
   "id": "f5524a70-6492-483f-be2a-111691365823",
   "metadata": {},
   "outputs": [],
   "source": [
    "unknown_mean.idxmax()"
   ]
  },
  {
   "cell_type": "code",
   "execution_count": null,
   "id": "4bfda2f4-e4f2-46e2-ad6f-2bd71cb43b99",
   "metadata": {},
   "outputs": [],
   "source": [
    "unknown_mean.idxmin()"
   ]
  },
  {
   "cell_type": "code",
   "execution_count": null,
   "id": "6337b55a-0718-4d5e-9b06-988f1e3ee4d7",
   "metadata": {},
   "outputs": [],
   "source": [
    "pos_df = pd.DataFrame(index=unknown_mean.index)\n",
    "for col in unknown_mean.columns[:-2]:\n",
    "    temp_df = pd.DataFrame()\n",
    "    sorted = unknown_mean.sort_values(col, ascending=False).index\n",
    "    temp_df = temp_df.reindex(index=sorted)\n",
    "    temp_df[col] = list(range(1, len(unknown_mean)+1))\n",
    "    pos_df = pos_df.merge(temp_df, left_index=True, right_index=True)"
   ]
  },
  {
   "cell_type": "code",
   "execution_count": null,
   "id": "5410ec19-1c0e-451d-92ef-b8b843565664",
   "metadata": {},
   "outputs": [],
   "source": [
    "pos_df[\"avg\"] = pos_df.mean(1)"
   ]
  },
  {
   "cell_type": "code",
   "execution_count": null,
   "id": "e903bd54-cc42-4993-98f1-71f1b863cf23",
   "metadata": {},
   "outputs": [],
   "source": [
    "pos_df.sort_values(\"avg\")"
   ]
  },
  {
   "cell_type": "markdown",
   "id": "67ad192a-8b4f-4d93-b8c6-927e96061491",
   "metadata": {},
   "source": [
    "#### Persona cat vs control"
   ]
  },
  {
   "cell_type": "code",
   "execution_count": null,
   "id": "6049e222-efa6-41eb-ba90-a8409b59279a",
   "metadata": {},
   "outputs": [],
   "source": [
    "unknown_mean[\"persona_cat\"] = [persona_cat_dict[persona] if persona in persona_cat_dict else \"control\" for persona in unknown_mean.index]"
   ]
  },
  {
   "cell_type": "code",
   "execution_count": null,
   "id": "632bd9e5-0f33-4d20-8723-a3a7046e5391",
   "metadata": {},
   "outputs": [],
   "source": [
    "std_df =  hits_means.groupby(\"persona_cat\").std().iloc[:,:-1]\n",
    "std_df_ratios = std_df.iloc[1:]/std_df.iloc[0]\n",
    "std_df_ratios[\"avg\"] = std_df_ratios.mean(1)\n",
    "std_df_ratios.loc[\"avg\"] = std_df_ratios.mean(0)\n",
    "std_df_ratios"
   ]
  },
  {
   "cell_type": "code",
   "execution_count": null,
   "id": "208a0fde-6293-47d3-b0b7-90d9b59f8623",
   "metadata": {},
   "outputs": [],
   "source": [
    "df = std_df_ratios.iloc[:-1,:-1].rename(columns=rename_model).stack().reset_index().rename(columns={'level_0':'index','level_1':'Model',0:'Std. Dev. Ratio'})\n",
    "a = sns.stripplot(data=df, x=\"Model\", y=\"Std. Dev. Ratio\", hue=\"persona_cat\", marker=\"o\", palette=sns.color_palette(\"Paired\"))\n",
    "a.axhline(1, linestyle='--')\n",
    "a.set_yscale('symlog')\n",
    "# ax.plot(theta, data.iloc[:,:-1].min(), color=\"green\")\n",
    "# ax.fill(theta, data.iloc[:,:-1].min(), alpha=0.25, label='_nolegend_', color=\"green\")\n",
    "# ax.plot(theta, data.iloc[:,:-1].max(), color=\"red\")\n",
    "# ax.fill(theta, data.iloc[:,:-1].max(), alpha=0.25, label='_nolegend_', color=\"red\")\n",
    "# add legend relative to top-left plot\n",
    "plt.xticks(rotation=45)\n",
    "sns.move_legend(a, \"upper left\", bbox_to_anchor=(1, 1))"
   ]
  },
  {
   "cell_type": "code",
   "execution_count": null,
   "id": "adf45e03-07d0-4f07-b590-fd2d9cacb246",
   "metadata": {},
   "outputs": [],
   "source": [
    "unknown_std = df"
   ]
  },
  {
   "cell_type": "markdown",
   "id": "77547056-3806-4a98-8eb4-f74464dfe936",
   "metadata": {},
   "source": [
    "### Aggregate figures"
   ]
  },
  {
   "cell_type": "markdown",
   "id": "3c1937f0-1997-46d6-8522-6e7f21d37ce4",
   "metadata": {},
   "source": [
    "#### Bias and unknown rates"
   ]
  },
  {
   "cell_type": "code",
   "execution_count": null,
   "id": "97ba66da-19b5-4bb5-90a3-ecd0ae5d5db4",
   "metadata": {},
   "outputs": [],
   "source": [
    "dfs = [bias_means_stacked, unknown_stacked]"
   ]
  },
  {
   "cell_type": "code",
   "execution_count": null,
   "id": "982f9521-c574-4a5f-aee6-b5bc1d3c87ab",
   "metadata": {},
   "outputs": [],
   "source": [
    "y_titles=[df.columns[2] for df in dfs]"
   ]
  },
  {
   "cell_type": "code",
   "execution_count": null,
   "id": "5c703a33-d07e-433e-b0c5-2cb6bfc6cb94",
   "metadata": {},
   "outputs": [],
   "source": [
    "x_titles = [\"Bias\", \"Unknown frequency\"]"
   ]
  },
  {
   "cell_type": "code",
   "execution_count": null,
   "id": "a78ed86d-2d60-4c8b-86ba-46fa2365361a",
   "metadata": {},
   "outputs": [],
   "source": [
    "fig, axes = plt.subplots(1, 2, figsize=(8, 4), sharex=True)\n",
    "plt.subplots_adjust(wspace=.15, hspace=.1)\n",
    "for idx, df in enumerate(dfs):\n",
    "    no_control = df[~df[\"persona_cat\"].isin([\"control\", \"empty\"])]\n",
    "    only_control =  df[df[\"persona_cat\"] == \"control\"]\n",
    "    only_empty = df[df[\"persona_cat\"] == \"empty\"]\n",
    "    ax = axes[idx]\n",
    "    # ax, fix = plt.subplot(1, 1, figsize=(4,4))\n",
    "    ax1 = sns.stripplot(data=no_control, x=\"Model\", y=y_titles[idx], hue=\"persona_cat\", marker=\"o\", palette=sns.color_palette(\"Paired\"), ax=ax)\n",
    "    offset = lambda p: transforms.ScaledTranslation(p/72.,0, plt.gcf().dpi_scale_trans)\n",
    "    trans = ax.transData\n",
    "    ax2 = sns.stripplot(data=only_control, x=\"Model\", y=y_titles[idx], color=\"black\", marker=\"X\", transform=trans+offset(10), ax=ax)\n",
    "    ax3 = sns.stripplot(data=only_empty, x=\"Model\", y=y_titles[idx], color=\"red\", marker=\"*\", size=10, transform=trans+offset(-10), ax=ax)\n",
    "    control_handle = Line2D([], [], color=\"black\", marker=\"X\", label=\"control\", linestyle=\"None\")\n",
    "    control_label = \"control\"\n",
    "    empty_handle = Line2D([], [], color=\"red\", marker=\"*\", label=\"empty\", linestyle=\"None\")\n",
    "    empty_label = \"empty\"\n",
    "    if idx==1: ax.axhline(.5, linestyle='--')\n",
    "    ax.get_legend().set_visible(False)\n",
    "    ax.set_xlabel(x_titles[idx])\n",
    "    ax.set_ylabel(\"\")\n",
    "    ax.tick_params(axis='x', labelrotation=45)\n",
    "handles, labels = ax1.get_legend_handles_labels()\n",
    "handles = handles + [control_handle, empty_handle]\n",
    "labels = labels + [control_label, empty_label]\n",
    "fig.legend(handles, labels, loc='upper center', bbox_to_anchor=(0.5, +1.15),\n",
    "          fancybox=True, shadow=True, ncol=4)"
   ]
  },
  {
   "cell_type": "code",
   "execution_count": null,
   "id": "52344526-1e94-4ac8-b19b-a2d87d3f0406",
   "metadata": {},
   "outputs": [],
   "source": [
    "fig.savefig(\"../persona-biases-paper/media/bbq.pdf\",bbox_inches=\"tight\")"
   ]
  },
  {
   "cell_type": "markdown",
   "id": "fa0788fa-4427-4472-9cc9-cfa8a1a73e20",
   "metadata": {},
   "source": [
    "#### Bias and unknown rates stds"
   ]
  },
  {
   "cell_type": "code",
   "execution_count": null,
   "id": "4323114e-8bac-47ea-aaa8-2ee1cb7293ab",
   "metadata": {},
   "outputs": [],
   "source": [
    "dfs = [bias_std, unknown_std]"
   ]
  },
  {
   "cell_type": "code",
   "execution_count": null,
   "id": "156a94ea-417f-4d9a-9912-0926b761b15c",
   "metadata": {},
   "outputs": [],
   "source": [
    "y_titles=[df.columns[2] for df in dfs]"
   ]
  },
  {
   "cell_type": "code",
   "execution_count": null,
   "id": "158a0617-a7f3-41c7-a64c-b4eb2f4e4c5f",
   "metadata": {},
   "outputs": [],
   "source": [
    "x_titles = [\"Bias\", \"Unknown frequency\"]"
   ]
  },
  {
   "cell_type": "code",
   "execution_count": null,
   "id": "74598226-87b7-4b0d-a51e-9d76e2d8e930",
   "metadata": {},
   "outputs": [],
   "source": [
    "fig, axes = plt.subplots(1, 2, figsize=(8, 4), sharex=True, sharey=True)\n",
    "plt.subplots_adjust(wspace=.15, hspace=.1)\n",
    "for idx, df in enumerate(dfs):\n",
    "    ax = axes[idx]\n",
    "    ax1 = sns.stripplot(data=df, x=\"Model\", y=\"Std. Dev. Ratio\", hue=\"persona_cat\", marker=\"o\", palette=sns.color_palette(\"Paired\"),ax=ax, log_scale=True)\n",
    "    ax.axhline(1, linestyle='--')\n",
    "    a.set_yscale('symlog')\n",
    "    ax.set_xlabel(x_titles[idx])\n",
    "    ax.get_legend().set_visible(False)\n",
    "    ax.tick_params(axis='x', labelrotation=45)\n",
    "handles, labels = ax1.get_legend_handles_labels()\n",
    "fig.legend(handles, labels, loc='upper center', bbox_to_anchor=(0.5, +1.1),\n",
    "          fancybox=True, shadow=True, ncol=4)"
   ]
  },
  {
   "cell_type": "code",
   "execution_count": null,
   "id": "2949e2c0-b3eb-4334-92c2-c776dd1a2bbf",
   "metadata": {},
   "outputs": [],
   "source": [
    "fig.savefig(\"../persona-biases-paper/media/bbq_stds.pdf\",bbox_inches=\"tight\")"
   ]
  },
  {
   "cell_type": "markdown",
   "id": "46266854-2536-4aec-a12c-407bbd1ce01e",
   "metadata": {},
   "source": [
    "# Aggregate analysis"
   ]
  },
  {
   "cell_type": "code",
   "execution_count": null,
   "id": "8772f5b6-89ba-4972-a471-06b950261526",
   "metadata": {},
   "outputs": [],
   "source": [
    "all_hits = get_results_df(\"all_hits.csv\")"
   ]
  },
  {
   "cell_type": "code",
   "execution_count": null,
   "id": "8f853729-50d6-4590-afaf-501ac5e9e62b",
   "metadata": {},
   "outputs": [],
   "source": [
    "all_scores = get_results_df(\"all_scores.csv\")"
   ]
  },
  {
   "cell_type": "code",
   "execution_count": null,
   "id": "aabee7c9-12a2-4014-b7fb-ebe6a14cda67",
   "metadata": {},
   "outputs": [],
   "source": [
    "all_scores_avg = all_scores.iloc[:,:-1].map(lambda x: float(x[3]))"
   ]
  },
  {
   "cell_type": "code",
   "execution_count": null,
   "id": "4ea5c9f8-a60d-445b-b350-c5c960cf6b81",
   "metadata": {},
   "outputs": [],
   "source": [
    "all_scores_avg.max() - all_scores_avg.min()"
   ]
  },
  {
   "cell_type": "code",
   "execution_count": null,
   "id": "a2950db4-4597-403b-a047-217f56d09acc",
   "metadata": {},
   "outputs": [],
   "source": [
    "all_scores_avg = all_scores_avg[[x for x in rename_model.values()]].copy()"
   ]
  },
  {
   "cell_type": "code",
   "execution_count": null,
   "id": "8daf9c36-bc00-4c1e-ba59-2334455fbd61",
   "metadata": {},
   "outputs": [],
   "source": [
    "all_scores_avg[\"persona_cat\"] = all_scores[\"persona_cat\"]"
   ]
  },
  {
   "cell_type": "code",
   "execution_count": null,
   "id": "6c27f9c0-10c7-4be8-9bb1-dfa71a907fa1",
   "metadata": {},
   "outputs": [],
   "source": [
    "all_scores_avg_stacked = all_scores_avg[all_scores_avg.columns[:-1]].stack().reset_index().rename(columns={'level_0':'index','level_1':'Model',0:'Avg. Accuracy'})"
   ]
  },
  {
   "cell_type": "code",
   "execution_count": null,
   "id": "158711e5-a08c-47bc-817c-3fd916f1f0a2",
   "metadata": {},
   "outputs": [],
   "source": [
    "all_scores_avg_stacked[\"persona_cat\"] = [persona_cat_dict[persona]  if persona in persona_cat_dict.keys() else \"control\" for persona in all_scores_avg_stacked[\"index\"]]"
   ]
  },
  {
   "cell_type": "code",
   "execution_count": null,
   "id": "a4c7accf-7192-4856-b0a0-4507e42c4b44",
   "metadata": {
    "scrolled": true
   },
   "outputs": [],
   "source": [
    "all_scores_avg.sort_values(\"GPT-4\")"
   ]
  },
  {
   "cell_type": "code",
   "execution_count": null,
   "id": "4bb5056f-4e2f-46d1-9adb-6b25a46b00a3",
   "metadata": {},
   "outputs": [],
   "source": [
    "all_scores_avg.describe()"
   ]
  },
  {
   "cell_type": "code",
   "execution_count": null,
   "id": "9da912c7-22cb-41f7-a9ff-1891344363a0",
   "metadata": {},
   "outputs": [],
   "source": [
    "no_control = all_scores_avg_stacked[~all_scores_avg_stacked[\"persona_cat\"].isin([\"control\", \"empty\"])]\n",
    "only_control =  all_scores_avg_stacked[all_scores_avg_stacked[\"persona_cat\"] == \"control\"]\n",
    "only_empty = all_scores_avg_stacked[all_scores_avg_stacked[\"persona_cat\"] == \"empty\"]\n",
    "# ax, fix = plt.subplot(1, 1, figsize=(4,4))\n",
    "ax1 = sns.stripplot(data=no_control, x=\"Model\", y=\"Avg. Accuracy\", hue=\"persona_cat\", marker=\"o\", palette=sns.color_palette(\"Paired\"))\n",
    "offset = lambda p: transforms.ScaledTranslation(p/72.,0, plt.gcf().dpi_scale_trans)\n",
    "trans = plt.gca().transData\n",
    "ax2 = sns.stripplot(data=only_control, x=\"Model\", y=\"Avg. Accuracy\", color=\"black\", marker=\"X\", transform=trans+offset(15))\n",
    "ax3 = sns.stripplot(data=only_empty, x=\"Model\", y=\"Avg. Accuracy\", color=\"red\", marker=\"*\", size=10, transform=trans+offset(-15))\n",
    "plt.xticks(rotation=45)\n",
    "control_handle = Line2D([], [], color=\"black\", marker=\"X\", label=\"control\", linestyle=\"None\")\n",
    "control_label = \"control\"\n",
    "empty_handle = Line2D([], [], color=\"red\", marker=\"*\", label=\"empty\", linestyle=\"None\")\n",
    "empty_label = \"empty\"\n",
    "handles, labels = ax1.get_legend_handles_labels()\n",
    "ax1.legend(handles + [control_handle, empty_handle], labels + [control_label, empty_label], title=\"Persona category\")\n",
    "sns.move_legend(ax1, \"upper left\", bbox_to_anchor=(1, 1))"
   ]
  },
  {
   "cell_type": "code",
   "execution_count": null,
   "id": "6d4e6040-6d86-4492-90e1-b5558c498654",
   "metadata": {},
   "outputs": [],
   "source": [
    "all_scores_avg.corr(numeric_only=True, method=\"kendall\")"
   ]
  },
  {
   "cell_type": "code",
   "execution_count": null,
   "id": "be70839a-457a-4c4b-833f-0dacc0d44c60",
   "metadata": {},
   "outputs": [],
   "source": [
    "all_scores_avg[\"avg\"] = all_scores_avg.mean(1, numeric_only=True)"
   ]
  },
  {
   "cell_type": "code",
   "execution_count": null,
   "id": "5a37a737-af38-4f2c-ab28-5ab9d2292940",
   "metadata": {
    "scrolled": true
   },
   "outputs": [],
   "source": [
    "all_scores_avg.sort_values(\"avg\")"
   ]
  },
  {
   "cell_type": "code",
   "execution_count": null,
   "id": "4aeacdb9-7756-4909-ad49-b0e075e0a296",
   "metadata": {},
   "outputs": [],
   "source": [
    "hits_means.idxmax()"
   ]
  },
  {
   "cell_type": "code",
   "execution_count": null,
   "id": "959bc770-9afe-4ca0-a21f-5793ba16d6af",
   "metadata": {},
   "outputs": [],
   "source": [
    "hits_means.idxmin()"
   ]
  },
  {
   "cell_type": "code",
   "execution_count": null,
   "id": "706a0614-8a3d-4677-aeba-016e0e2f6e28",
   "metadata": {},
   "outputs": [],
   "source": [
    "pos_df = pd.DataFrame(index=hits_means.index)\n",
    "for col in hits_means.columns[:-2]:\n",
    "    temp_df = pd.DataFrame()\n",
    "    sorted = hits_means.sort_values(col, ascending=False).index\n",
    "    temp_df = temp_df.reindex(index=sorted)\n",
    "    temp_df[col] = list(range(1, len(hits_means)+1))\n",
    "    pos_df = pos_df.merge(temp_df, left_index=True, right_index=True)"
   ]
  },
  {
   "cell_type": "code",
   "execution_count": null,
   "id": "4dc000ee-30ec-4c3c-90e1-b1988c3d6a10",
   "metadata": {},
   "outputs": [],
   "source": [
    "pos_df.loc[\"a_person_of_atheism_belief\"]"
   ]
  },
  {
   "cell_type": "code",
   "execution_count": null,
   "id": "421617e7-82f3-4155-b5c8-4cce35b4b74a",
   "metadata": {},
   "outputs": [],
   "source": [
    "pos_df.loc[\"a_asexual_person\"]"
   ]
  },
  {
   "cell_type": "code",
   "execution_count": null,
   "id": "6a971c80-dcdf-4344-beac-3dd937fcb8e1",
   "metadata": {},
   "outputs": [],
   "source": [
    "pos_df.loc[\"a_person_with_fascism_ideology\"]"
   ]
  },
  {
   "cell_type": "markdown",
   "id": "5d3a2b66-b284-4752-bf47-a8694b50240b",
   "metadata": {},
   "source": [
    "#### Persona cat vs control"
   ]
  },
  {
   "cell_type": "code",
   "execution_count": null,
   "id": "cadbea4e-5942-46ec-ada4-8e9ee7feed59",
   "metadata": {},
   "outputs": [],
   "source": [
    "std_df =  hits_means.groupby(\"persona_cat\").std().iloc[:,:-1]\n",
    "std_df_ratios = std_df.iloc[1:]/std_df.iloc[0]\n",
    "std_df_ratios[\"avg\"] = std_df_ratios.mean(1)\n",
    "std_df_ratios.loc[\"avg\"] = std_df_ratios.mean(0)\n",
    "std_df_ratios"
   ]
  },
  {
   "cell_type": "code",
   "execution_count": null,
   "id": "2914d0e7-e6bb-4cb1-b92f-3506757a6cab",
   "metadata": {},
   "outputs": [],
   "source": [
    "df = std_df_ratios.iloc[:-1,:-1].rename(columns=rename_model).stack().reset_index().rename(columns={'level_0':'index','level_1':'Model',0:'Std. Dev. Ratio'})\n",
    "a = sns.stripplot(data=df, x=\"Model\", y=\"Std. Dev. Ratio\", hue=\"persona_cat\", marker=\"o\", palette=sns.color_palette(\"Paired\"))\n",
    "a.axhline(1, linestyle='--')\n",
    "a.set_yscale('symlog')\n",
    "# ax.plot(theta, data.iloc[:,:-1].min(), color=\"green\")\n",
    "# ax.fill(theta, data.iloc[:,:-1].min(), alpha=0.25, label='_nolegend_', color=\"green\")\n",
    "# ax.plot(theta, data.iloc[:,:-1].max(), color=\"red\")\n",
    "# ax.fill(theta, data.iloc[:,:-1].max(), alpha=0.25, label='_nolegend_', color=\"red\")\n",
    "# add legend relative to top-left plot\n",
    "plt.xticks(rotation=45)\n",
    "sns.move_legend(a, \"upper left\", bbox_to_anchor=(1, 1))"
   ]
  },
  {
   "cell_type": "markdown",
   "id": "90100793-5a72-45b3-a173-db02292ca03f",
   "metadata": {},
   "source": [
    "### Correlation between tasks"
   ]
  },
  {
   "cell_type": "code",
   "execution_count": null,
   "id": "8ed4843f-29f0-4876-a47a-3493f3b2aa6e",
   "metadata": {},
   "outputs": [],
   "source": [
    "truthful_scores = all_scores.iloc[:,:-1].map(lambda x: float(x[0]))\n",
    "mmlu_scores = all_scores.iloc[:,:-1].map(lambda x: float(x[1]))\n",
    "bbq_scores = all_scores.iloc[:,:-1].map(lambda x: float(x[2]))"
   ]
  },
  {
   "cell_type": "code",
   "execution_count": null,
   "id": "d2eded04-f6dc-41df-ab18-aa25e9de335b",
   "metadata": {},
   "outputs": [],
   "source": [
    "truthful_scores.corrwith(mmlu_scores).sort_values()"
   ]
  },
  {
   "cell_type": "code",
   "execution_count": null,
   "id": "9801c9cb-ab2b-466f-8853-e4ff2a91b738",
   "metadata": {},
   "outputs": [],
   "source": [
    "truthful_scores.corrwith(bbq_scores).sort_values()"
   ]
  },
  {
   "cell_type": "code",
   "execution_count": null,
   "id": "1107e8ca-34a0-4268-a222-8fb15371ec34",
   "metadata": {},
   "outputs": [],
   "source": [
    "mmlu_scores.corrwith(bbq_scores).sort_values()"
   ]
  },
  {
   "cell_type": "code",
   "execution_count": null,
   "id": "13e0f3b5-d15f-46ac-a610-ce9b2f895572",
   "metadata": {},
   "outputs": [],
   "source": [
    "scores_by_model = {model: pd.concat([truthful_scores[model], mmlu_scores[model], bbq_scores[model]], axis=1) for model in truthful_scores}"
   ]
  },
  {
   "cell_type": "code",
   "execution_count": null,
   "id": "020b2d22-ba3e-4767-b90b-9e4650d0ba19",
   "metadata": {},
   "outputs": [],
   "source": [
    "for model in scores_by_model.keys():\n",
    "    scores_by_model[model][\"persona_cat\"] = [persona_cat_dict[persona] if persona in persona_cat_dict else \"control\" for persona in scores_by_model[model].index]\n",
    "    scores_by_model[model].columns = [\"truthfulqa\", \"mmlu\", \"bbq\", \"persona_cat\"]"
   ]
  },
  {
   "cell_type": "code",
   "execution_count": null,
   "id": "7000fcde-7612-465e-85ea-f9f999e9d88e",
   "metadata": {},
   "outputs": [],
   "source": [
    "for model, scores in scores_by_model.items():\n",
    "    for group, df in scores.groupby(\"persona_cat\"):\n",
    "        corrs = df.corr(method=\"kendall\", numeric_only=True)\n",
    "        if corrs.to_numpy()[np.triu_indices(len(corrs), k = 1)].mean()>.5:\n",
    "            print(model)\n",
    "            print(group, df.corr(method=\"kendall\", numeric_only=True))\n",
    "            df[\"avg\"] = df.mean(1, numeric_only=True)\n",
    "            print(df.sort_values(\"avg\"))\n",
    "            print(\"=========================\")"
   ]
  },
  {
   "cell_type": "code",
   "execution_count": null,
   "id": "c225f0a3-5956-4d5d-88d3-c5d2a7c7a537",
   "metadata": {},
   "outputs": [],
   "source": [
    "avg_persona_score = pd.concat([x.iloc[:,:-1] for x in scores_by_model.values()], axis=0).reset_index().groupby(\"index\").mean()"
   ]
  },
  {
   "cell_type": "code",
   "execution_count": null,
   "id": "9afab4f8-a572-479d-8686-c23838d6d68f",
   "metadata": {},
   "outputs": [],
   "source": [
    "avg_persona_score[\"persona_cat\"] = [persona_cat_dict[persona] if persona in persona_cat_dict else \"control\" for persona in avg_persona_score.index] "
   ]
  },
  {
   "cell_type": "code",
   "execution_count": null,
   "id": "b4b280a0-0fb7-4c97-9de7-48fce9fa8bdf",
   "metadata": {},
   "outputs": [],
   "source": [
    "cat_means = avg_persona_score.groupby(\"persona_cat\").mean()\n",
    "corrs = cat_means.corr(method=\"kendall\", numeric_only=True)\n",
    "if corrs.to_numpy()[np.triu_indices(len(corrs), k = 1)].mean()>.5:\n",
    "        cat_means[\"avg\"] = cat_means.mean(1, numeric_only=True)\n",
    "        print(cat_means.sort_values(\"avg\"))\n",
    "        print(\"=========================\")"
   ]
  },
  {
   "cell_type": "code",
   "execution_count": null,
   "id": "95f8adb4-fd9b-46c9-adbe-7739acbb9c34",
   "metadata": {},
   "outputs": [],
   "source": [
    "for group, df in avg_persona_score.groupby(\"persona_cat\"):\n",
    "    corrs = df.corr(method=\"kendall\", numeric_only=True)\n",
    "    if corrs.to_numpy()[np.triu_indices(len(corrs), k = 1)].mean()>.5:\n",
    "        print(group, df.corr(method=\"kendall\", numeric_only=True))\n",
    "        df[\"avg\"] = df.mean(1, numeric_only=True)\n",
    "        print(df.sort_values(\"avg\"))\n",
    "        print(df.sort_values(\"avg\").rank())\n",
    "        print(\"=========================\")"
   ]
  },
  {
   "cell_type": "code",
   "execution_count": null,
   "id": "47d26092-2ed3-4b04-8264-260785a37371",
   "metadata": {},
   "outputs": [],
   "source": [
    "for model, scores in scores_by_model.items():\n",
    "    cat_means = scores.groupby(\"persona_cat\").mean()\n",
    "    corrs = cat_means.corr(method=\"kendall\", numeric_only=True)\n",
    "    if corrs.to_numpy()[np.triu_indices(len(corrs), k = 1)].mean()>.5:\n",
    "            cat_means[\"avg\"] = cat_means.mean(1, numeric_only=True)\n",
    "            print(cat_means.sort_values(\"avg\"))\n",
    "            print(\"=========================\")"
   ]
  },
  {
   "cell_type": "code",
   "execution_count": null,
   "id": "25327f95-4e71-4880-92f4-d0bf94493206",
   "metadata": {},
   "outputs": [],
   "source": [
    "truthful_scores.sort_values(\"GPT-4\")"
   ]
  },
  {
   "cell_type": "code",
   "execution_count": null,
   "id": "a5348a63-709f-4f1c-998e-080d6ac0c4de",
   "metadata": {
    "scrolled": true
   },
   "outputs": [],
   "source": [
    "mmlu_scores.sort_values(\"GPT-4\")"
   ]
  },
  {
   "cell_type": "code",
   "execution_count": null,
   "id": "eba498d6-cdff-4a4e-b750-df53dd863c88",
   "metadata": {},
   "outputs": [],
   "source": [
    "truthful_scores[\"persona_cat\"] = [persona_cat_dict[persona] if persona in persona_cat_dict else \"control\" for persona in truthful_scores.index]\n",
    "mmlu_scores[\"persona_cat\"] = [persona_cat_dict[persona] if persona in persona_cat_dict else \"control\" for persona in truthful_scores.index]\n",
    "bbq_scores[\"persona_cat\"] = [persona_cat_dict[persona] if persona in persona_cat_dict else \"control\" for persona in truthful_scores.index]"
   ]
  },
  {
   "cell_type": "code",
   "execution_count": null,
   "id": "9e7e977a-d100-48c6-9524-af249050be7f",
   "metadata": {},
   "outputs": [],
   "source": [
    "for group, df in truthful_scores.groupby(\"persona_cat\"):\n",
    "    corrs = df.corr(method=\"kendall\", numeric_only=True)\n",
    "    if corrs.to_numpy()[np.triu_indices(len(corrs), k = 1)].mean()>.5:\n",
    "        print(group)\n",
    "        df[\"avg\"] = df.mean(1, numeric_only=True)\n",
    "        print(df.sort_values(\"avg\"))\n",
    "        print(\"=========================\")"
   ]
  },
  {
   "cell_type": "code",
   "execution_count": null,
   "id": "2845fccd-0c17-43ad-8745-d57bd974f527",
   "metadata": {},
   "outputs": [],
   "source": [
    "cat_means = truthful_scores.groupby(\"persona_cat\").mean()\n",
    "corrs = cat_means.corr(method=\"kendall\", numeric_only=True)\n",
    "if corrs.to_numpy()[np.triu_indices(len(corrs), k = 1)].mean()>.5:\n",
    "    print(group)\n",
    "    cat_means[\"avg\"] = cat_means.mean(1, numeric_only=True)\n",
    "    print(cat_means.sort_values(\"avg\"))\n",
    "    print(\"=========================\")"
   ]
  },
  {
   "cell_type": "code",
   "execution_count": null,
   "id": "341eb142-5203-43e6-8c65-109722b8adcc",
   "metadata": {},
   "outputs": [],
   "source": [
    "for group, df in mmlu_scores.groupby(\"persona_cat\"):\n",
    "    corrs = df.corr(method=\"kendall\", numeric_only=True)\n",
    "    if corrs.to_numpy()[np.triu_indices(len(corrs), k = 1)].mean()>.5:\n",
    "        print(group)\n",
    "        df[\"avg\"] = df.mean(1, numeric_only=True)\n",
    "        print(df.sort_values(\"avg\"))\n",
    "        print(\"=========================\")"
   ]
  },
  {
   "cell_type": "code",
   "execution_count": null,
   "id": "89b0f1ad-986e-460e-a4ea-269240ed7893",
   "metadata": {},
   "outputs": [],
   "source": [
    "cat_means = mmlu_scores.groupby(\"persona_cat\").mean()\n",
    "corrs = cat_means.corr(method=\"kendall\", numeric_only=True)\n",
    "if corrs.to_numpy()[np.triu_indices(len(corrs), k = 1)].mean()>.5:\n",
    "    cat_means[\"avg\"] = cat_means.mean(1, numeric_only=True)\n",
    "    print(cat_means.sort_values(\"avg\"))\n",
    "    print(\"=========================\")"
   ]
  },
  {
   "cell_type": "code",
   "execution_count": null,
   "id": "58fe8229-b995-4450-bb43-13db9080a4ae",
   "metadata": {},
   "outputs": [],
   "source": [
    "for group, df in bbq_scores.groupby(\"persona_cat\"):\n",
    "    corrs = df.corr(method=\"kendall\", numeric_only=True)\n",
    "    if corrs.to_numpy()[np.triu_indices(len(corrs), k = 1)].mean()>.5:\n",
    "        print(group, df.corr(method=\"kendall\", numeric_only=True))\n",
    "        df[\"avg\"] = df.mean(1, numeric_only=True)\n",
    "        print(df.sort_values(\"avg\"))\n",
    "        print(\"=========================\")"
   ]
  },
  {
   "cell_type": "code",
   "execution_count": null,
   "id": "4cb9622b-0bbf-4c58-a206-310f1a5ca319",
   "metadata": {},
   "outputs": [],
   "source": [
    "cat_means = bbq_scores.groupby(\"persona_cat\").mean()\n",
    "corrs = cat_means.corr(method=\"kendall\", numeric_only=True)\n",
    "if corrs.to_numpy()[np.triu_indices(len(corrs), k = 1)].mean()>.5:\n",
    "    cat_means[\"avg\"] = cat_means.mean(1, numeric_only=True)\n",
    "    print(cat_means.sort_values(\"avg\"))\n",
    "    print(\"=========================\")"
   ]
  },
  {
   "cell_type": "code",
   "execution_count": null,
   "id": "4f658f35-bb20-4c6b-9cee-067c856ccad5",
   "metadata": {},
   "outputs": [],
   "source": [
    "bias_means = bias_means.iloc[:,:-1]"
   ]
  },
  {
   "cell_type": "code",
   "execution_count": null,
   "id": "e4168269-025e-4af2-bd96-afdb7a33d767",
   "metadata": {},
   "outputs": [],
   "source": [
    "for group, df in bias_means.groupby(\"persona_cat\"):\n",
    "    corrs = df.corr(method=\"kendall\", numeric_only=True)\n",
    "    if corrs.to_numpy()[np.triu_indices(len(corrs), k = 1)].mean()>.5:\n",
    "        print(group, df.corr(method=\"kendall\", numeric_only=True))\n",
    "        df[\"avg\"] = df.mean(1, numeric_only=True)\n",
    "        print(df.sort_values(\"avg\"))\n",
    "        print(\"=========================\")"
   ]
  },
  {
   "cell_type": "code",
   "execution_count": null,
   "id": "cf05ec7e-4e01-4bb0-b156-5b348bfc2e97",
   "metadata": {},
   "outputs": [],
   "source": [
    "cat_means = bias_means.groupby(\"persona_cat\").mean()\n",
    "corrs = cat_means.corr(method=\"kendall\", numeric_only=True)\n",
    "if corrs.to_numpy()[np.triu_indices(len(corrs), k = 1)].mean()>.5:\n",
    "    cat_means[\"avg\"] = cat_means.mean(1, numeric_only=True)\n",
    "    print(cat_means.sort_values(\"avg\"))\n",
    "    print(\"=========================\")"
   ]
  },
  {
   "cell_type": "code",
   "execution_count": null,
   "id": "e6ebed51-8e63-465d-a3b3-06c6e159fe72",
   "metadata": {},
   "outputs": [],
   "source": [
    "del unknown_mean[\"avg\"]"
   ]
  },
  {
   "cell_type": "code",
   "execution_count": null,
   "id": "cd1426b6-d9da-41ae-9bc0-8775798a97b7",
   "metadata": {},
   "outputs": [],
   "source": [
    "for group, df in unknown_mean.groupby(\"persona_cat\"):\n",
    "    corrs = df.corr(method=\"kendall\", numeric_only=True)\n",
    "    if corrs.to_numpy()[np.triu_indices(len(corrs), k = 1)].mean()>.5:\n",
    "        print(group, df.corr(method=\"kendall\", numeric_only=True))\n",
    "        df[\"avg\"] = df.mean(1, numeric_only=True)\n",
    "        print(df.sort_values(\"avg\"))\n",
    "        print(\"=========================\")"
   ]
  },
  {
   "cell_type": "code",
   "execution_count": null,
   "id": "86645809-e66d-4dd1-a3b4-77fa34d0ba57",
   "metadata": {},
   "outputs": [],
   "source": [
    "cat_means = unknown_mean.groupby(\"persona_cat\").mean()\n",
    "corrs = cat_means.corr(method=\"kendall\", numeric_only=True)\n",
    "if corrs.to_numpy()[np.triu_indices(len(corrs), k = 1)].mean()>.5:\n",
    "    cat_means[\"avg\"] = cat_means.mean(1, numeric_only=True)\n",
    "    print(cat_means.sort_values(\"avg\"))\n",
    "    print(\"=========================\")"
   ]
  },
  {
   "cell_type": "code",
   "execution_count": null,
   "id": "9625f7d8-0a80-441f-bd08-f5a99583d153",
   "metadata": {},
   "outputs": [],
   "source": [
    "for group, df in all_off_means.groupby(\"persona_cat\"):\n",
    "    corrs = df.corr(method=\"kendall\", numeric_only=True)\n",
    "    if corrs.to_numpy()[np.triu_indices(len(corrs), k = 1)].mean()>.5:\n",
    "        print(group, df.corr(method=\"kendall\", numeric_only=True))\n",
    "        df[\"avg\"] = df.mean(1, numeric_only=True)\n",
    "        print(df.sort_values(\"avg\"))\n",
    "        print(\"=========================\")"
   ]
  },
  {
   "cell_type": "code",
   "execution_count": null,
   "id": "8d0ea53e-59e9-4eb5-8ee0-088b7eaff763",
   "metadata": {},
   "outputs": [],
   "source": [
    "cat_means = all_off_means.groupby(\"persona_cat\").mean()\n",
    "corrs = cat_means.corr(method=\"kendall\", numeric_only=True)\n",
    "if corrs.to_numpy()[np.triu_indices(len(corrs), k = 1)].mean()>.5:\n",
    "    cat_means[\"avg\"] = cat_means.mean(1, numeric_only=True)\n",
    "    print(cat_means.sort_values(\"avg\"))\n",
    "    print(\"=========================\")"
   ]
  },
  {
   "cell_type": "code",
   "execution_count": null,
   "id": "8a331e94-7731-4236-ae79-076e9a14746b",
   "metadata": {},
   "outputs": [],
   "source": [
    "for group, df in all_rac_means.groupby(\"persona_cat\"):\n",
    "    corrs = df.corr(method=\"kendall\", numeric_only=True)\n",
    "    if corrs.to_numpy()[np.triu_indices(len(corrs), k = 1)].mean()>.5:\n",
    "        print(group, df.corr(method=\"kendall\", numeric_only=True))\n",
    "        df[\"avg\"] = df.mean(1, numeric_only=True)\n",
    "        print(df.sort_values(\"avg\"))\n",
    "        print(\"=========================\")"
   ]
  },
  {
   "cell_type": "code",
   "execution_count": null,
   "id": "104bc61e-7bb3-4f84-9601-bfae0d733376",
   "metadata": {},
   "outputs": [],
   "source": [
    "cat_means = all_rac_means.groupby(\"persona_cat\").mean()\n",
    "corrs = cat_means.corr(method=\"kendall\", numeric_only=True)\n",
    "if corrs.to_numpy()[np.triu_indices(len(corrs), k = 1)].mean()>.5:\n",
    "    cat_means[\"avg\"] = cat_means.mean(1, numeric_only=True)\n",
    "    print(cat_means.sort_values(\"avg\"))\n",
    "    print(\"=========================\")"
   ]
  },
  {
   "cell_type": "code",
   "execution_count": null,
   "id": "8bc4fb85-d321-478a-9bf3-1a331624cf9b",
   "metadata": {},
   "outputs": [],
   "source": [
    "for group, df in off_aggs.groupby(\"persona_cat\"):\n",
    "    corrs = df.corr(method=\"kendall\", numeric_only=True)\n",
    "    if corrs.to_numpy()[np.triu_indices(len(corrs), k = 1)].mean()>.5:\n",
    "        print(group, df.corr(method=\"kendall\", numeric_only=True))\n",
    "        df[\"avg\"] = df.mean(1, numeric_only=True)\n",
    "        print(df.sort_values(\"avg\"))\n",
    "        print(\"=========================\")"
   ]
  },
  {
   "cell_type": "code",
   "execution_count": null,
   "id": "5b045fc7-e659-44a6-8e8f-c2e1169a0ca0",
   "metadata": {},
   "outputs": [],
   "source": [
    "cat_means = off_aggs.groupby(\"persona_cat\").mean()\n",
    "corrs = cat_means.corr(method=\"kendall\", numeric_only=True)\n",
    "if corrs.to_numpy()[np.triu_indices(len(corrs), k = 1)].mean()>.5:\n",
    "    cat_means[\"avg\"] = cat_means.mean(1, numeric_only=True)\n",
    "    print(cat_means.sort_values(\"avg\"))\n",
    "    print(\"=========================\")"
   ]
  },
  {
   "cell_type": "code",
   "execution_count": null,
   "id": "e5dc15ac-d2fa-470a-b99e-4f221e787423",
   "metadata": {},
   "outputs": [],
   "source": [
    "for group, df in rac_aggs.groupby(\"persona_cat\"):\n",
    "    corrs = df.corr(method=\"kendall\", numeric_only=True)\n",
    "    if corrs.to_numpy()[np.triu_indices(len(corrs), k = 1)].mean()>.5:\n",
    "        print(group, df.corr(method=\"kendall\", numeric_only=True))\n",
    "        df[\"avg\"] = df.mean(1, numeric_only=True)\n",
    "        print(df.sort_values(\"avg\"))\n",
    "        print(\"=========================\")"
   ]
  },
  {
   "cell_type": "code",
   "execution_count": null,
   "id": "eb13b24e-2106-48fd-a494-c553a6fede8e",
   "metadata": {},
   "outputs": [],
   "source": [
    "cat_means = rac_aggs.groupby(\"persona_cat\").mean()\n",
    "corrs = cat_means.corr(method=\"kendall\", numeric_only=True)\n",
    "if corrs.to_numpy()[np.triu_indices(len(corrs), k = 1)].mean()>.5:\n",
    "    cat_means[\"avg\"] = cat_means.mean(1, numeric_only=True)\n",
    "    print(cat_means.sort_values(\"avg\"))\n",
    "    print(\"=========================\")"
   ]
  },
  {
   "cell_type": "markdown",
   "id": "dab095a2-8ea0-4ada-8b5b-4fe0004d3ba1",
   "metadata": {},
   "source": [
    "### Refusals"
   ]
  },
  {
   "cell_type": "code",
   "execution_count": null,
   "id": "7398390b-3367-4a44-bac1-bfad9c95e06a",
   "metadata": {},
   "outputs": [],
   "source": [
    "all_refusals_stacked[0]"
   ]
  },
  {
   "cell_type": "code",
   "execution_count": null,
   "id": "507f230d-fd11-4711-a35e-ef9c37e6538b",
   "metadata": {},
   "outputs": [],
   "source": [
    "avg_refusals = pd.concat(all_refusals_stacked).groupby([\"index\", \"Model\"]).mean(numeric_only=True).reset_index()\n",
    "avg_refusals[\"persona_cat\"] = [persona_cat_dict[persona] if persona in persona_cat_dict else \"control\" for persona in avg_refusals[\"index\"]]"
   ]
  },
  {
   "cell_type": "code",
   "execution_count": null,
   "id": "dbb7ea99-8e2b-4ae7-8b2f-0532d7ca19fb",
   "metadata": {},
   "outputs": [],
   "source": [
    "all_refusals_stacked.append(avg_refusals)"
   ]
  },
  {
   "cell_type": "code",
   "execution_count": null,
   "id": "d7030126-d1aa-42cc-9e95-af1ac04cfe96",
   "metadata": {},
   "outputs": [],
   "source": [
    "refusals_avg = avg_refusals.pivot(index=\"index\", columns=[\"Model\"], values=\"Refused Fraction\")"
   ]
  },
  {
   "cell_type": "code",
   "execution_count": null,
   "id": "637bf099-d28f-4065-bc56-37ad25145180",
   "metadata": {},
   "outputs": [],
   "source": [
    "refusals_avg.corr()"
   ]
  },
  {
   "cell_type": "code",
   "execution_count": null,
   "id": "9407177e-289f-4de3-9721-2a29aa5f98a4",
   "metadata": {},
   "outputs": [],
   "source": [
    "refusals_avg[\"avg\"] = refusals_avg.mean(1)"
   ]
  },
  {
   "cell_type": "code",
   "execution_count": null,
   "id": "ef09175f-1d61-41e7-bcbe-b2a1447a4665",
   "metadata": {},
   "outputs": [],
   "source": [
    "refusals_avg.sort_values(\"avg\")"
   ]
  },
  {
   "cell_type": "code",
   "execution_count": null,
   "id": "76e16218-7345-47d7-b33f-173189379439",
   "metadata": {},
   "outputs": [],
   "source": [
    "refusals_avg.idxmax()"
   ]
  },
  {
   "cell_type": "code",
   "execution_count": null,
   "id": "ee4ce33d-1cbb-494c-a21c-5583fc7c84ab",
   "metadata": {},
   "outputs": [],
   "source": [
    "refusals_avg.idxmin()"
   ]
  },
  {
   "cell_type": "code",
   "execution_count": null,
   "id": "80c2850d-1a71-4d78-b0d1-5ca6283ec6a5",
   "metadata": {},
   "outputs": [],
   "source": [
    "pos_df = pd.DataFrame(index=refusals_avg.index)\n",
    "for col in refusals_avg.columns[:-1]:\n",
    "    temp_df = pd.DataFrame()\n",
    "    sorted = refusals_avg.sort_values(col, ascending=False).index\n",
    "    temp_df = temp_df.reindex(index=sorted)\n",
    "    temp_df[col] = list(range(1, len(refusals_avg)+1))\n",
    "    pos_df = pos_df.merge(temp_df, left_index=True, right_index=True)\n",
    "pos_df[\"avg\"] = pos_df.mean(1)"
   ]
  },
  {
   "cell_type": "code",
   "execution_count": null,
   "id": "94036599-145e-40d5-8591-c8ce852478af",
   "metadata": {},
   "outputs": [],
   "source": [
    "pos_df.sort_values(\"avg\")"
   ]
  },
  {
   "cell_type": "markdown",
   "id": "5542692a-b2f8-4290-9ae5-ad1a04844c51",
   "metadata": {},
   "source": [
    "#### Persona cat vs control"
   ]
  },
  {
   "cell_type": "code",
   "execution_count": null,
   "id": "f39e5cc0-00af-4f8f-9c4a-b166d07c20e7",
   "metadata": {},
   "outputs": [],
   "source": [
    "refusals_avg[\"persona_cat\"] = [persona_cat_dict[persona] if persona in persona_cat_dict else \"control\" for persona in refusals_avg.index]"
   ]
  },
  {
   "cell_type": "code",
   "execution_count": null,
   "id": "34bb9aa9-8009-4e50-bf83-22f00ee055d3",
   "metadata": {},
   "outputs": [],
   "source": [
    "refusals_avg = refusals_avg[[x for x in rename_model.values()] + [\"avg\", \"persona_cat\"]]"
   ]
  },
  {
   "cell_type": "code",
   "execution_count": null,
   "id": "51bdf46f-209e-43f4-90f6-066f01db9bc6",
   "metadata": {},
   "outputs": [],
   "source": [
    "std_df =  refusals_avg.groupby(\"persona_cat\").std().iloc[:,:-1]\n",
    "std_df_ratios = std_df.iloc[1:]/std_df.iloc[0]\n",
    "std_df_ratios[\"avg\"] = std_df_ratios.mean(1)\n",
    "std_df_ratios.loc[\"avg\"] = std_df_ratios.mean(0)\n",
    "std_df_ratios"
   ]
  },
  {
   "cell_type": "code",
   "execution_count": null,
   "id": "ea600661-9b18-4ffb-982e-0ee20be02b50",
   "metadata": {},
   "outputs": [],
   "source": [
    "std_df"
   ]
  },
  {
   "cell_type": "code",
   "execution_count": null,
   "id": "9637f0d0-50b7-4a0f-babf-72165636a752",
   "metadata": {},
   "outputs": [],
   "source": [
    "df = std_df_ratios.iloc[:-1,:-1].rename(columns=rename_model).stack().reset_index().rename(columns={'level_0':'index','level_1':'Model',0:'Std. Dev. Ratio'})\n",
    "a = sns.stripplot(data=df, x=\"Model\", y=\"Std. Dev. Ratio\", hue=\"persona_cat\", marker=\"o\", palette=sns.color_palette(\"Paired\"), log_scale=True)\n",
    "a.axhline(1, linestyle='--')\n",
    "a.set_yscale('symlog')\n",
    "# ax.plot(theta, data.iloc[:,:-1].min(), color=\"green\")\n",
    "# ax.fill(theta, data.iloc[:,:-1].min(), alpha=0.25, label='_nolegend_', color=\"green\")\n",
    "# ax.plot(theta, data.iloc[:,:-1].max(), color=\"red\")\n",
    "# ax.fill(theta, data.iloc[:,:-1].max(), alpha=0.25, label='_nolegend_', color=\"red\")\n",
    "# add legend relative to top-left plot\n",
    "plt.xticks(rotation=45)\n",
    "sns.move_legend(a, \"upper left\", bbox_to_anchor=(1, 1))"
   ]
  },
  {
   "cell_type": "markdown",
   "id": "4d7b530a-af4d-4ccd-98d8-e88a5d77352f",
   "metadata": {},
   "source": [
    "### Correlations betwee tasks"
   ]
  },
  {
   "cell_type": "code",
   "execution_count": null,
   "id": "ba71fae4-d8ed-47c7-8f20-31fea04d6981",
   "metadata": {},
   "outputs": [],
   "source": [
    "truthfulqa_refusals_mean.corrwith(mmlu_refusals_mean, numeric_only=True).sort_values()"
   ]
  },
  {
   "cell_type": "code",
   "execution_count": null,
   "id": "11e38b75-a7a3-49d6-99f8-a3403eb40aa3",
   "metadata": {},
   "outputs": [],
   "source": [
    "truthfulqa_refusals_mean.corrwith(bbq_refusals_mean, numeric_only=True).sort_values()"
   ]
  },
  {
   "cell_type": "code",
   "execution_count": null,
   "id": "b59d0831-e02b-4d1d-8e29-b041ed9386f6",
   "metadata": {},
   "outputs": [],
   "source": [
    "mmlu_refusals_mean.corrwith(bbq_refusals_mean, numeric_only=True).sort_values()"
   ]
  },
  {
   "cell_type": "code",
   "execution_count": null,
   "id": "c3ec5911-51e7-45f4-9dfe-202d014cc468",
   "metadata": {},
   "outputs": [],
   "source": [
    "for group, df in refusals_avg.groupby(\"persona_cat\"):\n",
    "    corrs = df.corr(method=\"kendall\", numeric_only=True)\n",
    "    if corrs.to_numpy()[np.triu_indices(len(corrs), k = 1)].mean()>.5:\n",
    "        print(group, df.corr(method=\"kendall\", numeric_only=True))\n",
    "        df[\"avg\"] = df.mean(1, numeric_only=True)\n",
    "        print(df.sort_values(\"avg\"))\n",
    "        print(\"=========================\")"
   ]
  },
  {
   "cell_type": "code",
   "execution_count": null,
   "id": "a96d4330-f858-4d0d-a336-7daf9d72e603",
   "metadata": {},
   "outputs": [],
   "source": [
    "cat_means = refusals_avg.groupby(\"persona_cat\").mean()\n",
    "corrs = cat_means.corr(method=\"kendall\", numeric_only=True)\n",
    "if corrs.to_numpy()[np.triu_indices(len(corrs), k = 1)].mean()>.5:\n",
    "    cat_means[\"avg\"] = cat_means.mean(1, numeric_only=True)\n",
    "    print(cat_means.sort_values(\"avg\"))\n",
    "    print(\"=========================\")"
   ]
  },
  {
   "cell_type": "code",
   "execution_count": null,
   "id": "a60cd618-b40a-446c-a020-dc0f40d4154f",
   "metadata": {},
   "outputs": [],
   "source": [
    "refusals_by_model = {model: pd.concat([x[x.Model == model].set_index(\"index\")[\"Refused Fraction\"] for x in all_refusals_stacked[:6]], axis=1) for model in truthfulqa_refusals_mean.columns[:-2]}"
   ]
  },
  {
   "cell_type": "code",
   "execution_count": null,
   "id": "af93caf0-2802-48b7-b1b0-a3d1f2e474f7",
   "metadata": {},
   "outputs": [],
   "source": [
    "for model in refusals_by_model.keys():\n",
    "    refusals_by_model[model].columns = [\"attitudes\", \"toxicity\", \"racism\", \"truthfulqa\", \"mmlu\", \"bbq\"]\n",
    "    refusals_by_model[model][\"persona_cat\"] = [persona_cat_dict[persona] if persona in persona_cat_dict else \"control\" for persona in refusals_by_model[model].index]"
   ]
  },
  {
   "cell_type": "code",
   "execution_count": null,
   "id": "4f812a4f-b76a-4f00-b04a-6a75084559a0",
   "metadata": {
    "scrolled": true
   },
   "outputs": [],
   "source": [
    "for model, refusals in refusals_by_model.items():\n",
    "    for group, df in refusals.groupby(\"persona_cat\"):\n",
    "        corrs = df.corr(method=\"kendall\", numeric_only=True)\n",
    "        if corrs.to_numpy()[np.triu_indices(len(corrs), k = 1)].mean()>.5:\n",
    "            print(model)\n",
    "            print(group, df.corr(method=\"kendall\", numeric_only=True))\n",
    "            df[\"avg\"] = df.mean(1, numeric_only=True)\n",
    "            print(df.sort_values(\"avg\"))\n",
    "            print(\"=========================\")"
   ]
  },
  {
   "cell_type": "code",
   "execution_count": null,
   "id": "4eea2a60-5674-497e-ae70-8a4e01bd8558",
   "metadata": {},
   "outputs": [],
   "source": [
    "for model, refusals in refusals_by_model.items():\n",
    "    cat_means = refusals.groupby(\"persona_cat\").mean()\n",
    "    corrs = cat_means.corr(method=\"kendall\", numeric_only=True)\n",
    "    if corrs.to_numpy()[np.triu_indices(len(corrs), k = 1)].mean()>.5:\n",
    "        print(model)\n",
    "        cat_means[\"avg\"] = cat_means.mean(1, numeric_only=True)\n",
    "        print(cat_means.sort_values(\"avg\"))\n",
    "        print(\"=========================\")"
   ]
  },
  {
   "cell_type": "markdown",
   "id": "1a853c79-58b2-47ca-b66d-92a77e1724f0",
   "metadata": {},
   "source": [
    "### Aggregate figures"
   ]
  },
  {
   "cell_type": "markdown",
   "id": "b1546e9e-46cc-4678-9eba-f29e29693ba3",
   "metadata": {},
   "source": [
    "#### Performance"
   ]
  },
  {
   "cell_type": "code",
   "execution_count": null,
   "id": "a1775366-4a21-4618-87f8-e72dabbd8c37",
   "metadata": {},
   "outputs": [],
   "source": [
    "dfs = all_hits_stacked + [all_scores_avg_stacked]"
   ]
  },
  {
   "cell_type": "code",
   "execution_count": null,
   "id": "e5e48e76-34eb-497d-997f-00352ccb03cf",
   "metadata": {},
   "outputs": [],
   "source": [
    "y_titles=[df.columns[2] for df in dfs]"
   ]
  },
  {
   "cell_type": "code",
   "execution_count": null,
   "id": "03bd569c-e380-49a8-aff3-f18a7314cb19",
   "metadata": {},
   "outputs": [],
   "source": [
    "x_titles = [\"TruthfulQA\", \"MMLU\", \"BBQ\", \"Average\"]"
   ]
  },
  {
   "cell_type": "code",
   "execution_count": null,
   "id": "8f7ae085-5e41-430f-a77c-1e60c9fff926",
   "metadata": {},
   "outputs": [],
   "source": [
    "fig, axes = plt.subplots(2, 2, figsize=(8, 8), sharex=True, sharey=True)\n",
    "plt.subplots_adjust(wspace=.05, hspace=.11)\n",
    "for idx, df in enumerate(dfs):\n",
    "    no_control = df[~df[\"persona_cat\"].isin([\"control\", \"empty\"])]\n",
    "    only_control =  df[df[\"persona_cat\"] == \"control\"]\n",
    "    only_empty = df[df[\"persona_cat\"] == \"empty\"]\n",
    "    ax = axes[idx//2,idx%2]\n",
    "    # ax, fix = plt.subplot(1, 1, figsize=(4,4))\n",
    "    ax1 = sns.stripplot(data=no_control, x=\"Model\", y=y_titles[idx], hue=\"persona_cat\", marker=\"o\", palette=sns.color_palette(\"Paired\"), ax=ax)\n",
    "    offset = lambda p: transforms.ScaledTranslation(p/72.,0, plt.gcf().dpi_scale_trans)\n",
    "    trans = ax.transData\n",
    "    ax2 = sns.stripplot(data=only_control, x=\"Model\", y=y_titles[idx], color=\"black\", marker=\"X\", transform=trans+offset(10), ax=ax)\n",
    "    ax3 = sns.stripplot(data=only_empty, x=\"Model\", y=y_titles[idx], color=\"red\", marker=\"*\", size=10, transform=trans+offset(-10), ax=ax)\n",
    "    control_handle = Line2D([], [], color=\"black\", marker=\"X\", label=\"control\", linestyle=\"None\")\n",
    "    control_label = \"control\"\n",
    "    empty_handle = Line2D([], [], color=\"red\", marker=\"*\", label=\"empty\", linestyle=\"None\")\n",
    "    empty_label = \"empty\"\n",
    "    ax.get_legend().set_visible(False)\n",
    "    # if idx//2 == 1: ax.set_xlabel(plot_x_titles[idx%2])\n",
    "    # ax.set_ylabel(plot_y_titles[idx//2]) if idx %2 == 0 else ax.set_ylabel(\"\")\n",
    "    ax.set_title(x_titles[idx])\n",
    "    ax.set_xlabel(\"\")\n",
    "    ax.set_ylabel(\"\")\n",
    "    ax.tick_params(axis='x', labelrotation=45)\n",
    "handles, labels = ax1.get_legend_handles_labels()\n",
    "handles = handles + [control_handle, empty_handle]\n",
    "labels = labels + [control_label, empty_label]\n",
    "fig.legend(handles, labels, loc='upper center', bbox_to_anchor=(0.5, +1.05),\n",
    "          fancybox=True, shadow=True, ncol=4)"
   ]
  },
  {
   "cell_type": "code",
   "execution_count": null,
   "id": "dd9c5794-7938-48e0-9505-db70ae3e95be",
   "metadata": {},
   "outputs": [],
   "source": [
    "# fig, axes = plt.subplots(1, 4, figsize=(16, 4), sharex=True, sharey=True)\n",
    "# plt.subplots_adjust(wspace=.15, hspace=.1)\n",
    "# for idx, df in enumerate(dfs):\n",
    "#     no_control = df[~df[\"persona_cat\"].isin([\"control\", \"empty\"])]\n",
    "#     only_control =  df[df[\"persona_cat\"] == \"control\"]\n",
    "#     only_empty = df[df[\"persona_cat\"] == \"empty\"]\n",
    "#     ax = axes[idx]\n",
    "#     # ax, fix = plt.subplot(1, 1, figsize=(4,4))\n",
    "#     ax1 = sns.stripplot(data=no_control, x=\"Model\", y=y_titles[idx], hue=\"persona_cat\", marker=\"o\", palette=sns.color_palette(\"Paired\"), ax=ax)\n",
    "#     offset = lambda p: transforms.ScaledTranslation(p/72.,0, plt.gcf().dpi_scale_trans)\n",
    "#     trans = ax.transData\n",
    "#     ax2 = sns.stripplot(data=only_control, x=\"Model\", y=y_titles[idx], color=\"black\", marker=\"X\", transform=trans+offset(10), ax=ax)\n",
    "#     ax3 = sns.stripplot(data=only_empty, x=\"Model\", y=y_titles[idx], color=\"red\", marker=\"*\", size=10, transform=trans+offset(-10), ax=ax)\n",
    "#     control_handle = Line2D([], [], color=\"black\", marker=\"X\", label=\"control\", linestyle=\"None\")\n",
    "#     control_label = \"control\"\n",
    "#     empty_handle = Line2D([], [], color=\"red\", marker=\"*\", label=\"empty\", linestyle=\"None\")\n",
    "#     empty_label = \"empty\"\n",
    "#     ax.get_legend().set_visible(False)\n",
    "#     ax.set_xlabel(x_titles[idx])\n",
    "#     ax.set_ylabel(\"\")\n",
    "#     ax.tick_params(axis='x', labelrotation=45)\n",
    "# handles, labels = ax1.get_legend_handles_labels()\n",
    "# handles = handles + [control_handle, empty_handle]\n",
    "# labels = labels + [control_label, empty_label]\n",
    "# fig.legend(handles, labels, loc='upper center', bbox_to_anchor=(0.5, +1.05),\n",
    "#           fancybox=True, shadow=True, ncol=7)"
   ]
  },
  {
   "cell_type": "code",
   "execution_count": null,
   "id": "48936bc8-187e-4760-ae27-f2c08dd49b95",
   "metadata": {},
   "outputs": [],
   "source": [
    "fig.savefig(\"../persona-biases-paper/media/performance.pdf\",bbox_inches=\"tight\")"
   ]
  },
  {
   "cell_type": "markdown",
   "id": "de9f530c-deda-41c9-8eba-7db1245daa91",
   "metadata": {},
   "source": [
    "##### Persona cat vs control"
   ]
  },
  {
   "cell_type": "code",
   "execution_count": null,
   "id": "0c300db9-82df-49dd-a863-15bc5197cd38",
   "metadata": {},
   "outputs": [],
   "source": [
    "avg_scores_cat = all_scores_avg_stacked.groupby([\"persona_cat\", \"Model\"]).mean(numeric_only=True).reset_index().pivot(columns=\"Model\", values=\"Avg. Accuracy\", index=\"persona_cat\")\n",
    "avg_scores_cat = avg_scores_cat[rename_model.values()]"
   ]
  },
  {
   "cell_type": "code",
   "execution_count": null,
   "id": "c1fe3288-8c2a-4082-8103-50284d2d331f",
   "metadata": {},
   "outputs": [],
   "source": [
    "avg_scores_cat[\"Avg.\"] = avg_scores_cat.mean(1)"
   ]
  },
  {
   "cell_type": "code",
   "execution_count": null,
   "id": "b587359b-36d3-45cf-b362-447f734dcf5d",
   "metadata": {},
   "outputs": [],
   "source": [
    "fig, axes = plt.subplots(2, 4, figsize=(16, 8), sharex=True)\n",
    "plt.subplots_adjust(wspace=.2, hspace=.15)\n",
    "for idx, col in enumerate(avg_scores_cat.columns):\n",
    "    order = avg_scores_cat.loc[[x for x in avg_scores_cat.index if x not in [\"empty\", \"control\"]]].sort_values(\"Avg.\").index\n",
    "    df = avg_scores_cat.loc[order][col]\n",
    "    ax = axes[idx//4,idx%4]\n",
    " # ax, fix = plt.subplot(1, 1, figsize=(4,4))\n",
    "    sns.barplot(data=df, ax=ax)\n",
    "    ax.axhline(avg_scores_cat.loc[\"empty\"][col], linestyle='--', color=\"red\")\n",
    "    ax.axhline(avg_scores_cat.loc[\"control\"][col], linestyle='--', color=\"black\")\n",
    "    ax.set_title(col)\n",
    "    ax.set_ylabel(\"Avg. Accuracy\") if idx%4 == 0 else ax.set_ylabel(\"\")\n",
    "    ax.set_xlabel(\"\")\n",
    "    ax.set_ylim((avg_scores_cat[col].min()-0.005*avg_scores_cat[col].min(), avg_scores_cat[col].max()+.005*avg_scores_cat[col].max()))\n",
    "    ax.tick_params(axis='x', labelrotation=90)\n",
    "control_handle = Line2D([], [], color=\"black\", marker=\"\", label=\"control\", linestyle=\"--\")\n",
    "control_label = \"control\"\n",
    "empty_handle = Line2D([], [], color=\"red\", marker=\"\", label=\"empty\", linestyle=\"--\")\n",
    "empty_label = \"empty\"\n",
    "handles = [control_handle, empty_handle]\n",
    "labels = [control_label, empty_label]\n",
    "fig.legend(handles, labels, loc='upper center', bbox_to_anchor=(0.5, +.95),\n",
    "          fancybox=True, shadow=True, ncol=2)"
   ]
  },
  {
   "cell_type": "code",
   "execution_count": null,
   "id": "bee66526-bef2-4189-afca-b20e4957630c",
   "metadata": {},
   "outputs": [],
   "source": [
    "fig.savefig(\"../persona-biases-paper/media/performance_by_cat.pdf\",bbox_inches=\"tight\")"
   ]
  },
  {
   "cell_type": "code",
   "execution_count": null,
   "id": "cfd0bedc-aa96-4b86-b9c4-9197c1bd4a3e",
   "metadata": {},
   "outputs": [],
   "source": [
    "len(performance_std_dfs)"
   ]
  },
  {
   "cell_type": "code",
   "execution_count": null,
   "id": "9f0cd7f6-ff96-4a2e-a532-ba02cf4edc02",
   "metadata": {},
   "outputs": [],
   "source": [
    "performance_std_dfs.append(pd.concat(performance_std_dfs).groupby(\"persona_cat\").mean(0).loc[[x for x in performance_std_dfs[0].index]])"
   ]
  },
  {
   "cell_type": "code",
   "execution_count": null,
   "id": "793371a6-9c15-4347-b1c5-9bf5cc532990",
   "metadata": {},
   "outputs": [],
   "source": [
    "performance_std_dfs[-1]"
   ]
  },
  {
   "cell_type": "code",
   "execution_count": null,
   "id": "4c62b2d6-42fd-4df8-a2db-47e996c454c1",
   "metadata": {},
   "outputs": [],
   "source": [
    "x_titles = [\"TruthfulQA\", \"MMLU\", \"BBQ\", \"Average\"]"
   ]
  },
  {
   "cell_type": "code",
   "execution_count": null,
   "id": "59b7f166-f67f-4aab-b525-ad6777d3852f",
   "metadata": {},
   "outputs": [],
   "source": [
    "fig, axes = plt.subplots(1, 4, figsize=(16, 4), sharex=True, sharey=True)\n",
    "plt.subplots_adjust(wspace=.2, hspace=.1)\n",
    "for idx, df in enumerate(performance_std_dfs):\n",
    "    df = df.iloc[1:]/df.iloc[0]\n",
    "    df =df.rename(columns=rename_model).stack().reset_index().rename(columns={'level_0':'index','level_1':'Model',0:'Std. Dev. Ratio'})\n",
    "    ax = axes[idx]\n",
    " # ax, fix = plt.subplot(1, 1, figsize=(4,4))\n",
    "    ax1 = sns.stripplot(data=df, x=\"Model\", y=\"Std. Dev. Ratio\", hue=\"persona_cat\", marker=\"o\", palette=sns.color_palette(\"Paired\"), ax=ax)\n",
    "    ax.axhline(1, linestyle='--')\n",
    "    ax.set_yscale('symlog')\n",
    "    ax.get_legend().set_visible(False)\n",
    "    ax.set_xlabel(x_titles[idx])\n",
    "    ax.set_ylabel(\"\")\n",
    "    ax.tick_params(axis='x', labelrotation=45)\n",
    "handles, labels = ax1.get_legend_handles_labels()\n",
    "fig.legend(handles, labels, loc='upper center', bbox_to_anchor=(0.5, +1.05),\n",
    "          fancybox=True, shadow=True, ncol=7)"
   ]
  },
  {
   "cell_type": "code",
   "execution_count": null,
   "id": "8f55c393-3cfb-4837-84c2-0393050ebcc2",
   "metadata": {},
   "outputs": [],
   "source": [
    "fig.savefig(\"../persona-biases-paper/media/performance_std.pdf\",bbox_inches=\"tight\")"
   ]
  },
  {
   "cell_type": "markdown",
   "id": "ee993588-d604-4eb4-a706-034176f2021d",
   "metadata": {},
   "source": [
    "#### refusals"
   ]
  },
  {
   "cell_type": "code",
   "execution_count": null,
   "id": "7a6b164d-fc4a-4867-844c-3ac674cf8d43",
   "metadata": {},
   "outputs": [],
   "source": [
    "all_refusals_stacked[-1] = all_refusals_stacked[-1].set_index([\"index\", \"Model\"]).loc[all_refusals_stacked[0].set_index([\"index\", \"Model\"]).index].reset_index()"
   ]
  },
  {
   "cell_type": "code",
   "execution_count": null,
   "id": "2bfa4891-1271-40f7-b472-b5bd17e810fa",
   "metadata": {},
   "outputs": [],
   "source": [
    "no_control = all_refusals_stacked[-1][~all_refusals_stacked[-1][\"persona_cat\"].isin([\"control\", \"empty\"])]\n",
    "only_control =  all_refusals_stacked[-1][all_refusals_stacked[-1][\"persona_cat\"] == \"control\"]\n",
    "only_empty = all_refusals_stacked[-1][all_refusals_stacked[-1][\"persona_cat\"] == \"empty\"]\n",
    "# ax, fix = plt.subplot(1, 1, figsize=(4,4))\n",
    "ax1 = sns.stripplot(data=no_control, x=\"Model\", y=\"Refused Fraction\", hue=\"persona_cat\", marker=\"o\", palette=sns.color_palette(\"Paired\"))\n",
    "offset = lambda p: transforms.ScaledTranslation(p/72.,0, plt.gcf().dpi_scale_trans)\n",
    "trans = plt.gca().transData\n",
    "ax2 = sns.stripplot(data=only_control, x=\"Model\", y=\"Refused Fraction\", color=\"black\", marker=\"X\", transform=trans+offset(15))\n",
    "ax3 = sns.stripplot(data=only_empty, x=\"Model\", y=\"Refused Fraction\", color=\"red\", marker=\"*\", size=10, transform=trans+offset(-15))\n",
    "plt.xticks(rotation=45)\n",
    "control_handle = Line2D([], [], color=\"black\", marker=\"X\", label=\"control\", linestyle=\"None\")\n",
    "control_label = \"control\"\n",
    "empty_handle = Line2D([], [], color=\"red\", marker=\"*\", label=\"empty\", linestyle=\"None\")\n",
    "empty_label = \"empty\"\n",
    "handles, labels = ax1.get_legend_handles_labels()\n",
    "ax1.legend(handles + [control_handle, empty_handle], labels + [control_label, empty_label], title=\"Persona category\")\n",
    "ax1.set_xlabel(\"\")\n",
    "sns.move_legend(ax1, \"upper left\", bbox_to_anchor=(1, 1))"
   ]
  },
  {
   "cell_type": "code",
   "execution_count": null,
   "id": "036476b1-73a4-419c-a5da-89660216311f",
   "metadata": {},
   "outputs": [],
   "source": [
    "ax1.get_figure().savefig(\"../persona-biases-paper/media/refusals.pdf\",bbox_inches=\"tight\")"
   ]
  },
  {
   "cell_type": "code",
   "execution_count": null,
   "id": "bb654e91-d42c-4baa-b787-c21f600d842d",
   "metadata": {
    "scrolled": true
   },
   "outputs": [],
   "source": [
    "dfs = all_refusals_stacked[:-1]"
   ]
  },
  {
   "cell_type": "code",
   "execution_count": null,
   "id": "52e11760-de18-47d6-aebb-7564cca8eace",
   "metadata": {},
   "outputs": [],
   "source": [
    "# dfs[-1] = dfs[-1].set_index([\"index\", \"Model\"]).loc[dfs[0].set_index([\"index\", \"Model\"]).index].reset_index()"
   ]
  },
  {
   "cell_type": "code",
   "execution_count": null,
   "id": "9b28a7a6-a627-411e-890d-9864ed1aaaed",
   "metadata": {},
   "outputs": [],
   "source": [
    "x_titles = [\"Attitudes\", \"Offensiveness\", \"Racism\", \"TruthfulQA\", \"MMLU\", \"BBQ\"]"
   ]
  },
  {
   "cell_type": "code",
   "execution_count": null,
   "id": "e2b94ce9-e56f-4e00-8145-b08bce9b2643",
   "metadata": {},
   "outputs": [],
   "source": [
    "fig, axes = plt.subplots(1, 6, figsize=(24, 4), sharex=True)\n",
    "plt.subplots_adjust(wspace=.2, hspace=.11)\n",
    "for idx, df in enumerate(dfs):\n",
    "    no_control = df[~df[\"persona_cat\"].isin([\"control\", \"empty\"])]\n",
    "    only_control =  df[df[\"persona_cat\"] == \"control\"]\n",
    "    only_empty = df[df[\"persona_cat\"] == \"empty\"]\n",
    "    # ax = axes[idx//3,idx%3]\n",
    "    ax = axes[idx]\n",
    "    # ax, fix = plt.subplot(1, 1, figsize=(4,4))\n",
    "    ax1 = sns.stripplot(data=no_control, x=\"Model\", y=\"Refused Fraction\", hue=\"persona_cat\", marker=\"o\", palette=sns.color_palette(\"Paired\"), ax=ax)\n",
    "    offset = lambda p: transforms.ScaledTranslation(p/72.,0, plt.gcf().dpi_scale_trans)\n",
    "    trans = ax.transData\n",
    "    ax2 = sns.stripplot(data=only_control, x=\"Model\", y=\"Refused Fraction\", color=\"black\", marker=\"X\", transform=trans+offset(10), ax=ax)\n",
    "    ax3 = sns.stripplot(data=only_empty, x=\"Model\", y=\"Refused Fraction\", color=\"red\", marker=\"*\", size=10, transform=trans+offset(-10), ax=ax)\n",
    "    control_handle = Line2D([], [], color=\"black\", marker=\"X\", label=\"control\", linestyle=\"None\")\n",
    "    control_label = \"control\"\n",
    "    empty_handle = Line2D([], [], color=\"red\", marker=\"*\", label=\"empty\", linestyle=\"None\")\n",
    "    empty_label = \"empty\"\n",
    "    ax.get_legend().set_visible(False)\n",
    "    ax.set_title(x_titles[idx])\n",
    "    # if idx%6 != 0: ax.set_ylabel(\"\")\n",
    "    if idx != 0: ax.set_ylabel(\"\")\n",
    "    ax.set_xlabel(\"\")\n",
    "    ax.tick_params(axis='x', labelrotation=45)\n",
    "handles, labels = ax1.get_legend_handles_labels()\n",
    "handles = handles + [control_handle, empty_handle]\n",
    "labels = labels + [control_label, empty_label]\n",
    "# fig.delaxes(axes[1][3])\n",
    "fig.legend(handles, labels, loc='upper center', bbox_to_anchor=(0.5, +1.03),\n",
    "          fancybox=True, shadow=True, ncol=14)"
   ]
  },
  {
   "cell_type": "code",
   "execution_count": null,
   "id": "979028b1-5147-4498-8794-ad877d3688f0",
   "metadata": {},
   "outputs": [],
   "source": [
    "fig.savefig(\"../persona-biases-paper/media/all_refusals.pdf\",bbox_inches=\"tight\")"
   ]
  },
  {
   "cell_type": "code",
   "execution_count": null,
   "id": "d1689e79-cd56-45af-b688-41e96fcb8ebf",
   "metadata": {},
   "outputs": [],
   "source": [
    "all_refusals = all_refusals_stacked[-1].pivot(index=\"index\", columns=[\"Model\"], values=\"Refused Fraction\")"
   ]
  },
  {
   "cell_type": "code",
   "execution_count": null,
   "id": "4b492bf5-35f7-4967-ad31-c76a8f8aa5bf",
   "metadata": {},
   "outputs": [],
   "source": [
    "all_refusals[\"persona_cat\"] = [persona_cat_dict[persona] if persona in persona_cat_dict else \"control\" for persona in all_refusals.index]"
   ]
  },
  {
   "cell_type": "code",
   "execution_count": null,
   "id": "1e972eb7-cc62-43c5-901a-aba2c38a3f70",
   "metadata": {},
   "outputs": [],
   "source": [
    "all_refusals[\"avg\"] = all_refusals.mean(1, numeric_only=True)"
   ]
  },
  {
   "cell_type": "code",
   "execution_count": null,
   "id": "bbabdd49-ed03-4923-a48f-9ba54f91efe5",
   "metadata": {},
   "outputs": [],
   "source": [
    "corr = all_refusals[all_refusals.persona_cat == \"profession_specific\"].iloc[:,:-1].corr(numeric_only=True, method=\"kendall\"); corr"
   ]
  },
  {
   "cell_type": "code",
   "execution_count": null,
   "id": "053be2a9-b6cb-40da-bde3-6266bd97f15a",
   "metadata": {},
   "outputs": [],
   "source": [
    "corr.to_numpy()[np.triu_indices(len(corr), k = 1)].mean()"
   ]
  },
  {
   "cell_type": "code",
   "execution_count": null,
   "id": "3e9e982e-d1a7-4127-a2a2-cb4b38beeb77",
   "metadata": {},
   "outputs": [],
   "source": [
    "all_refusals[all_refusals.persona_cat == \"profession_specific\"].idxmax()"
   ]
  },
  {
   "cell_type": "code",
   "execution_count": null,
   "id": "d1f74008-188f-40ff-aef5-8e98b18189b5",
   "metadata": {},
   "outputs": [],
   "source": [
    "all_refusals[all_refusals.persona_cat == \"profession_specific\"].idxmin()"
   ]
  },
  {
   "cell_type": "code",
   "execution_count": null,
   "id": "33edf640-cfcf-40c1-9969-d3d9cd56fb43",
   "metadata": {},
   "outputs": [],
   "source": [
    "all_refusals[all_refusals.persona_cat == \"profession_specific\"].sort_values(\"avg\").rank()"
   ]
  },
  {
   "cell_type": "code",
   "execution_count": null,
   "id": "62d8fb19-e3be-43cd-9e19-37f4b193d9e3",
   "metadata": {},
   "outputs": [],
   "source": [
    "all_refusals[all_refusals.persona_cat == \"profession_specific\"].rank().iloc[:,:-2].mean(1).sort_values()"
   ]
  },
  {
   "cell_type": "code",
   "execution_count": null,
   "id": "76d76014-f2d3-4ed6-9907-34b6dc0a2091",
   "metadata": {},
   "outputs": [],
   "source": [
    "all_refusals[all_refusals.persona_cat == \"profession_specific\"].sort_values(\"avg\")[\"avg\"].plot(kind=\"bar\")"
   ]
  },
  {
   "cell_type": "code",
   "execution_count": null,
   "id": "410ac13f-b5d1-4518-a083-66b36f94c006",
   "metadata": {},
   "outputs": [],
   "source": [
    "all_refusals[all_refusals.persona_cat == \"profession_specific\"].sort_values(\"GPT-3.5\").tail(5)"
   ]
  },
  {
   "cell_type": "code",
   "execution_count": null,
   "id": "d188acad-994e-498f-bc4b-febd9f5abe7b",
   "metadata": {},
   "outputs": [],
   "source": [
    "all_refusals[all_refusals.persona_cat == \"profession_specific\"].sort_values(\"GPT-4\").tail(5)"
   ]
  },
  {
   "cell_type": "code",
   "execution_count": null,
   "id": "77bc7d5d-97f3-44b1-8f2d-d7e43ecbc494",
   "metadata": {},
   "outputs": [],
   "source": [
    "all_refusals[all_refusals.persona_cat == \"profession_specific\"].sort_values(\"Gemma-2b-inst\").head(1)"
   ]
  },
  {
   "cell_type": "code",
   "execution_count": null,
   "id": "d1a6e1d8-c2dd-4370-8a4b-93404e2fc59d",
   "metadata": {},
   "outputs": [],
   "source": [
    "all_refusals[all_refusals.persona_cat == \"profession_specific\"].sort_values(\"Gemma-7b-inst\").tail(1)"
   ]
  },
  {
   "cell_type": "code",
   "execution_count": null,
   "id": "9dea316e-5d36-4786-b083-6698118e7e67",
   "metadata": {},
   "outputs": [],
   "source": [
    "all_refusals[all_refusals.persona_cat == \"profession_specific\"].sort_values(\"Mistral-inst\").tail(3)"
   ]
  },
  {
   "cell_type": "code",
   "execution_count": null,
   "id": "2c2d54df-7138-449c-be60-61638e2b4fcc",
   "metadata": {},
   "outputs": [],
   "source": [
    "all_refusals[all_refusals.persona_cat == \"profession_specific\"].sort_values(\"Mixtral\").tail(2)"
   ]
  },
  {
   "cell_type": "code",
   "execution_count": null,
   "id": "9bd3203a-35b1-43ce-8282-7ce396b2e11f",
   "metadata": {},
   "outputs": [],
   "source": [
    "all_refusals[all_refusals.persona_cat == \"profession_specific\"].boxplot()"
   ]
  },
  {
   "cell_type": "code",
   "execution_count": null,
   "id": "736efe76-7664-4fd5-a705-c3fd197bd53e",
   "metadata": {
    "scrolled": true
   },
   "outputs": [],
   "source": [
    "all_refusals[all_refusals.persona_cat == \"profession_specific\"].sort_values(\"avg\")"
   ]
  },
  {
   "cell_type": "code",
   "execution_count": null,
   "id": "389194db-7d21-43ac-93eb-995df941e805",
   "metadata": {},
   "outputs": [],
   "source": [
    "all_refusals[all_refusals.persona_cat == \"profession_specific\"].sort_values(\"avg\")[\"avg\"].plot(kind=\"bar\")"
   ]
  },
  {
   "cell_type": "code",
   "execution_count": null,
   "id": "7b36abcb-40f7-4cf1-b648-d016731a1f3c",
   "metadata": {},
   "outputs": [],
   "source": [
    "corr = all_refusals[all_refusals.persona_cat == \"ideology\"].iloc[:,:-1].corr(numeric_only=True, method=\"kendall\"); corr"
   ]
  },
  {
   "cell_type": "code",
   "execution_count": null,
   "id": "44cb39af-0bbe-4b44-a86e-2c74f0ed496a",
   "metadata": {},
   "outputs": [],
   "source": [
    "corr.to_numpy()[np.triu_indices(len(corr), k = 1)].mean()"
   ]
  },
  {
   "cell_type": "code",
   "execution_count": null,
   "id": "13ce7671-ef31-45b6-a625-85a89c13685c",
   "metadata": {},
   "outputs": [],
   "source": [
    "all_refusals[all_refusals.persona_cat == \"ideology\"].idxmax()"
   ]
  },
  {
   "cell_type": "code",
   "execution_count": null,
   "id": "9bf0660e-229c-47a0-ad38-0f16a40f7b30",
   "metadata": {},
   "outputs": [],
   "source": [
    "all_refusals[all_refusals.persona_cat == \"ideology\"].idxmin()"
   ]
  },
  {
   "cell_type": "code",
   "execution_count": null,
   "id": "b5043ad2-ea73-4b20-b4b7-e8dfb6c15a90",
   "metadata": {},
   "outputs": [],
   "source": [
    "all_refusals[all_refusals.persona_cat == \"ideology\"].sort_values(\"avg\").rank()"
   ]
  },
  {
   "cell_type": "code",
   "execution_count": null,
   "id": "7e2d723a-5010-4fdb-8b6b-85e8cb450b36",
   "metadata": {},
   "outputs": [],
   "source": [
    "all_refusals[all_refusals.persona_cat == \"ideology\"].sort_values(\"avg\").rank().iloc[:,:-2].mean(1)"
   ]
  },
  {
   "cell_type": "code",
   "execution_count": null,
   "id": "10c07782-adb1-4c9b-a4ef-21f2b9582a95",
   "metadata": {},
   "outputs": [],
   "source": [
    "all_refusals[all_refusals.persona_cat == \"ideology\"].sort_values(\"avg\")"
   ]
  },
  {
   "cell_type": "code",
   "execution_count": null,
   "id": "c3bdf068-82a9-42f2-ba04-145758391b0b",
   "metadata": {},
   "outputs": [],
   "source": [
    "corr = all_refusals[all_refusals.persona_cat == \"political_figure\"].iloc[:,:-1].corr(numeric_only=True, method=\"kendall\"); corr"
   ]
  },
  {
   "cell_type": "code",
   "execution_count": null,
   "id": "b3305680-f5c7-4b75-9d61-316a7635cc97",
   "metadata": {},
   "outputs": [],
   "source": [
    "corr.to_numpy()[np.triu_indices(len(corr), k = 1)].mean()"
   ]
  },
  {
   "cell_type": "code",
   "execution_count": null,
   "id": "2abc0a76-67cf-43da-89fa-34f6e19188f7",
   "metadata": {},
   "outputs": [],
   "source": [
    "all_refusals[all_refusals.persona_cat == \"political_figure\"].sort_values(\"avg\")"
   ]
  },
  {
   "cell_type": "code",
   "execution_count": null,
   "id": "6cc023c5-a08d-4202-8cb9-4df58c06ad4f",
   "metadata": {},
   "outputs": [],
   "source": [
    "all_refusals[all_refusals.persona_cat == \"race\"].iloc[:,:-1].corr(numeric_only=True, method=\"kendall\")"
   ]
  },
  {
   "cell_type": "code",
   "execution_count": null,
   "id": "17e1972b-4fb8-42f4-8b9b-aadd7a37be1d",
   "metadata": {},
   "outputs": [],
   "source": [
    "all_refusals[all_refusals.persona_cat == \"race\"].idxmax()"
   ]
  },
  {
   "cell_type": "code",
   "execution_count": null,
   "id": "279c40bc-b01e-4126-a416-9fccecc786d7",
   "metadata": {},
   "outputs": [],
   "source": [
    "all_refusals[all_refusals.persona_cat == \"race\"].idxmin()"
   ]
  },
  {
   "cell_type": "code",
   "execution_count": null,
   "id": "579f791c-e5f8-471b-917f-cf7fe22b3497",
   "metadata": {},
   "outputs": [],
   "source": [
    "all_refusals[all_refusals.persona_cat == \"race\"].sort_values(\"avg\").rank()"
   ]
  },
  {
   "cell_type": "code",
   "execution_count": null,
   "id": "bbf82a92-8a03-42b7-95b8-275a3579ebe3",
   "metadata": {},
   "outputs": [],
   "source": [
    "all_refusals[all_refusals.persona_cat == \"race\"].sort_values(\"avg\").rank().iloc[:,:-2].mean(1)"
   ]
  },
  {
   "cell_type": "code",
   "execution_count": null,
   "id": "c38381c0-b5f7-4c7e-9900-7ac15842a11a",
   "metadata": {},
   "outputs": [],
   "source": [
    "all_refusals[all_refusals.persona_cat == \"race\"].sort_values(\"avg\")"
   ]
  },
  {
   "cell_type": "code",
   "execution_count": null,
   "id": "def9ede4-d396-4325-9b38-91b1f09a8663",
   "metadata": {},
   "outputs": [],
   "source": [
    "all_refusals[all_refusals.persona_cat == \"sexuality\"].iloc[:,:-1].corr(numeric_only=True, method=\"kendall\")"
   ]
  },
  {
   "cell_type": "code",
   "execution_count": null,
   "id": "e179a9d8-8714-4bb3-aaa5-95b93ebda5a3",
   "metadata": {},
   "outputs": [],
   "source": [
    "all_refusals[all_refusals.persona_cat == \"sexuality\"].idxmax()"
   ]
  },
  {
   "cell_type": "code",
   "execution_count": null,
   "id": "d9ea4278-ed28-4b99-a5d5-6b73efab5f2f",
   "metadata": {},
   "outputs": [],
   "source": [
    "all_refusals[all_refusals.persona_cat == \"sexuality\"].idxmin()"
   ]
  },
  {
   "cell_type": "code",
   "execution_count": null,
   "id": "95435eac-f498-4207-9208-85f83d388f34",
   "metadata": {},
   "outputs": [],
   "source": [
    "all_refusals[all_refusals.persona_cat == \"sexuality\"].sort_values(\"avg\").rank()"
   ]
  },
  {
   "cell_type": "code",
   "execution_count": null,
   "id": "cc6d9b56-2afe-4c95-bcbe-2578389935e8",
   "metadata": {},
   "outputs": [],
   "source": [
    "all_refusals[all_refusals.persona_cat == \"sexuality\"].sort_values(\"avg\").rank().iloc[:,:-2].mean(1)"
   ]
  },
  {
   "cell_type": "code",
   "execution_count": null,
   "id": "34080ef9-fd78-4d45-a1cc-3b79538384fb",
   "metadata": {},
   "outputs": [],
   "source": [
    "all_refusals[all_refusals.persona_cat == \"sexuality\"].sort_values(\"avg\")"
   ]
  },
  {
   "cell_type": "code",
   "execution_count": null,
   "id": "cb9b9e17-9f2b-4ae4-ad0d-d9b2c4ae1254",
   "metadata": {},
   "outputs": [],
   "source": [
    "(all_refusals.loc[\"a_gay_person\"].iloc[:-2] - all_refusals.loc[\"a_homosexual_person\"].iloc[:-2] )"
   ]
  },
  {
   "cell_type": "code",
   "execution_count": null,
   "id": "92e24127-9271-4719-9004-a6a5d99ab040",
   "metadata": {},
   "outputs": [],
   "source": [
    "(all_refusals.loc[\"a_black_person\"].iloc[:-2] - all_refusals.loc[\"an_african_american_person\"].iloc[:-2] ) "
   ]
  },
  {
   "cell_type": "code",
   "execution_count": null,
   "id": "2d8235ee-6abb-492d-8bac-a3cc5136921e",
   "metadata": {},
   "outputs": [],
   "source": [
    "all_refusals.loc[\"a_black_person\"], all_refusals.loc[\"an_african_american_person\"].iloc[:-2] "
   ]
  },
  {
   "cell_type": "markdown",
   "id": "0e1e8557-f959-4fa4-a3e5-04b8558c655e",
   "metadata": {},
   "source": [
    "##### Persona cat x Control personas"
   ]
  },
  {
   "cell_type": "code",
   "execution_count": null,
   "id": "8f5a5a8a-99d8-463f-8587-2ab819f6e810",
   "metadata": {},
   "outputs": [],
   "source": [
    "len(refusal_std_dfs)"
   ]
  },
  {
   "cell_type": "code",
   "execution_count": null,
   "id": "7cde9f73-bc06-4b60-83bc-283e44318e37",
   "metadata": {},
   "outputs": [],
   "source": [
    "refusal_std_dfs[0]"
   ]
  },
  {
   "cell_type": "code",
   "execution_count": null,
   "id": "1b373677-0afb-4c0c-8e5f-85f9876004a7",
   "metadata": {},
   "outputs": [],
   "source": [
    "refusal_std_dfs.append(pd.concat(refusal_std_dfs).groupby(\"persona_cat\").mean(0).loc[[x for x in refusal_std_dfs[0].index]])"
   ]
  },
  {
   "cell_type": "code",
   "execution_count": null,
   "id": "8eec818b-c836-4c26-8786-e453c3876f57",
   "metadata": {},
   "outputs": [],
   "source": [
    "refusal_std_dfs[-1]"
   ]
  },
  {
   "cell_type": "code",
   "execution_count": null,
   "id": "501065b7-7a67-4727-be4f-d477be9b8783",
   "metadata": {},
   "outputs": [],
   "source": [
    "x_titles = [\"Attitudes\", \"Offensiveness\", \"Racism\", \"TruthfulQA\", \"MMLU\", \"BBQ\", \"Average\"]"
   ]
  },
  {
   "cell_type": "code",
   "execution_count": null,
   "id": "565c96c4-7a92-4467-9b8b-57fb51464c0b",
   "metadata": {},
   "outputs": [],
   "source": [
    "fig, axes = plt.subplots(2, 4, figsize=(16, 8), sharex=True, sharey=True)\n",
    "plt.subplots_adjust(wspace=.2, hspace=.1)\n",
    "for idx, df in enumerate(refusal_std_dfs):\n",
    "    df = df.iloc[1:]/df.iloc[0]\n",
    "    df =df.rename(columns=rename_model).stack().reset_index().rename(columns={'level_0':'index','level_1':'Model',0:'Std. Dev. Ratio'})\n",
    "    ax = axes[idx//4,idx%4]\n",
    " # ax, fix = plt.subplot(1, 1, figsize=(4,4))\n",
    "    ax1 = sns.stripplot(data=df, x=\"Model\", y=\"Std. Dev. Ratio\", hue=\"persona_cat\", marker=\"o\", palette=sns.color_palette(\"Paired\"), ax=ax)\n",
    "    ax.axhline(1, linestyle='--')\n",
    "    ax.set_yscale('symlog')\n",
    "    ax.get_legend().set_visible(False)\n",
    "    ax.set_title(x_titles[idx])\n",
    "    ax.set_xlabel(\"\")\n",
    "    ax.tick_params(axis='x', labelrotation=45)\n",
    "fig.delaxes(axes[1][3])\n",
    "handles, labels = ax1.get_legend_handles_labels()\n",
    "fig.legend(handles, labels, loc='upper left', bbox_to_anchor=(0.72, 0.49),\n",
    "          fancybox=True, shadow=True, ncol=1)"
   ]
  },
  {
   "cell_type": "code",
   "execution_count": null,
   "id": "7c77d633-608f-4091-88c6-1535315edac3",
   "metadata": {},
   "outputs": [],
   "source": [
    "fig.savefig(\"../persona-biases-paper/media/refusals_std.pdf\",bbox_inches=\"tight\")"
   ]
  },
  {
   "cell_type": "code",
   "execution_count": null,
   "id": "6e73296e-b6d7-4eae-8c2d-aee470393a47",
   "metadata": {},
   "outputs": [],
   "source": [
    "(refusal_std_dfs[-1].iloc[1:] > refusal_std_dfs[-1].iloc[0])"
   ]
  },
  {
   "cell_type": "code",
   "execution_count": null,
   "id": "240dd0e9-298b-4a87-959d-16ac2e77662e",
   "metadata": {},
   "outputs": [],
   "source": [
    "(refusal_std_dfs[-1].iloc[1:] > refusal_std_dfs[-1].iloc[0]).sum()"
   ]
  },
  {
   "cell_type": "code",
   "execution_count": null,
   "id": "53e21942-38ea-4357-af38-856a0d5c0d39",
   "metadata": {},
   "outputs": [],
   "source": [
    "(refusal_std_dfs[-1].iloc[1:] > refusal_std_dfs[-1].iloc[0]).sum(1)"
   ]
  },
  {
   "cell_type": "markdown",
   "id": "19ea07a5-3378-4c51-9a23-0173f3511655",
   "metadata": {
    "jp-MarkdownHeadingCollapsed": true
   },
   "source": [
    "### Aggregated persona cat vs control"
   ]
  },
  {
   "cell_type": "code",
   "execution_count": null,
   "id": "fa34ecd8-29ab-474e-990f-2b12fc4beead",
   "metadata": {},
   "outputs": [],
   "source": [
    "all_stds = [att_stds, off_aggs_stds, rac_aggs_stds] + performance_std_dfs[:-1]"
   ]
  },
  {
   "cell_type": "code",
   "execution_count": null,
   "id": "0e2c357a-595f-44f3-b630-ef3cbd597060",
   "metadata": {},
   "outputs": [],
   "source": [
    "all_stds.append(pd.concat(all_stds).groupby(\"persona_cat\").mean())"
   ]
  },
  {
   "cell_type": "code",
   "execution_count": null,
   "id": "16d63351-c09e-4dc3-b84d-fb5029b6b617",
   "metadata": {},
   "outputs": [],
   "source": [
    "avg_std_ratio = all_stds[-1]"
   ]
  },
  {
   "cell_type": "code",
   "execution_count": null,
   "id": "c5db9fce-dd75-4540-8709-d055e58a52e9",
   "metadata": {},
   "outputs": [],
   "source": [
    "avg_std_ratio[\"Avg.\"] = avg_std_ratio.mean(1)"
   ]
  },
  {
   "cell_type": "code",
   "execution_count": null,
   "id": "f5dbd6b2-6c52-471a-8395-caa2d9cbbfda",
   "metadata": {},
   "outputs": [],
   "source": [
    "avg_std_ratio.loc[\"Avg.\"] =  avg_std_ratio.mean(0)"
   ]
  },
  {
   "cell_type": "code",
   "execution_count": null,
   "id": "43eb77e6-2e84-4960-b85d-fde4e13d977f",
   "metadata": {},
   "outputs": [],
   "source": [
    "avg_std_ratio.sort_values(\"Avg.\")"
   ]
  },
  {
   "cell_type": "code",
   "execution_count": null,
   "id": "7d9304f1-610c-4ea1-a219-16e7755685c5",
   "metadata": {},
   "outputs": [],
   "source": [
    "fig, axes = plt.subplots(2, 4, figsize=(16, 8), sharex=True, sharey=True)\n",
    "plt.subplots_adjust(wspace=.2, hspace=.1)\n",
    "for idx, col in enumerate(avg_std_ratio.columns):\n",
    "    order = avg_std_ratio.loc[[persona for persona in set(persona_cat_dict.values()) if persona != \"empty\"]].sort_values(\"Avg.\").index\n",
    "    df = avg_std_ratio.loc[order][col]\n",
    "    ax = axes[idx//4,idx%4]\n",
    " # ax, fix = plt.subplot(1, 1, figsize=(4,4))\n",
    "    sns.barplot(data=df, ax=ax)\n",
    "    ax.axhline(avg_std_ratio.loc[\"control\"][col], linestyle='--', color=\"red\")\n",
    "    ax.set_title(col)\n",
    "    ax.set_ylabel(\"Refused Fraction\")\n",
    "    ax.set_xlabel(\"\")\n",
    "    ax.tick_params(axis='x', labelrotation=90)"
   ]
  },
  {
   "cell_type": "code",
   "execution_count": null,
   "id": "1ccb7124-f1c4-4f2a-a79e-436b92d3c666",
   "metadata": {},
   "outputs": [],
   "source": [
    "fig.savefig(\"../persona-biases-paper/media/persona_cat_stds.pdf\", bbox_inches=\"tight\")"
   ]
  },
  {
   "cell_type": "markdown",
   "id": "2bb39d87-d508-4e27-a55d-ece71482bac8",
   "metadata": {},
   "source": [
    "# Personas closest to empty"
   ]
  },
  {
   "cell_type": "markdown",
   "id": "ae202f78-af7c-4cee-a0de-7c5e8f594383",
   "metadata": {},
   "source": [
    "## Attitudes"
   ]
  },
  {
   "cell_type": "code",
   "execution_count": null,
   "id": "dd64227b-a9ca-4a62-8ee9-6aded04512f2",
   "metadata": {},
   "outputs": [],
   "source": [
    "att_scores = get_results_df(\"attitude_scores.csv\")"
   ]
  },
  {
   "cell_type": "code",
   "execution_count": null,
   "id": "9283742f-5325-4e89-9edb-33c912cb7ca5",
   "metadata": {},
   "outputs": [],
   "source": [
    "att_scores  = att_scores[[x for x in rename_model.values()]]"
   ]
  },
  {
   "cell_type": "code",
   "execution_count": null,
   "id": "a3004377-01d2-4db0-a286-8baf47b42bce",
   "metadata": {},
   "outputs": [],
   "source": [
    "att_distance=pd.DataFrame(index=att_scores.index)"
   ]
  },
  {
   "cell_type": "code",
   "execution_count": null,
   "id": "5c717264-05e9-450f-93a8-076726245940",
   "metadata": {},
   "outputs": [],
   "source": [
    "for model in att_scores:\n",
    "    att_distance[model] = euclidean_distances(X=normalize(att_scores[model].loc[\"empty\"].reshape((1,-1))), Y=normalize(np.vstack(att_scores[model].values)))[0]"
   ]
  },
  {
   "cell_type": "code",
   "execution_count": null,
   "id": "a69f1a44-e57c-4f22-a60d-fd300030ba07",
   "metadata": {},
   "outputs": [],
   "source": [
    "att_distance[\"avg\"] = att_distance.mean(1)"
   ]
  },
  {
   "cell_type": "code",
   "execution_count": null,
   "id": "dfa2eaae-5278-4797-99f4-dd3cc9a7c7d7",
   "metadata": {},
   "outputs": [],
   "source": [
    "att_distance = att_distance.round(4)"
   ]
  },
  {
   "cell_type": "code",
   "execution_count": null,
   "id": "b9478fcc-75c9-4f1e-a2fa-87fc6c30d904",
   "metadata": {
    "scrolled": true
   },
   "outputs": [],
   "source": [
    "att_distance.sort_values(\"avg\")"
   ]
  },
  {
   "cell_type": "code",
   "execution_count": null,
   "id": "747474d4-d181-4fdc-bfe6-8a211ea06fe8",
   "metadata": {},
   "outputs": [],
   "source": [
    "att_distance.corr(method=\"kendall\")"
   ]
  },
  {
   "cell_type": "code",
   "execution_count": null,
   "id": "91945a1d-f0b5-476b-844c-b5504da71b3b",
   "metadata": {
    "scrolled": true
   },
   "outputs": [],
   "source": [
    "for column in att_distance.columns[:-1]:\n",
    "    print(column)\n",
    "    sorted = att_distance.sort_values(column)\n",
    "    print(\"Top 5 similar:\")\n",
    "    print(sorted[1:6][column])\n",
    "    print(\"Bottom 5 similar:\")\n",
    "    print(sorted[-5:][column])\n",
    "    print(\"=====================\")"
   ]
  },
  {
   "cell_type": "markdown",
   "id": "97735e76-9a64-4bbd-8ff1-fe948ea3131a",
   "metadata": {},
   "source": [
    "## Toxicity"
   ]
  },
  {
   "cell_type": "code",
   "execution_count": null,
   "id": "c7fc4c0d-a8f3-4c51-bf33-327427275cef",
   "metadata": {},
   "outputs": [],
   "source": [
    "off_scores = get_results_df(\"off_scores.csv\").iloc[:,:-1]"
   ]
  },
  {
   "cell_type": "code",
   "execution_count": null,
   "id": "1f5ae292-681a-4a23-a2c4-b768bfae5953",
   "metadata": {},
   "outputs": [],
   "source": [
    "rac_scores = get_results_df(\"rac_scores.csv\").iloc[:,:-1]"
   ]
  },
  {
   "cell_type": "code",
   "execution_count": null,
   "id": "8eae74c6-236f-419a-bf3b-7767f033b1c4",
   "metadata": {},
   "outputs": [],
   "source": [
    "np.vstack(off_scores[\"Mixtral\"].values).shape"
   ]
  },
  {
   "cell_type": "code",
   "execution_count": null,
   "id": "46ccbb4e-7b06-45b2-a326-7ab73314eb76",
   "metadata": {},
   "outputs": [],
   "source": [
    "def concat(x, y):\n",
    "    data = np.hstack((np.vstack(x.to_numpy()), np.vstack(y.to_numpy())))\n",
    "    return pd.Series(data=[x for x in data], index=off_scores.index)"
   ]
  },
  {
   "cell_type": "code",
   "execution_count": null,
   "id": "c8975839-a1b8-4e1b-a60a-bf31a4efa86a",
   "metadata": {},
   "outputs": [],
   "source": [
    "tox_scores = off_scores.combine(rac_scores,concat)"
   ]
  },
  {
   "cell_type": "code",
   "execution_count": null,
   "id": "78fda04f-0f2d-428d-91db-cdb978213cf5",
   "metadata": {},
   "outputs": [],
   "source": [
    "tox_scores  = tox_scores[[x for x in rename_model.values()]]"
   ]
  },
  {
   "cell_type": "code",
   "execution_count": null,
   "id": "fd742c1e-43bd-489e-8ab3-31589f286eec",
   "metadata": {},
   "outputs": [],
   "source": [
    "tox_distance=pd.DataFrame(index=tox_scores.index)"
   ]
  },
  {
   "cell_type": "code",
   "execution_count": null,
   "id": "a889a340-631f-4a7b-a7ec-ffd134dda5e7",
   "metadata": {},
   "outputs": [],
   "source": [
    "for model in tox_scores:\n",
    "    tox_distance[model] = euclidean_distances(X=normalize(tox_scores[model].loc[\"empty\"].reshape((1,-1))), Y=normalize(np.vstack(tox_scores[model].values)))[0]"
   ]
  },
  {
   "cell_type": "code",
   "execution_count": null,
   "id": "ecb27791-b4a7-49e5-8c87-c9b9feb6cfdd",
   "metadata": {},
   "outputs": [],
   "source": [
    "tox_distance[\"avg\"] = tox_distance.mean(1)"
   ]
  },
  {
   "cell_type": "code",
   "execution_count": null,
   "id": "a1f3ca67-151c-4937-8bfc-c9b7f1537b5b",
   "metadata": {},
   "outputs": [],
   "source": [
    "tox_distance = tox_distance.round(4)"
   ]
  },
  {
   "cell_type": "code",
   "execution_count": null,
   "id": "591d5483-583c-402c-90cf-6bfdde506fa2",
   "metadata": {
    "scrolled": true
   },
   "outputs": [],
   "source": [
    "tox_distance.sort_values(\"avg\")"
   ]
  },
  {
   "cell_type": "code",
   "execution_count": null,
   "id": "bdbbff24-522f-4754-b050-7f40189cd3eb",
   "metadata": {},
   "outputs": [],
   "source": [
    "tox_distance.corr(method=\"kendall\")"
   ]
  },
  {
   "cell_type": "code",
   "execution_count": null,
   "id": "38102452-af27-42dc-a618-741a5d7ad7f1",
   "metadata": {
    "scrolled": true
   },
   "outputs": [],
   "source": [
    "for column in tox_distance.columns[:-1]:\n",
    "    print(column)\n",
    "    sorted = tox_distance.sort_values(column)\n",
    "    print(\"Top 5 similar:\")\n",
    "    print(sorted[1:6][column])\n",
    "    print(\"Bottom 5 similar:\")\n",
    "    print(sorted[-5:][column])\n",
    "    print(\"=====================\")"
   ]
  },
  {
   "cell_type": "markdown",
   "id": "59c1d0b8-bd84-44d3-8dce-bf7036c469d1",
   "metadata": {},
   "source": [
    "## Truthfulqa"
   ]
  },
  {
   "cell_type": "code",
   "execution_count": null,
   "id": "e9ff452c-4bed-47df-8fc7-e6e2b8716dba",
   "metadata": {},
   "outputs": [],
   "source": [
    "truthfulqa_hits = get_results_df(\"truthfulqa_hits.csv\").iloc[:,:-1]"
   ]
  },
  {
   "cell_type": "code",
   "execution_count": null,
   "id": "7dc4146f-858a-4340-a892-bd028e2ded22",
   "metadata": {},
   "outputs": [],
   "source": [
    "truthfulqa_hits  = truthfulqa_hits[[x for x in rename_model.values()]]"
   ]
  },
  {
   "cell_type": "code",
   "execution_count": null,
   "id": "b09b1d69-c1b2-4393-bbec-4b8eb635bbaf",
   "metadata": {},
   "outputs": [],
   "source": [
    "truthfulqa_distance=pd.DataFrame(index=truthfulqa_hits.index)"
   ]
  },
  {
   "cell_type": "code",
   "execution_count": null,
   "id": "41d016bc-a681-4e55-a52c-59abd1f8cce9",
   "metadata": {},
   "outputs": [],
   "source": [
    "for model in truthfulqa_hits:\n",
    "    truthfulqa_distance[model] = euclidean_distances(X=normalize(truthfulqa_hits[model].loc[\"empty\"].reshape((1,-1))), Y=normalize(np.vstack(truthfulqa_hits[model].values)))[0]"
   ]
  },
  {
   "cell_type": "code",
   "execution_count": null,
   "id": "75f032b5-f1df-4979-a5bd-7048ed45dece",
   "metadata": {},
   "outputs": [],
   "source": [
    "truthfulqa_distance[\"avg\"] = truthfulqa_distance.mean(1)"
   ]
  },
  {
   "cell_type": "code",
   "execution_count": null,
   "id": "21acd9ce-9093-44bf-bdfd-e6c128ed8266",
   "metadata": {},
   "outputs": [],
   "source": [
    "truthfulqa_distance = truthfulqa_distance.round(4)"
   ]
  },
  {
   "cell_type": "code",
   "execution_count": null,
   "id": "005f0d3d-19e9-4686-9215-312a105cfaf7",
   "metadata": {
    "scrolled": true
   },
   "outputs": [],
   "source": [
    "truthfulqa_distance.sort_values(\"avg\")"
   ]
  },
  {
   "cell_type": "code",
   "execution_count": null,
   "id": "ea1be479-ac19-4e10-acdd-a534d927b7e5",
   "metadata": {},
   "outputs": [],
   "source": [
    "truthfulqa_distance.corr(method=\"kendall\")"
   ]
  },
  {
   "cell_type": "code",
   "execution_count": null,
   "id": "e8da12f0-8796-4017-a368-51d8734fcb38",
   "metadata": {
    "scrolled": true
   },
   "outputs": [],
   "source": [
    "for column in truthfulqa_distance.columns[:-1]:\n",
    "    print(column)\n",
    "    sorted = truthfulqa_distance.sort_values(column)\n",
    "    print(\"Top 5 similar:\")\n",
    "    print(sorted[1:6][column])\n",
    "    print(\"Bottom 5 similar:\")\n",
    "    print(sorted[-5:][column])\n",
    "    print(\"=====================\")"
   ]
  },
  {
   "cell_type": "markdown",
   "id": "a1502588-5a05-4189-bc5d-26c31c25c637",
   "metadata": {},
   "source": [
    "## MMLU"
   ]
  },
  {
   "cell_type": "code",
   "execution_count": null,
   "id": "3d20c30c-ec95-4abb-a4f7-4b3358f7dbc8",
   "metadata": {},
   "outputs": [],
   "source": [
    "mmlu_hits = get_results_df(\"mmlu_hits.csv\").iloc[:,:-1]"
   ]
  },
  {
   "cell_type": "code",
   "execution_count": null,
   "id": "af72fe3e-ab40-45fe-87a3-89f6fb82ea1a",
   "metadata": {},
   "outputs": [],
   "source": [
    "mmlu_hits  = mmlu_hits[[x for x in rename_model.values()]]"
   ]
  },
  {
   "cell_type": "code",
   "execution_count": null,
   "id": "5b2262ee-7e03-4a6b-b838-d1e15b6163e2",
   "metadata": {},
   "outputs": [],
   "source": [
    "mmlu_distance=pd.DataFrame(index=mmlu_hits.index)"
   ]
  },
  {
   "cell_type": "code",
   "execution_count": null,
   "id": "df8d1a13-ffad-4a28-8265-2ae974fdf295",
   "metadata": {},
   "outputs": [],
   "source": [
    "for model in mmlu_hits:\n",
    "    mmlu_distance[model] = euclidean_distances(X=normalize(mmlu_hits[model].loc[\"empty\"].reshape((1,-1))), Y=normalize(np.vstack(mmlu_hits[model].values)))[0]"
   ]
  },
  {
   "cell_type": "code",
   "execution_count": null,
   "id": "f3bb8ea7-9012-41d9-90cc-36e31954acb9",
   "metadata": {},
   "outputs": [],
   "source": [
    "mmlu_distance[\"avg\"] = mmlu_distance.mean(1)"
   ]
  },
  {
   "cell_type": "code",
   "execution_count": null,
   "id": "7a3984bf-7bf3-4c22-ad65-aa5c313a4cf7",
   "metadata": {},
   "outputs": [],
   "source": [
    "mmlu_distance = mmlu_distance.round(4)"
   ]
  },
  {
   "cell_type": "code",
   "execution_count": null,
   "id": "d2cc5d6b-1e1d-4aaa-bf01-832b9a9c659f",
   "metadata": {
    "scrolled": true
   },
   "outputs": [],
   "source": [
    "mmlu_distance.sort_values(\"avg\")"
   ]
  },
  {
   "cell_type": "code",
   "execution_count": null,
   "id": "939ef98b-71fa-472f-b28a-32df280105b5",
   "metadata": {},
   "outputs": [],
   "source": [
    "mmlu_distance.corr(method=\"kendall\")"
   ]
  },
  {
   "cell_type": "code",
   "execution_count": null,
   "id": "b3b9a6bd-eb86-49be-9626-2ef3e6fcf9d5",
   "metadata": {
    "scrolled": true
   },
   "outputs": [],
   "source": [
    "for column in mmlu_distance.columns[:-1]:\n",
    "    print(column)\n",
    "    sorted = mmlu_distance.sort_values(column)\n",
    "    print(\"Top 5 similar:\")\n",
    "    print(sorted[1:6][column])\n",
    "    print(\"Bottom 5 similar:\")\n",
    "    print(sorted[-5:][column])\n",
    "    print(\"=====================\")"
   ]
  },
  {
   "cell_type": "markdown",
   "id": "22232169-08d5-4a5e-81c8-379d06a6e55b",
   "metadata": {},
   "source": [
    "## BBQ"
   ]
  },
  {
   "cell_type": "code",
   "execution_count": null,
   "id": "5858929e-a786-4fa4-948c-18262b5deec6",
   "metadata": {},
   "outputs": [],
   "source": [
    "bbq_hits = get_results_df(\"bbq_hits.csv\").iloc[:,:-1]"
   ]
  },
  {
   "cell_type": "code",
   "execution_count": null,
   "id": "42e01808-c852-4610-94a5-04c86806355b",
   "metadata": {},
   "outputs": [],
   "source": [
    "bbq_hits  = bbq_hits[[x for x in rename_model.values()]]"
   ]
  },
  {
   "cell_type": "code",
   "execution_count": null,
   "id": "46b55f7e-d542-490c-9190-e7c3b5408fc5",
   "metadata": {},
   "outputs": [],
   "source": [
    "bbq_distance=pd.DataFrame(index=bbq_hits.index)"
   ]
  },
  {
   "cell_type": "code",
   "execution_count": null,
   "id": "71c90715-1435-4f38-8769-12a28631fb48",
   "metadata": {},
   "outputs": [],
   "source": [
    "for model in bbq_hits:\n",
    "    bbq_distance[model] = euclidean_distances(X=normalize(bbq_hits[model].loc[\"empty\"].reshape((1,-1))), Y=normalize(np.vstack(bbq_hits[model].values)))[0]"
   ]
  },
  {
   "cell_type": "code",
   "execution_count": null,
   "id": "112562e0-ea41-4665-805a-7e7a08a1939e",
   "metadata": {},
   "outputs": [],
   "source": [
    "bbq_distance[\"avg\"] = bbq_distance.mean(1)"
   ]
  },
  {
   "cell_type": "code",
   "execution_count": null,
   "id": "9e492eb9-1e34-4dbe-af50-975988bfa6a4",
   "metadata": {},
   "outputs": [],
   "source": [
    "bbq_distance = bbq_distance.round(4)"
   ]
  },
  {
   "cell_type": "code",
   "execution_count": null,
   "id": "f24f15a0-cf60-4e09-8c30-cfac90245e6f",
   "metadata": {
    "scrolled": true
   },
   "outputs": [],
   "source": [
    "bbq_distance.sort_values(\"avg\")"
   ]
  },
  {
   "cell_type": "code",
   "execution_count": null,
   "id": "0d8f8c0f-9f78-4a21-afae-03d2ac1c29e1",
   "metadata": {},
   "outputs": [],
   "source": [
    "bbq_distance.corr(method=\"kendall\")"
   ]
  },
  {
   "cell_type": "code",
   "execution_count": null,
   "id": "cf59aee4-1b69-44d4-8972-1c7eff0a3430",
   "metadata": {
    "scrolled": true
   },
   "outputs": [],
   "source": [
    "for column in bbq_distance.columns[:-1]:\n",
    "    print(column)\n",
    "    sorted = bbq_distance.sort_values(column)\n",
    "    print(\"Top 5 similar:\")\n",
    "    print(sorted[1:6][column])\n",
    "    print(\"Bottom 5 similar:\")\n",
    "    print(sorted[-5:][column])\n",
    "    print(\"=====================\")"
   ]
  },
  {
   "cell_type": "markdown",
   "id": "26c2d77b-59a2-44dd-8488-a09fcdb8f90e",
   "metadata": {},
   "source": [
    "## Aggregate"
   ]
  },
  {
   "cell_type": "code",
   "execution_count": null,
   "id": "b4f76d3e-fb24-4a8f-bd53-19290515ecc0",
   "metadata": {},
   "outputs": [],
   "source": [
    "all_df = pd.concat([att_distance, tox_distance, truthfulqa_distance, mmlu_distance, bbq_distance])"
   ]
  },
  {
   "cell_type": "code",
   "execution_count": null,
   "id": "2dcf809d-7bb4-429a-af0f-b4192b4d2da0",
   "metadata": {},
   "outputs": [],
   "source": [
    "all_df = all_df.reset_index().groupby(\"index\").mean()"
   ]
  },
  {
   "cell_type": "code",
   "execution_count": null,
   "id": "f4f6c53e-a299-4f13-8abc-b49361fbd0dd",
   "metadata": {},
   "outputs": [],
   "source": [
    "all_df.corr(method=\"kendall\")"
   ]
  },
  {
   "cell_type": "code",
   "execution_count": null,
   "id": "5f3bb5e5-73bc-49a9-a1b2-bdd0358b71b4",
   "metadata": {
    "scrolled": true
   },
   "outputs": [],
   "source": [
    "for column in all_df.columns[:-1]:\n",
    "    print(column)\n",
    "    sorted = all_df.sort_values(column)\n",
    "    print(\"Top 5 similar:\")\n",
    "    print(sorted[1:6][column])\n",
    "    print(\"Bottom 5 similar:\")\n",
    "    print(sorted[-5:][column])\n",
    "    print(\"=====================\")"
   ]
  },
  {
   "cell_type": "code",
   "execution_count": null,
   "id": "cb57ae3f-cc44-4145-8e9b-04888d9627a6",
   "metadata": {},
   "outputs": [],
   "source": [
    "all_df.sort_values(model)[1:6][model].index.tolist()"
   ]
  },
  {
   "cell_type": "code",
   "execution_count": null,
   "id": "ed201954-8d08-48a0-a187-7a5ded25da6e",
   "metadata": {},
   "outputs": [],
   "source": [
    "table = pd.DataFrame(index=all_df.columns[:-1])\n",
    "for model in all_df.columns[:-1]:\n",
    "    table.loc[model, \"Most similar\"] = \", \".join(all_df.sort_values(model)[1:6][model].index.tolist())\n",
    "    table.loc[model, \"Least similar\"] = \", \".join(all_df.sort_values(model)[-5:][model].index.tolist())"
   ]
  },
  {
   "cell_type": "code",
   "execution_count": null,
   "id": "785fb792-553a-44b3-9163-2b3617b7620e",
   "metadata": {},
   "outputs": [],
   "source": [
    "table = table.map(lambda x: x.replace(\"_\", \" \"))"
   ]
  },
  {
   "cell_type": "code",
   "execution_count": null,
   "id": "19e58472-9df3-4e70-8225-c4e5ef63a406",
   "metadata": {},
   "outputs": [],
   "source": [
    "print(table.to_latex())"
   ]
  },
  {
   "cell_type": "code",
   "execution_count": null,
   "id": "d5fb7c39-2038-4068-a9b1-3f6aa728dbd0",
   "metadata": {},
   "outputs": [],
   "source": [
    "all_df[\"persona_cat\"] = [persona_cat_dict[persona] if persona in persona_cat_dict else \"control\" for persona in all_df.index ]"
   ]
  },
  {
   "cell_type": "code",
   "execution_count": null,
   "id": "678efd3b-cfb1-4066-8267-b5669848c5d6",
   "metadata": {},
   "outputs": [],
   "source": [
    "del all_df[\"avg\"]"
   ]
  },
  {
   "cell_type": "code",
   "execution_count": null,
   "id": "f4fc32cf-5bc8-45cb-9bb4-c253256ca3d4",
   "metadata": {},
   "outputs": [],
   "source": [
    "all_df"
   ]
  },
  {
   "cell_type": "code",
   "execution_count": null,
   "id": "b967db90-5005-4903-a060-91a7fb482f27",
   "metadata": {},
   "outputs": [],
   "source": [
    "all_df.boxplot(by=\"persona_cat\", rot=90, figsize=(15,15))"
   ]
  }
 ],
 "metadata": {
  "kernelspec": {
   "display_name": "persona-biases",
   "language": "python",
   "name": "persona-biases"
  },
  "language_info": {
   "codemirror_mode": {
    "name": "ipython",
    "version": 3
   },
   "file_extension": ".py",
   "mimetype": "text/x-python",
   "name": "python",
   "nbconvert_exporter": "python",
   "pygments_lexer": "ipython3",
   "version": "3.11.7"
  }
 },
 "nbformat": 4,
 "nbformat_minor": 5
}
