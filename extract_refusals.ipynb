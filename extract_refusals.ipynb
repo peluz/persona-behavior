{
 "cells": [
  {
   "cell_type": "code",
   "execution_count": 1,
   "id": "205bfce5-deae-45e5-885a-dc38fb808dba",
   "metadata": {},
   "outputs": [],
   "source": [
    "%load_ext autoreload\n",
    "%autoreload 2\n",
    "%matplotlib inline\n",
    "\n",
    "import pandas as pd\n",
    "from utils.util import get_results_df"
   ]
  },
  {
   "cell_type": "code",
   "execution_count": 2,
   "id": "bf036fbd-5d85-4d32-82f3-75213067cffc",
   "metadata": {},
   "outputs": [],
   "source": [
    "rename_model = {\n",
    "    \"gpt-4-0125-preview\": \"GPT-4\",\n",
    "    \"gpt-3.5-turbo-0125\": \"GPT-3.5\",\n",
    "    \"Mixtral-8x7B-Instruct-v0.1\": \"Mixtral\",\n",
    "    \"zephyr-7b-beta\": \"Zephyr\",\n",
    "    \"Mistral-7B-Instruct-v0.2\": \"Mistral-inst\",\n",
    "    \"gemma-7b-it\": \"Gemma-7b-inst\",\n",
    "    \"gemma-2b-it\": \"Gemma-2b-inst\"\n",
    "}"
   ]
  },
  {
   "cell_type": "code",
   "execution_count": 81,
   "id": "22e8fd56-576b-40b7-9408-d5a71ae72501",
   "metadata": {},
   "outputs": [],
   "source": [
    "rename_model_inverse = {v: k for k,v in rename_model.items()}"
   ]
  },
  {
   "cell_type": "code",
   "execution_count": 59,
   "id": "31808a5f-a500-4b93-9981-c851773a91d2",
   "metadata": {},
   "outputs": [],
   "source": [
    "att_hedges = get_results_df(\"attitude_hedges.csv\", aggregate=False).iloc[:,:-1]"
   ]
  },
  {
   "cell_type": "code",
   "execution_count": 58,
   "id": "ae70022e-8690-464b-b4ce-3955ddc7e7f2",
   "metadata": {},
   "outputs": [],
   "source": [
    "att_extracts = get_results_df(\"attitude_extracts.csv\", aggregate=False).iloc[:,:-1]"
   ]
  },
  {
   "cell_type": "code",
   "execution_count": 74,
   "id": "85347f0b-fbcf-4386-8b25-276c44b4a80a",
   "metadata": {},
   "outputs": [],
   "source": [
    "att_refusals = att_hedges * (1- att_extracts)"
   ]
  },
  {
   "cell_type": "code",
   "execution_count": 77,
   "id": "b71e996c-1e80-430d-957f-86bcd83172e0",
   "metadata": {},
   "outputs": [],
   "source": [
    "att_refusals = att_refusals.map(lambda x: x.reshape(27,31))"
   ]
  },
  {
   "cell_type": "code",
   "execution_count": 87,
   "id": "573a6d1b-15e3-4ba9-af21-3c98916c83c9",
   "metadata": {},
   "outputs": [],
   "source": [
    "for model in rename_model.values():\n",
    "    df = pd.DataFrame([list(x) for x in att_refusals[model].tolist()], index= att_refusals.index)\n",
    "    df.iloc[:163].to_csv(f\"./results/zero/{rename_model_inverse[model]}/attitude_refusals.csv\")\n",
    "    df.iloc[163:].to_csv(f\"./results/control/zero/{rename_model_inverse[model]}/attitude_refusals.csv\")"
   ]
  },
  {
   "cell_type": "code",
   "execution_count": 88,
   "id": "afd68ca3-0362-4337-b7c8-03a152bbd96f",
   "metadata": {},
   "outputs": [],
   "source": [
    "off_hedges = get_results_df(\"off_hedges.csv\", aggregate=False).iloc[:,:-1]"
   ]
  },
  {
   "cell_type": "code",
   "execution_count": 89,
   "id": "089eddf1-63dc-484b-8ded-e11fc8e8eff7",
   "metadata": {},
   "outputs": [],
   "source": [
    "off_extracts = get_results_df(\"off_extracts.csv\", aggregate=False).iloc[:,:-1]"
   ]
  },
  {
   "cell_type": "code",
   "execution_count": 92,
   "id": "55379105-a067-465b-9418-6953128fa92d",
   "metadata": {},
   "outputs": [],
   "source": [
    "off_refusals = off_hedges * (1- off_extracts)"
   ]
  },
  {
   "cell_type": "code",
   "execution_count": 93,
   "id": "330e6f78-6022-40ac-bda7-557e40740f65",
   "metadata": {},
   "outputs": [],
   "source": [
    "for model in rename_model.values():\n",
    "    df = pd.DataFrame([list(x) for x in off_refusals[model].tolist()], index= off_refusals.index)\n",
    "    df.iloc[:163].to_csv(f\"./results/zero/{rename_model_inverse[model]}/off_refusals.csv\")\n",
    "    df.iloc[163:].to_csv(f\"./results/control/zero/{rename_model_inverse[model]}/off_refusals.csv\")"
   ]
  },
  {
   "cell_type": "code",
   "execution_count": 94,
   "id": "91636b8a-130b-45d8-95bf-79c6a9254039",
   "metadata": {},
   "outputs": [],
   "source": [
    "rac_hedges = get_results_df(\"rac_hedges.csv\", aggregate=False).iloc[:,:-1]"
   ]
  },
  {
   "cell_type": "code",
   "execution_count": 95,
   "id": "1c9b4152-308d-4ad4-b7ae-d414e14f1aeb",
   "metadata": {},
   "outputs": [],
   "source": [
    "rac_extracts = get_results_df(\"rac_extracts.csv\", aggregate=False).iloc[:,:-1]"
   ]
  },
  {
   "cell_type": "code",
   "execution_count": 96,
   "id": "b7794f30-c465-4029-b417-33ee266650f8",
   "metadata": {},
   "outputs": [],
   "source": [
    "rac_refusals = rac_hedges * (1- rac_extracts)"
   ]
  },
  {
   "cell_type": "code",
   "execution_count": 97,
   "id": "c76d7ee8-356e-42d4-bf7c-13e95cb1d9f4",
   "metadata": {},
   "outputs": [],
   "source": [
    "for model in rename_model.values():\n",
    "    df = pd.DataFrame([list(x) for x in rac_refusals[model].tolist()], index= rac_refusals.index)\n",
    "    df.iloc[:163].to_csv(f\"./results/zero/{rename_model_inverse[model]}/rac_refusals.csv\")\n",
    "    df.iloc[163:].to_csv(f\"./results/control/zero/{rename_model_inverse[model]}/rac_refusals.csv\")"
   ]
  },
  {
   "cell_type": "code",
   "execution_count": 98,
   "id": "9cbacac6-b577-473f-aa7b-5e2a0d83f3d6",
   "metadata": {},
   "outputs": [],
   "source": [
    "truthfulqa_hedges = get_results_df(\"truthfulqa_hedges.csv\", aggregate=False).iloc[:,:-1]"
   ]
  },
  {
   "cell_type": "code",
   "execution_count": 100,
   "id": "e57e7b35-5889-42dc-880f-cc0e243ca06a",
   "metadata": {},
   "outputs": [],
   "source": [
    "truthfulqa_extracts = get_results_df(\"truthfulqa_extracts.csv\", aggregate=False).iloc[:,:-1]"
   ]
  },
  {
   "cell_type": "code",
   "execution_count": 101,
   "id": "50c9e7c2-f560-4262-8de9-c348e767cce0",
   "metadata": {},
   "outputs": [],
   "source": [
    "truthfulqa_refusals = truthfulqa_hedges * (1- truthfulqa_extracts)"
   ]
  },
  {
   "cell_type": "code",
   "execution_count": 102,
   "id": "e56ab6b0-d61a-4b10-90bf-68d753fe0973",
   "metadata": {},
   "outputs": [],
   "source": [
    "for model in rename_model.values():\n",
    "    df = pd.DataFrame([list(x) for x in truthfulqa_refusals[model].tolist()], index= truthfulqa_refusals.index)\n",
    "    df.iloc[:163].to_csv(f\"./results/zero/{rename_model_inverse[model]}/truthfulqa_refusals.csv\")\n",
    "    df.iloc[163:].to_csv(f\"./results/control/zero/{rename_model_inverse[model]}/truthfulqa_refusals.csv\")"
   ]
  },
  {
   "cell_type": "code",
   "execution_count": 103,
   "id": "bc708714-ac9c-4dfe-8ec4-1be8c8484b6a",
   "metadata": {},
   "outputs": [],
   "source": [
    "mmlu_hedges = get_results_df(\"mmlu_hedges.csv\", aggregate=False).iloc[:,:-1]"
   ]
  },
  {
   "cell_type": "code",
   "execution_count": 104,
   "id": "50993306-2c71-4b95-9a81-771ceaee9f93",
   "metadata": {},
   "outputs": [],
   "source": [
    "mmlu_extracts = get_results_df(\"mmlu_extracts.csv\", aggregate=False).iloc[:,:-1]"
   ]
  },
  {
   "cell_type": "code",
   "execution_count": 105,
   "id": "910db3a2-3e92-44b0-a5fd-d995b64768b6",
   "metadata": {},
   "outputs": [],
   "source": [
    "mmlu_refusals = mmlu_hedges * (1- mmlu_extracts)"
   ]
  },
  {
   "cell_type": "code",
   "execution_count": 106,
   "id": "407d5c99-2dae-4de3-aaad-3657302da8db",
   "metadata": {},
   "outputs": [],
   "source": [
    "for model in rename_model.values():\n",
    "    df = pd.DataFrame([list(x) for x in mmlu_refusals[model].tolist()], index= mmlu_refusals.index)\n",
    "    df.iloc[:163].to_csv(f\"./results/zero/{rename_model_inverse[model]}/mmlu_refusals.csv\")\n",
    "    df.iloc[163:].to_csv(f\"./results/control/zero/{rename_model_inverse[model]}/mmlu_refusals.csv\")"
   ]
  },
  {
   "cell_type": "code",
   "execution_count": 107,
   "id": "8149ede4-739d-456f-933d-3ff59be43d98",
   "metadata": {},
   "outputs": [],
   "source": [
    "bbq_hedges = get_results_df(\"bbq_hedges.csv\", aggregate=False).iloc[:,:-1]"
   ]
  },
  {
   "cell_type": "code",
   "execution_count": 108,
   "id": "0567732f-1bf3-41de-88ee-1e94a14c868d",
   "metadata": {},
   "outputs": [],
   "source": [
    "bbq_extracts = get_results_df(\"bbq_extracts.csv\", aggregate=False).iloc[:,:-1]"
   ]
  },
  {
   "cell_type": "code",
   "execution_count": 109,
   "id": "1ce2ef96-62c4-458c-a234-bb4f434c87e6",
   "metadata": {},
   "outputs": [],
   "source": [
    "bbq_refusals = bbq_hedges * (1- bbq_extracts)"
   ]
  },
  {
   "cell_type": "code",
   "execution_count": 110,
   "id": "07c349c3-d3d4-4d08-83da-76d796afad05",
   "metadata": {},
   "outputs": [],
   "source": [
    "for model in rename_model.values():\n",
    "    df = pd.DataFrame([list(x) for x in bbq_refusals[model].tolist()], index= bbq_refusals.index)\n",
    "    df.iloc[:163].to_csv(f\"./results/zero/{rename_model_inverse[model]}/bbq_refusals.csv\")\n",
    "    df.iloc[163:].to_csv(f\"./results/control/zero/{rename_model_inverse[model]}/bbq_refusals.csv\")"
   ]
  },
  {
   "cell_type": "code",
   "execution_count": null,
   "id": "4cea4330-9feb-429b-8616-414ef9ebbf8a",
   "metadata": {},
   "outputs": [],
   "source": []
  }
 ],
 "metadata": {
  "kernelspec": {
   "display_name": "persona-biases",
   "language": "python",
   "name": "persona-biases"
  },
  "language_info": {
   "codemirror_mode": {
    "name": "ipython",
    "version": 3
   },
   "file_extension": ".py",
   "mimetype": "text/x-python",
   "name": "python",
   "nbconvert_exporter": "python",
   "pygments_lexer": "ipython3",
   "version": "3.11.7"
  }
 },
 "nbformat": 4,
 "nbformat_minor": 5
}
